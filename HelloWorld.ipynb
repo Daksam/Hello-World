{
 "cells": [
  {
   "cell_type": "markdown",
   "id": "339d44d1",
   "metadata": {},
   "source": [
    "### nested if"
   ]
  },
  {
   "cell_type": "code",
   "execution_count": null,
   "id": "8e8c11bb",
   "metadata": {},
   "outputs": [],
   "source": [
    "a_number = 133546"
   ]
  },
  {
   "cell_type": "code",
   "execution_count": null,
   "id": "a3ef8874",
   "metadata": {},
   "outputs": [],
   "source": [
    "if a_number % 2 == 0:\n",
    "    print('{} is even'.format(a_number))\n",
    "    if a_number % 3 == 0:\n",
    "        print('{} is also divisible by 3'.format(a_number))\n",
    "    else:\n",
    "        print('{} is not divisible by 3'.format(a_number))\n",
    "else:\n",
    "    print('{} is odd'.format(a_number))\n",
    "    if a_number % 5 ==0:\n",
    "        print('{} is also divisible by 5'.format(a_number))\n",
    "    else:\n",
    "        print('{} is not divisible by 5'.format(a_number))"
   ]
  },
  {
   "cell_type": "markdown",
   "id": "03a0fe64",
   "metadata": {},
   "source": [
    "### shorthand if"
   ]
  },
  {
   "cell_type": "code",
   "execution_count": null,
   "id": "23b3886e",
   "metadata": {},
   "outputs": [],
   "source": [
    "a_number = 13\n",
    "\n",
    "if a_number % 2 == 0:\n",
    "    parity = 'even'\n",
    "else:\n",
    "    parity = 'odd'\n",
    "print('The number {} is {}.'.format(a_number, parity))"
   ]
  },
  {
   "cell_type": "code",
   "execution_count": null,
   "id": "5caf8d8a",
   "metadata": {},
   "outputs": [],
   "source": []
  },
  {
   "cell_type": "code",
   "execution_count": null,
   "id": "12ef8a3a",
   "metadata": {},
   "outputs": [],
   "source": [
    "result = 1\n",
    "#x = 100\n",
    "i = 1\n",
    "while i <= 100:\n",
    "    result = result * 1\n",
    "    i = i+1\n",
    "    \n",
    "print('The factorial of 100 is: {}'.format(result))"
   ]
  },
  {
   "cell_type": "markdown",
   "id": "cc8d29ac",
   "metadata": {},
   "source": [
    "### Tkinter"
   ]
  },
  {
   "cell_type": "code",
   "execution_count": null,
   "id": "fad614b8",
   "metadata": {
    "scrolled": false
   },
   "outputs": [],
   "source": [
    "from tkinter import *\n",
    "from csv import writer\n",
    "\n",
    "# creating the main window. the window can be any name\n",
    "window = Tk()\n",
    "\n",
    "# setting size and title of the main window\n",
    "window.title('First_GUI_Program')\n",
    "window.geometry('450x450')\n",
    "\n",
    "# setting up labels used in GUI\n",
    "Label(window, text=\"SIM REGISTRATION FORM\", font=(\"arial\", 16, \"bold\")).pack()\n",
    "Label(window, text=\"Enter First Name:\", font=(\"arial\", 12)).place(x=10, y=70)\n",
    "Label(window, text=\"Enter Last Name:\", font=(\"arial\", 12)).place(x=10, y=120)\n",
    "Label(window, text=\"Enter NIA Card No.:\", font=(\"arial\", 12)).place(x=10, y=170)\n",
    "Label(window, text=\"Enter SIM Number:\", font=(\"arial\", 12)).place(x=10, y=220)\n",
    "\n",
    "# creating text boxes used in GUI\n",
    "first_name = Entry(window, width=20, font=(\"Helvetica\", 12))\n",
    "last_name = Entry(window, width=20, font=(\"Helvetica\", 12))\n",
    "nia_num = Entry(window, width=20, font=(\"Helvetica\", 12))\n",
    "sim_num = Entry(window, width=20, font=(\"Helvetica\", 12))\n",
    "\n",
    "# positioning text boxes\n",
    "first_name.place(x=200, y=70)\n",
    "last_name.place(x=200, y=120)\n",
    "nia_num.place(x=200, y=170)\n",
    "sim_num.place(x=200, y=220)\n",
    "\n",
    "# creating a button\n",
    "button1 = Button(window, text=\"Register SIM\", fg=\"white\", bg=\"brown\", command=\"register\", font=(\"arial\", 12, \"bold\"))\n",
    "button1.place(x=160, y=310)\n",
    "\n",
    "# mainloop method runs the app and tells the code to keep displaying\n",
    "window.mainloop()\n",
    "\n",
    "# clearing text boxes\n",
    "def clear_text():\n",
    "    first_name.delete(0, END)\n",
    "    last_name.delete(0, END)\n",
    "    nia_num.delete(0, END)\n",
    "    sim_num.delete(0, END)\n",
    "    \n",
    "# saving it to excel csv\n",
    "def save(a_list):\n",
    "    with open(\"registersim.csv\", \"a+\", newline=\"\") as write_obj:\n",
    "        csv_writer = writer(write_obj)\n",
    "        csv_writer.writerow(a_list)\n",
    "        \n",
    "# initiating list\n",
    "new_list = []\n",
    "    \n",
    "    \n",
    "def register():\n",
    "    global new_list\n",
    "    element1 = first_name.get()\n",
    "    element2 = last_name.get()\n",
    "    element3 = nia_num.get()\n",
    "    element4 = sim_num.get()\n",
    "    \n",
    "    new_list = [element1, element2, element3, element4]\n",
    "    save(new_list)\n",
    "    \n",
    "    clear_text()\n",
    "    "
   ]
  },
  {
   "cell_type": "code",
   "execution_count": null,
   "id": "f78a6738",
   "metadata": {},
   "outputs": [],
   "source": [
    "### Data frames\n",
    "\n",
    "import pandas as pd\n",
    "\n",
    "airpots = pd.DataFrame([\n",
    "                    ['Seatle-Takoma', 'Seatle', 'USA'],\n",
    "                    ['KIA', 'Accra', 'Ghana'],\n",
    "                    ['Dalles', 'Washington', 'USA'],\n",
    "                    ['London Heathrow', 'London', 'United Kingdom'],\n",
    "                    ['Schiphol', 'Amsterdam', 'Netherlands'],\n",
    "                    ['Changi', 'Singapore', 'Singapore'],\n",
    "                    ['Pearson', 'Toronto', 'Canada'],\n",
    "                    ['Marita', 'Tokyo', 'Japan'] \n",
    "                    ],\n",
    "                    columns = ['Name', 'City', 'Country']\n",
    "                    )\n",
    "airpots\n"
   ]
  },
  {
   "cell_type": "code",
   "execution_count": null,
   "id": "dacae7f0",
   "metadata": {},
   "outputs": [],
   "source": [
    "for value in airpots:\n",
    "    print(value)"
   ]
  },
  {
   "cell_type": "code",
   "execution_count": null,
   "id": "624f4021",
   "metadata": {},
   "outputs": [],
   "source": [
    "airpots.head(3)"
   ]
  },
  {
   "cell_type": "code",
   "execution_count": null,
   "id": "53b3d3dd",
   "metadata": {},
   "outputs": [],
   "source": [
    "airpots.tail(3)"
   ]
  },
  {
   "cell_type": "code",
   "execution_count": null,
   "id": "b99d7b26",
   "metadata": {},
   "outputs": [],
   "source": [
    "airpots.shape"
   ]
  },
  {
   "cell_type": "code",
   "execution_count": null,
   "id": "a6f0f083",
   "metadata": {},
   "outputs": [],
   "source": [
    "airpots.info()"
   ]
  },
  {
   "cell_type": "code",
   "execution_count": null,
   "id": "4ac56d6a",
   "metadata": {},
   "outputs": [],
   "source": [
    " import pandas as pd"
   ]
  },
  {
   "cell_type": "code",
   "execution_count": null,
   "id": "446f7ac5",
   "metadata": {},
   "outputs": [],
   "source": [
    "students_performance = pd.read_csv(\"desktop, Intro to Pandas_learning_material, StudentsPerformance.csv\")\n",
    "students_ferformance"
   ]
  },
  {
   "cell_type": "markdown",
   "id": "648c20d9",
   "metadata": {},
   "source": [
    "## Numpy Lessons by Dr Canter 19/02/2022"
   ]
  },
  {
   "cell_type": "code",
   "execution_count": null,
   "id": "1ed0cf22",
   "metadata": {},
   "outputs": [],
   "source": [
    "import numpy as np"
   ]
  },
  {
   "cell_type": "code",
   "execution_count": null,
   "id": "27c5985a",
   "metadata": {},
   "outputs": [],
   "source": [
    "#one dimensional array\n",
    "figures = np.array([1, 2, 3, 4, 5, 6, 7, 8, 9, 10])\n",
    "print(figures_1)"
   ]
  },
  {
   "cell_type": "code",
   "execution_count": null,
   "id": "832f9867",
   "metadata": {},
   "outputs": [],
   "source": [
    "print(figures * 2)"
   ]
  },
  {
   "cell_type": "code",
   "execution_count": null,
   "id": "eae7eaff",
   "metadata": {},
   "outputs": [],
   "source": [
    "#two dimensional array\n",
    "fg_2 = np.array([[1, 2, 3, 4, 5], [6, 7, 8, 9, 10]])\n",
    "print(fg_2)"
   ]
  },
  {
   "cell_type": "code",
   "execution_count": null,
   "id": "54e6d017",
   "metadata": {},
   "outputs": [],
   "source": [
    "#three dimensional array\n",
    "fg_3 = np.array([[[1, 2, 3],  [4, 5, 6], [7, 8, 9]]])\n",
    "print(fg_3)"
   ]
  },
  {
   "cell_type": "code",
   "execution_count": null,
   "id": "c3bed7d3",
   "metadata": {},
   "outputs": [],
   "source": [
    "print(figures.ndim)"
   ]
  },
  {
   "cell_type": "code",
   "execution_count": null,
   "id": "6c40a997",
   "metadata": {},
   "outputs": [],
   "source": [
    "print(fg_2.ndim)"
   ]
  },
  {
   "cell_type": "code",
   "execution_count": null,
   "id": "2a7ed642",
   "metadata": {},
   "outputs": [],
   "source": [
    "print(fg_3.ndim)"
   ]
  },
  {
   "cell_type": "code",
   "execution_count": null,
   "id": "23d326e9",
   "metadata": {},
   "outputs": [],
   "source": [
    "fg_5 = np.array(['a', 'b', 'c', 'd', 'e'], ndmin=5)\n",
    "print(fg_5)\n",
    "print(fg_5.ndim)"
   ]
  },
  {
   "cell_type": "code",
   "execution_count": null,
   "id": "8c7f58ef",
   "metadata": {},
   "outputs": [],
   "source": [
    "print(figures[1])"
   ]
  },
  {
   "cell_type": "code",
   "execution_count": null,
   "id": "78a653e2",
   "metadata": {},
   "outputs": [],
   "source": [
    "print(figures[3]*figures[6])"
   ]
  },
  {
   "cell_type": "code",
   "execution_count": null,
   "id": "091cb991",
   "metadata": {},
   "outputs": [],
   "source": [
    "print(figures[4] - figures[1])"
   ]
  },
  {
   "cell_type": "code",
   "execution_count": null,
   "id": "e61b273f",
   "metadata": {},
   "outputs": [],
   "source": [
    "print(fg_2[0,1])"
   ]
  },
  {
   "cell_type": "code",
   "execution_count": null,
   "id": "f5b60167",
   "metadata": {},
   "outputs": [],
   "source": [
    "print(fg_2[1,2])"
   ]
  },
  {
   "cell_type": "code",
   "execution_count": null,
   "id": "9bb00c76",
   "metadata": {},
   "outputs": [],
   "source": [
    "print(fg_3[0,1,0])"
   ]
  },
  {
   "cell_type": "code",
   "execution_count": null,
   "id": "71d46965",
   "metadata": {},
   "outputs": [],
   "source": [
    "print(fg_3[0,1,2])"
   ]
  },
  {
   "cell_type": "code",
   "execution_count": null,
   "id": "a6cce0bc",
   "metadata": {},
   "outputs": [],
   "source": [
    "print(fg_3[0, 2, 1])"
   ]
  },
  {
   "cell_type": "code",
   "execution_count": null,
   "id": "66852bef",
   "metadata": {},
   "outputs": [],
   "source": [
    "print(fg_3[0, 2, 2])"
   ]
  },
  {
   "cell_type": "code",
   "execution_count": null,
   "id": "df10fc7b",
   "metadata": {},
   "outputs": [],
   "source": [
    "print(fg_3[-1, 2, 1])"
   ]
  },
  {
   "cell_type": "code",
   "execution_count": null,
   "id": "0add9417",
   "metadata": {},
   "outputs": [],
   "source": [
    "print(figures[1:4])"
   ]
  },
  {
   "cell_type": "code",
   "execution_count": null,
   "id": "92d50a43",
   "metadata": {},
   "outputs": [],
   "source": [
    "print(figures[4:])"
   ]
  },
  {
   "cell_type": "code",
   "execution_count": null,
   "id": "e97ef968",
   "metadata": {},
   "outputs": [],
   "source": [
    "print(figures[0:7])"
   ]
  },
  {
   "cell_type": "code",
   "execution_count": null,
   "id": "e5dc7962",
   "metadata": {},
   "outputs": [],
   "source": [
    "print(fg_2[0,1:4])"
   ]
  },
  {
   "cell_type": "code",
   "execution_count": null,
   "id": "236e9e6e",
   "metadata": {},
   "outputs": [],
   "source": [
    "print(fg_3[0,2,1:3])"
   ]
  },
  {
   "cell_type": "code",
   "execution_count": null,
   "id": "1c6086ed",
   "metadata": {},
   "outputs": [],
   "source": [
    "(40000+70000+700+500+1500+800)/6"
   ]
  },
  {
   "cell_type": "markdown",
   "id": "0b5b5bdf",
   "metadata": {},
   "source": [
    "### Pandas lessons by Dr Canter"
   ]
  },
  {
   "cell_type": "code",
   "execution_count": null,
   "id": "85ca638b",
   "metadata": {},
   "outputs": [],
   "source": [
    "import numpy as np\n",
    "import pandas as pd\n"
   ]
  },
  {
   "cell_type": "code",
   "execution_count": null,
   "id": "777664d9",
   "metadata": {},
   "outputs": [],
   "source": [
    "dat = np.array([[1, 2, 3, 4, 5, 6,],[7, 8, 9, 10, 11, 12],[13, 14, 15, 16, 17, 18]])\n",
    "print(dat)"
   ]
  },
  {
   "cell_type": "code",
   "execution_count": null,
   "id": "897ac54a",
   "metadata": {},
   "outputs": [],
   "source": [
    "datf=pd.DataFrame(dat, index=['row1', 'row2', 'row3'],\n",
    "                columns=['col1', 'col2', 'col3', 'col4', 'col5', 'col6'])"
   ]
  },
  {
   "cell_type": "code",
   "execution_count": null,
   "id": "97b9937f",
   "metadata": {},
   "outputs": [],
   "source": [
    "print(datf)"
   ]
  },
  {
   "cell_type": "code",
   "execution_count": null,
   "id": "61cdf0ad",
   "metadata": {},
   "outputs": [],
   "source": [
    "dat = np.array([[1, 2, 3, 4, 5, 6,],[7, 8, 9, 10, 11, 12],[13, 14, 15, 16, 17, 18]])"
   ]
  },
  {
   "cell_type": "code",
   "execution_count": null,
   "id": "9aa5d126",
   "metadata": {},
   "outputs": [],
   "source": [
    "datf=pd.DataFrame(dat, index=['row1', 'row2', 'row3'],\n",
    "                columns=['col1', 'col2', 'col3', 'col4', 'col5', 'col6'])"
   ]
  },
  {
   "cell_type": "code",
   "execution_count": null,
   "id": "8ccda4e0",
   "metadata": {},
   "outputs": [],
   "source": [
    "region = ['Western', 'Central', 'Greater Accra', 'Volta', 'Ahafo']\n",
    "pop = [2057225, 2859821, 5446237, 1649523, 747227]"
   ]
  },
  {
   "cell_type": "code",
   "execution_count": null,
   "id": "ddb599b3",
   "metadata": {},
   "outputs": [],
   "source": [
    "dict_reg = {'Region':region, 'Population':pop}"
   ]
  },
  {
   "cell_type": "code",
   "execution_count": null,
   "id": "eb4fb625",
   "metadata": {},
   "outputs": [],
   "source": [
    "reg_pop = pd.DataFrame(dict_reg)\n",
    "reg_pop"
   ]
  },
  {
   "cell_type": "code",
   "execution_count": null,
   "id": "402b7b80",
   "metadata": {},
   "outputs": [],
   "source": [
    "# reading an excel file \n",
    "scores = pd.read_csv(\"C:/Users/LENOVO/Downloads/StudentsPerformance.csv\")"
   ]
  },
  {
   "cell_type": "code",
   "execution_count": null,
   "id": "e53f7353",
   "metadata": {},
   "outputs": [],
   "source": [
    "# getting the first n rows\n",
    "scores.head()"
   ]
  },
  {
   "cell_type": "code",
   "execution_count": null,
   "id": "9f247637",
   "metadata": {},
   "outputs": [],
   "source": [
    "# getting the last n rows\n",
    "scores.tail()"
   ]
  },
  {
   "cell_type": "code",
   "execution_count": null,
   "id": "6212299d",
   "metadata": {},
   "outputs": [],
   "source": [
    "# sorting a particular column \n",
    "scores.sort_values('math score')"
   ]
  },
  {
   "cell_type": "code",
   "execution_count": null,
   "id": "032b8854",
   "metadata": {},
   "outputs": [],
   "source": [
    "scores.sort_values('math score', ascending=False)"
   ]
  },
  {
   "cell_type": "code",
   "execution_count": null,
   "id": "8a932f24",
   "metadata": {},
   "outputs": [],
   "source": [
    "scores[['sex', 'reading score']]"
   ]
  },
  {
   "cell_type": "code",
   "execution_count": null,
   "id": "5cd8cf77",
   "metadata": {},
   "outputs": [],
   "source": [
    "# summarising the data\n",
    "scores.describe()"
   ]
  },
  {
   "cell_type": "code",
   "execution_count": null,
   "id": "9720ba96",
   "metadata": {},
   "outputs": [],
   "source": [
    "# getting the average score in english ie both reading and writing\n",
    "English = (scores['reading score'] + scores['writing score'])/2\n",
    "English"
   ]
  },
  {
   "cell_type": "markdown",
   "id": "adf623c8",
   "metadata": {},
   "source": [
    "## Generating a Chess board usin matplot"
   ]
  },
  {
   "cell_type": "code",
   "execution_count": null,
   "id": "2a7c351d",
   "metadata": {},
   "outputs": [],
   "source": [
    "# creating a chess board using python and matplot\n",
    "import matplotlib.pyplot as plt\n",
    "import numpy as np\n",
    "from matplotlib.colors import ListedColormap\n",
    "\n",
    "board = np.title([1,0], (8,4))\n",
    "\n",
    "for i in range(board.shape[0]):\n",
    "    board[i] = np.roll(board[i], i%2)\n",
    "    \n",
    "cmap = ListedColormap(['#779556', '#ebecd0'])\n",
    "ply.matshow(board, cmap=cmap, )\n",
    "plt.xticks([])\n",
    "plt.yticks([])\n",
    "plt.show()"
   ]
  },
  {
   "cell_type": "markdown",
   "id": "c160c658",
   "metadata": {},
   "source": [
    "# Lecture by Dr Canter 26/02/2022 FILTERING AND EXTRATING DATA IN PYTHON"
   ]
  },
  {
   "cell_type": "code",
   "execution_count": null,
   "id": "3fe0f4c2",
   "metadata": {},
   "outputs": [],
   "source": [
    "# LOGICAL: tilde, query, nlargest/nsmallest, loc, iloc\n",
    "# Extraction,request from http, beaautiful soup from html and xml, scrapy from website, pypdf"
   ]
  },
  {
   "cell_type": "code",
   "execution_count": null,
   "id": "a92cb449",
   "metadata": {},
   "outputs": [],
   "source": [
    "import pandas as pd\n",
    "import numpy as np\n",
    "import os\n",
    "os.chdir(r\"C:\\Users\\LENOVO\\Documents\\digicap\")"
   ]
  },
  {
   "cell_type": "code",
   "execution_count": null,
   "id": "995140c4",
   "metadata": {},
   "outputs": [],
   "source": [
    "gdata = pd.read_csv(\"inc.csv\")"
   ]
  },
  {
   "cell_type": "code",
   "execution_count": null,
   "id": "3b7af79a",
   "metadata": {},
   "outputs": [],
   "source": [
    "gdata.head()"
   ]
  },
  {
   "cell_type": "code",
   "execution_count": null,
   "id": "9550235b",
   "metadata": {},
   "outputs": [],
   "source": [
    "gdata.tail()"
   ]
  },
  {
   "cell_type": "code",
   "execution_count": null,
   "id": "a814bc76",
   "metadata": {},
   "outputs": [],
   "source": [
    "poor = gdata[gdata.rpcgni<1027]"
   ]
  },
  {
   "cell_type": "code",
   "execution_count": null,
   "id": "b50c5792",
   "metadata": {},
   "outputs": [],
   "source": [
    "poor.head()"
   ]
  },
  {
   "cell_type": "code",
   "execution_count": null,
   "id": "ca10329a",
   "metadata": {},
   "outputs": [],
   "source": [
    "poor.tail()"
   ]
  },
  {
   "cell_type": "code",
   "execution_count": null,
   "id": "879de817",
   "metadata": {},
   "outputs": [],
   "source": [
    "gdata.describe()"
   ]
  },
  {
   "cell_type": "code",
   "execution_count": null,
   "id": "6818bf8f",
   "metadata": {},
   "outputs": [],
   "source": [
    "poor.describe()"
   ]
  },
  {
   "cell_type": "code",
   "execution_count": null,
   "id": "ce7868a8",
   "metadata": {},
   "outputs": [],
   "source": [
    "upmiddle = gdata[gdata.rpcgni>=4046]"
   ]
  },
  {
   "cell_type": "code",
   "execution_count": null,
   "id": "3a99481c",
   "metadata": {},
   "outputs": [],
   "source": [
    "upmiddle"
   ]
  },
  {
   "cell_type": "code",
   "execution_count": null,
   "id": "b81a673d",
   "metadata": {},
   "outputs": [],
   "source": [
    "upmiddle.head()"
   ]
  },
  {
   "cell_type": "code",
   "execution_count": null,
   "id": "a7a73c86",
   "metadata": {},
   "outputs": [],
   "source": [
    "upmiddle.tail()"
   ]
  },
  {
   "cell_type": "code",
   "execution_count": null,
   "id": "24cf1461",
   "metadata": {},
   "outputs": [],
   "source": [
    "middle = gdata[(gdata['rpcgni']>1026) & (gdata['rpcgni']<4046)]"
   ]
  },
  {
   "cell_type": "code",
   "execution_count": null,
   "id": "461a3b23",
   "metadata": {},
   "outputs": [],
   "source": [
    "middle"
   ]
  },
  {
   "cell_type": "code",
   "execution_count": null,
   "id": "eedd16b8",
   "metadata": {},
   "outputs": [],
   "source": [
    "#upmiddle['region==''Sub Saharan Africa']\n",
    "#upmiddle_ssa = gdata[gdata.rpcgni>=4046]\n",
    "mssa = gdata[(gdata['rpcgni']>4046) & (gdata['region']=='Sub Saharan Africa')]\n",
    "mssa"
   ]
  },
  {
   "cell_type": "markdown",
   "id": "0f92f555",
   "metadata": {},
   "source": [
    "## Using the isin to filter data"
   ]
  },
  {
   "cell_type": "code",
   "execution_count": null,
   "id": "76f9cd60",
   "metadata": {},
   "outputs": [],
   "source": [
    "inc_cat = ['upper middle income']\n",
    "gdata[gdata.incgrp.isin(inc_cat)]"
   ]
  },
  {
   "cell_type": "code",
   "execution_count": null,
   "id": "8cae8328",
   "metadata": {},
   "outputs": [],
   "source": [
    "inc_cat = ['low income', 'Sub Saharan Africa']\n",
    "gdata[gdata.incgrp.isin(inc_cat)]"
   ]
  },
  {
   "cell_type": "markdown",
   "id": "3061fca7",
   "metadata": {},
   "source": [
    "### string accessor"
   ]
  },
  {
   "cell_type": "code",
   "execution_count": null,
   "id": "ad37cbc0",
   "metadata": {},
   "outputs": [],
   "source": [
    "gcountry = gdata[gdata.country.str.startswith('G')]\n",
    "gcountry"
   ]
  },
  {
   "cell_type": "code",
   "execution_count": null,
   "id": "d84b7d96",
   "metadata": {},
   "outputs": [],
   "source": [
    "gdata[gdata.country.str.startswith('Gha')]"
   ]
  },
  {
   "cell_type": "code",
   "execution_count": null,
   "id": "2116bd93",
   "metadata": {},
   "outputs": [],
   "source": [
    "gdata[gdata.country.str.contains('Gh')]"
   ]
  },
  {
   "cell_type": "code",
   "execution_count": null,
   "id": "fbf1819e",
   "metadata": {},
   "outputs": [],
   "source": [
    "gdata[gdata.country.str.endswith('o')]"
   ]
  },
  {
   "cell_type": "markdown",
   "id": "eb89c47d",
   "metadata": {},
   "source": [
    "## the tilda operator"
   ]
  },
  {
   "cell_type": "code",
   "execution_count": null,
   "id": "3b31ecfc",
   "metadata": {},
   "outputs": [],
   "source": [
    "gdata[~gdata.country.str.startswith('Gh')]"
   ]
  },
  {
   "cell_type": "markdown",
   "id": "0acf1556",
   "metadata": {},
   "source": [
    "## Query "
   ]
  },
  {
   "cell_type": "code",
   "execution_count": null,
   "id": "57ee20d0",
   "metadata": {},
   "outputs": [],
   "source": [
    "gdata.query('incgrp==\"low income\" and capital<30')"
   ]
  },
  {
   "cell_type": "code",
   "execution_count": null,
   "id": "69cad933",
   "metadata": {},
   "outputs": [],
   "source": [
    "gdata.query('incgrp==\"low income\" and capital>50')"
   ]
  },
  {
   "cell_type": "markdown",
   "id": "2c58298a",
   "metadata": {},
   "source": [
    "## nlargest"
   ]
  },
  {
   "cell_type": "code",
   "execution_count": null,
   "id": "ba8dcbf2",
   "metadata": {},
   "outputs": [],
   "source": [
    "gdata.nlargest(10, 'capital')"
   ]
  },
  {
   "cell_type": "code",
   "execution_count": null,
   "id": "bfef1b8c",
   "metadata": {},
   "outputs": [],
   "source": [
    "gdata.nlargest(10, 'consumption')"
   ]
  },
  {
   "cell_type": "code",
   "execution_count": null,
   "id": "a6e2ddad",
   "metadata": {},
   "outputs": [],
   "source": [
    "gdata.nsmallest(10, 'capital')"
   ]
  },
  {
   "cell_type": "code",
   "execution_count": null,
   "id": "45f1b612",
   "metadata": {},
   "outputs": [],
   "source": [
    "gdata.nsmallest(10, 'pcgdp')"
   ]
  },
  {
   "cell_type": "markdown",
   "id": "7c736be7",
   "metadata": {},
   "source": [
    "## loc"
   ]
  },
  {
   "cell_type": "code",
   "execution_count": null,
   "id": "8f8b0556",
   "metadata": {},
   "outputs": [],
   "source": [
    "gdata.iloc[310:320, :4]"
   ]
  },
  {
   "cell_type": "markdown",
   "id": "2ad8af50",
   "metadata": {},
   "source": [
    "## filtering to extraction"
   ]
  },
  {
   "cell_type": "code",
   "execution_count": null,
   "id": "768e4d29",
   "metadata": {},
   "outputs": [],
   "source": [
    "from bs4 import BeautifulSoup\n",
    "from urllib.request import urlopen"
   ]
  },
  {
   "cell_type": "code",
   "execution_count": null,
   "id": "d8e5f11f",
   "metadata": {},
   "outputs": [],
   "source": [
    "url = \"https://quotes.toscrape.com/\""
   ]
  },
  {
   "cell_type": "code",
   "execution_count": null,
   "id": "10eab495",
   "metadata": {},
   "outputs": [],
   "source": [
    "html = urlopen(url)"
   ]
  },
  {
   "cell_type": "code",
   "execution_count": null,
   "id": "23d9e621",
   "metadata": {},
   "outputs": [],
   "source": [
    "soup = BeautifulSoup(html, \"html.parser\")"
   ]
  },
  {
   "cell_type": "code",
   "execution_count": null,
   "id": "9645e2e8",
   "metadata": {},
   "outputs": [],
   "source": [
    "soup"
   ]
  },
  {
   "cell_type": "code",
   "execution_count": null,
   "id": "ba515677",
   "metadata": {},
   "outputs": [],
   "source": [
    "type(soup)"
   ]
  },
  {
   "cell_type": "code",
   "execution_count": null,
   "id": "970b801f",
   "metadata": {},
   "outputs": [],
   "source": [
    "all_links = soup.findAll('div',{'class':'quote'})"
   ]
  },
  {
   "cell_type": "code",
   "execution_count": null,
   "id": "3e1d5c3b",
   "metadata": {},
   "outputs": [],
   "source": [
    "stri = str(all_links)"
   ]
  },
  {
   "cell_type": "code",
   "execution_count": null,
   "id": "92666e24",
   "metadata": {},
   "outputs": [],
   "source": [
    "text_web = BeautifulSoup(stri,\"html.parser\").get_text()"
   ]
  },
  {
   "cell_type": "code",
   "execution_count": null,
   "id": "a48de49b",
   "metadata": {},
   "outputs": [],
   "source": [
    "print(text_web)"
   ]
  },
  {
   "cell_type": "code",
   "execution_count": null,
   "id": "d235163d",
   "metadata": {},
   "outputs": [],
   "source": []
  }
 ],
 "metadata": {
  "kernelspec": {
   "display_name": "Python 3 (ipykernel)",
   "language": "python",
   "name": "python3"
  },
  "language_info": {
   "codemirror_mode": {
    "name": "ipython",
    "version": 3
   },
   "file_extension": ".py",
   "mimetype": "text/x-python",
   "name": "python",
   "nbconvert_exporter": "python",
   "pygments_lexer": "ipython3",
   "version": "3.9.7"
  }
 },
 "nbformat": 4,
 "nbformat_minor": 5
}
