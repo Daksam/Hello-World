{
 "cells": [
  {
   "cell_type": "markdown",
   "id": "e78ccdd0",
   "metadata": {},
   "source": [
    "# Lecture by Dr Canter 26/02/2022 \n",
    "## FILTERING DATA IN PYTHON"
   ]
  },
  {
   "cell_type": "code",
   "execution_count": null,
   "id": "cf9b82ad",
   "metadata": {},
   "outputs": [],
   "source": [
    "import pandas as pd\n",
    "import numpy as np\n",
    "import os\n",
    "os.chdir(r\"C:\\Users\\LENOVO\\Documents\\digicap\")"
   ]
  },
  {
   "cell_type": "code",
   "execution_count": null,
   "id": "9375768f",
   "metadata": {},
   "outputs": [],
   "source": [
    "gdata = pd.read_csv(\"inc.csv\")"
   ]
  },
  {
   "cell_type": "code",
   "execution_count": null,
   "id": "fe8d5c24",
   "metadata": {},
   "outputs": [],
   "source": [
    "gdata.head()"
   ]
  },
  {
   "cell_type": "code",
   "execution_count": null,
   "id": "d323c8ce",
   "metadata": {},
   "outputs": [],
   "source": [
    "gdata.tail()"
   ]
  },
  {
   "cell_type": "code",
   "execution_count": null,
   "id": "52fc4ebb",
   "metadata": {},
   "outputs": [],
   "source": [
    "poor = gdata[gdata.rpcgni<1027]"
   ]
  },
  {
   "cell_type": "code",
   "execution_count": null,
   "id": "932ce8d0",
   "metadata": {},
   "outputs": [],
   "source": [
    "poor.head()"
   ]
  },
  {
   "cell_type": "code",
   "execution_count": null,
   "id": "41b5508b",
   "metadata": {},
   "outputs": [],
   "source": [
    "poor.tail()"
   ]
  },
  {
   "cell_type": "code",
   "execution_count": null,
   "id": "b75e5a4f",
   "metadata": {},
   "outputs": [],
   "source": [
    "gdata.describe()"
   ]
  },
  {
   "cell_type": "code",
   "execution_count": null,
   "id": "d9fe7534",
   "metadata": {},
   "outputs": [],
   "source": [
    "poor.describe()"
   ]
  },
  {
   "cell_type": "code",
   "execution_count": null,
   "id": "ae3177c0",
   "metadata": {},
   "outputs": [],
   "source": [
    "upmiddle = gdata[gdata.rpcgni>=4046]"
   ]
  },
  {
   "cell_type": "code",
   "execution_count": null,
   "id": "2dcceed0",
   "metadata": {},
   "outputs": [],
   "source": [
    "upmiddle"
   ]
  },
  {
   "cell_type": "code",
   "execution_count": null,
   "id": "d817f4d5",
   "metadata": {},
   "outputs": [],
   "source": [
    "upmiddle.head()"
   ]
  },
  {
   "cell_type": "code",
   "execution_count": null,
   "id": "b1d3a608",
   "metadata": {},
   "outputs": [],
   "source": [
    "upmiddle.tail()"
   ]
  },
  {
   "cell_type": "code",
   "execution_count": null,
   "id": "a1e7a165",
   "metadata": {},
   "outputs": [],
   "source": [
    "middle = gdata[(gdata['rpcgni']>1026) & (gdata['rpcgni']<4046)]"
   ]
  },
  {
   "cell_type": "code",
   "execution_count": null,
   "id": "f0d57c83",
   "metadata": {},
   "outputs": [],
   "source": [
    "middle"
   ]
  },
  {
   "cell_type": "code",
   "execution_count": null,
   "id": "7db59f0d",
   "metadata": {},
   "outputs": [],
   "source": [
    "#upmiddle['region==''Sub Saharan Africa']\n",
    "#upmiddle_ssa = gdata[gdata.rpcgni>=4046]\n",
    "mssa = gdata[(gdata['rpcgni']>4046) & (gdata['region']=='Sub Saharan Africa')]\n",
    "mssa"
   ]
  },
  {
   "cell_type": "markdown",
   "id": "dbf8acc1",
   "metadata": {},
   "source": [
    "## Using the isin to filter data"
   ]
  },
  {
   "cell_type": "code",
   "execution_count": null,
   "id": "d6178775",
   "metadata": {},
   "outputs": [],
   "source": [
    "inc_cat = ['upper middle income']\n",
    "gdata[gdata.incgrp.isin(inc_cat)]"
   ]
  },
  {
   "cell_type": "code",
   "execution_count": null,
   "id": "f871b6ad",
   "metadata": {},
   "outputs": [],
   "source": [
    "inc_cat = ['low income', 'Sub Saharan Africa']\n",
    "gdata[gdata.incgrp.isin(inc_cat)]"
   ]
  },
  {
   "cell_type": "markdown",
   "id": "3220698d",
   "metadata": {},
   "source": [
    "### string accessor"
   ]
  },
  {
   "cell_type": "code",
   "execution_count": null,
   "id": "8bddc701",
   "metadata": {},
   "outputs": [],
   "source": [
    "gcountry = gdata[gdata.country.str.startswith('G')]\n",
    "gcountry"
   ]
  },
  {
   "cell_type": "code",
   "execution_count": null,
   "id": "12c712eb",
   "metadata": {},
   "outputs": [],
   "source": [
    "gdata[gdata.country.str.startswith('Gha')]"
   ]
  },
  {
   "cell_type": "code",
   "execution_count": null,
   "id": "76886083",
   "metadata": {},
   "outputs": [],
   "source": [
    "gdata[gdata.country.str.contains('Gh')]"
   ]
  },
  {
   "cell_type": "code",
   "execution_count": null,
   "id": "3a44d008",
   "metadata": {},
   "outputs": [],
   "source": [
    "gdata[gdata.country.str.endswith('o')]"
   ]
  },
  {
   "cell_type": "markdown",
   "id": "23ee44c1",
   "metadata": {},
   "source": [
    "## the tilda operator"
   ]
  },
  {
   "cell_type": "code",
   "execution_count": null,
   "id": "a3ca1f73",
   "metadata": {},
   "outputs": [],
   "source": [
    "gdata[~gdata.country.str.startswith('Gh')]"
   ]
  },
  {
   "cell_type": "markdown",
   "id": "3941cd55",
   "metadata": {},
   "source": [
    "## Query"
   ]
  },
  {
   "cell_type": "code",
   "execution_count": null,
   "id": "ed1c0afa",
   "metadata": {},
   "outputs": [],
   "source": [
    "gdata.query('incgrp==\"low income\" and capital<30')"
   ]
  },
  {
   "cell_type": "code",
   "execution_count": null,
   "id": "2c787ae4",
   "metadata": {},
   "outputs": [],
   "source": [
    "gdata.query('incgrp==\"low income\" and capital>50')"
   ]
  },
  {
   "cell_type": "markdown",
   "id": "43824e4c",
   "metadata": {},
   "source": [
    "## nlargest"
   ]
  },
  {
   "cell_type": "code",
   "execution_count": null,
   "id": "9916b9a1",
   "metadata": {},
   "outputs": [],
   "source": [
    "gdata.nlargest(10, 'capital')"
   ]
  },
  {
   "cell_type": "code",
   "execution_count": null,
   "id": "267dc0c8",
   "metadata": {},
   "outputs": [],
   "source": [
    "gdata.nlargest(10, 'consumption')"
   ]
  },
  {
   "cell_type": "code",
   "execution_count": null,
   "id": "b158ab2a",
   "metadata": {},
   "outputs": [],
   "source": [
    "gdata.nsmallest(10, 'capital')"
   ]
  },
  {
   "cell_type": "code",
   "execution_count": null,
   "id": "608c5d1b",
   "metadata": {},
   "outputs": [],
   "source": [
    "gdata.nsmallest(10, 'pcgdp')"
   ]
  },
  {
   "cell_type": "markdown",
   "id": "e7c713dd",
   "metadata": {},
   "source": [
    "## loc"
   ]
  },
  {
   "cell_type": "code",
   "execution_count": null,
   "id": "09b5c77c",
   "metadata": {},
   "outputs": [],
   "source": [
    "gdata.iloc[310:320, :4]"
   ]
  },
  {
   "cell_type": "code",
   "execution_count": null,
   "id": "a4d51bc1",
   "metadata": {},
   "outputs": [],
   "source": []
  },
  {
   "cell_type": "code",
   "execution_count": null,
   "id": "92e56410",
   "metadata": {},
   "outputs": [],
   "source": []
  }
 ],
 "metadata": {
  "kernelspec": {
   "display_name": "Python 3 (ipykernel)",
   "language": "python",
   "name": "python3"
  },
  "language_info": {
   "codemirror_mode": {
    "name": "ipython",
    "version": 3
   },
   "file_extension": ".py",
   "mimetype": "text/x-python",
   "name": "python",
   "nbconvert_exporter": "python",
   "pygments_lexer": "ipython3",
   "version": "3.9.7"
  }
 },
 "nbformat": 4,
 "nbformat_minor": 5
}
