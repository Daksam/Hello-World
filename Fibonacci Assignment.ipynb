{
 "cells": [
  {
   "cell_type": "code",
   "execution_count": null,
   "id": "b4097c48",
   "metadata": {},
   "outputs": [],
   "source": [
    "#displaying fibonacci sequence upto nth term\n",
    "nterms = int(input('Please Enter Number of Terms: '))\n",
    "\n",
    "#the 1st two terms\n",
    "n1, n2 = 0, 1\n",
    "count = 0\n",
    "\n",
    "#checking for validity of number of terms\n",
    "if nterms <= 0:\n",
    "    print('Please enter a positive integer')\n",
    "elif nterms == 1:\n",
    "    print('Fibonacci sequence upto',nterms,':')\n",
    "    print(n1)\n",
    "\n",
    "#generating the fibonacci sequence\n",
    "else:\n",
    "    print('The Fibonacci Sequence is:')\n",
    "    while count < nterms:\n",
    "        print(n1)\n",
    "        nth = n1 + n2\n",
    "        n1 = n2\n",
    "        n2 = nth\n",
    "        count += 1"
   ]
  },
  {
   "cell_type": "code",
   "execution_count": null,
   "id": "d67d4df6",
   "metadata": {},
   "outputs": [],
   "source": []
  }
 ],
 "metadata": {
  "kernelspec": {
   "display_name": "Python 3 (ipykernel)",
   "language": "python",
   "name": "python3"
  },
  "language_info": {
   "codemirror_mode": {
    "name": "ipython",
    "version": 3
   },
   "file_extension": ".py",
   "mimetype": "text/x-python",
   "name": "python",
   "nbconvert_exporter": "python",
   "pygments_lexer": "ipython3",
   "version": "3.9.7"
  }
 },
 "nbformat": 4,
 "nbformat_minor": 5
}
