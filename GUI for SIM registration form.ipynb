{
 "cells": [
  {
   "cell_type": "markdown",
   "id": "ed14d366",
   "metadata": {},
   "source": [
    "## Tkinter"
   ]
  },
  {
   "cell_type": "code",
   "execution_count": null,
   "id": "bde46753",
   "metadata": {},
   "outputs": [],
   "source": [
    "from tkinter import *\n",
    "from csv import writer\n",
    "\n",
    "# creating the main window. the window can be any name\n",
    "window = Tk()\n",
    "\n",
    "# setting size and title of the main window\n",
    "window.title('First_GUI_Program')\n",
    "window.geometry('450x450')\n",
    "\n",
    "# setting up labels used in GUI\n",
    "Label(window, text=\"SIM REGISTRATION FORM\", font=(\"arial\", 16, \"bold\")).pack()\n",
    "Label(window, text=\"Enter First Name:\", font=(\"arial\", 12)).place(x=10, y=70)\n",
    "Label(window, text=\"Enter Last Name:\", font=(\"arial\", 12)).place(x=10, y=120)\n",
    "Label(window, text=\"Enter NIA Card No.:\", font=(\"arial\", 12)).place(x=10, y=170)\n",
    "Label(window, text=\"Enter SIM Number:\", font=(\"arial\", 12)).place(x=10, y=220)\n",
    "\n",
    "# creating text boxes used in GUI\n",
    "first_name = Entry(window, width=20, font=(\"Helvetica\", 12))\n",
    "last_name = Entry(window, width=20, font=(\"Helvetica\", 12))\n",
    "nia_num = Entry(window, width=20, font=(\"Helvetica\", 12))\n",
    "sim_num = Entry(window, width=20, font=(\"Helvetica\", 12))\n",
    "\n",
    "# positioning text boxes\n",
    "first_name.place(x=200, y=70)\n",
    "last_name.place(x=200, y=120)\n",
    "nia_num.place(x=200, y=170)\n",
    "sim_num.place(x=200, y=220)\n",
    "\n",
    "# creating a button\n",
    "button1 = Button(window, text=\"Register SIM\", fg=\"white\", bg=\"brown\", command=\"register\", font=(\"arial\", 12, \"bold\"))\n",
    "button1.place(x=160, y=310)\n",
    "\n",
    "# mainloop method runs the app and tells the code to keep displaying\n",
    "window.mainloop()\n",
    "\n",
    "# clearing text boxes\n",
    "def clear_text():\n",
    "    first_name.delete(0, END)\n",
    "    last_name.delete(0, END)\n",
    "    nia_num.delete(0, END)\n",
    "    sim_num.delete(0, END)\n",
    "    \n",
    "# saving it to excel csv\n",
    "def save(a_list):\n",
    "    with open(\"registersim.csv\", \"a+\", newline=\"\") as write_obj:\n",
    "        csv_writer = writer(write_obj)\n",
    "        csv_writer.writerow(a_list)\n",
    "        \n",
    "# initiating list\n",
    "new_list = []\n",
    "    \n",
    "    \n",
    "def register():\n",
    "    global new_list\n",
    "    element1 = first_name.get()\n",
    "    element2 = last_name.get()\n",
    "    element3 = nia_num.get()\n",
    "    element4 = sim_num.get()\n",
    "    \n",
    "    new_list = [element1, element2, element3, element4]\n",
    "    save(new_list)\n",
    "    \n",
    "    clear_text()\n",
    "    "
   ]
  }
 ],
 "metadata": {
  "kernelspec": {
   "display_name": "Python 3 (ipykernel)",
   "language": "python",
   "name": "python3"
  },
  "language_info": {
   "codemirror_mode": {
    "name": "ipython",
    "version": 3
   },
   "file_extension": ".py",
   "mimetype": "text/x-python",
   "name": "python",
   "nbconvert_exporter": "python",
   "pygments_lexer": "ipython3",
   "version": "3.9.7"
  }
 },
 "nbformat": 4,
 "nbformat_minor": 5
}
