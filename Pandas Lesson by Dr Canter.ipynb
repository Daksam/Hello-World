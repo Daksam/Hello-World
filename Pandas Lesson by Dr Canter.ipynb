{
 "cells": [
  {
   "cell_type": "markdown",
   "id": "739d2ca0",
   "metadata": {},
   "source": [
    "### Pandas lessons by Dr Canter"
   ]
  },
  {
   "cell_type": "code",
   "execution_count": 1,
   "id": "f8c2fe34",
   "metadata": {},
   "outputs": [],
   "source": [
    "import numpy as np\n",
    "import pandas as pd\n"
   ]
  },
  {
   "cell_type": "code",
   "execution_count": null,
   "id": "9c66c00a",
   "metadata": {},
   "outputs": [],
   "source": [
    "dat = np.array([[1, 2, 3, 4, 5, 6,],[7, 8, 9, 10, 11, 12],[13, 14, 15, 16, 17, 18]])\n",
    "print(dat)"
   ]
  },
  {
   "cell_type": "code",
   "execution_count": null,
   "id": "e8bf89fe",
   "metadata": {},
   "outputs": [],
   "source": [
    "datf=pd.DataFrame(dat, index=['row1', 'row2', 'row3'],\n",
    "                columns=['col1', 'col2', 'col3', 'col4', 'col5', 'col6'])"
   ]
  },
  {
   "cell_type": "code",
   "execution_count": null,
   "id": "58383677",
   "metadata": {},
   "outputs": [],
   "source": [
    "print(datf)"
   ]
  },
  {
   "cell_type": "code",
   "execution_count": null,
   "id": "fdac4d31",
   "metadata": {},
   "outputs": [],
   "source": [
    "dat = np.array([[1, 2, 3, 4, 5, 6,],[7, 8, 9, 10, 11, 12],[13, 14, 15, 16, 17, 18]])"
   ]
  },
  {
   "cell_type": "code",
   "execution_count": null,
   "id": "96188d03",
   "metadata": {},
   "outputs": [],
   "source": [
    "datf=pd.DataFrame(dat, index=['row1', 'row2', 'row3'],\n",
    "                columns=['col1', 'col2', 'col3', 'col4', 'col5', 'col6'])"
   ]
  },
  {
   "cell_type": "code",
   "execution_count": null,
   "id": "40b22520",
   "metadata": {},
   "outputs": [],
   "source": [
    "region = ['Western', 'Central', 'Greater Accra', 'Volta', 'Ahafo']\n",
    "pop = [2057225, 2859821, 5446237, 1649523, 747227]"
   ]
  },
  {
   "cell_type": "code",
   "execution_count": null,
   "id": "cbe8a0c8",
   "metadata": {},
   "outputs": [],
   "source": [
    "dict_reg = {'Region':region, 'Population':pop}"
   ]
  },
  {
   "cell_type": "code",
   "execution_count": null,
   "id": "e4a2cfa2",
   "metadata": {},
   "outputs": [],
   "source": [
    "reg_pop = pd.DataFrame(dict_reg)\n",
    "reg_pop"
   ]
  },
  {
   "cell_type": "code",
   "execution_count": 3,
   "id": "30b33959",
   "metadata": {},
   "outputs": [],
   "source": [
    "# reading an csv file \n",
    "scores = pd.read_csv(r\"C:\\Users\\LENOVO\\Documents\\data bank\\StudentsPerformance.csv\")"
   ]
  },
  {
   "cell_type": "code",
   "execution_count": 4,
   "id": "abe5af41",
   "metadata": {},
   "outputs": [
    {
     "data": {
      "text/html": [
       "<div>\n",
       "<style scoped>\n",
       "    .dataframe tbody tr th:only-of-type {\n",
       "        vertical-align: middle;\n",
       "    }\n",
       "\n",
       "    .dataframe tbody tr th {\n",
       "        vertical-align: top;\n",
       "    }\n",
       "\n",
       "    .dataframe thead th {\n",
       "        text-align: right;\n",
       "    }\n",
       "</style>\n",
       "<table border=\"1\" class=\"dataframe\">\n",
       "  <thead>\n",
       "    <tr style=\"text-align: right;\">\n",
       "      <th></th>\n",
       "      <th>sex</th>\n",
       "      <th>ethnicity</th>\n",
       "      <th>parental level of education</th>\n",
       "      <th>lunch</th>\n",
       "      <th>test preparation course</th>\n",
       "      <th>math score</th>\n",
       "      <th>reading score</th>\n",
       "      <th>writing score</th>\n",
       "    </tr>\n",
       "  </thead>\n",
       "  <tbody>\n",
       "    <tr>\n",
       "      <th>0</th>\n",
       "      <td>female</td>\n",
       "      <td>group B</td>\n",
       "      <td>bachelor's degree</td>\n",
       "      <td>standard</td>\n",
       "      <td>none</td>\n",
       "      <td>72</td>\n",
       "      <td>72</td>\n",
       "      <td>74</td>\n",
       "    </tr>\n",
       "    <tr>\n",
       "      <th>1</th>\n",
       "      <td>female</td>\n",
       "      <td>group C</td>\n",
       "      <td>some college</td>\n",
       "      <td>standard</td>\n",
       "      <td>completed</td>\n",
       "      <td>69</td>\n",
       "      <td>90</td>\n",
       "      <td>88</td>\n",
       "    </tr>\n",
       "    <tr>\n",
       "      <th>2</th>\n",
       "      <td>female</td>\n",
       "      <td>group B</td>\n",
       "      <td>master's degree</td>\n",
       "      <td>standard</td>\n",
       "      <td>none</td>\n",
       "      <td>90</td>\n",
       "      <td>95</td>\n",
       "      <td>93</td>\n",
       "    </tr>\n",
       "    <tr>\n",
       "      <th>3</th>\n",
       "      <td>male</td>\n",
       "      <td>group A</td>\n",
       "      <td>associate's degree</td>\n",
       "      <td>free/reduced</td>\n",
       "      <td>none</td>\n",
       "      <td>47</td>\n",
       "      <td>57</td>\n",
       "      <td>44</td>\n",
       "    </tr>\n",
       "    <tr>\n",
       "      <th>4</th>\n",
       "      <td>male</td>\n",
       "      <td>group C</td>\n",
       "      <td>some college</td>\n",
       "      <td>standard</td>\n",
       "      <td>none</td>\n",
       "      <td>76</td>\n",
       "      <td>78</td>\n",
       "      <td>75</td>\n",
       "    </tr>\n",
       "  </tbody>\n",
       "</table>\n",
       "</div>"
      ],
      "text/plain": [
       "      sex ethnicity parental level of education         lunch  \\\n",
       "0  female   group B           bachelor's degree      standard   \n",
       "1  female   group C                some college      standard   \n",
       "2  female   group B             master's degree      standard   \n",
       "3    male   group A          associate's degree  free/reduced   \n",
       "4    male   group C                some college      standard   \n",
       "\n",
       "  test preparation course  math score  reading score  writing score  \n",
       "0                    none          72             72             74  \n",
       "1               completed          69             90             88  \n",
       "2                    none          90             95             93  \n",
       "3                    none          47             57             44  \n",
       "4                    none          76             78             75  "
      ]
     },
     "execution_count": 4,
     "metadata": {},
     "output_type": "execute_result"
    }
   ],
   "source": [
    "# getting the first n rows\n",
    "scores.head()"
   ]
  },
  {
   "cell_type": "code",
   "execution_count": null,
   "id": "28806da9",
   "metadata": {},
   "outputs": [],
   "source": [
    "# getting the last n rows\n",
    "scores.tail()"
   ]
  },
  {
   "cell_type": "code",
   "execution_count": null,
   "id": "702221a0",
   "metadata": {},
   "outputs": [],
   "source": [
    "# sorting a particular column \n",
    "scores.sort_values('math score')"
   ]
  },
  {
   "cell_type": "code",
   "execution_count": null,
   "id": "0ebe8a92",
   "metadata": {},
   "outputs": [],
   "source": [
    "scores.sort_values('math score', ascending=False)"
   ]
  },
  {
   "cell_type": "code",
   "execution_count": null,
   "id": "b12eb08f",
   "metadata": {},
   "outputs": [],
   "source": [
    "scores[['sex', 'reading score']]"
   ]
  },
  {
   "cell_type": "code",
   "execution_count": null,
   "id": "9bb9b491",
   "metadata": {},
   "outputs": [],
   "source": [
    "# summarising the data\n",
    "scores.describe()"
   ]
  },
  {
   "cell_type": "code",
   "execution_count": null,
   "id": "91d48412",
   "metadata": {},
   "outputs": [],
   "source": [
    "# getting the average score in english ie both reading and writing\n",
    "English = (scores['reading score'] + scores['writing score'])/2\n",
    "English"
   ]
  },
  {
   "cell_type": "code",
   "execution_count": null,
   "id": "94835de4",
   "metadata": {},
   "outputs": [],
   "source": []
  }
 ],
 "metadata": {
  "kernelspec": {
   "display_name": "Python 3 (ipykernel)",
   "language": "python",
   "name": "python3"
  },
  "language_info": {
   "codemirror_mode": {
    "name": "ipython",
    "version": 3
   },
   "file_extension": ".py",
   "mimetype": "text/x-python",
   "name": "python",
   "nbconvert_exporter": "python",
   "pygments_lexer": "ipython3",
   "version": "3.9.7"
  }
 },
 "nbformat": 4,
 "nbformat_minor": 5
}
