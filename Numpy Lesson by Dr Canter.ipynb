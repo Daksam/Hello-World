{
 "cells": [
  {
   "cell_type": "markdown",
   "id": "df32d056",
   "metadata": {},
   "source": [
    "## Numpy Lessons by Dr Canter 19/02/2022"
   ]
  },
  {
   "cell_type": "code",
   "execution_count": null,
   "id": "0f394606",
   "metadata": {},
   "outputs": [],
   "source": [
    "import numpy as np"
   ]
  },
  {
   "cell_type": "code",
   "execution_count": null,
   "id": "40eff6bc",
   "metadata": {},
   "outputs": [],
   "source": [
    "#one dimensional array\n",
    "figures = np.array([1, 2, 3, 4, 5, 6, 7, 8, 9, 10])\n",
    "print(figures_1)"
   ]
  },
  {
   "cell_type": "code",
   "execution_count": null,
   "id": "4eade601",
   "metadata": {},
   "outputs": [],
   "source": [
    "print(figures * 2)"
   ]
  },
  {
   "cell_type": "code",
   "execution_count": null,
   "id": "99a5a6a3",
   "metadata": {},
   "outputs": [],
   "source": [
    "#two dimensional array\n",
    "fg_2 = np.array([[1, 2, 3, 4, 5], [6, 7, 8, 9, 10]])\n",
    "print(fg_2)"
   ]
  },
  {
   "cell_type": "code",
   "execution_count": null,
   "id": "01a31e69",
   "metadata": {},
   "outputs": [],
   "source": [
    "#three dimensional array\n",
    "fg_3 = np.array([[[1, 2, 3],  [4, 5, 6], [7, 8, 9]]])\n",
    "print(fg_3)"
   ]
  },
  {
   "cell_type": "code",
   "execution_count": null,
   "id": "6e64044d",
   "metadata": {},
   "outputs": [],
   "source": [
    "print(figures.ndim)"
   ]
  },
  {
   "cell_type": "code",
   "execution_count": null,
   "id": "7551b89b",
   "metadata": {},
   "outputs": [],
   "source": [
    "print(fg_2.ndim)"
   ]
  },
  {
   "cell_type": "code",
   "execution_count": null,
   "id": "8365d28d",
   "metadata": {},
   "outputs": [],
   "source": [
    "print(fg_3.ndim)"
   ]
  },
  {
   "cell_type": "code",
   "execution_count": null,
   "id": "129ff862",
   "metadata": {},
   "outputs": [],
   "source": [
    "fg_5 = np.array(['a', 'b', 'c', 'd', 'e'], ndmin=5)\n",
    "print(fg_5)\n",
    "print(fg_5.ndim)"
   ]
  },
  {
   "cell_type": "code",
   "execution_count": null,
   "id": "5a7e9625",
   "metadata": {},
   "outputs": [],
   "source": [
    "print(figures[1])"
   ]
  },
  {
   "cell_type": "code",
   "execution_count": null,
   "id": "f0d80f54",
   "metadata": {},
   "outputs": [],
   "source": [
    "print(figures[3]*figures[6])"
   ]
  },
  {
   "cell_type": "code",
   "execution_count": null,
   "id": "eb5288da",
   "metadata": {},
   "outputs": [],
   "source": [
    "print(figures[4] - figures[1])"
   ]
  },
  {
   "cell_type": "code",
   "execution_count": null,
   "id": "49276d9f",
   "metadata": {},
   "outputs": [],
   "source": [
    "print(fg_2[0,1])"
   ]
  },
  {
   "cell_type": "code",
   "execution_count": null,
   "id": "80d27435",
   "metadata": {},
   "outputs": [],
   "source": [
    "print(fg_2[1,2])"
   ]
  },
  {
   "cell_type": "code",
   "execution_count": null,
   "id": "ba3bc744",
   "metadata": {},
   "outputs": [],
   "source": [
    "print(fg_3[0,1,0])"
   ]
  },
  {
   "cell_type": "code",
   "execution_count": null,
   "id": "eb0fdd7c",
   "metadata": {},
   "outputs": [],
   "source": [
    "print(fg_3[0,1,2])"
   ]
  },
  {
   "cell_type": "code",
   "execution_count": null,
   "id": "1c9224fb",
   "metadata": {},
   "outputs": [],
   "source": [
    "print(fg_3[0, 2, 1])"
   ]
  },
  {
   "cell_type": "code",
   "execution_count": null,
   "id": "26eff86b",
   "metadata": {},
   "outputs": [],
   "source": [
    "print(fg_3[0, 2, 2])"
   ]
  },
  {
   "cell_type": "code",
   "execution_count": null,
   "id": "d2085cd1",
   "metadata": {},
   "outputs": [],
   "source": [
    "print(fg_3[-1, 2, 1])"
   ]
  },
  {
   "cell_type": "code",
   "execution_count": null,
   "id": "9caeebd2",
   "metadata": {},
   "outputs": [],
   "source": [
    "print(figures[1:4])"
   ]
  },
  {
   "cell_type": "code",
   "execution_count": null,
   "id": "16ced2ed",
   "metadata": {},
   "outputs": [],
   "source": [
    "print(figures[4:])"
   ]
  },
  {
   "cell_type": "code",
   "execution_count": null,
   "id": "92e38293",
   "metadata": {},
   "outputs": [],
   "source": [
    "print(figures[0:7])"
   ]
  },
  {
   "cell_type": "code",
   "execution_count": null,
   "id": "70effde1",
   "metadata": {},
   "outputs": [],
   "source": [
    "print(fg_2[0,1:4])"
   ]
  },
  {
   "cell_type": "code",
   "execution_count": null,
   "id": "81b7ec22",
   "metadata": {},
   "outputs": [],
   "source": [
    "print(fg_3[0,2,1:3])"
   ]
  },
  {
   "cell_type": "code",
   "execution_count": null,
   "id": "061e9c94",
   "metadata": {},
   "outputs": [],
   "source": [
    "(40000+70000+700+500+1500+800)/6"
   ]
  }
 ],
 "metadata": {
  "kernelspec": {
   "display_name": "Python 3 (ipykernel)",
   "language": "python",
   "name": "python3"
  },
  "language_info": {
   "codemirror_mode": {
    "name": "ipython",
    "version": 3
   },
   "file_extension": ".py",
   "mimetype": "text/x-python",
   "name": "python",
   "nbconvert_exporter": "python",
   "pygments_lexer": "ipython3",
   "version": "3.9.7"
  }
 },
 "nbformat": 4,
 "nbformat_minor": 5
}
