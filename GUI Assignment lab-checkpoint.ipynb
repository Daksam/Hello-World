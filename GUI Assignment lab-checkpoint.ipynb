{
 "cells": [
  {
   "cell_type": "code",
   "execution_count": null,
   "id": "122c421c",
   "metadata": {},
   "outputs": [],
   "source": [
    "from tkinter import *\n",
    "from csv import writer\n",
    "\n",
    "# creating the main window. the window can be any name\n",
    "form = Tk()\n",
    "\n",
    "# setting size and title of the main window\n",
    "form.title('My_Project_Form')\n",
    "form.geometry('500x500')\n",
    "\n",
    "# setting up labels used in GUI\n",
    "Label(form, text=\"PROJECT TEAM REMUNERATION\", font=(\"arial\", 16, \"bold\")).pack()\n",
    "Label(form, text=\"Enter Start Date:\", font=(\"arial\", 12)).place(x=10, y=70)\n",
    "Label(form, text=\"Enter Finish Date:\", font=(\"arial\", 12)).place(x=10, y=120)\n",
    "\n",
    "# creating text boxes used in GUI\n",
    "start_date = Entry(form, width=20, font=(\"Helvetica\", 12))\n",
    "finish_date = Entry(form, width=20, font=(\"Helvetica\", 12))\n",
    "\n",
    "# positioning text boxes\n",
    "start_date.place(x=200, y=70)\n",
    "finish_date.place(x=200, y=120)\n",
    "\n",
    "# creating a button\n",
    "button1 = Button(form, text=\"Compute Amount Due\", fg=\"white\", bg=\"brown\", command=\"compute\", font=(\"arial\", 12, \"bold\"))\n",
    "button1.place(x=160, y=310)\n",
    "\n",
    "# mainloop method runs the app and tells the code to keep displaying\n",
    "form.mainloop()\n",
    "\n",
    "# clearing text boxes\n",
    "def clear_text():\n",
    "    start_date.delete(0, END)\n",
    "    finish_date.delete(0, END)\n",
    "    \n",
    "# initiating list\n",
    "new_list = []\n",
    "    \n",
    "    \n",
    "def compute():\n",
    "    global new_list\n",
    "    element1 = start_date.get()\n",
    "    element2 = finish_date.get()\n",
    "\n",
    "    \n",
    "    new_list = [element1, element2]\n",
    "    save(new_list)\n",
    "    \n",
    "    clear_text()"
   ]
  },
  {
   "cell_type": "code",
   "execution_count": null,
   "id": "168bb8d4",
   "metadata": {},
   "outputs": [],
   "source": []
  }
 ],
 "metadata": {
  "kernelspec": {
   "display_name": "Python 3 (ipykernel)",
   "language": "python",
   "name": "python3"
  },
  "language_info": {
   "codemirror_mode": {
    "name": "ipython",
    "version": 3
   },
   "file_extension": ".py",
   "mimetype": "text/x-python",
   "name": "python",
   "nbconvert_exporter": "python",
   "pygments_lexer": "ipython3",
   "version": "3.9.7"
  }
 },
 "nbformat": 4,
 "nbformat_minor": 5
}
