{
 "cells": [
  {
   "cell_type": "markdown",
   "id": "94806eaa",
   "metadata": {},
   "source": [
    "## Generating Grades for Students"
   ]
  },
  {
   "cell_type": "code",
   "execution_count": 2,
   "id": "fc16d944",
   "metadata": {},
   "outputs": [
    {
     "name": "stdout",
     "output_type": "stream",
     "text": [
      "Please input your mark in percentage(%) : 87\n",
      "Congratulations dear, you scored Grade A. Come for a huge hug🤗\n"
     ]
    }
   ],
   "source": [
    "#Taking User Inputs\n",
    "mark = int(input('Please input your mark in percentage(%) : '))\n",
    "\n",
    "#making sure the user enter right mark \n",
    "while mark < 0 or mark > 100: \n",
    "    mark = int(input('Please input your mark in percentage(%) : '))\n",
    "    \n",
    "#Checking conditions and printing results\n",
    "if mark > 80 and mark <= 100:\n",
    "    print('Congratulations dear, you scored Grade A. Come for a huge hug🤗')\n",
    "elif mark > 70 and mark <= 80:\n",
    "    print('Congratulations dear, you scored Grade B and that is great')\n",
    "elif mark > 60 and mark <= 70:\n",
    "    print('Congratulations dear, you scored Grade C and that is fine')\n",
    "elif mark > 50 and mark <= 60:\n",
    "    print('Congratulations dear,you scored Grade D but you nearly failed')\n",
    "else:\n",
    "    print('My friend, you scored Grade E and you have failed woefully')"
   ]
  },
  {
   "cell_type": "code",
   "execution_count": null,
   "id": "0d4f6b87",
   "metadata": {},
   "outputs": [],
   "source": []
  }
 ],
 "metadata": {
  "kernelspec": {
   "display_name": "Python 3 (ipykernel)",
   "language": "python",
   "name": "python3"
  },
  "language_info": {
   "codemirror_mode": {
    "name": "ipython",
    "version": 3
   },
   "file_extension": ".py",
   "mimetype": "text/x-python",
   "name": "python",
   "nbconvert_exporter": "python",
   "pygments_lexer": "ipython3",
   "version": "3.9.7"
  }
 },
 "nbformat": 4,
 "nbformat_minor": 5
}
