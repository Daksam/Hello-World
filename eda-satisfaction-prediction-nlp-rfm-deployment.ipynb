{
 "cells": [
  {
   "cell_type": "markdown",
   "id": "f739079d",
   "metadata": {
    "papermill": {
     "duration": 0.056092,
     "end_time": "2023-04-11T03:52:57.474350",
     "exception": false,
     "start_time": "2023-04-11T03:52:57.418258",
     "status": "completed"
    },
    "tags": []
   },
   "source": [
    "# <center> EDA + Satisfaction Prediction + Reviews NLP + RFM Analysis + Deployment"
   ]
  },
  {
   "cell_type": "markdown",
   "id": "4ad46fbc",
   "metadata": {
    "papermill": {
     "duration": 0.052837,
     "end_time": "2023-04-11T03:52:57.580127",
     "exception": false,
     "start_time": "2023-04-11T03:52:57.527290",
     "status": "completed"
    },
    "tags": []
   },
   "source": [
    "## Table of Contents\n",
    "1.0 Introduction\n",
    "\n",
    "2.0 Data loading\n",
    "\n",
    "3.0 Data Cleaning\n",
    "\n",
    "        3.1 Merging ALL Dataframes\n",
    "\n",
    "        3.2 Handling Missing Values\n",
    "\n",
    "        3.3 Drop Duplicates\n",
    "\n",
    "        3.4 Feature Engineering\n",
    "\n",
    "4.0 Exploratory Data Analysis (EDA)\n",
    "\n",
    "        6.1 Univariate Analysis\n",
    "\n",
    "        6.2 Multivariate Analysis\n",
    "    \n",
    "5.0 - Data preprocesing\n",
    "\n",
    "        6.1 Data encoding\n",
    "\n",
    "        6.2 Feature scaling\n",
    "\n",
    "        6.3 Handle imbalance\n",
    "        \n",
    "6.0 - Modeling\n",
    "\n",
    "        6.1 Apply ML models\n",
    "\n",
    "        6.2 Hyperparameter Tuning\n",
    "        \n",
    "7.0 - Pipeline\n",
    "\n",
    "8.0 - NLP For Customer Satisfaction\n",
    "\n",
    "9.0 - Customer Segmentation\n",
    "\n",
    "        9.1 Customer Segmentation by RFM Analysis\n",
    "\n",
    "        9.2 Customer Segmentation by K-Means\n",
    "\n",
    "10.0 - Model Deployment (Classification & Clustering)\n",
    "\n",
    "11.0 - Wrap up & Conclusion"
   ]
  },
  {
   "cell_type": "markdown",
   "id": "df1c88e9",
   "metadata": {
    "papermill": {
     "duration": 0.054298,
     "end_time": "2023-04-11T03:52:57.688587",
     "exception": false,
     "start_time": "2023-04-11T03:52:57.634289",
     "status": "completed"
    },
    "tags": []
   },
   "source": [
    "# 1.0 Introduction\n",
    "## This project is about \"Olist\", a Brazilian ecommerce store which has information of 100k orders from 2016 to 2018 made at multiple marketplaces in Brazil where its features allow viewing an order from multiple dimensions: from order status, price, payment and freight performance to customer location, product attributes and finally reviews written by customers."
   ]
  },
  {
   "cell_type": "markdown",
   "id": "dea10f5e",
   "metadata": {
    "papermill": {
     "duration": 0.052579,
     "end_time": "2023-04-11T03:52:58.006699",
     "exception": false,
     "start_time": "2023-04-11T03:52:57.954120",
     "status": "completed"
    },
    "tags": []
   },
   "source": [
    "# 2.0 Data Loading"
   ]
  },
  {
   "cell_type": "code",
   "execution_count": 1,
   "id": "dfe7c4a3",
   "metadata": {
    "execution": {
     "iopub.execute_input": "2023-04-11T03:52:58.115326Z",
     "iopub.status.busy": "2023-04-11T03:52:58.114879Z",
     "iopub.status.idle": "2023-04-11T03:52:59.084747Z",
     "shell.execute_reply": "2023-04-11T03:52:59.083768Z"
    },
    "papermill": {
     "duration": 1.027591,
     "end_time": "2023-04-11T03:52:59.087502",
     "exception": false,
     "start_time": "2023-04-11T03:52:58.059911",
     "status": "completed"
    },
    "tags": []
   },
   "outputs": [],
   "source": [
    "import pandas as pd\n",
    "import numpy as np\n",
    "import matplotlib.pyplot as plt\n",
    "import seaborn as sns\n",
    "%matplotlib inline\n",
    "import os"
   ]
  },
  {
   "cell_type": "markdown",
   "id": "01d2f9da",
   "metadata": {
    "papermill": {
     "duration": 0.059396,
     "end_time": "2023-04-11T03:52:59.200593",
     "exception": false,
     "start_time": "2023-04-11T03:52:59.141197",
     "status": "completed"
    },
    "tags": []
   },
   "source": [
    "### Read All Files"
   ]
  },
  {
   "cell_type": "code",
   "execution_count": 2,
   "id": "4bfeb865",
   "metadata": {
    "execution": {
     "iopub.execute_input": "2023-04-11T03:52:59.435630Z",
     "iopub.status.busy": "2023-04-11T03:52:59.434511Z",
     "iopub.status.idle": "2023-04-11T03:53:02.563001Z",
     "shell.execute_reply": "2023-04-11T03:53:02.562079Z"
    },
    "papermill": {
     "duration": 3.185311,
     "end_time": "2023-04-11T03:53:02.565977",
     "exception": false,
     "start_time": "2023-04-11T03:52:59.380666",
     "status": "completed"
    },
    "tags": []
   },
   "outputs": [],
   "source": [
    "customers_df= pd.read_csv('olist_customers_dataset.csv')\n",
    "geolocation_df= pd.read_csv('olist_geolocation_dataset.csv')\n",
    "items_df= pd.read_csv('olist_order_items_dataset.csv')\n",
    "payments_df= pd.read_csv('olist_order_payments_dataset.csv')\n",
    "reviews_df= pd.read_csv('olist_order_reviews_dataset.csv')\n",
    "orders_df= pd.read_csv('olist_orders_dataset.csv')\n",
    "products_df= pd.read_csv('olist_products_dataset.csv')\n",
    "sellers_df= pd.read_csv('olist_sellers_dataset.csv')\n",
    "category_translation_df= pd.read_csv('product_category_name_translation.csv')"
   ]
  },
  {
   "cell_type": "markdown",
   "id": "068769a1",
   "metadata": {
    "papermill": {
     "duration": 0.0528,
     "end_time": "2023-04-11T03:53:02.673645",
     "exception": false,
     "start_time": "2023-04-11T03:53:02.620845",
     "status": "completed"
    },
    "tags": []
   },
   "source": [
    "### \"Customers\" Dataset"
   ]
  },
  {
   "cell_type": "code",
   "execution_count": 3,
   "id": "ff61d3cb",
   "metadata": {
    "execution": {
     "iopub.execute_input": "2023-04-11T03:53:02.783441Z",
     "iopub.status.busy": "2023-04-11T03:53:02.783086Z",
     "iopub.status.idle": "2023-04-11T03:53:02.808184Z",
     "shell.execute_reply": "2023-04-11T03:53:02.807198Z"
    },
    "papermill": {
     "duration": 0.081486,
     "end_time": "2023-04-11T03:53:02.810488",
     "exception": false,
     "start_time": "2023-04-11T03:53:02.729002",
     "status": "completed"
    },
    "tags": []
   },
   "outputs": [
    {
     "data": {
      "text/html": [
       "<div>\n",
       "<style scoped>\n",
       "    .dataframe tbody tr th:only-of-type {\n",
       "        vertical-align: middle;\n",
       "    }\n",
       "\n",
       "    .dataframe tbody tr th {\n",
       "        vertical-align: top;\n",
       "    }\n",
       "\n",
       "    .dataframe thead th {\n",
       "        text-align: right;\n",
       "    }\n",
       "</style>\n",
       "<table border=\"1\" class=\"dataframe\">\n",
       "  <thead>\n",
       "    <tr style=\"text-align: right;\">\n",
       "      <th></th>\n",
       "      <th>customer_id</th>\n",
       "      <th>customer_unique_id</th>\n",
       "      <th>customer_zip_code_prefix</th>\n",
       "      <th>customer_city</th>\n",
       "      <th>customer_state</th>\n",
       "    </tr>\n",
       "  </thead>\n",
       "  <tbody>\n",
       "    <tr>\n",
       "      <th>0</th>\n",
       "      <td>06b8999e2fba1a1fbc88172c00ba8bc7</td>\n",
       "      <td>861eff4711a542e4b93843c6dd7febb0</td>\n",
       "      <td>14409</td>\n",
       "      <td>franca</td>\n",
       "      <td>SP</td>\n",
       "    </tr>\n",
       "    <tr>\n",
       "      <th>1</th>\n",
       "      <td>18955e83d337fd6b2def6b18a428ac77</td>\n",
       "      <td>290c77bc529b7ac935b93aa66c333dc3</td>\n",
       "      <td>9790</td>\n",
       "      <td>sao bernardo do campo</td>\n",
       "      <td>SP</td>\n",
       "    </tr>\n",
       "    <tr>\n",
       "      <th>2</th>\n",
       "      <td>4e7b3e00288586ebd08712fdd0374a03</td>\n",
       "      <td>060e732b5b29e8181a18229c7b0b2b5e</td>\n",
       "      <td>1151</td>\n",
       "      <td>sao paulo</td>\n",
       "      <td>SP</td>\n",
       "    </tr>\n",
       "    <tr>\n",
       "      <th>3</th>\n",
       "      <td>b2b6027bc5c5109e529d4dc6358b12c3</td>\n",
       "      <td>259dac757896d24d7702b9acbbff3f3c</td>\n",
       "      <td>8775</td>\n",
       "      <td>mogi das cruzes</td>\n",
       "      <td>SP</td>\n",
       "    </tr>\n",
       "    <tr>\n",
       "      <th>4</th>\n",
       "      <td>4f2d8ab171c80ec8364f7c12e35b23ad</td>\n",
       "      <td>345ecd01c38d18a9036ed96c73b8d066</td>\n",
       "      <td>13056</td>\n",
       "      <td>campinas</td>\n",
       "      <td>SP</td>\n",
       "    </tr>\n",
       "  </tbody>\n",
       "</table>\n",
       "</div>"
      ],
      "text/plain": [
       "                        customer_id                customer_unique_id  \\\n",
       "0  06b8999e2fba1a1fbc88172c00ba8bc7  861eff4711a542e4b93843c6dd7febb0   \n",
       "1  18955e83d337fd6b2def6b18a428ac77  290c77bc529b7ac935b93aa66c333dc3   \n",
       "2  4e7b3e00288586ebd08712fdd0374a03  060e732b5b29e8181a18229c7b0b2b5e   \n",
       "3  b2b6027bc5c5109e529d4dc6358b12c3  259dac757896d24d7702b9acbbff3f3c   \n",
       "4  4f2d8ab171c80ec8364f7c12e35b23ad  345ecd01c38d18a9036ed96c73b8d066   \n",
       "\n",
       "   customer_zip_code_prefix          customer_city customer_state  \n",
       "0                     14409                 franca             SP  \n",
       "1                      9790  sao bernardo do campo             SP  \n",
       "2                      1151              sao paulo             SP  \n",
       "3                      8775        mogi das cruzes             SP  \n",
       "4                     13056               campinas             SP  "
      ]
     },
     "execution_count": 3,
     "metadata": {},
     "output_type": "execute_result"
    }
   ],
   "source": [
    "customers_df.head()"
   ]
  },
  {
   "cell_type": "markdown",
   "id": "83a41dbe",
   "metadata": {
    "papermill": {
     "duration": 0.052402,
     "end_time": "2023-04-11T03:53:02.915984",
     "exception": false,
     "start_time": "2023-04-11T03:53:02.863582",
     "status": "completed"
    },
    "tags": []
   },
   "source": [
    "### \"Geolocation\" Dataset"
   ]
  },
  {
   "cell_type": "code",
   "execution_count": 4,
   "id": "193f9f68",
   "metadata": {
    "execution": {
     "iopub.execute_input": "2023-04-11T03:53:03.022797Z",
     "iopub.status.busy": "2023-04-11T03:53:03.022426Z",
     "iopub.status.idle": "2023-04-11T03:53:03.033876Z",
     "shell.execute_reply": "2023-04-11T03:53:03.032890Z"
    },
    "papermill": {
     "duration": 0.068107,
     "end_time": "2023-04-11T03:53:03.035945",
     "exception": false,
     "start_time": "2023-04-11T03:53:02.967838",
     "status": "completed"
    },
    "tags": []
   },
   "outputs": [
    {
     "data": {
      "text/html": [
       "<div>\n",
       "<style scoped>\n",
       "    .dataframe tbody tr th:only-of-type {\n",
       "        vertical-align: middle;\n",
       "    }\n",
       "\n",
       "    .dataframe tbody tr th {\n",
       "        vertical-align: top;\n",
       "    }\n",
       "\n",
       "    .dataframe thead th {\n",
       "        text-align: right;\n",
       "    }\n",
       "</style>\n",
       "<table border=\"1\" class=\"dataframe\">\n",
       "  <thead>\n",
       "    <tr style=\"text-align: right;\">\n",
       "      <th></th>\n",
       "      <th>geolocation_zip_code_prefix</th>\n",
       "      <th>geolocation_lat</th>\n",
       "      <th>geolocation_lng</th>\n",
       "      <th>geolocation_city</th>\n",
       "      <th>geolocation_state</th>\n",
       "    </tr>\n",
       "  </thead>\n",
       "  <tbody>\n",
       "    <tr>\n",
       "      <th>0</th>\n",
       "      <td>1037</td>\n",
       "      <td>-23.545621</td>\n",
       "      <td>-46.639292</td>\n",
       "      <td>sao paulo</td>\n",
       "      <td>SP</td>\n",
       "    </tr>\n",
       "    <tr>\n",
       "      <th>1</th>\n",
       "      <td>1046</td>\n",
       "      <td>-23.546081</td>\n",
       "      <td>-46.644820</td>\n",
       "      <td>sao paulo</td>\n",
       "      <td>SP</td>\n",
       "    </tr>\n",
       "    <tr>\n",
       "      <th>2</th>\n",
       "      <td>1046</td>\n",
       "      <td>-23.546129</td>\n",
       "      <td>-46.642951</td>\n",
       "      <td>sao paulo</td>\n",
       "      <td>SP</td>\n",
       "    </tr>\n",
       "    <tr>\n",
       "      <th>3</th>\n",
       "      <td>1041</td>\n",
       "      <td>-23.544392</td>\n",
       "      <td>-46.639499</td>\n",
       "      <td>sao paulo</td>\n",
       "      <td>SP</td>\n",
       "    </tr>\n",
       "    <tr>\n",
       "      <th>4</th>\n",
       "      <td>1035</td>\n",
       "      <td>-23.541578</td>\n",
       "      <td>-46.641607</td>\n",
       "      <td>sao paulo</td>\n",
       "      <td>SP</td>\n",
       "    </tr>\n",
       "  </tbody>\n",
       "</table>\n",
       "</div>"
      ],
      "text/plain": [
       "   geolocation_zip_code_prefix  geolocation_lat  geolocation_lng  \\\n",
       "0                         1037       -23.545621       -46.639292   \n",
       "1                         1046       -23.546081       -46.644820   \n",
       "2                         1046       -23.546129       -46.642951   \n",
       "3                         1041       -23.544392       -46.639499   \n",
       "4                         1035       -23.541578       -46.641607   \n",
       "\n",
       "  geolocation_city geolocation_state  \n",
       "0        sao paulo                SP  \n",
       "1        sao paulo                SP  \n",
       "2        sao paulo                SP  \n",
       "3        sao paulo                SP  \n",
       "4        sao paulo                SP  "
      ]
     },
     "execution_count": 4,
     "metadata": {},
     "output_type": "execute_result"
    }
   ],
   "source": [
    "geolocation_df.head()"
   ]
  },
  {
   "cell_type": "markdown",
   "id": "89295f11",
   "metadata": {
    "papermill": {
     "duration": 0.051551,
     "end_time": "2023-04-11T03:53:03.140035",
     "exception": false,
     "start_time": "2023-04-11T03:53:03.088484",
     "status": "completed"
    },
    "tags": []
   },
   "source": [
    "### \"Order items\" Dataset"
   ]
  },
  {
   "cell_type": "code",
   "execution_count": 5,
   "id": "5f1904ed",
   "metadata": {
    "execution": {
     "iopub.execute_input": "2023-04-11T03:53:03.249032Z",
     "iopub.status.busy": "2023-04-11T03:53:03.248630Z",
     "iopub.status.idle": "2023-04-11T03:53:03.262914Z",
     "shell.execute_reply": "2023-04-11T03:53:03.261905Z"
    },
    "papermill": {
     "duration": 0.071989,
     "end_time": "2023-04-11T03:53:03.265120",
     "exception": false,
     "start_time": "2023-04-11T03:53:03.193131",
     "status": "completed"
    },
    "tags": []
   },
   "outputs": [
    {
     "data": {
      "text/html": [
       "<div>\n",
       "<style scoped>\n",
       "    .dataframe tbody tr th:only-of-type {\n",
       "        vertical-align: middle;\n",
       "    }\n",
       "\n",
       "    .dataframe tbody tr th {\n",
       "        vertical-align: top;\n",
       "    }\n",
       "\n",
       "    .dataframe thead th {\n",
       "        text-align: right;\n",
       "    }\n",
       "</style>\n",
       "<table border=\"1\" class=\"dataframe\">\n",
       "  <thead>\n",
       "    <tr style=\"text-align: right;\">\n",
       "      <th></th>\n",
       "      <th>order_id</th>\n",
       "      <th>order_item_id</th>\n",
       "      <th>product_id</th>\n",
       "      <th>seller_id</th>\n",
       "      <th>shipping_limit_date</th>\n",
       "      <th>price</th>\n",
       "      <th>freight_value</th>\n",
       "    </tr>\n",
       "  </thead>\n",
       "  <tbody>\n",
       "    <tr>\n",
       "      <th>0</th>\n",
       "      <td>00010242fe8c5a6d1ba2dd792cb16214</td>\n",
       "      <td>1</td>\n",
       "      <td>4244733e06e7ecb4970a6e2683c13e61</td>\n",
       "      <td>48436dade18ac8b2bce089ec2a041202</td>\n",
       "      <td>2017-09-19 09:45:35</td>\n",
       "      <td>58.90</td>\n",
       "      <td>13.29</td>\n",
       "    </tr>\n",
       "    <tr>\n",
       "      <th>1</th>\n",
       "      <td>00018f77f2f0320c557190d7a144bdd3</td>\n",
       "      <td>1</td>\n",
       "      <td>e5f2d52b802189ee658865ca93d83a8f</td>\n",
       "      <td>dd7ddc04e1b6c2c614352b383efe2d36</td>\n",
       "      <td>2017-05-03 11:05:13</td>\n",
       "      <td>239.90</td>\n",
       "      <td>19.93</td>\n",
       "    </tr>\n",
       "    <tr>\n",
       "      <th>2</th>\n",
       "      <td>000229ec398224ef6ca0657da4fc703e</td>\n",
       "      <td>1</td>\n",
       "      <td>c777355d18b72b67abbeef9df44fd0fd</td>\n",
       "      <td>5b51032eddd242adc84c38acab88f23d</td>\n",
       "      <td>2018-01-18 14:48:30</td>\n",
       "      <td>199.00</td>\n",
       "      <td>17.87</td>\n",
       "    </tr>\n",
       "    <tr>\n",
       "      <th>3</th>\n",
       "      <td>00024acbcdf0a6daa1e931b038114c75</td>\n",
       "      <td>1</td>\n",
       "      <td>7634da152a4610f1595efa32f14722fc</td>\n",
       "      <td>9d7a1d34a5052409006425275ba1c2b4</td>\n",
       "      <td>2018-08-15 10:10:18</td>\n",
       "      <td>12.99</td>\n",
       "      <td>12.79</td>\n",
       "    </tr>\n",
       "    <tr>\n",
       "      <th>4</th>\n",
       "      <td>00042b26cf59d7ce69dfabb4e55b4fd9</td>\n",
       "      <td>1</td>\n",
       "      <td>ac6c3623068f30de03045865e4e10089</td>\n",
       "      <td>df560393f3a51e74553ab94004ba5c87</td>\n",
       "      <td>2017-02-13 13:57:51</td>\n",
       "      <td>199.90</td>\n",
       "      <td>18.14</td>\n",
       "    </tr>\n",
       "  </tbody>\n",
       "</table>\n",
       "</div>"
      ],
      "text/plain": [
       "                           order_id  order_item_id  \\\n",
       "0  00010242fe8c5a6d1ba2dd792cb16214              1   \n",
       "1  00018f77f2f0320c557190d7a144bdd3              1   \n",
       "2  000229ec398224ef6ca0657da4fc703e              1   \n",
       "3  00024acbcdf0a6daa1e931b038114c75              1   \n",
       "4  00042b26cf59d7ce69dfabb4e55b4fd9              1   \n",
       "\n",
       "                         product_id                         seller_id  \\\n",
       "0  4244733e06e7ecb4970a6e2683c13e61  48436dade18ac8b2bce089ec2a041202   \n",
       "1  e5f2d52b802189ee658865ca93d83a8f  dd7ddc04e1b6c2c614352b383efe2d36   \n",
       "2  c777355d18b72b67abbeef9df44fd0fd  5b51032eddd242adc84c38acab88f23d   \n",
       "3  7634da152a4610f1595efa32f14722fc  9d7a1d34a5052409006425275ba1c2b4   \n",
       "4  ac6c3623068f30de03045865e4e10089  df560393f3a51e74553ab94004ba5c87   \n",
       "\n",
       "   shipping_limit_date   price  freight_value  \n",
       "0  2017-09-19 09:45:35   58.90          13.29  \n",
       "1  2017-05-03 11:05:13  239.90          19.93  \n",
       "2  2018-01-18 14:48:30  199.00          17.87  \n",
       "3  2018-08-15 10:10:18   12.99          12.79  \n",
       "4  2017-02-13 13:57:51  199.90          18.14  "
      ]
     },
     "execution_count": 5,
     "metadata": {},
     "output_type": "execute_result"
    }
   ],
   "source": [
    "items_df.head()"
   ]
  },
  {
   "cell_type": "markdown",
   "id": "b9ce79e9",
   "metadata": {
    "papermill": {
     "duration": 0.052486,
     "end_time": "2023-04-11T03:53:03.370835",
     "exception": false,
     "start_time": "2023-04-11T03:53:03.318349",
     "status": "completed"
    },
    "tags": []
   },
   "source": [
    "### \"Order Payments\" Dataset"
   ]
  },
  {
   "cell_type": "code",
   "execution_count": 6,
   "id": "b0c3105d",
   "metadata": {
    "execution": {
     "iopub.execute_input": "2023-04-11T03:53:03.480166Z",
     "iopub.status.busy": "2023-04-11T03:53:03.479822Z",
     "iopub.status.idle": "2023-04-11T03:53:03.490302Z",
     "shell.execute_reply": "2023-04-11T03:53:03.489456Z"
    },
    "papermill": {
     "duration": 0.067818,
     "end_time": "2023-04-11T03:53:03.491961",
     "exception": false,
     "start_time": "2023-04-11T03:53:03.424143",
     "status": "completed"
    },
    "tags": []
   },
   "outputs": [
    {
     "data": {
      "text/html": [
       "<div>\n",
       "<style scoped>\n",
       "    .dataframe tbody tr th:only-of-type {\n",
       "        vertical-align: middle;\n",
       "    }\n",
       "\n",
       "    .dataframe tbody tr th {\n",
       "        vertical-align: top;\n",
       "    }\n",
       "\n",
       "    .dataframe thead th {\n",
       "        text-align: right;\n",
       "    }\n",
       "</style>\n",
       "<table border=\"1\" class=\"dataframe\">\n",
       "  <thead>\n",
       "    <tr style=\"text-align: right;\">\n",
       "      <th></th>\n",
       "      <th>order_id</th>\n",
       "      <th>payment_sequential</th>\n",
       "      <th>payment_type</th>\n",
       "      <th>payment_installments</th>\n",
       "      <th>payment_value</th>\n",
       "    </tr>\n",
       "  </thead>\n",
       "  <tbody>\n",
       "    <tr>\n",
       "      <th>0</th>\n",
       "      <td>b81ef226f3fe1789b1e8b2acac839d17</td>\n",
       "      <td>1</td>\n",
       "      <td>credit_card</td>\n",
       "      <td>8</td>\n",
       "      <td>99.33</td>\n",
       "    </tr>\n",
       "    <tr>\n",
       "      <th>1</th>\n",
       "      <td>a9810da82917af2d9aefd1278f1dcfa0</td>\n",
       "      <td>1</td>\n",
       "      <td>credit_card</td>\n",
       "      <td>1</td>\n",
       "      <td>24.39</td>\n",
       "    </tr>\n",
       "    <tr>\n",
       "      <th>2</th>\n",
       "      <td>25e8ea4e93396b6fa0d3dd708e76c1bd</td>\n",
       "      <td>1</td>\n",
       "      <td>credit_card</td>\n",
       "      <td>1</td>\n",
       "      <td>65.71</td>\n",
       "    </tr>\n",
       "    <tr>\n",
       "      <th>3</th>\n",
       "      <td>ba78997921bbcdc1373bb41e913ab953</td>\n",
       "      <td>1</td>\n",
       "      <td>credit_card</td>\n",
       "      <td>8</td>\n",
       "      <td>107.78</td>\n",
       "    </tr>\n",
       "    <tr>\n",
       "      <th>4</th>\n",
       "      <td>42fdf880ba16b47b59251dd489d4441a</td>\n",
       "      <td>1</td>\n",
       "      <td>credit_card</td>\n",
       "      <td>2</td>\n",
       "      <td>128.45</td>\n",
       "    </tr>\n",
       "  </tbody>\n",
       "</table>\n",
       "</div>"
      ],
      "text/plain": [
       "                           order_id  payment_sequential payment_type  \\\n",
       "0  b81ef226f3fe1789b1e8b2acac839d17                   1  credit_card   \n",
       "1  a9810da82917af2d9aefd1278f1dcfa0                   1  credit_card   \n",
       "2  25e8ea4e93396b6fa0d3dd708e76c1bd                   1  credit_card   \n",
       "3  ba78997921bbcdc1373bb41e913ab953                   1  credit_card   \n",
       "4  42fdf880ba16b47b59251dd489d4441a                   1  credit_card   \n",
       "\n",
       "   payment_installments  payment_value  \n",
       "0                     8          99.33  \n",
       "1                     1          24.39  \n",
       "2                     1          65.71  \n",
       "3                     8         107.78  \n",
       "4                     2         128.45  "
      ]
     },
     "execution_count": 6,
     "metadata": {},
     "output_type": "execute_result"
    }
   ],
   "source": [
    "payments_df.head()"
   ]
  },
  {
   "cell_type": "markdown",
   "id": "1ab021bd",
   "metadata": {
    "papermill": {
     "duration": 0.05265,
     "end_time": "2023-04-11T03:53:03.597617",
     "exception": false,
     "start_time": "2023-04-11T03:53:03.544967",
     "status": "completed"
    },
    "tags": []
   },
   "source": [
    "### \"Order Reviews\" Dataset"
   ]
  },
  {
   "cell_type": "code",
   "execution_count": 7,
   "id": "c5ff57bd",
   "metadata": {
    "execution": {
     "iopub.execute_input": "2023-04-11T03:53:03.705679Z",
     "iopub.status.busy": "2023-04-11T03:53:03.705323Z",
     "iopub.status.idle": "2023-04-11T03:53:03.717048Z",
     "shell.execute_reply": "2023-04-11T03:53:03.716176Z"
    },
    "papermill": {
     "duration": 0.069168,
     "end_time": "2023-04-11T03:53:03.718684",
     "exception": false,
     "start_time": "2023-04-11T03:53:03.649516",
     "status": "completed"
    },
    "tags": []
   },
   "outputs": [
    {
     "data": {
      "text/html": [
       "<div>\n",
       "<style scoped>\n",
       "    .dataframe tbody tr th:only-of-type {\n",
       "        vertical-align: middle;\n",
       "    }\n",
       "\n",
       "    .dataframe tbody tr th {\n",
       "        vertical-align: top;\n",
       "    }\n",
       "\n",
       "    .dataframe thead th {\n",
       "        text-align: right;\n",
       "    }\n",
       "</style>\n",
       "<table border=\"1\" class=\"dataframe\">\n",
       "  <thead>\n",
       "    <tr style=\"text-align: right;\">\n",
       "      <th></th>\n",
       "      <th>review_id</th>\n",
       "      <th>order_id</th>\n",
       "      <th>review_score</th>\n",
       "      <th>review_comment_title</th>\n",
       "      <th>review_comment_message</th>\n",
       "      <th>review_creation_date</th>\n",
       "      <th>review_answer_timestamp</th>\n",
       "    </tr>\n",
       "  </thead>\n",
       "  <tbody>\n",
       "    <tr>\n",
       "      <th>0</th>\n",
       "      <td>7bc2406110b926393aa56f80a40eba40</td>\n",
       "      <td>73fc7af87114b39712e6da79b0a377eb</td>\n",
       "      <td>4</td>\n",
       "      <td>NaN</td>\n",
       "      <td>NaN</td>\n",
       "      <td>2018-01-18 00:00:00</td>\n",
       "      <td>2018-01-18 21:46:59</td>\n",
       "    </tr>\n",
       "    <tr>\n",
       "      <th>1</th>\n",
       "      <td>80e641a11e56f04c1ad469d5645fdfde</td>\n",
       "      <td>a548910a1c6147796b98fdf73dbeba33</td>\n",
       "      <td>5</td>\n",
       "      <td>NaN</td>\n",
       "      <td>NaN</td>\n",
       "      <td>2018-03-10 00:00:00</td>\n",
       "      <td>2018-03-11 03:05:13</td>\n",
       "    </tr>\n",
       "    <tr>\n",
       "      <th>2</th>\n",
       "      <td>228ce5500dc1d8e020d8d1322874b6f0</td>\n",
       "      <td>f9e4b658b201a9f2ecdecbb34bed034b</td>\n",
       "      <td>5</td>\n",
       "      <td>NaN</td>\n",
       "      <td>NaN</td>\n",
       "      <td>2018-02-17 00:00:00</td>\n",
       "      <td>2018-02-18 14:36:24</td>\n",
       "    </tr>\n",
       "    <tr>\n",
       "      <th>3</th>\n",
       "      <td>e64fb393e7b32834bb789ff8bb30750e</td>\n",
       "      <td>658677c97b385a9be170737859d3511b</td>\n",
       "      <td>5</td>\n",
       "      <td>NaN</td>\n",
       "      <td>Recebi bem antes do prazo estipulado.</td>\n",
       "      <td>2017-04-21 00:00:00</td>\n",
       "      <td>2017-04-21 22:02:06</td>\n",
       "    </tr>\n",
       "    <tr>\n",
       "      <th>4</th>\n",
       "      <td>f7c4243c7fe1938f181bec41a392bdeb</td>\n",
       "      <td>8e6bfb81e283fa7e4f11123a3fb894f1</td>\n",
       "      <td>5</td>\n",
       "      <td>NaN</td>\n",
       "      <td>Parabéns lojas lannister adorei comprar pela I...</td>\n",
       "      <td>2018-03-01 00:00:00</td>\n",
       "      <td>2018-03-02 10:26:53</td>\n",
       "    </tr>\n",
       "  </tbody>\n",
       "</table>\n",
       "</div>"
      ],
      "text/plain": [
       "                          review_id                          order_id  \\\n",
       "0  7bc2406110b926393aa56f80a40eba40  73fc7af87114b39712e6da79b0a377eb   \n",
       "1  80e641a11e56f04c1ad469d5645fdfde  a548910a1c6147796b98fdf73dbeba33   \n",
       "2  228ce5500dc1d8e020d8d1322874b6f0  f9e4b658b201a9f2ecdecbb34bed034b   \n",
       "3  e64fb393e7b32834bb789ff8bb30750e  658677c97b385a9be170737859d3511b   \n",
       "4  f7c4243c7fe1938f181bec41a392bdeb  8e6bfb81e283fa7e4f11123a3fb894f1   \n",
       "\n",
       "   review_score review_comment_title  \\\n",
       "0             4                  NaN   \n",
       "1             5                  NaN   \n",
       "2             5                  NaN   \n",
       "3             5                  NaN   \n",
       "4             5                  NaN   \n",
       "\n",
       "                              review_comment_message review_creation_date  \\\n",
       "0                                                NaN  2018-01-18 00:00:00   \n",
       "1                                                NaN  2018-03-10 00:00:00   \n",
       "2                                                NaN  2018-02-17 00:00:00   \n",
       "3              Recebi bem antes do prazo estipulado.  2017-04-21 00:00:00   \n",
       "4  Parabéns lojas lannister adorei comprar pela I...  2018-03-01 00:00:00   \n",
       "\n",
       "  review_answer_timestamp  \n",
       "0     2018-01-18 21:46:59  \n",
       "1     2018-03-11 03:05:13  \n",
       "2     2018-02-18 14:36:24  \n",
       "3     2017-04-21 22:02:06  \n",
       "4     2018-03-02 10:26:53  "
      ]
     },
     "execution_count": 7,
     "metadata": {},
     "output_type": "execute_result"
    }
   ],
   "source": [
    "reviews_df.head()"
   ]
  },
  {
   "cell_type": "markdown",
   "id": "dff6b490",
   "metadata": {
    "papermill": {
     "duration": 0.053473,
     "end_time": "2023-04-11T03:53:03.826041",
     "exception": false,
     "start_time": "2023-04-11T03:53:03.772568",
     "status": "completed"
    },
    "tags": []
   },
   "source": [
    "### \"Orders\" Dataset"
   ]
  },
  {
   "cell_type": "code",
   "execution_count": 8,
   "id": "03e346ce",
   "metadata": {
    "execution": {
     "iopub.execute_input": "2023-04-11T03:53:03.933181Z",
     "iopub.status.busy": "2023-04-11T03:53:03.932778Z",
     "iopub.status.idle": "2023-04-11T03:53:03.944628Z",
     "shell.execute_reply": "2023-04-11T03:53:03.944008Z"
    },
    "papermill": {
     "duration": 0.067168,
     "end_time": "2023-04-11T03:53:03.946166",
     "exception": false,
     "start_time": "2023-04-11T03:53:03.878998",
     "status": "completed"
    },
    "tags": []
   },
   "outputs": [
    {
     "data": {
      "text/html": [
       "<div>\n",
       "<style scoped>\n",
       "    .dataframe tbody tr th:only-of-type {\n",
       "        vertical-align: middle;\n",
       "    }\n",
       "\n",
       "    .dataframe tbody tr th {\n",
       "        vertical-align: top;\n",
       "    }\n",
       "\n",
       "    .dataframe thead th {\n",
       "        text-align: right;\n",
       "    }\n",
       "</style>\n",
       "<table border=\"1\" class=\"dataframe\">\n",
       "  <thead>\n",
       "    <tr style=\"text-align: right;\">\n",
       "      <th></th>\n",
       "      <th>order_id</th>\n",
       "      <th>customer_id</th>\n",
       "      <th>order_status</th>\n",
       "      <th>order_purchase_timestamp</th>\n",
       "      <th>order_approved_at</th>\n",
       "      <th>order_delivered_carrier_date</th>\n",
       "      <th>order_delivered_customer_date</th>\n",
       "      <th>order_estimated_delivery_date</th>\n",
       "    </tr>\n",
       "  </thead>\n",
       "  <tbody>\n",
       "    <tr>\n",
       "      <th>0</th>\n",
       "      <td>e481f51cbdc54678b7cc49136f2d6af7</td>\n",
       "      <td>9ef432eb6251297304e76186b10a928d</td>\n",
       "      <td>delivered</td>\n",
       "      <td>2017-10-02 10:56:33</td>\n",
       "      <td>2017-10-02 11:07:15</td>\n",
       "      <td>2017-10-04 19:55:00</td>\n",
       "      <td>2017-10-10 21:25:13</td>\n",
       "      <td>2017-10-18 00:00:00</td>\n",
       "    </tr>\n",
       "    <tr>\n",
       "      <th>1</th>\n",
       "      <td>53cdb2fc8bc7dce0b6741e2150273451</td>\n",
       "      <td>b0830fb4747a6c6d20dea0b8c802d7ef</td>\n",
       "      <td>delivered</td>\n",
       "      <td>2018-07-24 20:41:37</td>\n",
       "      <td>2018-07-26 03:24:27</td>\n",
       "      <td>2018-07-26 14:31:00</td>\n",
       "      <td>2018-08-07 15:27:45</td>\n",
       "      <td>2018-08-13 00:00:00</td>\n",
       "    </tr>\n",
       "    <tr>\n",
       "      <th>2</th>\n",
       "      <td>47770eb9100c2d0c44946d9cf07ec65d</td>\n",
       "      <td>41ce2a54c0b03bf3443c3d931a367089</td>\n",
       "      <td>delivered</td>\n",
       "      <td>2018-08-08 08:38:49</td>\n",
       "      <td>2018-08-08 08:55:23</td>\n",
       "      <td>2018-08-08 13:50:00</td>\n",
       "      <td>2018-08-17 18:06:29</td>\n",
       "      <td>2018-09-04 00:00:00</td>\n",
       "    </tr>\n",
       "    <tr>\n",
       "      <th>3</th>\n",
       "      <td>949d5b44dbf5de918fe9c16f97b45f8a</td>\n",
       "      <td>f88197465ea7920adcdbec7375364d82</td>\n",
       "      <td>delivered</td>\n",
       "      <td>2017-11-18 19:28:06</td>\n",
       "      <td>2017-11-18 19:45:59</td>\n",
       "      <td>2017-11-22 13:39:59</td>\n",
       "      <td>2017-12-02 00:28:42</td>\n",
       "      <td>2017-12-15 00:00:00</td>\n",
       "    </tr>\n",
       "    <tr>\n",
       "      <th>4</th>\n",
       "      <td>ad21c59c0840e6cb83a9ceb5573f8159</td>\n",
       "      <td>8ab97904e6daea8866dbdbc4fb7aad2c</td>\n",
       "      <td>delivered</td>\n",
       "      <td>2018-02-13 21:18:39</td>\n",
       "      <td>2018-02-13 22:20:29</td>\n",
       "      <td>2018-02-14 19:46:34</td>\n",
       "      <td>2018-02-16 18:17:02</td>\n",
       "      <td>2018-02-26 00:00:00</td>\n",
       "    </tr>\n",
       "  </tbody>\n",
       "</table>\n",
       "</div>"
      ],
      "text/plain": [
       "                           order_id                       customer_id  \\\n",
       "0  e481f51cbdc54678b7cc49136f2d6af7  9ef432eb6251297304e76186b10a928d   \n",
       "1  53cdb2fc8bc7dce0b6741e2150273451  b0830fb4747a6c6d20dea0b8c802d7ef   \n",
       "2  47770eb9100c2d0c44946d9cf07ec65d  41ce2a54c0b03bf3443c3d931a367089   \n",
       "3  949d5b44dbf5de918fe9c16f97b45f8a  f88197465ea7920adcdbec7375364d82   \n",
       "4  ad21c59c0840e6cb83a9ceb5573f8159  8ab97904e6daea8866dbdbc4fb7aad2c   \n",
       "\n",
       "  order_status order_purchase_timestamp    order_approved_at  \\\n",
       "0    delivered      2017-10-02 10:56:33  2017-10-02 11:07:15   \n",
       "1    delivered      2018-07-24 20:41:37  2018-07-26 03:24:27   \n",
       "2    delivered      2018-08-08 08:38:49  2018-08-08 08:55:23   \n",
       "3    delivered      2017-11-18 19:28:06  2017-11-18 19:45:59   \n",
       "4    delivered      2018-02-13 21:18:39  2018-02-13 22:20:29   \n",
       "\n",
       "  order_delivered_carrier_date order_delivered_customer_date  \\\n",
       "0          2017-10-04 19:55:00           2017-10-10 21:25:13   \n",
       "1          2018-07-26 14:31:00           2018-08-07 15:27:45   \n",
       "2          2018-08-08 13:50:00           2018-08-17 18:06:29   \n",
       "3          2017-11-22 13:39:59           2017-12-02 00:28:42   \n",
       "4          2018-02-14 19:46:34           2018-02-16 18:17:02   \n",
       "\n",
       "  order_estimated_delivery_date  \n",
       "0           2017-10-18 00:00:00  \n",
       "1           2018-08-13 00:00:00  \n",
       "2           2018-09-04 00:00:00  \n",
       "3           2017-12-15 00:00:00  \n",
       "4           2018-02-26 00:00:00  "
      ]
     },
     "execution_count": 8,
     "metadata": {},
     "output_type": "execute_result"
    }
   ],
   "source": [
    "orders_df.head()"
   ]
  },
  {
   "cell_type": "markdown",
   "id": "39858da8",
   "metadata": {
    "papermill": {
     "duration": 0.053092,
     "end_time": "2023-04-11T03:53:04.052365",
     "exception": false,
     "start_time": "2023-04-11T03:53:03.999273",
     "status": "completed"
    },
    "tags": []
   },
   "source": [
    "### \"Products\" Dataset"
   ]
  },
  {
   "cell_type": "code",
   "execution_count": 9,
   "id": "f9afc961",
   "metadata": {
    "execution": {
     "iopub.execute_input": "2023-04-11T03:53:04.163847Z",
     "iopub.status.busy": "2023-04-11T03:53:04.163448Z",
     "iopub.status.idle": "2023-04-11T03:53:04.177959Z",
     "shell.execute_reply": "2023-04-11T03:53:04.177272Z"
    },
    "papermill": {
     "duration": 0.072112,
     "end_time": "2023-04-11T03:53:04.179596",
     "exception": false,
     "start_time": "2023-04-11T03:53:04.107484",
     "status": "completed"
    },
    "tags": []
   },
   "outputs": [
    {
     "data": {
      "text/html": [
       "<div>\n",
       "<style scoped>\n",
       "    .dataframe tbody tr th:only-of-type {\n",
       "        vertical-align: middle;\n",
       "    }\n",
       "\n",
       "    .dataframe tbody tr th {\n",
       "        vertical-align: top;\n",
       "    }\n",
       "\n",
       "    .dataframe thead th {\n",
       "        text-align: right;\n",
       "    }\n",
       "</style>\n",
       "<table border=\"1\" class=\"dataframe\">\n",
       "  <thead>\n",
       "    <tr style=\"text-align: right;\">\n",
       "      <th></th>\n",
       "      <th>product_id</th>\n",
       "      <th>product_category_name</th>\n",
       "      <th>product_name_lenght</th>\n",
       "      <th>product_description_lenght</th>\n",
       "      <th>product_photos_qty</th>\n",
       "      <th>product_weight_g</th>\n",
       "      <th>product_length_cm</th>\n",
       "      <th>product_height_cm</th>\n",
       "      <th>product_width_cm</th>\n",
       "    </tr>\n",
       "  </thead>\n",
       "  <tbody>\n",
       "    <tr>\n",
       "      <th>0</th>\n",
       "      <td>1e9e8ef04dbcff4541ed26657ea517e5</td>\n",
       "      <td>perfumaria</td>\n",
       "      <td>40.0</td>\n",
       "      <td>287.0</td>\n",
       "      <td>1.0</td>\n",
       "      <td>225.0</td>\n",
       "      <td>16.0</td>\n",
       "      <td>10.0</td>\n",
       "      <td>14.0</td>\n",
       "    </tr>\n",
       "    <tr>\n",
       "      <th>1</th>\n",
       "      <td>3aa071139cb16b67ca9e5dea641aaa2f</td>\n",
       "      <td>artes</td>\n",
       "      <td>44.0</td>\n",
       "      <td>276.0</td>\n",
       "      <td>1.0</td>\n",
       "      <td>1000.0</td>\n",
       "      <td>30.0</td>\n",
       "      <td>18.0</td>\n",
       "      <td>20.0</td>\n",
       "    </tr>\n",
       "    <tr>\n",
       "      <th>2</th>\n",
       "      <td>96bd76ec8810374ed1b65e291975717f</td>\n",
       "      <td>esporte_lazer</td>\n",
       "      <td>46.0</td>\n",
       "      <td>250.0</td>\n",
       "      <td>1.0</td>\n",
       "      <td>154.0</td>\n",
       "      <td>18.0</td>\n",
       "      <td>9.0</td>\n",
       "      <td>15.0</td>\n",
       "    </tr>\n",
       "    <tr>\n",
       "      <th>3</th>\n",
       "      <td>cef67bcfe19066a932b7673e239eb23d</td>\n",
       "      <td>bebes</td>\n",
       "      <td>27.0</td>\n",
       "      <td>261.0</td>\n",
       "      <td>1.0</td>\n",
       "      <td>371.0</td>\n",
       "      <td>26.0</td>\n",
       "      <td>4.0</td>\n",
       "      <td>26.0</td>\n",
       "    </tr>\n",
       "    <tr>\n",
       "      <th>4</th>\n",
       "      <td>9dc1a7de274444849c219cff195d0b71</td>\n",
       "      <td>utilidades_domesticas</td>\n",
       "      <td>37.0</td>\n",
       "      <td>402.0</td>\n",
       "      <td>4.0</td>\n",
       "      <td>625.0</td>\n",
       "      <td>20.0</td>\n",
       "      <td>17.0</td>\n",
       "      <td>13.0</td>\n",
       "    </tr>\n",
       "  </tbody>\n",
       "</table>\n",
       "</div>"
      ],
      "text/plain": [
       "                         product_id  product_category_name  \\\n",
       "0  1e9e8ef04dbcff4541ed26657ea517e5             perfumaria   \n",
       "1  3aa071139cb16b67ca9e5dea641aaa2f                  artes   \n",
       "2  96bd76ec8810374ed1b65e291975717f          esporte_lazer   \n",
       "3  cef67bcfe19066a932b7673e239eb23d                  bebes   \n",
       "4  9dc1a7de274444849c219cff195d0b71  utilidades_domesticas   \n",
       "\n",
       "   product_name_lenght  product_description_lenght  product_photos_qty  \\\n",
       "0                 40.0                       287.0                 1.0   \n",
       "1                 44.0                       276.0                 1.0   \n",
       "2                 46.0                       250.0                 1.0   \n",
       "3                 27.0                       261.0                 1.0   \n",
       "4                 37.0                       402.0                 4.0   \n",
       "\n",
       "   product_weight_g  product_length_cm  product_height_cm  product_width_cm  \n",
       "0             225.0               16.0               10.0              14.0  \n",
       "1            1000.0               30.0               18.0              20.0  \n",
       "2             154.0               18.0                9.0              15.0  \n",
       "3             371.0               26.0                4.0              26.0  \n",
       "4             625.0               20.0               17.0              13.0  "
      ]
     },
     "execution_count": 9,
     "metadata": {},
     "output_type": "execute_result"
    }
   ],
   "source": [
    "products_df.head()"
   ]
  },
  {
   "cell_type": "markdown",
   "id": "875deeaf",
   "metadata": {
    "papermill": {
     "duration": 0.053839,
     "end_time": "2023-04-11T03:53:04.287688",
     "exception": false,
     "start_time": "2023-04-11T03:53:04.233849",
     "status": "completed"
    },
    "tags": []
   },
   "source": [
    "### \"Sellers\" Dataset"
   ]
  },
  {
   "cell_type": "code",
   "execution_count": 10,
   "id": "54ea0157",
   "metadata": {
    "execution": {
     "iopub.execute_input": "2023-04-11T03:53:04.397056Z",
     "iopub.status.busy": "2023-04-11T03:53:04.396325Z",
     "iopub.status.idle": "2023-04-11T03:53:04.406081Z",
     "shell.execute_reply": "2023-04-11T03:53:04.405217Z"
    },
    "papermill": {
     "duration": 0.066164,
     "end_time": "2023-04-11T03:53:04.407758",
     "exception": false,
     "start_time": "2023-04-11T03:53:04.341594",
     "status": "completed"
    },
    "tags": []
   },
   "outputs": [
    {
     "data": {
      "text/html": [
       "<div>\n",
       "<style scoped>\n",
       "    .dataframe tbody tr th:only-of-type {\n",
       "        vertical-align: middle;\n",
       "    }\n",
       "\n",
       "    .dataframe tbody tr th {\n",
       "        vertical-align: top;\n",
       "    }\n",
       "\n",
       "    .dataframe thead th {\n",
       "        text-align: right;\n",
       "    }\n",
       "</style>\n",
       "<table border=\"1\" class=\"dataframe\">\n",
       "  <thead>\n",
       "    <tr style=\"text-align: right;\">\n",
       "      <th></th>\n",
       "      <th>seller_id</th>\n",
       "      <th>seller_zip_code_prefix</th>\n",
       "      <th>seller_city</th>\n",
       "      <th>seller_state</th>\n",
       "    </tr>\n",
       "  </thead>\n",
       "  <tbody>\n",
       "    <tr>\n",
       "      <th>0</th>\n",
       "      <td>3442f8959a84dea7ee197c632cb2df15</td>\n",
       "      <td>13023</td>\n",
       "      <td>campinas</td>\n",
       "      <td>SP</td>\n",
       "    </tr>\n",
       "    <tr>\n",
       "      <th>1</th>\n",
       "      <td>d1b65fc7debc3361ea86b5f14c68d2e2</td>\n",
       "      <td>13844</td>\n",
       "      <td>mogi guacu</td>\n",
       "      <td>SP</td>\n",
       "    </tr>\n",
       "    <tr>\n",
       "      <th>2</th>\n",
       "      <td>ce3ad9de960102d0677a81f5d0bb7b2d</td>\n",
       "      <td>20031</td>\n",
       "      <td>rio de janeiro</td>\n",
       "      <td>RJ</td>\n",
       "    </tr>\n",
       "    <tr>\n",
       "      <th>3</th>\n",
       "      <td>c0f3eea2e14555b6faeea3dd58c1b1c3</td>\n",
       "      <td>4195</td>\n",
       "      <td>sao paulo</td>\n",
       "      <td>SP</td>\n",
       "    </tr>\n",
       "    <tr>\n",
       "      <th>4</th>\n",
       "      <td>51a04a8a6bdcb23deccc82b0b80742cf</td>\n",
       "      <td>12914</td>\n",
       "      <td>braganca paulista</td>\n",
       "      <td>SP</td>\n",
       "    </tr>\n",
       "  </tbody>\n",
       "</table>\n",
       "</div>"
      ],
      "text/plain": [
       "                          seller_id  seller_zip_code_prefix  \\\n",
       "0  3442f8959a84dea7ee197c632cb2df15                   13023   \n",
       "1  d1b65fc7debc3361ea86b5f14c68d2e2                   13844   \n",
       "2  ce3ad9de960102d0677a81f5d0bb7b2d                   20031   \n",
       "3  c0f3eea2e14555b6faeea3dd58c1b1c3                    4195   \n",
       "4  51a04a8a6bdcb23deccc82b0b80742cf                   12914   \n",
       "\n",
       "         seller_city seller_state  \n",
       "0           campinas           SP  \n",
       "1         mogi guacu           SP  \n",
       "2     rio de janeiro           RJ  \n",
       "3          sao paulo           SP  \n",
       "4  braganca paulista           SP  "
      ]
     },
     "execution_count": 10,
     "metadata": {},
     "output_type": "execute_result"
    }
   ],
   "source": [
    "sellers_df.head()"
   ]
  },
  {
   "cell_type": "markdown",
   "id": "e1fe50ff",
   "metadata": {
    "papermill": {
     "duration": 0.052602,
     "end_time": "2023-04-11T03:53:04.513931",
     "exception": false,
     "start_time": "2023-04-11T03:53:04.461329",
     "status": "completed"
    },
    "tags": []
   },
   "source": [
    "### \"Product Category Name Translation\" Dataset"
   ]
  },
  {
   "cell_type": "code",
   "execution_count": 11,
   "id": "937ebcd5",
   "metadata": {
    "execution": {
     "iopub.execute_input": "2023-04-11T03:53:04.625695Z",
     "iopub.status.busy": "2023-04-11T03:53:04.625315Z",
     "iopub.status.idle": "2023-04-11T03:53:04.635774Z",
     "shell.execute_reply": "2023-04-11T03:53:04.634729Z"
    },
    "papermill": {
     "duration": 0.069235,
     "end_time": "2023-04-11T03:53:04.637986",
     "exception": false,
     "start_time": "2023-04-11T03:53:04.568751",
     "status": "completed"
    },
    "tags": []
   },
   "outputs": [
    {
     "data": {
      "text/html": [
       "<div>\n",
       "<style scoped>\n",
       "    .dataframe tbody tr th:only-of-type {\n",
       "        vertical-align: middle;\n",
       "    }\n",
       "\n",
       "    .dataframe tbody tr th {\n",
       "        vertical-align: top;\n",
       "    }\n",
       "\n",
       "    .dataframe thead th {\n",
       "        text-align: right;\n",
       "    }\n",
       "</style>\n",
       "<table border=\"1\" class=\"dataframe\">\n",
       "  <thead>\n",
       "    <tr style=\"text-align: right;\">\n",
       "      <th></th>\n",
       "      <th>product_category_name</th>\n",
       "      <th>product_category_name_english</th>\n",
       "    </tr>\n",
       "  </thead>\n",
       "  <tbody>\n",
       "    <tr>\n",
       "      <th>0</th>\n",
       "      <td>beleza_saude</td>\n",
       "      <td>health_beauty</td>\n",
       "    </tr>\n",
       "    <tr>\n",
       "      <th>1</th>\n",
       "      <td>informatica_acessorios</td>\n",
       "      <td>computers_accessories</td>\n",
       "    </tr>\n",
       "    <tr>\n",
       "      <th>2</th>\n",
       "      <td>automotivo</td>\n",
       "      <td>auto</td>\n",
       "    </tr>\n",
       "    <tr>\n",
       "      <th>3</th>\n",
       "      <td>cama_mesa_banho</td>\n",
       "      <td>bed_bath_table</td>\n",
       "    </tr>\n",
       "    <tr>\n",
       "      <th>4</th>\n",
       "      <td>moveis_decoracao</td>\n",
       "      <td>furniture_decor</td>\n",
       "    </tr>\n",
       "  </tbody>\n",
       "</table>\n",
       "</div>"
      ],
      "text/plain": [
       "    product_category_name product_category_name_english\n",
       "0            beleza_saude                 health_beauty\n",
       "1  informatica_acessorios         computers_accessories\n",
       "2              automotivo                          auto\n",
       "3         cama_mesa_banho                bed_bath_table\n",
       "4        moveis_decoracao               furniture_decor"
      ]
     },
     "execution_count": 11,
     "metadata": {},
     "output_type": "execute_result"
    }
   ],
   "source": [
    "category_translation_df.head()"
   ]
  },
  {
   "cell_type": "markdown",
   "id": "ad7c3ee4",
   "metadata": {
    "papermill": {
     "duration": 0.055349,
     "end_time": "2023-04-11T03:53:04.749011",
     "exception": false,
     "start_time": "2023-04-11T03:53:04.693662",
     "status": "completed"
    },
    "tags": []
   },
   "source": [
    "# 3.0 Data Cleaning"
   ]
  },
  {
   "cell_type": "markdown",
   "id": "319a5ece",
   "metadata": {
    "papermill": {
     "duration": 0.054216,
     "end_time": "2023-04-11T03:53:04.859077",
     "exception": false,
     "start_time": "2023-04-11T03:53:04.804861",
     "status": "completed"
    },
    "tags": []
   },
   "source": [
    "### 3.1 Merging All Dataframes"
   ]
  },
  {
   "cell_type": "code",
   "execution_count": 12,
   "id": "19dd4915",
   "metadata": {
    "execution": {
     "iopub.execute_input": "2023-04-11T03:53:04.973219Z",
     "iopub.status.busy": "2023-04-11T03:53:04.972225Z",
     "iopub.status.idle": "2023-04-11T03:53:05.874083Z",
     "shell.execute_reply": "2023-04-11T03:53:05.873146Z"
    },
    "papermill": {
     "duration": 0.95951,
     "end_time": "2023-04-11T03:53:05.876021",
     "exception": false,
     "start_time": "2023-04-11T03:53:04.916511",
     "status": "completed"
    },
    "tags": []
   },
   "outputs": [
    {
     "data": {
      "text/plain": [
       "(115609, 40)"
      ]
     },
     "execution_count": 12,
     "metadata": {},
     "output_type": "execute_result"
    }
   ],
   "source": [
    "df= pd.merge(customers_df, orders_df, on=\"customer_id\", how='inner')\n",
    "df= df.merge(reviews_df, on=\"order_id\", how='inner')\n",
    "df= df.merge(items_df, on=\"order_id\", how='inner')\n",
    "df= df.merge(products_df, on=\"product_id\", how='inner')\n",
    "df= df.merge(payments_df, on=\"order_id\", how='inner')\n",
    "df= df.merge(sellers_df, on='seller_id', how='inner')\n",
    "df= df.merge(category_translation_df, on='product_category_name', how='inner')\n",
    "df.shape"
   ]
  },
  {
   "cell_type": "code",
   "execution_count": 14,
   "id": "c39c2b94",
   "metadata": {},
   "outputs": [],
   "source": [
    "df.to_parquet(\"olist_final.parquet\")"
   ]
  },
  {
   "cell_type": "markdown",
   "id": "2e2bb0f5",
   "metadata": {
    "papermill": {
     "duration": 0.056646,
     "end_time": "2023-04-11T03:53:05.986056",
     "exception": false,
     "start_time": "2023-04-11T03:53:05.929410",
     "status": "completed"
    },
    "tags": []
   },
   "source": [
    "### Show All Features"
   ]
  },
  {
   "cell_type": "code",
   "execution_count": null,
   "id": "09d4feb5",
   "metadata": {
    "execution": {
     "iopub.execute_input": "2023-04-11T03:53:06.096385Z",
     "iopub.status.busy": "2023-04-11T03:53:06.096076Z",
     "iopub.status.idle": "2023-04-11T03:53:06.103077Z",
     "shell.execute_reply": "2023-04-11T03:53:06.101584Z"
    },
    "papermill": {
     "duration": 0.064011,
     "end_time": "2023-04-11T03:53:06.105034",
     "exception": false,
     "start_time": "2023-04-11T03:53:06.041023",
     "status": "completed"
    },
    "tags": []
   },
   "outputs": [],
   "source": [
    "df.columns"
   ]
  },
  {
   "cell_type": "markdown",
   "id": "6c461dd5",
   "metadata": {
    "papermill": {
     "duration": 0.053637,
     "end_time": "2023-04-11T03:53:06.212947",
     "exception": false,
     "start_time": "2023-04-11T03:53:06.159310",
     "status": "completed"
    },
    "tags": []
   },
   "source": [
    "#### Check duplicates"
   ]
  },
  {
   "cell_type": "code",
   "execution_count": null,
   "id": "4e539981",
   "metadata": {
    "execution": {
     "iopub.execute_input": "2023-04-11T03:53:06.328834Z",
     "iopub.status.busy": "2023-04-11T03:53:06.328451Z",
     "iopub.status.idle": "2023-04-11T03:53:06.902779Z",
     "shell.execute_reply": "2023-04-11T03:53:06.901749Z"
    },
    "papermill": {
     "duration": 0.633879,
     "end_time": "2023-04-11T03:53:06.904735",
     "exception": false,
     "start_time": "2023-04-11T03:53:06.270856",
     "status": "completed"
    },
    "tags": []
   },
   "outputs": [],
   "source": [
    "df.duplicated().sum()"
   ]
  },
  {
   "cell_type": "code",
   "execution_count": 15,
   "id": "d1f6a387",
   "metadata": {
    "execution": {
     "iopub.execute_input": "2023-04-11T03:53:07.017025Z",
     "iopub.status.busy": "2023-04-11T03:53:07.016614Z",
     "iopub.status.idle": "2023-04-11T03:53:07.195867Z",
     "shell.execute_reply": "2023-04-11T03:53:07.194772Z"
    },
    "papermill": {
     "duration": 0.238177,
     "end_time": "2023-04-11T03:53:07.197872",
     "exception": false,
     "start_time": "2023-04-11T03:53:06.959695",
     "status": "completed"
    },
    "tags": []
   },
   "outputs": [
    {
     "data": {
      "text/html": [
       "<div>\n",
       "<style scoped>\n",
       "    .dataframe tbody tr th:only-of-type {\n",
       "        vertical-align: middle;\n",
       "    }\n",
       "\n",
       "    .dataframe tbody tr th {\n",
       "        vertical-align: top;\n",
       "    }\n",
       "\n",
       "    .dataframe thead th {\n",
       "        text-align: right;\n",
       "    }\n",
       "</style>\n",
       "<table border=\"1\" class=\"dataframe\">\n",
       "  <thead>\n",
       "    <tr style=\"text-align: right;\">\n",
       "      <th></th>\n",
       "      <th>customer_zip_code_prefix</th>\n",
       "      <th>review_score</th>\n",
       "      <th>order_item_id</th>\n",
       "      <th>price</th>\n",
       "      <th>freight_value</th>\n",
       "      <th>product_name_lenght</th>\n",
       "      <th>product_description_lenght</th>\n",
       "      <th>product_photos_qty</th>\n",
       "      <th>product_weight_g</th>\n",
       "      <th>product_length_cm</th>\n",
       "      <th>product_height_cm</th>\n",
       "      <th>product_width_cm</th>\n",
       "      <th>payment_sequential</th>\n",
       "      <th>payment_installments</th>\n",
       "      <th>payment_value</th>\n",
       "      <th>seller_zip_code_prefix</th>\n",
       "    </tr>\n",
       "  </thead>\n",
       "  <tbody>\n",
       "    <tr>\n",
       "      <th>count</th>\n",
       "      <td>115609.000000</td>\n",
       "      <td>115609.000000</td>\n",
       "      <td>115609.000000</td>\n",
       "      <td>115609.000000</td>\n",
       "      <td>115609.000000</td>\n",
       "      <td>115609.000000</td>\n",
       "      <td>115609.000000</td>\n",
       "      <td>115609.000000</td>\n",
       "      <td>115608.000000</td>\n",
       "      <td>115608.000000</td>\n",
       "      <td>115608.000000</td>\n",
       "      <td>115608.000000</td>\n",
       "      <td>115609.000000</td>\n",
       "      <td>115609.000000</td>\n",
       "      <td>115609.000000</td>\n",
       "      <td>115609.000000</td>\n",
       "    </tr>\n",
       "    <tr>\n",
       "      <th>mean</th>\n",
       "      <td>35061.537597</td>\n",
       "      <td>4.034409</td>\n",
       "      <td>1.194535</td>\n",
       "      <td>120.619850</td>\n",
       "      <td>20.056880</td>\n",
       "      <td>48.766541</td>\n",
       "      <td>785.808198</td>\n",
       "      <td>2.205373</td>\n",
       "      <td>2113.907697</td>\n",
       "      <td>30.307903</td>\n",
       "      <td>16.638477</td>\n",
       "      <td>23.113167</td>\n",
       "      <td>1.093747</td>\n",
       "      <td>2.946233</td>\n",
       "      <td>172.387379</td>\n",
       "      <td>24515.713958</td>\n",
       "    </tr>\n",
       "    <tr>\n",
       "      <th>std</th>\n",
       "      <td>29841.671732</td>\n",
       "      <td>1.385584</td>\n",
       "      <td>0.685926</td>\n",
       "      <td>182.653476</td>\n",
       "      <td>15.836184</td>\n",
       "      <td>10.034187</td>\n",
       "      <td>652.418619</td>\n",
       "      <td>1.717771</td>\n",
       "      <td>3781.754895</td>\n",
       "      <td>16.211108</td>\n",
       "      <td>13.473570</td>\n",
       "      <td>11.755083</td>\n",
       "      <td>0.729849</td>\n",
       "      <td>2.781087</td>\n",
       "      <td>265.873969</td>\n",
       "      <td>27636.640968</td>\n",
       "    </tr>\n",
       "    <tr>\n",
       "      <th>min</th>\n",
       "      <td>1003.000000</td>\n",
       "      <td>1.000000</td>\n",
       "      <td>1.000000</td>\n",
       "      <td>0.850000</td>\n",
       "      <td>0.000000</td>\n",
       "      <td>5.000000</td>\n",
       "      <td>4.000000</td>\n",
       "      <td>1.000000</td>\n",
       "      <td>0.000000</td>\n",
       "      <td>7.000000</td>\n",
       "      <td>2.000000</td>\n",
       "      <td>6.000000</td>\n",
       "      <td>1.000000</td>\n",
       "      <td>0.000000</td>\n",
       "      <td>0.000000</td>\n",
       "      <td>1001.000000</td>\n",
       "    </tr>\n",
       "    <tr>\n",
       "      <th>25%</th>\n",
       "      <td>11310.000000</td>\n",
       "      <td>4.000000</td>\n",
       "      <td>1.000000</td>\n",
       "      <td>39.900000</td>\n",
       "      <td>13.080000</td>\n",
       "      <td>42.000000</td>\n",
       "      <td>346.000000</td>\n",
       "      <td>1.000000</td>\n",
       "      <td>300.000000</td>\n",
       "      <td>18.000000</td>\n",
       "      <td>8.000000</td>\n",
       "      <td>15.000000</td>\n",
       "      <td>1.000000</td>\n",
       "      <td>1.000000</td>\n",
       "      <td>60.870000</td>\n",
       "      <td>6429.000000</td>\n",
       "    </tr>\n",
       "    <tr>\n",
       "      <th>50%</th>\n",
       "      <td>24241.000000</td>\n",
       "      <td>5.000000</td>\n",
       "      <td>1.000000</td>\n",
       "      <td>74.900000</td>\n",
       "      <td>16.320000</td>\n",
       "      <td>52.000000</td>\n",
       "      <td>600.000000</td>\n",
       "      <td>1.000000</td>\n",
       "      <td>700.000000</td>\n",
       "      <td>25.000000</td>\n",
       "      <td>13.000000</td>\n",
       "      <td>20.000000</td>\n",
       "      <td>1.000000</td>\n",
       "      <td>2.000000</td>\n",
       "      <td>108.050000</td>\n",
       "      <td>13660.000000</td>\n",
       "    </tr>\n",
       "    <tr>\n",
       "      <th>75%</th>\n",
       "      <td>58745.000000</td>\n",
       "      <td>5.000000</td>\n",
       "      <td>1.000000</td>\n",
       "      <td>134.900000</td>\n",
       "      <td>21.210000</td>\n",
       "      <td>57.000000</td>\n",
       "      <td>983.000000</td>\n",
       "      <td>3.000000</td>\n",
       "      <td>1800.000000</td>\n",
       "      <td>38.000000</td>\n",
       "      <td>20.000000</td>\n",
       "      <td>30.000000</td>\n",
       "      <td>1.000000</td>\n",
       "      <td>4.000000</td>\n",
       "      <td>189.480000</td>\n",
       "      <td>28605.000000</td>\n",
       "    </tr>\n",
       "    <tr>\n",
       "      <th>max</th>\n",
       "      <td>99980.000000</td>\n",
       "      <td>5.000000</td>\n",
       "      <td>21.000000</td>\n",
       "      <td>6735.000000</td>\n",
       "      <td>409.680000</td>\n",
       "      <td>76.000000</td>\n",
       "      <td>3992.000000</td>\n",
       "      <td>20.000000</td>\n",
       "      <td>40425.000000</td>\n",
       "      <td>105.000000</td>\n",
       "      <td>105.000000</td>\n",
       "      <td>118.000000</td>\n",
       "      <td>29.000000</td>\n",
       "      <td>24.000000</td>\n",
       "      <td>13664.080000</td>\n",
       "      <td>99730.000000</td>\n",
       "    </tr>\n",
       "  </tbody>\n",
       "</table>\n",
       "</div>"
      ],
      "text/plain": [
       "       customer_zip_code_prefix   review_score  order_item_id          price  \\\n",
       "count             115609.000000  115609.000000  115609.000000  115609.000000   \n",
       "mean               35061.537597       4.034409       1.194535     120.619850   \n",
       "std                29841.671732       1.385584       0.685926     182.653476   \n",
       "min                 1003.000000       1.000000       1.000000       0.850000   \n",
       "25%                11310.000000       4.000000       1.000000      39.900000   \n",
       "50%                24241.000000       5.000000       1.000000      74.900000   \n",
       "75%                58745.000000       5.000000       1.000000     134.900000   \n",
       "max                99980.000000       5.000000      21.000000    6735.000000   \n",
       "\n",
       "       freight_value  product_name_lenght  product_description_lenght  \\\n",
       "count  115609.000000        115609.000000               115609.000000   \n",
       "mean       20.056880            48.766541                  785.808198   \n",
       "std        15.836184            10.034187                  652.418619   \n",
       "min         0.000000             5.000000                    4.000000   \n",
       "25%        13.080000            42.000000                  346.000000   \n",
       "50%        16.320000            52.000000                  600.000000   \n",
       "75%        21.210000            57.000000                  983.000000   \n",
       "max       409.680000            76.000000                 3992.000000   \n",
       "\n",
       "       product_photos_qty  product_weight_g  product_length_cm  \\\n",
       "count       115609.000000     115608.000000      115608.000000   \n",
       "mean             2.205373       2113.907697          30.307903   \n",
       "std              1.717771       3781.754895          16.211108   \n",
       "min              1.000000          0.000000           7.000000   \n",
       "25%              1.000000        300.000000          18.000000   \n",
       "50%              1.000000        700.000000          25.000000   \n",
       "75%              3.000000       1800.000000          38.000000   \n",
       "max             20.000000      40425.000000         105.000000   \n",
       "\n",
       "       product_height_cm  product_width_cm  payment_sequential  \\\n",
       "count      115608.000000     115608.000000       115609.000000   \n",
       "mean           16.638477         23.113167            1.093747   \n",
       "std            13.473570         11.755083            0.729849   \n",
       "min             2.000000          6.000000            1.000000   \n",
       "25%             8.000000         15.000000            1.000000   \n",
       "50%            13.000000         20.000000            1.000000   \n",
       "75%            20.000000         30.000000            1.000000   \n",
       "max           105.000000        118.000000           29.000000   \n",
       "\n",
       "       payment_installments  payment_value  seller_zip_code_prefix  \n",
       "count         115609.000000  115609.000000           115609.000000  \n",
       "mean               2.946233     172.387379            24515.713958  \n",
       "std                2.781087     265.873969            27636.640968  \n",
       "min                0.000000       0.000000             1001.000000  \n",
       "25%                1.000000      60.870000             6429.000000  \n",
       "50%                2.000000     108.050000            13660.000000  \n",
       "75%                4.000000     189.480000            28605.000000  \n",
       "max               24.000000   13664.080000            99730.000000  "
      ]
     },
     "execution_count": 15,
     "metadata": {},
     "output_type": "execute_result"
    }
   ],
   "source": [
    "df.describe()"
   ]
  },
  {
   "cell_type": "code",
   "execution_count": 19,
   "id": "418902e0",
   "metadata": {},
   "outputs": [
    {
     "data": {
      "text/plain": [
       "Index(['customer_id', 'customer_unique_id', 'customer_zip_code_prefix',\n",
       "       'customer_city', 'customer_state', 'order_id', 'order_status',\n",
       "       'order_purchase_timestamp', 'order_approved_at',\n",
       "       'order_delivered_carrier_date', 'order_delivered_customer_date',\n",
       "       'order_estimated_delivery_date', 'review_id', 'review_score',\n",
       "       'review_comment_title', 'review_comment_message',\n",
       "       'review_creation_date', 'review_answer_timestamp', 'order_item_id',\n",
       "       'product_id', 'seller_id', 'shipping_limit_date', 'price',\n",
       "       'freight_value', 'product_category_name', 'product_name_lenght',\n",
       "       'product_description_lenght', 'product_photos_qty', 'product_weight_g',\n",
       "       'product_length_cm', 'product_height_cm', 'product_width_cm',\n",
       "       'payment_sequential', 'payment_type', 'payment_installments',\n",
       "       'payment_value', 'seller_zip_code_prefix', 'seller_city',\n",
       "       'seller_state', 'product_category_name_english'],\n",
       "      dtype='object')"
      ]
     },
     "execution_count": 19,
     "metadata": {},
     "output_type": "execute_result"
    }
   ],
   "source": [
    "df.columns"
   ]
  },
  {
   "cell_type": "code",
   "execution_count": null,
   "id": "80b89b6e",
   "metadata": {
    "execution": {
     "iopub.execute_input": "2023-04-11T03:53:07.313864Z",
     "iopub.status.busy": "2023-04-11T03:53:07.313479Z",
     "iopub.status.idle": "2023-04-11T03:53:07.512031Z",
     "shell.execute_reply": "2023-04-11T03:53:07.511341Z"
    },
    "papermill": {
     "duration": 0.25932,
     "end_time": "2023-04-11T03:53:07.514098",
     "exception": false,
     "start_time": "2023-04-11T03:53:07.254778",
     "status": "completed"
    },
    "tags": []
   },
   "outputs": [],
   "source": [
    "df.info()"
   ]
  },
  {
   "cell_type": "markdown",
   "id": "a070162f",
   "metadata": {
    "papermill": {
     "duration": 0.054271,
     "end_time": "2023-04-11T03:53:07.623303",
     "exception": false,
     "start_time": "2023-04-11T03:53:07.569032",
     "status": "completed"
    },
    "tags": []
   },
   "source": [
    "### 3.2 Handling Missing Values"
   ]
  },
  {
   "cell_type": "code",
   "execution_count": 20,
   "id": "4f98c2e8",
   "metadata": {
    "execution": {
     "iopub.execute_input": "2023-04-11T03:53:07.736879Z",
     "iopub.status.busy": "2023-04-11T03:53:07.735968Z",
     "iopub.status.idle": "2023-04-11T03:53:07.937680Z",
     "shell.execute_reply": "2023-04-11T03:53:07.936751Z"
    },
    "papermill": {
     "duration": 0.261008,
     "end_time": "2023-04-11T03:53:07.939778",
     "exception": false,
     "start_time": "2023-04-11T03:53:07.678770",
     "status": "completed"
    },
    "tags": []
   },
   "outputs": [
    {
     "data": {
      "text/plain": [
       "customer_id                           0\n",
       "customer_unique_id                    0\n",
       "customer_zip_code_prefix              0\n",
       "customer_city                         0\n",
       "customer_state                        0\n",
       "order_id                              0\n",
       "order_status                          0\n",
       "order_purchase_timestamp              0\n",
       "order_approved_at                    14\n",
       "order_delivered_carrier_date       1195\n",
       "order_delivered_customer_date      2400\n",
       "order_estimated_delivery_date         0\n",
       "review_id                             0\n",
       "review_score                          0\n",
       "review_comment_title             101808\n",
       "review_comment_message            66703\n",
       "review_creation_date                  0\n",
       "review_answer_timestamp               0\n",
       "order_item_id                         0\n",
       "product_id                            0\n",
       "dtype: int64"
      ]
     },
     "execution_count": 20,
     "metadata": {},
     "output_type": "execute_result"
    }
   ],
   "source": [
    "# Number of Missing Values for the first half of features\n",
    "\n",
    "df.isna().sum()[:20]"
   ]
  },
  {
   "cell_type": "markdown",
   "id": "b3b6b3ef",
   "metadata": {
    "papermill": {
     "duration": 0.054565,
     "end_time": "2023-04-11T03:53:08.049352",
     "exception": false,
     "start_time": "2023-04-11T03:53:07.994787",
     "status": "completed"
    },
    "tags": []
   },
   "source": [
    "##### Drop All Missing Values in datetime columns"
   ]
  },
  {
   "cell_type": "code",
   "execution_count": 21,
   "id": "0e7a1f08",
   "metadata": {
    "execution": {
     "iopub.execute_input": "2023-04-11T03:53:08.160570Z",
     "iopub.status.busy": "2023-04-11T03:53:08.160220Z",
     "iopub.status.idle": "2023-04-11T03:53:08.273090Z",
     "shell.execute_reply": "2023-04-11T03:53:08.272197Z"
    },
    "papermill": {
     "duration": 0.171869,
     "end_time": "2023-04-11T03:53:08.275625",
     "exception": false,
     "start_time": "2023-04-11T03:53:08.103756",
     "status": "completed"
    },
    "tags": []
   },
   "outputs": [],
   "source": [
    "df.dropna(subset= ['order_approved_at', 'order_delivered_carrier_date', 'order_delivered_customer_date'], inplace=True)"
   ]
  },
  {
   "cell_type": "markdown",
   "id": "fa63d7bf",
   "metadata": {
    "papermill": {
     "duration": 0.055552,
     "end_time": "2023-04-11T03:53:08.386570",
     "exception": false,
     "start_time": "2023-04-11T03:53:08.331018",
     "status": "completed"
    },
    "tags": []
   },
   "source": [
    "##### Keep \" review_comment_message \" & \" review_comment_title \"  Features ( Will be handled later )"
   ]
  },
  {
   "cell_type": "code",
   "execution_count": 22,
   "id": "c7ce077f",
   "metadata": {
    "execution": {
     "iopub.execute_input": "2023-04-11T03:53:08.501007Z",
     "iopub.status.busy": "2023-04-11T03:53:08.500601Z",
     "iopub.status.idle": "2023-04-11T03:53:08.693365Z",
     "shell.execute_reply": "2023-04-11T03:53:08.692420Z"
    },
    "papermill": {
     "duration": 0.252705,
     "end_time": "2023-04-11T03:53:08.695176",
     "exception": false,
     "start_time": "2023-04-11T03:53:08.442471",
     "status": "completed"
    },
    "tags": []
   },
   "outputs": [
    {
     "data": {
      "text/plain": [
       "seller_id                        0\n",
       "shipping_limit_date              0\n",
       "price                            0\n",
       "freight_value                    0\n",
       "product_category_name            0\n",
       "product_name_lenght              0\n",
       "product_description_lenght       0\n",
       "product_photos_qty               0\n",
       "product_weight_g                 1\n",
       "product_length_cm                1\n",
       "product_height_cm                1\n",
       "product_width_cm                 1\n",
       "payment_sequential               0\n",
       "payment_type                     0\n",
       "payment_installments             0\n",
       "payment_value                    0\n",
       "seller_zip_code_prefix           0\n",
       "seller_city                      0\n",
       "seller_state                     0\n",
       "product_category_name_english    0\n",
       "dtype: int64"
      ]
     },
     "execution_count": 22,
     "metadata": {},
     "output_type": "execute_result"
    }
   ],
   "source": [
    "# Number of Missing Values for the Second half of features\n",
    "\n",
    "df.isna().sum()[20:]"
   ]
  },
  {
   "cell_type": "markdown",
   "id": "896af260",
   "metadata": {
    "papermill": {
     "duration": 0.055165,
     "end_time": "2023-04-11T03:53:08.806359",
     "exception": false,
     "start_time": "2023-04-11T03:53:08.751194",
     "status": "completed"
    },
    "tags": []
   },
   "source": [
    "##### Check the missing values"
   ]
  },
  {
   "cell_type": "code",
   "execution_count": 23,
   "id": "627249a6",
   "metadata": {
    "execution": {
     "iopub.execute_input": "2023-04-11T03:53:08.918078Z",
     "iopub.status.busy": "2023-04-11T03:53:08.917504Z",
     "iopub.status.idle": "2023-04-11T03:53:08.928369Z",
     "shell.execute_reply": "2023-04-11T03:53:08.927661Z"
    },
    "papermill": {
     "duration": 0.068813,
     "end_time": "2023-04-11T03:53:08.930082",
     "exception": false,
     "start_time": "2023-04-11T03:53:08.861269",
     "status": "completed"
    },
    "tags": []
   },
   "outputs": [
    {
     "data": {
      "text/html": [
       "<div>\n",
       "<style scoped>\n",
       "    .dataframe tbody tr th:only-of-type {\n",
       "        vertical-align: middle;\n",
       "    }\n",
       "\n",
       "    .dataframe tbody tr th {\n",
       "        vertical-align: top;\n",
       "    }\n",
       "\n",
       "    .dataframe thead th {\n",
       "        text-align: right;\n",
       "    }\n",
       "</style>\n",
       "<table border=\"1\" class=\"dataframe\">\n",
       "  <thead>\n",
       "    <tr style=\"text-align: right;\">\n",
       "      <th></th>\n",
       "      <th>product_weight_g</th>\n",
       "      <th>product_length_cm</th>\n",
       "      <th>product_height_cm</th>\n",
       "      <th>product_width_cm</th>\n",
       "    </tr>\n",
       "  </thead>\n",
       "  <tbody>\n",
       "    <tr>\n",
       "      <th>27352</th>\n",
       "      <td>NaN</td>\n",
       "      <td>NaN</td>\n",
       "      <td>NaN</td>\n",
       "      <td>NaN</td>\n",
       "    </tr>\n",
       "  </tbody>\n",
       "</table>\n",
       "</div>"
      ],
      "text/plain": [
       "       product_weight_g  product_length_cm  product_height_cm  \\\n",
       "27352               NaN                NaN                NaN   \n",
       "\n",
       "       product_width_cm  \n",
       "27352               NaN  "
      ]
     },
     "execution_count": 23,
     "metadata": {},
     "output_type": "execute_result"
    }
   ],
   "source": [
    "df[['product_weight_g', 'product_length_cm', 'product_height_cm', 'product_width_cm']][df.product_weight_g.isna()]"
   ]
  },
  {
   "cell_type": "code",
   "execution_count": 24,
   "id": "61e3d231",
   "metadata": {
    "execution": {
     "iopub.execute_input": "2023-04-11T03:53:09.044207Z",
     "iopub.status.busy": "2023-04-11T03:53:09.043627Z",
     "iopub.status.idle": "2023-04-11T03:53:09.108387Z",
     "shell.execute_reply": "2023-04-11T03:53:09.107671Z"
    },
    "papermill": {
     "duration": 0.12463,
     "end_time": "2023-04-11T03:53:09.110780",
     "exception": false,
     "start_time": "2023-04-11T03:53:08.986150",
     "status": "completed"
    },
    "tags": []
   },
   "outputs": [],
   "source": [
    "# Since all the missing values are in the same raw, we will drop this raw\n",
    "df.drop(27352, inplace=True)\n",
    "\n",
    "# Reset Index\n",
    "df.reset_index(inplace= True, drop= True)"
   ]
  },
  {
   "cell_type": "markdown",
   "id": "f93acbe4",
   "metadata": {
    "papermill": {
     "duration": 0.055285,
     "end_time": "2023-04-11T03:53:09.223101",
     "exception": false,
     "start_time": "2023-04-11T03:53:09.167816",
     "status": "completed"
    },
    "tags": []
   },
   "source": [
    "### 3.3 Feature Engineering"
   ]
  },
  {
   "cell_type": "markdown",
   "id": "6be464cb",
   "metadata": {
    "papermill": {
     "duration": 0.056514,
     "end_time": "2023-04-11T03:53:09.335826",
     "exception": false,
     "start_time": "2023-04-11T03:53:09.279312",
     "status": "completed"
    },
    "tags": []
   },
   "source": [
    "##### Classify Products Categories (71) into 9 main Categories"
   ]
  },
  {
   "cell_type": "code",
   "execution_count": 25,
   "id": "8efe660e",
   "metadata": {
    "execution": {
     "iopub.execute_input": "2023-04-11T03:53:09.449265Z",
     "iopub.status.busy": "2023-04-11T03:53:09.448747Z",
     "iopub.status.idle": "2023-04-11T03:53:09.512367Z",
     "shell.execute_reply": "2023-04-11T03:53:09.511645Z"
    },
    "papermill": {
     "duration": 0.122592,
     "end_time": "2023-04-11T03:53:09.514522",
     "exception": false,
     "start_time": "2023-04-11T03:53:09.391930",
     "status": "completed"
    },
    "tags": []
   },
   "outputs": [],
   "source": [
    "def classify_cat(x):\n",
    "\n",
    "    if x in ['office_furniture', 'furniture_decor', 'furniture_living_room', 'kitchen_dining_laundry_garden_furniture', 'bed_bath_table', 'home_comfort', 'home_comfort_2', 'home_construction', 'garden_tools', 'furniture_bedroom', 'furniture_mattress_and_upholstery']:\n",
    "        return 'Furniture'\n",
    "    \n",
    "    elif x in ['auto', 'computers_accessories', 'musical_instruments', 'consoles_games', 'watches_gifts', 'air_conditioning', 'telephony', 'electronics', 'fixed_telephony', 'tablets_printing_image', 'computers', 'small_appliances_home_oven_and_coffee', 'small_appliances', 'audio', 'signaling_and_security', 'security_and_services']:\n",
    "        return 'Electronics'\n",
    "    \n",
    "    elif x in ['fashio_female_clothing', 'fashion_male_clothing', 'fashion_bags_accessories', 'fashion_shoes', 'fashion_sport', 'fashion_underwear_beach', 'fashion_childrens_clothes', 'baby', 'cool_stuff', ]:\n",
    "        return 'Fashion'\n",
    "    \n",
    "    elif x in ['housewares', 'home_confort', 'home_appliances', 'home_appliances_2', 'flowers', 'costruction_tools_garden', 'garden_tools', 'construction_tools_lights', 'costruction_tools_tools', 'luggage_accessories', 'la_cuisine', 'pet_shop', 'market_place']:\n",
    "        return 'Home & Garden'\n",
    "    \n",
    "    elif x in ['sports_leisure', 'toys', 'cds_dvds_musicals', 'music', 'dvds_blu_ray', 'cine_photo', 'party_supplies', 'christmas_supplies', 'arts_and_craftmanship', 'art']:\n",
    "        return 'Entertainment'\n",
    "    \n",
    "    elif x in ['health_beauty', 'perfumery', 'diapers_and_hygiene']:\n",
    "        return 'Beauty & Health'\n",
    "    \n",
    "    elif x in ['food_drink', 'drinks', 'food']:\n",
    "        return 'Food & Drinks'\n",
    "    \n",
    "    elif x in ['books_general_interest', 'books_technical', 'books_imported', 'stationery']:\n",
    "        return 'Books & Stationery'\n",
    "    \n",
    "    elif x in ['construction_tools_construction', 'construction_tools_safety', 'industry_commerce_and_business', 'agro_industry_and_commerce']:\n",
    "        return 'Industry & Construction'\n",
    "\n",
    "df['product_category'] = df.product_category_name_english.apply(classify_cat)"
   ]
  },
  {
   "cell_type": "code",
   "execution_count": 26,
   "id": "1dbb964e",
   "metadata": {
    "execution": {
     "iopub.execute_input": "2023-04-11T03:53:09.628099Z",
     "iopub.status.busy": "2023-04-11T03:53:09.627507Z",
     "iopub.status.idle": "2023-04-11T03:53:09.638136Z",
     "shell.execute_reply": "2023-04-11T03:53:09.637457Z"
    },
    "papermill": {
     "duration": 0.069273,
     "end_time": "2023-04-11T03:53:09.639829",
     "exception": false,
     "start_time": "2023-04-11T03:53:09.570556",
     "status": "completed"
    },
    "tags": []
   },
   "outputs": [
    {
     "data": {
      "text/plain": [
       "product_category\n",
       "Electronics                29568\n",
       "Furniture                  28050\n",
       "Entertainment              13507\n",
       "Beauty & Health            13283\n",
       "Home & Garden              12848\n",
       "Fashion                     9722\n",
       "Books & Stationery          3427\n",
       "Industry & Construction     1633\n",
       "Food & Drinks               1155\n",
       "Name: count, dtype: int64"
      ]
     },
     "execution_count": 26,
     "metadata": {},
     "output_type": "execute_result"
    }
   ],
   "source": [
    "df.product_category.value_counts()"
   ]
  },
  {
   "cell_type": "markdown",
   "id": "f20a72e5",
   "metadata": {
    "papermill": {
     "duration": 0.054877,
     "end_time": "2023-04-11T03:53:09.750339",
     "exception": false,
     "start_time": "2023-04-11T03:53:09.695462",
     "status": "completed"
    },
    "tags": []
   },
   "source": [
    "##### Combine Width, Height and Length to get Product Volume"
   ]
  },
  {
   "cell_type": "code",
   "execution_count": 27,
   "id": "fa3f162a",
   "metadata": {
    "execution": {
     "iopub.execute_input": "2023-04-11T03:53:09.861583Z",
     "iopub.status.busy": "2023-04-11T03:53:09.861054Z",
     "iopub.status.idle": "2023-04-11T03:53:09.989846Z",
     "shell.execute_reply": "2023-04-11T03:53:09.989062Z"
    },
    "papermill": {
     "duration": 0.186752,
     "end_time": "2023-04-11T03:53:09.992095",
     "exception": false,
     "start_time": "2023-04-11T03:53:09.805343",
     "status": "completed"
    },
    "tags": []
   },
   "outputs": [],
   "source": [
    "# Create Volume Column\n",
    "df['product_vol_cm3'] = df.product_length_cm * df.product_width_cm * df.product_height_cm\n",
    "\n",
    "# Drop Width, Height and Length\n",
    "df.drop(['product_length_cm', 'product_width_cm', 'product_height_cm'], axis= 1, inplace= True)"
   ]
  },
  {
   "cell_type": "markdown",
   "id": "a844d13f",
   "metadata": {
    "papermill": {
     "duration": 0.055712,
     "end_time": "2023-04-11T03:53:10.163273",
     "exception": false,
     "start_time": "2023-04-11T03:53:10.107561",
     "status": "completed"
    },
    "tags": []
   },
   "source": [
    "#### Convert Datetime features from Object to Datetime"
   ]
  },
  {
   "cell_type": "code",
   "execution_count": 28,
   "id": "6020cba2",
   "metadata": {
    "execution": {
     "iopub.execute_input": "2023-04-11T03:53:10.278638Z",
     "iopub.status.busy": "2023-04-11T03:53:10.278137Z",
     "iopub.status.idle": "2023-04-11T03:53:10.746155Z",
     "shell.execute_reply": "2023-04-11T03:53:10.745177Z"
    },
    "papermill": {
     "duration": 0.527508,
     "end_time": "2023-04-11T03:53:10.748372",
     "exception": false,
     "start_time": "2023-04-11T03:53:10.220864",
     "status": "completed"
    },
    "tags": []
   },
   "outputs": [],
   "source": [
    "df['order_purchase_timestamp'] = pd.to_datetime(df['order_purchase_timestamp'])\n",
    "df['order_delivered_customer_date'] = pd.to_datetime(df['order_delivered_customer_date'])\n",
    "df['order_estimated_delivery_date'] = pd.to_datetime(df['order_estimated_delivery_date'])\n",
    "df['shipping_limit_date'] = pd.to_datetime(df['shipping_limit_date'])\n",
    "df['order_delivered_carrier_date'] =pd.to_datetime(df['order_delivered_carrier_date'])"
   ]
  },
  {
   "cell_type": "markdown",
   "id": "f5dd45a9",
   "metadata": {
    "papermill": {
     "duration": 0.056872,
     "end_time": "2023-04-11T03:53:10.862198",
     "exception": false,
     "start_time": "2023-04-11T03:53:10.805326",
     "status": "completed"
    },
    "tags": []
   },
   "source": [
    "##### Extract duration of estimated shipping from purchasing date untill estimated delivery date"
   ]
  },
  {
   "cell_type": "code",
   "execution_count": 29,
   "id": "82ae3fec",
   "metadata": {},
   "outputs": [],
   "source": [
    "# Assuming 'order_estimated_delivery_date' and 'order_purchase_timestamp' have been converted to datetime\n",
    "df['estimated_days'] = (df['order_estimated_delivery_date'] - df['order_purchase_timestamp']).dt.days"
   ]
  },
  {
   "cell_type": "markdown",
   "id": "6925329c",
   "metadata": {
    "papermill": {
     "duration": 0.058029,
     "end_time": "2023-04-11T03:53:11.308549",
     "exception": false,
     "start_time": "2023-04-11T03:53:11.250520",
     "status": "completed"
    },
    "tags": []
   },
   "source": [
    "##### Extract duration of shipping from purchasing date until delivered to customer date"
   ]
  },
  {
   "cell_type": "code",
   "execution_count": 30,
   "id": "9a8a94e6",
   "metadata": {},
   "outputs": [],
   "source": [
    "df['arrival_days'] = (df['order_delivered_customer_date'] - df['order_purchase_timestamp']).dt.days"
   ]
  },
  {
   "cell_type": "markdown",
   "id": "da5998b6",
   "metadata": {
    "papermill": {
     "duration": 0.057966,
     "end_time": "2023-04-11T03:53:11.772181",
     "exception": false,
     "start_time": "2023-04-11T03:53:11.714215",
     "status": "completed"
    },
    "tags": []
   },
   "source": [
    "##### Extract duration of shipping from purchasing carrier delivered date untill delivered to customer"
   ]
  },
  {
   "cell_type": "code",
   "execution_count": 31,
   "id": "d210160a",
   "metadata": {},
   "outputs": [],
   "source": [
    "# Assuming 'order_delivered_customer_date' and 'order_delivered_carrier_date' are already converted to datetime format\n",
    "df['shipping_days'] = (df['order_delivered_customer_date'] - df['order_delivered_carrier_date']).dt.days"
   ]
  },
  {
   "cell_type": "markdown",
   "id": "61fa8fbd",
   "metadata": {
    "papermill": {
     "duration": 0.055886,
     "end_time": "2023-04-11T03:53:12.218565",
     "exception": false,
     "start_time": "2023-04-11T03:53:12.162679",
     "status": "completed"
    },
    "tags": []
   },
   "source": [
    "##### Drop inconsistent dates where \"order_delivered_carrier_date\" is greater than \"order_delivered_customer_date\""
   ]
  },
  {
   "cell_type": "code",
   "execution_count": 32,
   "id": "27367a44",
   "metadata": {
    "execution": {
     "iopub.execute_input": "2023-04-11T03:53:12.331800Z",
     "iopub.status.busy": "2023-04-11T03:53:12.331382Z",
     "iopub.status.idle": "2023-04-11T03:53:12.389133Z",
     "shell.execute_reply": "2023-04-11T03:53:12.388104Z"
    },
    "papermill": {
     "duration": 0.117242,
     "end_time": "2023-04-11T03:53:12.391698",
     "exception": false,
     "start_time": "2023-04-11T03:53:12.274456",
     "status": "completed"
    },
    "tags": []
   },
   "outputs": [],
   "source": [
    "df.drop((df[['order_delivered_carrier_date', 'order_delivered_customer_date']][df.shipping_days < 0]).index, inplace= True)"
   ]
  },
  {
   "cell_type": "markdown",
   "id": "ea46acde",
   "metadata": {
    "papermill": {
     "duration": 0.056923,
     "end_time": "2023-04-11T03:53:12.506648",
     "exception": false,
     "start_time": "2023-04-11T03:53:12.449725",
     "status": "completed"
    },
    "tags": []
   },
   "source": [
    "##### Shipping status from Seller to Carrier"
   ]
  },
  {
   "cell_type": "code",
   "execution_count": 33,
   "id": "38324f6b",
   "metadata": {},
   "outputs": [],
   "source": [
    "# Ensure the columns are in datetime format\n",
    "df['shipping_limit_date'] = pd.to_datetime(df['shipping_limit_date'])\n",
    "df['order_delivered_carrier_date'] = pd.to_datetime(df['order_delivered_carrier_date'])\n",
    "\n",
    "# Calculate the seller to carrier duration in days correctly\n",
    "df['seller_to_carrier_status'] = (df['shipping_limit_date'] - df['order_delivered_carrier_date']).dt.days\n",
    "\n",
    "# Classify the duration into 'OnTime/Early' & 'Late'\n",
    "df['seller_to_carrier_status'] = df['seller_to_carrier_status'].apply(lambda x: 'OnTime/Early' if x >= 0 else 'Late')\n",
    "\n"
   ]
  },
  {
   "cell_type": "markdown",
   "id": "58cefcb4",
   "metadata": {
    "papermill": {
     "duration": 0.060105,
     "end_time": "2023-04-11T03:53:12.974206",
     "exception": false,
     "start_time": "2023-04-11T03:53:12.914101",
     "status": "completed"
    },
    "tags": []
   },
   "source": [
    "##### Shipping status from Carrier to Customer"
   ]
  },
  {
   "cell_type": "code",
   "execution_count": 34,
   "id": "72913fd5",
   "metadata": {},
   "outputs": [],
   "source": [
    "# Assuming 'order_estimated_delivery_date' and 'order_delivered_customer_date' are already converted to datetime\n",
    "\n",
    "# Calculate the difference in days directly without converting to date\n",
    "df['arrival_status'] = (df['order_estimated_delivery_date'] - df['order_delivered_customer_date']).dt.days\n",
    "\n",
    "# Classify the arrival status\n",
    "df['arrival_status'] = df['arrival_status'].apply(lambda x: 'OnTime/Early' if x >= 0 else 'Late')\n"
   ]
  },
  {
   "cell_type": "markdown",
   "id": "0f4a5e10",
   "metadata": {
    "papermill": {
     "duration": 0.055158,
     "end_time": "2023-04-11T03:53:13.438545",
     "exception": false,
     "start_time": "2023-04-11T03:53:13.383387",
     "status": "completed"
    },
    "tags": []
   },
   "source": [
    "#### Show statistics of new Features"
   ]
  },
  {
   "cell_type": "code",
   "execution_count": 35,
   "id": "03a1be33",
   "metadata": {
    "execution": {
     "iopub.execute_input": "2023-04-11T03:53:13.552628Z",
     "iopub.status.busy": "2023-04-11T03:53:13.552254Z",
     "iopub.status.idle": "2023-04-11T03:53:13.635011Z",
     "shell.execute_reply": "2023-04-11T03:53:13.634016Z"
    },
    "papermill": {
     "duration": 0.142649,
     "end_time": "2023-04-11T03:53:13.636843",
     "exception": false,
     "start_time": "2023-04-11T03:53:13.494194",
     "status": "completed"
    },
    "tags": []
   },
   "outputs": [
    {
     "data": {
      "text/html": [
       "<div>\n",
       "<style scoped>\n",
       "    .dataframe tbody tr th:only-of-type {\n",
       "        vertical-align: middle;\n",
       "    }\n",
       "\n",
       "    .dataframe tbody tr th {\n",
       "        vertical-align: top;\n",
       "    }\n",
       "\n",
       "    .dataframe thead th {\n",
       "        text-align: right;\n",
       "    }\n",
       "</style>\n",
       "<table border=\"1\" class=\"dataframe\">\n",
       "  <thead>\n",
       "    <tr style=\"text-align: right;\">\n",
       "      <th></th>\n",
       "      <th>estimated_days</th>\n",
       "      <th>arrival_days</th>\n",
       "      <th>shipping_days</th>\n",
       "    </tr>\n",
       "  </thead>\n",
       "  <tbody>\n",
       "    <tr>\n",
       "      <th>count</th>\n",
       "      <td>113135.000000</td>\n",
       "      <td>113135.000000</td>\n",
       "      <td>113135.000000</td>\n",
       "    </tr>\n",
       "    <tr>\n",
       "      <th>mean</th>\n",
       "      <td>23.469855</td>\n",
       "      <td>11.979626</td>\n",
       "      <td>8.721280</td>\n",
       "    </tr>\n",
       "    <tr>\n",
       "      <th>std</th>\n",
       "      <td>8.825454</td>\n",
       "      <td>9.362979</td>\n",
       "      <td>8.537984</td>\n",
       "    </tr>\n",
       "    <tr>\n",
       "      <th>min</th>\n",
       "      <td>2.000000</td>\n",
       "      <td>0.000000</td>\n",
       "      <td>0.000000</td>\n",
       "    </tr>\n",
       "    <tr>\n",
       "      <th>25%</th>\n",
       "      <td>18.000000</td>\n",
       "      <td>6.000000</td>\n",
       "      <td>4.000000</td>\n",
       "    </tr>\n",
       "    <tr>\n",
       "      <th>50%</th>\n",
       "      <td>23.000000</td>\n",
       "      <td>10.000000</td>\n",
       "      <td>7.000000</td>\n",
       "    </tr>\n",
       "    <tr>\n",
       "      <th>75%</th>\n",
       "      <td>28.000000</td>\n",
       "      <td>15.000000</td>\n",
       "      <td>11.000000</td>\n",
       "    </tr>\n",
       "    <tr>\n",
       "      <th>max</th>\n",
       "      <td>155.000000</td>\n",
       "      <td>208.000000</td>\n",
       "      <td>205.000000</td>\n",
       "    </tr>\n",
       "  </tbody>\n",
       "</table>\n",
       "</div>"
      ],
      "text/plain": [
       "       estimated_days   arrival_days  shipping_days\n",
       "count   113135.000000  113135.000000  113135.000000\n",
       "mean        23.469855      11.979626       8.721280\n",
       "std          8.825454       9.362979       8.537984\n",
       "min          2.000000       0.000000       0.000000\n",
       "25%         18.000000       6.000000       4.000000\n",
       "50%         23.000000      10.000000       7.000000\n",
       "75%         28.000000      15.000000      11.000000\n",
       "max        155.000000     208.000000     205.000000"
      ]
     },
     "execution_count": 35,
     "metadata": {},
     "output_type": "execute_result"
    }
   ],
   "source": [
    "df[['estimated_days', 'arrival_days', 'shipping_days']].describe()"
   ]
  },
  {
   "cell_type": "markdown",
   "id": "b77db535",
   "metadata": {
    "papermill": {
     "duration": 0.054471,
     "end_time": "2023-04-11T03:53:13.747355",
     "exception": false,
     "start_time": "2023-04-11T03:53:13.692884",
     "status": "completed"
    },
    "tags": []
   },
   "source": [
    "#### Remove Outliers in both features ( More than 60 days )"
   ]
  },
  {
   "cell_type": "code",
   "execution_count": 36,
   "id": "707a7c41",
   "metadata": {
    "execution": {
     "iopub.execute_input": "2023-04-11T03:53:13.860167Z",
     "iopub.status.busy": "2023-04-11T03:53:13.859771Z",
     "iopub.status.idle": "2023-04-11T03:53:13.917233Z",
     "shell.execute_reply": "2023-04-11T03:53:13.916232Z"
    },
    "papermill": {
     "duration": 0.115898,
     "end_time": "2023-04-11T03:53:13.919503",
     "exception": false,
     "start_time": "2023-04-11T03:53:13.803605",
     "status": "completed"
    },
    "tags": []
   },
   "outputs": [],
   "source": [
    "outlier_indices = df[(df.estimated_days > 60) | (df.arrival_days > 60) | (df.shipping_days > 60)].index\n",
    "\n",
    "df.drop(outlier_indices, inplace= True)\n",
    "df.reset_index(inplace= True, drop= True)"
   ]
  },
  {
   "cell_type": "markdown",
   "id": "df4500b9",
   "metadata": {
    "papermill": {
     "duration": 0.054808,
     "end_time": "2023-04-11T03:53:14.030016",
     "exception": false,
     "start_time": "2023-04-11T03:53:13.975208",
     "status": "completed"
    },
    "tags": []
   },
   "source": [
    "##### Rating estimated delivery time"
   ]
  },
  {
   "cell_type": "code",
   "execution_count": 37,
   "id": "bed1296f",
   "metadata": {
    "execution": {
     "iopub.execute_input": "2023-04-11T03:53:14.146796Z",
     "iopub.status.busy": "2023-04-11T03:53:14.146438Z",
     "iopub.status.idle": "2023-04-11T03:53:14.393809Z",
     "shell.execute_reply": "2023-04-11T03:53:14.392757Z"
    },
    "papermill": {
     "duration": 0.310457,
     "end_time": "2023-04-11T03:53:14.396015",
     "exception": false,
     "start_time": "2023-04-11T03:53:14.085558",
     "status": "completed"
    },
    "tags": []
   },
   "outputs": [],
   "source": [
    "def rates(x):\n",
    "\n",
    "    if x in range(0, 8):\n",
    "        return 'Very Fast'\n",
    "    \n",
    "    elif x in range(8, 16):\n",
    "        return 'Fast'\n",
    "    \n",
    "    elif x in range(16, 25):\n",
    "        return 'Neutral'\n",
    "    \n",
    "    elif x in range(25, 40):\n",
    "        return 'Slow'\n",
    "    \n",
    "    else:\n",
    "        return 'Very Slow'\n",
    "\n",
    "df['estimated_delivery_rate'] = df.estimated_days.apply(rates)\n",
    "\n",
    "df['arrival_delivery_rate'] = df.arrival_days.apply(rates)\n",
    "\n",
    "df['shipping_delivery_rate'] = df.shipping_days.apply(rates)"
   ]
  },
  {
   "cell_type": "code",
   "execution_count": 38,
   "id": "b60238f6",
   "metadata": {},
   "outputs": [
    {
     "data": {
      "text/html": [
       "<div>\n",
       "<style scoped>\n",
       "    .dataframe tbody tr th:only-of-type {\n",
       "        vertical-align: middle;\n",
       "    }\n",
       "\n",
       "    .dataframe tbody tr th {\n",
       "        vertical-align: top;\n",
       "    }\n",
       "\n",
       "    .dataframe thead th {\n",
       "        text-align: right;\n",
       "    }\n",
       "</style>\n",
       "<table border=\"1\" class=\"dataframe\">\n",
       "  <thead>\n",
       "    <tr style=\"text-align: right;\">\n",
       "      <th></th>\n",
       "      <th>customer_id</th>\n",
       "      <th>customer_unique_id</th>\n",
       "      <th>customer_zip_code_prefix</th>\n",
       "      <th>customer_city</th>\n",
       "      <th>customer_state</th>\n",
       "      <th>order_id</th>\n",
       "      <th>order_status</th>\n",
       "      <th>order_purchase_timestamp</th>\n",
       "      <th>order_approved_at</th>\n",
       "      <th>order_delivered_carrier_date</th>\n",
       "      <th>...</th>\n",
       "      <th>product_category</th>\n",
       "      <th>product_vol_cm3</th>\n",
       "      <th>estimated_days</th>\n",
       "      <th>arrival_days</th>\n",
       "      <th>shipping_days</th>\n",
       "      <th>seller_to_carrier_status</th>\n",
       "      <th>arrival_status</th>\n",
       "      <th>estimated_delivery_rate</th>\n",
       "      <th>arrival_delivery_rate</th>\n",
       "      <th>shipping_delivery_rate</th>\n",
       "    </tr>\n",
       "  </thead>\n",
       "  <tbody>\n",
       "    <tr>\n",
       "      <th>0</th>\n",
       "      <td>06b8999e2fba1a1fbc88172c00ba8bc7</td>\n",
       "      <td>861eff4711a542e4b93843c6dd7febb0</td>\n",
       "      <td>14409</td>\n",
       "      <td>franca</td>\n",
       "      <td>SP</td>\n",
       "      <td>00e7ee1b050b8499577073aeb2a297a1</td>\n",
       "      <td>delivered</td>\n",
       "      <td>2017-05-16 15:05:35</td>\n",
       "      <td>2017-05-16 15:22:12</td>\n",
       "      <td>2017-05-23 10:47:57</td>\n",
       "      <td>...</td>\n",
       "      <td>Furniture</td>\n",
       "      <td>107136.0</td>\n",
       "      <td>19</td>\n",
       "      <td>8</td>\n",
       "      <td>1</td>\n",
       "      <td>Late</td>\n",
       "      <td>OnTime/Early</td>\n",
       "      <td>Neutral</td>\n",
       "      <td>Fast</td>\n",
       "      <td>Very Fast</td>\n",
       "    </tr>\n",
       "    <tr>\n",
       "      <th>1</th>\n",
       "      <td>8912fc0c3bbf1e2fbf35819e21706718</td>\n",
       "      <td>9eae34bbd3a474ec5d07949ca7de67c0</td>\n",
       "      <td>68030</td>\n",
       "      <td>santarem</td>\n",
       "      <td>PA</td>\n",
       "      <td>c1d2b34febe9cd269e378117d6681172</td>\n",
       "      <td>delivered</td>\n",
       "      <td>2017-11-09 00:50:13</td>\n",
       "      <td>2017-11-10 00:47:48</td>\n",
       "      <td>2017-11-22 01:43:37</td>\n",
       "      <td>...</td>\n",
       "      <td>Furniture</td>\n",
       "      <td>107136.0</td>\n",
       "      <td>39</td>\n",
       "      <td>18</td>\n",
       "      <td>5</td>\n",
       "      <td>OnTime/Early</td>\n",
       "      <td>OnTime/Early</td>\n",
       "      <td>Slow</td>\n",
       "      <td>Neutral</td>\n",
       "      <td>Very Fast</td>\n",
       "    </tr>\n",
       "    <tr>\n",
       "      <th>2</th>\n",
       "      <td>8912fc0c3bbf1e2fbf35819e21706718</td>\n",
       "      <td>9eae34bbd3a474ec5d07949ca7de67c0</td>\n",
       "      <td>68030</td>\n",
       "      <td>santarem</td>\n",
       "      <td>PA</td>\n",
       "      <td>c1d2b34febe9cd269e378117d6681172</td>\n",
       "      <td>delivered</td>\n",
       "      <td>2017-11-09 00:50:13</td>\n",
       "      <td>2017-11-10 00:47:48</td>\n",
       "      <td>2017-11-22 01:43:37</td>\n",
       "      <td>...</td>\n",
       "      <td>Furniture</td>\n",
       "      <td>107136.0</td>\n",
       "      <td>39</td>\n",
       "      <td>18</td>\n",
       "      <td>5</td>\n",
       "      <td>OnTime/Early</td>\n",
       "      <td>OnTime/Early</td>\n",
       "      <td>Slow</td>\n",
       "      <td>Neutral</td>\n",
       "      <td>Very Fast</td>\n",
       "    </tr>\n",
       "    <tr>\n",
       "      <th>3</th>\n",
       "      <td>f0ac8e5a239118859b1734e1087cbb1f</td>\n",
       "      <td>3c799d181c34d51f6d44bbbc563024db</td>\n",
       "      <td>92480</td>\n",
       "      <td>nova santa rita</td>\n",
       "      <td>RS</td>\n",
       "      <td>b1a5d5365d330d10485e0203d54ab9e8</td>\n",
       "      <td>delivered</td>\n",
       "      <td>2017-05-07 20:11:26</td>\n",
       "      <td>2017-05-08 22:22:56</td>\n",
       "      <td>2017-05-19 20:16:31</td>\n",
       "      <td>...</td>\n",
       "      <td>Furniture</td>\n",
       "      <td>107136.0</td>\n",
       "      <td>35</td>\n",
       "      <td>18</td>\n",
       "      <td>6</td>\n",
       "      <td>OnTime/Early</td>\n",
       "      <td>OnTime/Early</td>\n",
       "      <td>Slow</td>\n",
       "      <td>Neutral</td>\n",
       "      <td>Very Fast</td>\n",
       "    </tr>\n",
       "    <tr>\n",
       "      <th>4</th>\n",
       "      <td>6bc8d08963a135220ed6c6d098831f84</td>\n",
       "      <td>23397e992b09769faf5e66f9e171a241</td>\n",
       "      <td>25931</td>\n",
       "      <td>mage</td>\n",
       "      <td>RJ</td>\n",
       "      <td>2e604b3614664aa66867856dba7e61b7</td>\n",
       "      <td>delivered</td>\n",
       "      <td>2018-02-03 19:45:40</td>\n",
       "      <td>2018-02-04 22:29:19</td>\n",
       "      <td>2018-02-19 18:21:47</td>\n",
       "      <td>...</td>\n",
       "      <td>Furniture</td>\n",
       "      <td>107136.0</td>\n",
       "      <td>46</td>\n",
       "      <td>25</td>\n",
       "      <td>9</td>\n",
       "      <td>Late</td>\n",
       "      <td>OnTime/Early</td>\n",
       "      <td>Very Slow</td>\n",
       "      <td>Slow</td>\n",
       "      <td>Fast</td>\n",
       "    </tr>\n",
       "    <tr>\n",
       "      <th>...</th>\n",
       "      <td>...</td>\n",
       "      <td>...</td>\n",
       "      <td>...</td>\n",
       "      <td>...</td>\n",
       "      <td>...</td>\n",
       "      <td>...</td>\n",
       "      <td>...</td>\n",
       "      <td>...</td>\n",
       "      <td>...</td>\n",
       "      <td>...</td>\n",
       "      <td>...</td>\n",
       "      <td>...</td>\n",
       "      <td>...</td>\n",
       "      <td>...</td>\n",
       "      <td>...</td>\n",
       "      <td>...</td>\n",
       "      <td>...</td>\n",
       "      <td>...</td>\n",
       "      <td>...</td>\n",
       "      <td>...</td>\n",
       "      <td>...</td>\n",
       "    </tr>\n",
       "    <tr>\n",
       "      <th>112562</th>\n",
       "      <td>e548277911829ffe81aac2b4407de701</td>\n",
       "      <td>a0abd26659c9914690cbd3320d39fd96</td>\n",
       "      <td>92412</td>\n",
       "      <td>canoas</td>\n",
       "      <td>RS</td>\n",
       "      <td>a5f8439f1e560659a492608e370ecde2</td>\n",
       "      <td>delivered</td>\n",
       "      <td>2017-05-27 14:03:20</td>\n",
       "      <td>2017-05-27 14:15:16</td>\n",
       "      <td>2017-05-29 09:30:43</td>\n",
       "      <td>...</td>\n",
       "      <td>Home &amp; Garden</td>\n",
       "      <td>45375.0</td>\n",
       "      <td>24</td>\n",
       "      <td>6</td>\n",
       "      <td>4</td>\n",
       "      <td>OnTime/Early</td>\n",
       "      <td>OnTime/Early</td>\n",
       "      <td>Neutral</td>\n",
       "      <td>Very Fast</td>\n",
       "      <td>Very Fast</td>\n",
       "    </tr>\n",
       "    <tr>\n",
       "      <th>112563</th>\n",
       "      <td>0fbd856ba1d4961786fb54bd448eb7fe</td>\n",
       "      <td>96328ac15f58fbb232fe14b182103382</td>\n",
       "      <td>89675</td>\n",
       "      <td>vargem bonita</td>\n",
       "      <td>SC</td>\n",
       "      <td>937592924b66482b823ee7ecd185d0ff</td>\n",
       "      <td>delivered</td>\n",
       "      <td>2018-03-31 19:17:43</td>\n",
       "      <td>2018-03-31 19:55:18</td>\n",
       "      <td>2018-04-02 19:10:46</td>\n",
       "      <td>...</td>\n",
       "      <td>Home &amp; Garden</td>\n",
       "      <td>74949.0</td>\n",
       "      <td>17</td>\n",
       "      <td>6</td>\n",
       "      <td>4</td>\n",
       "      <td>OnTime/Early</td>\n",
       "      <td>OnTime/Early</td>\n",
       "      <td>Neutral</td>\n",
       "      <td>Very Fast</td>\n",
       "      <td>Very Fast</td>\n",
       "    </tr>\n",
       "    <tr>\n",
       "      <th>112564</th>\n",
       "      <td>aa0533eb31ed3be79086f11bb2bec430</td>\n",
       "      <td>a490d5875edefe9bb8f5101ec2f6b56f</td>\n",
       "      <td>13870</td>\n",
       "      <td>sao joao da boa vista</td>\n",
       "      <td>SP</td>\n",
       "      <td>e22a3e8048469ea68906f666d446c25c</td>\n",
       "      <td>delivered</td>\n",
       "      <td>2017-08-28 09:48:01</td>\n",
       "      <td>2017-08-28 10:05:04</td>\n",
       "      <td>2017-08-29 11:05:28</td>\n",
       "      <td>...</td>\n",
       "      <td>Home &amp; Garden</td>\n",
       "      <td>15120.0</td>\n",
       "      <td>21</td>\n",
       "      <td>8</td>\n",
       "      <td>7</td>\n",
       "      <td>OnTime/Early</td>\n",
       "      <td>OnTime/Early</td>\n",
       "      <td>Neutral</td>\n",
       "      <td>Fast</td>\n",
       "      <td>Very Fast</td>\n",
       "    </tr>\n",
       "    <tr>\n",
       "      <th>112565</th>\n",
       "      <td>d11524bb77c28efad04e4467eac8a660</td>\n",
       "      <td>6968d41eb700f1ea39424e04b854bf7e</td>\n",
       "      <td>30130</td>\n",
       "      <td>belo horizonte</td>\n",
       "      <td>MG</td>\n",
       "      <td>1ce0acf125f1bcd636276dd213363196</td>\n",
       "      <td>delivered</td>\n",
       "      <td>2017-07-31 18:10:29</td>\n",
       "      <td>2017-07-31 18:25:20</td>\n",
       "      <td>2017-08-02 18:22:30</td>\n",
       "      <td>...</td>\n",
       "      <td>Home &amp; Garden</td>\n",
       "      <td>23800.0</td>\n",
       "      <td>27</td>\n",
       "      <td>9</td>\n",
       "      <td>7</td>\n",
       "      <td>OnTime/Early</td>\n",
       "      <td>OnTime/Early</td>\n",
       "      <td>Slow</td>\n",
       "      <td>Fast</td>\n",
       "      <td>Very Fast</td>\n",
       "    </tr>\n",
       "    <tr>\n",
       "      <th>112566</th>\n",
       "      <td>d11524bb77c28efad04e4467eac8a660</td>\n",
       "      <td>6968d41eb700f1ea39424e04b854bf7e</td>\n",
       "      <td>30130</td>\n",
       "      <td>belo horizonte</td>\n",
       "      <td>MG</td>\n",
       "      <td>1ce0acf125f1bcd636276dd213363196</td>\n",
       "      <td>delivered</td>\n",
       "      <td>2017-07-31 18:10:29</td>\n",
       "      <td>2017-07-31 18:25:20</td>\n",
       "      <td>2017-08-02 18:22:30</td>\n",
       "      <td>...</td>\n",
       "      <td>Home &amp; Garden</td>\n",
       "      <td>23800.0</td>\n",
       "      <td>27</td>\n",
       "      <td>9</td>\n",
       "      <td>7</td>\n",
       "      <td>OnTime/Early</td>\n",
       "      <td>OnTime/Early</td>\n",
       "      <td>Slow</td>\n",
       "      <td>Fast</td>\n",
       "      <td>Very Fast</td>\n",
       "    </tr>\n",
       "  </tbody>\n",
       "</table>\n",
       "<p>112567 rows × 47 columns</p>\n",
       "</div>"
      ],
      "text/plain": [
       "                             customer_id                customer_unique_id  \\\n",
       "0       06b8999e2fba1a1fbc88172c00ba8bc7  861eff4711a542e4b93843c6dd7febb0   \n",
       "1       8912fc0c3bbf1e2fbf35819e21706718  9eae34bbd3a474ec5d07949ca7de67c0   \n",
       "2       8912fc0c3bbf1e2fbf35819e21706718  9eae34bbd3a474ec5d07949ca7de67c0   \n",
       "3       f0ac8e5a239118859b1734e1087cbb1f  3c799d181c34d51f6d44bbbc563024db   \n",
       "4       6bc8d08963a135220ed6c6d098831f84  23397e992b09769faf5e66f9e171a241   \n",
       "...                                  ...                               ...   \n",
       "112562  e548277911829ffe81aac2b4407de701  a0abd26659c9914690cbd3320d39fd96   \n",
       "112563  0fbd856ba1d4961786fb54bd448eb7fe  96328ac15f58fbb232fe14b182103382   \n",
       "112564  aa0533eb31ed3be79086f11bb2bec430  a490d5875edefe9bb8f5101ec2f6b56f   \n",
       "112565  d11524bb77c28efad04e4467eac8a660  6968d41eb700f1ea39424e04b854bf7e   \n",
       "112566  d11524bb77c28efad04e4467eac8a660  6968d41eb700f1ea39424e04b854bf7e   \n",
       "\n",
       "        customer_zip_code_prefix          customer_city customer_state  \\\n",
       "0                          14409                 franca             SP   \n",
       "1                          68030               santarem             PA   \n",
       "2                          68030               santarem             PA   \n",
       "3                          92480        nova santa rita             RS   \n",
       "4                          25931                   mage             RJ   \n",
       "...                          ...                    ...            ...   \n",
       "112562                     92412                 canoas             RS   \n",
       "112563                     89675          vargem bonita             SC   \n",
       "112564                     13870  sao joao da boa vista             SP   \n",
       "112565                     30130         belo horizonte             MG   \n",
       "112566                     30130         belo horizonte             MG   \n",
       "\n",
       "                                order_id order_status  \\\n",
       "0       00e7ee1b050b8499577073aeb2a297a1    delivered   \n",
       "1       c1d2b34febe9cd269e378117d6681172    delivered   \n",
       "2       c1d2b34febe9cd269e378117d6681172    delivered   \n",
       "3       b1a5d5365d330d10485e0203d54ab9e8    delivered   \n",
       "4       2e604b3614664aa66867856dba7e61b7    delivered   \n",
       "...                                  ...          ...   \n",
       "112562  a5f8439f1e560659a492608e370ecde2    delivered   \n",
       "112563  937592924b66482b823ee7ecd185d0ff    delivered   \n",
       "112564  e22a3e8048469ea68906f666d446c25c    delivered   \n",
       "112565  1ce0acf125f1bcd636276dd213363196    delivered   \n",
       "112566  1ce0acf125f1bcd636276dd213363196    delivered   \n",
       "\n",
       "       order_purchase_timestamp    order_approved_at  \\\n",
       "0           2017-05-16 15:05:35  2017-05-16 15:22:12   \n",
       "1           2017-11-09 00:50:13  2017-11-10 00:47:48   \n",
       "2           2017-11-09 00:50:13  2017-11-10 00:47:48   \n",
       "3           2017-05-07 20:11:26  2017-05-08 22:22:56   \n",
       "4           2018-02-03 19:45:40  2018-02-04 22:29:19   \n",
       "...                         ...                  ...   \n",
       "112562      2017-05-27 14:03:20  2017-05-27 14:15:16   \n",
       "112563      2018-03-31 19:17:43  2018-03-31 19:55:18   \n",
       "112564      2017-08-28 09:48:01  2017-08-28 10:05:04   \n",
       "112565      2017-07-31 18:10:29  2017-07-31 18:25:20   \n",
       "112566      2017-07-31 18:10:29  2017-07-31 18:25:20   \n",
       "\n",
       "       order_delivered_carrier_date  ... product_category product_vol_cm3  \\\n",
       "0               2017-05-23 10:47:57  ...        Furniture        107136.0   \n",
       "1               2017-11-22 01:43:37  ...        Furniture        107136.0   \n",
       "2               2017-11-22 01:43:37  ...        Furniture        107136.0   \n",
       "3               2017-05-19 20:16:31  ...        Furniture        107136.0   \n",
       "4               2018-02-19 18:21:47  ...        Furniture        107136.0   \n",
       "...                             ...  ...              ...             ...   \n",
       "112562          2017-05-29 09:30:43  ...    Home & Garden         45375.0   \n",
       "112563          2018-04-02 19:10:46  ...    Home & Garden         74949.0   \n",
       "112564          2017-08-29 11:05:28  ...    Home & Garden         15120.0   \n",
       "112565          2017-08-02 18:22:30  ...    Home & Garden         23800.0   \n",
       "112566          2017-08-02 18:22:30  ...    Home & Garden         23800.0   \n",
       "\n",
       "       estimated_days  arrival_days shipping_days seller_to_carrier_status  \\\n",
       "0                  19             8             1                     Late   \n",
       "1                  39            18             5             OnTime/Early   \n",
       "2                  39            18             5             OnTime/Early   \n",
       "3                  35            18             6             OnTime/Early   \n",
       "4                  46            25             9                     Late   \n",
       "...               ...           ...           ...                      ...   \n",
       "112562             24             6             4             OnTime/Early   \n",
       "112563             17             6             4             OnTime/Early   \n",
       "112564             21             8             7             OnTime/Early   \n",
       "112565             27             9             7             OnTime/Early   \n",
       "112566             27             9             7             OnTime/Early   \n",
       "\n",
       "       arrival_status estimated_delivery_rate  arrival_delivery_rate  \\\n",
       "0        OnTime/Early                 Neutral                   Fast   \n",
       "1        OnTime/Early                    Slow                Neutral   \n",
       "2        OnTime/Early                    Slow                Neutral   \n",
       "3        OnTime/Early                    Slow                Neutral   \n",
       "4        OnTime/Early               Very Slow                   Slow   \n",
       "...               ...                     ...                    ...   \n",
       "112562   OnTime/Early                 Neutral              Very Fast   \n",
       "112563   OnTime/Early                 Neutral              Very Fast   \n",
       "112564   OnTime/Early                 Neutral                   Fast   \n",
       "112565   OnTime/Early                    Slow                   Fast   \n",
       "112566   OnTime/Early                    Slow                   Fast   \n",
       "\n",
       "       shipping_delivery_rate  \n",
       "0                   Very Fast  \n",
       "1                   Very Fast  \n",
       "2                   Very Fast  \n",
       "3                   Very Fast  \n",
       "4                        Fast  \n",
       "...                       ...  \n",
       "112562              Very Fast  \n",
       "112563              Very Fast  \n",
       "112564              Very Fast  \n",
       "112565              Very Fast  \n",
       "112566              Very Fast  \n",
       "\n",
       "[112567 rows x 47 columns]"
      ]
     },
     "execution_count": 38,
     "metadata": {},
     "output_type": "execute_result"
    }
   ],
   "source": [
    "df"
   ]
  },
  {
   "cell_type": "code",
   "execution_count": 39,
   "id": "2c13dafa",
   "metadata": {},
   "outputs": [
    {
     "data": {
      "text/plain": [
       "Index(['customer_id', 'customer_unique_id', 'customer_zip_code_prefix',\n",
       "       'customer_city', 'customer_state', 'order_id', 'order_status',\n",
       "       'order_purchase_timestamp', 'order_approved_at',\n",
       "       'order_delivered_carrier_date', 'order_delivered_customer_date',\n",
       "       'order_estimated_delivery_date', 'review_id', 'review_score',\n",
       "       'review_comment_title', 'review_comment_message',\n",
       "       'review_creation_date', 'review_answer_timestamp', 'order_item_id',\n",
       "       'product_id', 'seller_id', 'shipping_limit_date', 'price',\n",
       "       'freight_value', 'product_category_name', 'product_name_lenght',\n",
       "       'product_description_lenght', 'product_photos_qty', 'product_weight_g',\n",
       "       'payment_sequential', 'payment_type', 'payment_installments',\n",
       "       'payment_value', 'seller_zip_code_prefix', 'seller_city',\n",
       "       'seller_state', 'product_category_name_english', 'product_category',\n",
       "       'product_vol_cm3', 'estimated_days', 'arrival_days', 'shipping_days',\n",
       "       'seller_to_carrier_status', 'arrival_status', 'estimated_delivery_rate',\n",
       "       'arrival_delivery_rate', 'shipping_delivery_rate'],\n",
       "      dtype='object')"
      ]
     },
     "execution_count": 39,
     "metadata": {},
     "output_type": "execute_result"
    }
   ],
   "source": [
    "df.columns"
   ]
  },
  {
   "cell_type": "code",
   "execution_count": 40,
   "id": "1909c706",
   "metadata": {},
   "outputs": [],
   "source": [
    "df.to_parquet(\"olist_final.parquet\")"
   ]
  },
  {
   "cell_type": "markdown",
   "id": "6c973d91",
   "metadata": {
    "papermill": {
     "duration": 0.055273,
     "end_time": "2023-04-11T03:53:14.506676",
     "exception": false,
     "start_time": "2023-04-11T03:53:14.451403",
     "status": "completed"
    },
    "tags": []
   },
   "source": [
    "# 4.0 Exploratory Data Analysis ( EDA ) "
   ]
  },
  {
   "cell_type": "markdown",
   "id": "93eb76d9",
   "metadata": {
    "papermill": {
     "duration": 0.059879,
     "end_time": "2023-04-11T03:53:14.622398",
     "exception": false,
     "start_time": "2023-04-11T03:53:14.562519",
     "status": "completed"
    },
    "tags": []
   },
   "source": [
    "### 4.1 Univariate Analysis"
   ]
  },
  {
   "cell_type": "markdown",
   "id": "906d3703",
   "metadata": {
    "papermill": {
     "duration": 0.058784,
     "end_time": "2023-04-11T03:53:14.738449",
     "exception": false,
     "start_time": "2023-04-11T03:53:14.679665",
     "status": "completed"
    },
    "tags": []
   },
   "source": [
    "##### Top 10 Customers Capacity Cities"
   ]
  },
  {
   "cell_type": "code",
   "execution_count": 41,
   "id": "7dfc3fda",
   "metadata": {
    "execution": {
     "iopub.execute_input": "2023-04-11T03:53:14.861136Z",
     "iopub.status.busy": "2023-04-11T03:53:14.860798Z",
     "iopub.status.idle": "2023-04-11T03:53:15.108473Z",
     "shell.execute_reply": "2023-04-11T03:53:15.107443Z"
    },
    "papermill": {
     "duration": 0.310001,
     "end_time": "2023-04-11T03:53:15.110449",
     "exception": false,
     "start_time": "2023-04-11T03:53:14.800448",
     "status": "completed"
    },
    "tags": []
   },
   "outputs": [
    {
     "data": {
      "image/png": "[encoded data removed]",
      "text/plain": [
       "<Figure size 1000x600 with 1 Axes>"
      ]
     },
     "metadata": {},
     "output_type": "display_data"
    }
   ],
   "source": [
    "plt.figure(figsize=[10, 6])\n",
    "sns.barplot(x = df.customer_city.value_counts().values[:10], y = df.customer_city.value_counts().index[:10], palette= 'crest_r')\n",
    "plt.title('Top 10 Customers Capacity Cities')\n",
    "sns.despine()"
   ]
  },
  {
   "cell_type": "markdown",
   "id": "4f301185",
   "metadata": {
    "papermill": {
     "duration": 0.05967,
     "end_time": "2023-04-11T03:53:15.227527",
     "exception": false,
     "start_time": "2023-04-11T03:53:15.167857",
     "status": "completed"
    },
    "tags": []
   },
   "source": [
    "##### Top 10 Customers Capacity States"
   ]
  },
  {
   "cell_type": "code",
   "execution_count": 42,
   "id": "24fe440e",
   "metadata": {
    "execution": {
     "iopub.execute_input": "2023-04-11T03:53:15.346910Z",
     "iopub.status.busy": "2023-04-11T03:53:15.346021Z",
     "iopub.status.idle": "2023-04-11T03:53:15.550828Z",
     "shell.execute_reply": "2023-04-11T03:53:15.549753Z"
    },
    "papermill": {
     "duration": 0.265746,
     "end_time": "2023-04-11T03:53:15.552784",
     "exception": false,
     "start_time": "2023-04-11T03:53:15.287038",
     "status": "completed"
    },
    "tags": []
   },
   "outputs": [
    {
     "data": {
      "image/png": "[encoded data removed]",
      "text/plain": [
       "<Figure size 1000x600 with 1 Axes>"
      ]
     },
     "metadata": {},
     "output_type": "display_data"
    }
   ],
   "source": [
    "plt.figure(figsize=[10, 6])\n",
    "sns.barplot(x = df.customer_state.value_counts().values[:10], y = df.customer_state.value_counts().index[:10], palette= 'crest_r')\n",
    "plt.title('Top 10 Customers Capacity States')\n",
    "sns.despine()"
   ]
  },
  {
   "cell_type": "markdown",
   "id": "8311cff8",
   "metadata": {
    "papermill": {
     "duration": 0.056756,
     "end_time": "2023-04-11T03:53:15.666896",
     "exception": false,
     "start_time": "2023-04-11T03:53:15.610140",
     "status": "completed"
    },
    "tags": []
   },
   "source": [
    "##### \"Order_Status\""
   ]
  },
  {
   "cell_type": "code",
   "execution_count": null,
   "id": "3fd9aa91",
   "metadata": {
    "execution": {
     "iopub.execute_input": "2023-04-11T03:53:15.783369Z",
     "iopub.status.busy": "2023-04-11T03:53:15.782998Z",
     "iopub.status.idle": "2023-04-11T03:53:15.796781Z",
     "shell.execute_reply": "2023-04-11T03:53:15.795835Z"
    },
    "papermill": {
     "duration": 0.07506,
     "end_time": "2023-04-11T03:53:15.798881",
     "exception": false,
     "start_time": "2023-04-11T03:53:15.723821",
     "status": "completed"
    },
    "tags": []
   },
   "outputs": [],
   "source": [
    "df.order_status.value_counts()"
   ]
  },
  {
   "cell_type": "markdown",
   "id": "f5cef368",
   "metadata": {
    "papermill": {
     "duration": 0.057154,
     "end_time": "2023-04-11T03:53:15.915636",
     "exception": false,
     "start_time": "2023-04-11T03:53:15.858482",
     "status": "completed"
    },
    "tags": []
   },
   "source": [
    "#### Due to the Extreme imbalance and lack of variance in the feature, we should drop it"
   ]
  },
  {
   "cell_type": "code",
   "execution_count": null,
   "id": "941b1f86",
   "metadata": {
    "execution": {
     "iopub.execute_input": "2023-04-11T03:53:16.075965Z",
     "iopub.status.busy": "2023-04-11T03:53:16.075581Z",
     "iopub.status.idle": "2023-04-11T03:53:16.180049Z",
     "shell.execute_reply": "2023-04-11T03:53:16.178979Z"
    },
    "papermill": {
     "duration": 0.21041,
     "end_time": "2023-04-11T03:53:16.182327",
     "exception": false,
     "start_time": "2023-04-11T03:53:15.971917",
     "status": "completed"
    },
    "tags": []
   },
   "outputs": [],
   "source": [
    "df.drop('order_status', axis=1, inplace=True)"
   ]
  },
  {
   "cell_type": "markdown",
   "id": "e9ea18c0",
   "metadata": {
    "papermill": {
     "duration": 0.058767,
     "end_time": "2023-04-11T03:53:16.299978",
     "exception": false,
     "start_time": "2023-04-11T03:53:16.241211",
     "status": "completed"
    },
    "tags": []
   },
   "source": [
    "##### \" Review_Score \""
   ]
  },
  {
   "cell_type": "code",
   "execution_count": null,
   "id": "543c8d66",
   "metadata": {
    "execution": {
     "iopub.execute_input": "2023-04-11T03:53:16.416081Z",
     "iopub.status.busy": "2023-04-11T03:53:16.415696Z",
     "iopub.status.idle": "2023-04-11T03:53:16.601558Z",
     "shell.execute_reply": "2023-04-11T03:53:16.600910Z"
    },
    "papermill": {
     "duration": 0.245909,
     "end_time": "2023-04-11T03:53:16.603334",
     "exception": false,
     "start_time": "2023-04-11T03:53:16.357425",
     "status": "completed"
    },
    "tags": []
   },
   "outputs": [],
   "source": [
    "plt.figure(figsize=[15, 8])\n",
    "review_score_index = [str(i) for i in df.review_score.value_counts().index]\n",
    "sns.barplot(x = review_score_index, y= df.review_score.value_counts().values, palette= 'crest_r')\n",
    "plt.title('Review Scores')\n",
    "sns.despine()"
   ]
  },
  {
   "cell_type": "markdown",
   "id": "d4d907bb",
   "metadata": {
    "papermill": {
     "duration": 0.058128,
     "end_time": "2023-04-11T03:53:16.719681",
     "exception": false,
     "start_time": "2023-04-11T03:53:16.661553",
     "status": "completed"
    },
    "tags": []
   },
   "source": [
    "##### \" Price \" "
   ]
  },
  {
   "cell_type": "code",
   "execution_count": null,
   "id": "768b17e0",
   "metadata": {
    "execution": {
     "iopub.execute_input": "2023-04-11T03:53:16.835799Z",
     "iopub.status.busy": "2023-04-11T03:53:16.834893Z",
     "iopub.status.idle": "2023-04-11T03:53:17.705596Z",
     "shell.execute_reply": "2023-04-11T03:53:17.704481Z"
    },
    "papermill": {
     "duration": 0.931938,
     "end_time": "2023-04-11T03:53:17.707949",
     "exception": false,
     "start_time": "2023-04-11T03:53:16.776011",
     "status": "completed"
    },
    "tags": []
   },
   "outputs": [],
   "source": [
    "plt.figure(figsize=[10, 6])\n",
    "sns.set_palette('crest_r')\n",
    "sns.distplot(x = df.price)\n",
    "plt.title('Price Distribution')\n",
    "sns.despine()"
   ]
  },
  {
   "cell_type": "markdown",
   "id": "92604af5",
   "metadata": {
    "papermill": {
     "duration": 0.05971,
     "end_time": "2023-04-11T03:53:17.827312",
     "exception": false,
     "start_time": "2023-04-11T03:53:17.767602",
     "status": "completed"
    },
    "tags": []
   },
   "source": [
    "##### \" Freight Value \" "
   ]
  },
  {
   "cell_type": "code",
   "execution_count": null,
   "id": "831b849d",
   "metadata": {
    "execution": {
     "iopub.execute_input": "2023-04-11T03:53:17.945924Z",
     "iopub.status.busy": "2023-04-11T03:53:17.945551Z",
     "iopub.status.idle": "2023-04-11T03:53:18.739207Z",
     "shell.execute_reply": "2023-04-11T03:53:18.738023Z"
    },
    "papermill": {
     "duration": 0.855098,
     "end_time": "2023-04-11T03:53:18.741241",
     "exception": false,
     "start_time": "2023-04-11T03:53:17.886143",
     "status": "completed"
    },
    "tags": []
   },
   "outputs": [],
   "source": [
    "plt.figure(figsize=[10, 6])\n",
    "sns.set_palette('crest_r')\n",
    "sns.distplot(x = df.freight_value)\n",
    "plt.title('Freight Value Distribution')\n",
    "sns.despine()"
   ]
  },
  {
   "cell_type": "markdown",
   "id": "937f815a",
   "metadata": {
    "papermill": {
     "duration": 0.059474,
     "end_time": "2023-04-11T03:53:18.859491",
     "exception": false,
     "start_time": "2023-04-11T03:53:18.800017",
     "status": "completed"
    },
    "tags": []
   },
   "source": [
    "##### \" Number of orders per each Category \" "
   ]
  },
  {
   "cell_type": "code",
   "execution_count": null,
   "id": "65daacee",
   "metadata": {
    "execution": {
     "iopub.execute_input": "2023-04-11T03:53:18.980290Z",
     "iopub.status.busy": "2023-04-11T03:53:18.979943Z",
     "iopub.status.idle": "2023-04-11T03:53:19.199217Z",
     "shell.execute_reply": "2023-04-11T03:53:19.198098Z"
    },
    "papermill": {
     "duration": 0.283384,
     "end_time": "2023-04-11T03:53:19.201586",
     "exception": false,
     "start_time": "2023-04-11T03:53:18.918202",
     "status": "completed"
    },
    "tags": []
   },
   "outputs": [],
   "source": [
    "plt.figure(figsize=[10, 6])\n",
    "sns.barplot(x = df.product_category.value_counts().values, y = df.product_category.value_counts().index, palette= 'crest_r')\n",
    "plt.title('Number of orders per each Category')\n",
    "plt.xticks(rotation = 45)\n",
    "sns.despine()"
   ]
  },
  {
   "cell_type": "markdown",
   "id": "8645eb07",
   "metadata": {
    "papermill": {
     "duration": 0.057282,
     "end_time": "2023-04-11T03:53:19.317374",
     "exception": false,
     "start_time": "2023-04-11T03:53:19.260092",
     "status": "completed"
    },
    "tags": []
   },
   "source": [
    "##### \" Product Name Length \" "
   ]
  },
  {
   "cell_type": "code",
   "execution_count": null,
   "id": "7d551ad8",
   "metadata": {
    "execution": {
     "iopub.execute_input": "2023-04-11T03:53:19.433532Z",
     "iopub.status.busy": "2023-04-11T03:53:19.433169Z",
     "iopub.status.idle": "2023-04-11T03:53:20.094213Z",
     "shell.execute_reply": "2023-04-11T03:53:20.093215Z"
    },
    "papermill": {
     "duration": 0.722087,
     "end_time": "2023-04-11T03:53:20.096860",
     "exception": false,
     "start_time": "2023-04-11T03:53:19.374773",
     "status": "completed"
    },
    "tags": []
   },
   "outputs": [],
   "source": [
    "plt.figure(figsize=[10, 6])\n",
    "sns.distplot(x = df.product_name_lenght)\n",
    "plt.title('Product Name Length')\n",
    "df.product_category.value_counts().values"
   ]
  },
  {
   "cell_type": "markdown",
   "id": "c593f89f",
   "metadata": {
    "papermill": {
     "duration": 0.063136,
     "end_time": "2023-04-11T03:53:20.221769",
     "exception": false,
     "start_time": "2023-04-11T03:53:20.158633",
     "status": "completed"
    },
    "tags": []
   },
   "source": [
    "##### \" Product Description Length \" "
   ]
  },
  {
   "cell_type": "code",
   "execution_count": null,
   "id": "f41f27d9",
   "metadata": {
    "execution": {
     "iopub.execute_input": "2023-04-11T03:53:20.346421Z",
     "iopub.status.busy": "2023-04-11T03:53:20.346066Z",
     "iopub.status.idle": "2023-04-11T03:53:21.023320Z",
     "shell.execute_reply": "2023-04-11T03:53:21.022206Z"
    },
    "papermill": {
     "duration": 0.742598,
     "end_time": "2023-04-11T03:53:21.025657",
     "exception": false,
     "start_time": "2023-04-11T03:53:20.283059",
     "status": "completed"
    },
    "tags": []
   },
   "outputs": [],
   "source": [
    "plt.figure(figsize=[10, 6])\n",
    "sns.distplot(x = df.product_description_lenght)\n",
    "plt.title('Product Describtion Length')\n",
    "sns.despine()"
   ]
  },
  {
   "cell_type": "markdown",
   "id": "ba3ffbe5",
   "metadata": {
    "papermill": {
     "duration": 0.058302,
     "end_time": "2023-04-11T03:53:21.143885",
     "exception": false,
     "start_time": "2023-04-11T03:53:21.085583",
     "status": "completed"
    },
    "tags": []
   },
   "source": [
    "##### \" Product Photos Quantity \" "
   ]
  },
  {
   "cell_type": "code",
   "execution_count": null,
   "id": "b28ebe37",
   "metadata": {
    "execution": {
     "iopub.execute_input": "2023-04-11T03:53:21.265838Z",
     "iopub.status.busy": "2023-04-11T03:53:21.264407Z",
     "iopub.status.idle": "2023-04-11T03:53:21.509658Z",
     "shell.execute_reply": "2023-04-11T03:53:21.508536Z"
    },
    "papermill": {
     "duration": 0.308264,
     "end_time": "2023-04-11T03:53:21.511556",
     "exception": false,
     "start_time": "2023-04-11T03:53:21.203292",
     "status": "completed"
    },
    "tags": []
   },
   "outputs": [],
   "source": [
    "plt.figure(figsize=[10, 6])\n",
    "sns.countplot(x = df.product_photos_qty, palette= 'crest_r')\n",
    "plt.title('Product Photos Quantity')\n",
    "sns.despine()"
   ]
  },
  {
   "cell_type": "markdown",
   "id": "92cb8db3",
   "metadata": {
    "papermill": {
     "duration": 0.060742,
     "end_time": "2023-04-11T03:53:21.634237",
     "exception": false,
     "start_time": "2023-04-11T03:53:21.573495",
     "status": "completed"
    },
    "tags": []
   },
   "source": [
    "##### \" Product Weight \""
   ]
  },
  {
   "cell_type": "code",
   "execution_count": null,
   "id": "a2707307",
   "metadata": {
    "execution": {
     "iopub.execute_input": "2023-04-11T03:53:21.759826Z",
     "iopub.status.busy": "2023-04-11T03:53:21.759422Z",
     "iopub.status.idle": "2023-04-11T03:53:22.660422Z",
     "shell.execute_reply": "2023-04-11T03:53:22.659366Z"
    },
    "papermill": {
     "duration": 0.968202,
     "end_time": "2023-04-11T03:53:22.662554",
     "exception": false,
     "start_time": "2023-04-11T03:53:21.694352",
     "status": "completed"
    },
    "tags": []
   },
   "outputs": [],
   "source": [
    "plt.figure(figsize=[10, 6])\n",
    "sns.distplot(x = df.product_weight_g)\n",
    "plt.title('Product Weight')\n",
    "sns.despine()"
   ]
  },
  {
   "cell_type": "markdown",
   "id": "40166f08",
   "metadata": {
    "papermill": {
     "duration": 0.062475,
     "end_time": "2023-04-11T03:53:22.784726",
     "exception": false,
     "start_time": "2023-04-11T03:53:22.722251",
     "status": "completed"
    },
    "tags": []
   },
   "source": [
    "##### \" Product Volume \""
   ]
  },
  {
   "cell_type": "code",
   "execution_count": null,
   "id": "04c3520b",
   "metadata": {
    "execution": {
     "iopub.execute_input": "2023-04-11T03:53:22.911624Z",
     "iopub.status.busy": "2023-04-11T03:53:22.911279Z",
     "iopub.status.idle": "2023-04-11T03:53:23.658055Z",
     "shell.execute_reply": "2023-04-11T03:53:23.657182Z"
    },
    "papermill": {
     "duration": 0.812846,
     "end_time": "2023-04-11T03:53:23.660077",
     "exception": false,
     "start_time": "2023-04-11T03:53:22.847231",
     "status": "completed"
    },
    "tags": []
   },
   "outputs": [],
   "source": [
    "plt.figure(figsize=[10, 6])\n",
    "sns.distplot(x = df.product_vol_cm3)\n",
    "plt.title('Product Volume')\n",
    "sns.despine()"
   ]
  },
  {
   "cell_type": "markdown",
   "id": "6c41234a",
   "metadata": {
    "papermill": {
     "duration": 0.061845,
     "end_time": "2023-04-11T03:53:23.785065",
     "exception": false,
     "start_time": "2023-04-11T03:53:23.723220",
     "status": "completed"
    },
    "tags": []
   },
   "source": [
    "##### \" Payment Type \""
   ]
  },
  {
   "cell_type": "code",
   "execution_count": null,
   "id": "01fdbca8",
   "metadata": {
    "execution": {
     "iopub.execute_input": "2023-04-11T03:53:23.917764Z",
     "iopub.status.busy": "2023-04-11T03:53:23.916569Z",
     "iopub.status.idle": "2023-04-11T03:53:24.105946Z",
     "shell.execute_reply": "2023-04-11T03:53:24.104792Z"
    },
    "papermill": {
     "duration": 0.259294,
     "end_time": "2023-04-11T03:53:24.108291",
     "exception": false,
     "start_time": "2023-04-11T03:53:23.848997",
     "status": "completed"
    },
    "tags": []
   },
   "outputs": [],
   "source": [
    "plt.figure(figsize=[10, 10])\n",
    "plt.pie(df.payment_type.value_counts().values, explode=(0.05, 0.05, 0.05, 0.05), labels= df.payment_type.value_counts().index, autopct='%1.1f%%',shadow=True, startangle=90);"
   ]
  },
  {
   "cell_type": "markdown",
   "id": "21238931",
   "metadata": {
    "papermill": {
     "duration": 0.063352,
     "end_time": "2023-04-11T03:53:24.235378",
     "exception": false,
     "start_time": "2023-04-11T03:53:24.172026",
     "status": "completed"
    },
    "tags": []
   },
   "source": [
    "##### \" Payment Installments \""
   ]
  },
  {
   "cell_type": "code",
   "execution_count": null,
   "id": "e29d2135",
   "metadata": {
    "execution": {
     "iopub.execute_input": "2023-04-11T03:53:24.363134Z",
     "iopub.status.busy": "2023-04-11T03:53:24.362098Z",
     "iopub.status.idle": "2023-04-11T03:53:24.370509Z",
     "shell.execute_reply": "2023-04-11T03:53:24.369766Z"
    },
    "papermill": {
     "duration": 0.073789,
     "end_time": "2023-04-11T03:53:24.372247",
     "exception": false,
     "start_time": "2023-04-11T03:53:24.298458",
     "status": "completed"
    },
    "tags": []
   },
   "outputs": [],
   "source": [
    "df.payment_installments.value_counts()"
   ]
  },
  {
   "cell_type": "code",
   "execution_count": null,
   "id": "e0830a2e",
   "metadata": {
    "execution": {
     "iopub.execute_input": "2023-04-11T03:53:24.499314Z",
     "iopub.status.busy": "2023-04-11T03:53:24.498242Z",
     "iopub.status.idle": "2023-04-11T03:53:24.521102Z",
     "shell.execute_reply": "2023-04-11T03:53:24.520175Z"
    },
    "papermill": {
     "duration": 0.08913,
     "end_time": "2023-04-11T03:53:24.523519",
     "exception": false,
     "start_time": "2023-04-11T03:53:24.434389",
     "status": "completed"
    },
    "tags": []
   },
   "outputs": [],
   "source": [
    "df[df.payment_installments == 0]"
   ]
  },
  {
   "cell_type": "markdown",
   "id": "52d2b9df",
   "metadata": {
    "papermill": {
     "duration": 0.062863,
     "end_time": "2023-04-11T03:53:24.650407",
     "exception": false,
     "start_time": "2023-04-11T03:53:24.587544",
     "status": "completed"
    },
    "tags": []
   },
   "source": [
    "##### Since no of installments can't be 0, we should drop these raws"
   ]
  },
  {
   "cell_type": "code",
   "execution_count": null,
   "id": "c6877bcb",
   "metadata": {
    "execution": {
     "iopub.execute_input": "2023-04-11T03:53:24.777902Z",
     "iopub.status.busy": "2023-04-11T03:53:24.776445Z",
     "iopub.status.idle": "2023-04-11T03:53:24.837009Z",
     "shell.execute_reply": "2023-04-11T03:53:24.835994Z"
    },
    "papermill": {
     "duration": 0.126703,
     "end_time": "2023-04-11T03:53:24.839336",
     "exception": false,
     "start_time": "2023-04-11T03:53:24.712633",
     "status": "completed"
    },
    "tags": []
   },
   "outputs": [],
   "source": [
    "# Drop indices\n",
    "df.drop([29113, 29114, 96733], inplace=True)\n",
    "\n",
    "# Reset Index\n",
    "df.reset_index(inplace= True, drop= True) "
   ]
  },
  {
   "cell_type": "code",
   "execution_count": null,
   "id": "9feaff76",
   "metadata": {
    "execution": {
     "iopub.execute_input": "2023-04-11T03:53:24.967202Z",
     "iopub.status.busy": "2023-04-11T03:53:24.966890Z",
     "iopub.status.idle": "2023-04-11T03:53:25.222692Z",
     "shell.execute_reply": "2023-04-11T03:53:25.221526Z"
    },
    "papermill": {
     "duration": 0.322888,
     "end_time": "2023-04-11T03:53:25.225165",
     "exception": false,
     "start_time": "2023-04-11T03:53:24.902277",
     "status": "completed"
    },
    "tags": []
   },
   "outputs": [],
   "source": [
    "plt.figure(figsize=[10, 6])\n",
    "sns.countplot(x = df.payment_installments, palette= 'crest_r')\n",
    "plt.title('Installments Distribution')\n",
    "sns.despine()"
   ]
  },
  {
   "cell_type": "markdown",
   "id": "f2917c3e",
   "metadata": {
    "papermill": {
     "duration": 0.063378,
     "end_time": "2023-04-11T03:53:25.354439",
     "exception": false,
     "start_time": "2023-04-11T03:53:25.291061",
     "status": "completed"
    },
    "tags": []
   },
   "source": [
    "##### \" Payment Value \""
   ]
  },
  {
   "cell_type": "code",
   "execution_count": null,
   "id": "67f590d1",
   "metadata": {
    "execution": {
     "iopub.execute_input": "2023-04-11T03:53:25.484402Z",
     "iopub.status.busy": "2023-04-11T03:53:25.484061Z",
     "iopub.status.idle": "2023-04-11T03:53:26.297000Z",
     "shell.execute_reply": "2023-04-11T03:53:26.295861Z"
    },
    "papermill": {
     "duration": 0.881149,
     "end_time": "2023-04-11T03:53:26.299080",
     "exception": false,
     "start_time": "2023-04-11T03:53:25.417931",
     "status": "completed"
    },
    "tags": []
   },
   "outputs": [],
   "source": [
    "plt.figure(figsize=[10, 6])\n",
    "sns.distplot(x = df.payment_value)\n",
    "plt.title('Payment Value')\n",
    "sns.despine()"
   ]
  },
  {
   "cell_type": "markdown",
   "id": "02d5e2e6",
   "metadata": {
    "papermill": {
     "duration": 0.106324,
     "end_time": "2023-04-11T03:53:26.468930",
     "exception": false,
     "start_time": "2023-04-11T03:53:26.362606",
     "status": "completed"
    },
    "tags": []
   },
   "source": [
    "##### \" Top 10 Cities for Sellers \""
   ]
  },
  {
   "cell_type": "code",
   "execution_count": null,
   "id": "ce1f6dae",
   "metadata": {
    "execution": {
     "iopub.execute_input": "2023-04-11T03:53:26.595660Z",
     "iopub.status.busy": "2023-04-11T03:53:26.594550Z",
     "iopub.status.idle": "2023-04-11T03:53:26.814565Z",
     "shell.execute_reply": "2023-04-11T03:53:26.813577Z"
    },
    "papermill": {
     "duration": 0.286053,
     "end_time": "2023-04-11T03:53:26.817079",
     "exception": false,
     "start_time": "2023-04-11T03:53:26.531026",
     "status": "completed"
    },
    "tags": []
   },
   "outputs": [],
   "source": [
    "plt.figure(figsize=[10, 6])\n",
    "sns.barplot(x = df.seller_city.value_counts().values[:10], y= df.seller_city.value_counts().index[:10], palette= 'crest_r')\n",
    "plt.title('Top 10 Sellers Cities')\n",
    "sns.despine()"
   ]
  },
  {
   "cell_type": "markdown",
   "id": "19c6d207",
   "metadata": {
    "papermill": {
     "duration": 0.063178,
     "end_time": "2023-04-11T03:53:26.945040",
     "exception": false,
     "start_time": "2023-04-11T03:53:26.881862",
     "status": "completed"
    },
    "tags": []
   },
   "source": [
    "##### \" Top 10 Sellers Capacity States  \""
   ]
  },
  {
   "cell_type": "code",
   "execution_count": null,
   "id": "6fde87a5",
   "metadata": {
    "execution": {
     "iopub.execute_input": "2023-04-11T03:53:27.074419Z",
     "iopub.status.busy": "2023-04-11T03:53:27.074061Z",
     "iopub.status.idle": "2023-04-11T03:53:27.312068Z",
     "shell.execute_reply": "2023-04-11T03:53:27.311362Z"
    },
    "papermill": {
     "duration": 0.304987,
     "end_time": "2023-04-11T03:53:27.313918",
     "exception": false,
     "start_time": "2023-04-11T03:53:27.008931",
     "status": "completed"
    },
    "tags": []
   },
   "outputs": [],
   "source": [
    "plt.figure(figsize=[15, 8])\n",
    "sns.barplot(x = df.seller_state.value_counts().values[:10], y= df.seller_state.value_counts().index[:10], palette= 'crest_r')\n",
    "plt.title('Top 10 Sellers States')\n",
    "sns.despine()"
   ]
  },
  {
   "cell_type": "markdown",
   "id": "c08d3c34",
   "metadata": {
    "papermill": {
     "duration": 0.063349,
     "end_time": "2023-04-11T03:53:27.441819",
     "exception": false,
     "start_time": "2023-04-11T03:53:27.378470",
     "status": "completed"
    },
    "tags": []
   },
   "source": [
    "### 4.2 Multivariate Analysis"
   ]
  },
  {
   "cell_type": "markdown",
   "id": "6b053bb4",
   "metadata": {
    "papermill": {
     "duration": 0.064856,
     "end_time": "2023-04-11T03:53:27.571031",
     "exception": false,
     "start_time": "2023-04-11T03:53:27.506175",
     "status": "completed"
    },
    "tags": []
   },
   "source": [
    "### Which Cities have highest Revenue ?"
   ]
  },
  {
   "cell_type": "code",
   "execution_count": null,
   "id": "99c586f8",
   "metadata": {
    "execution": {
     "iopub.execute_input": "2023-04-11T03:53:27.702274Z",
     "iopub.status.busy": "2023-04-11T03:53:27.701927Z",
     "iopub.status.idle": "2023-04-11T03:53:27.954824Z",
     "shell.execute_reply": "2023-04-11T03:53:27.953731Z"
    },
    "papermill": {
     "duration": 0.320747,
     "end_time": "2023-04-11T03:53:27.956661",
     "exception": false,
     "start_time": "2023-04-11T03:53:27.635914",
     "status": "completed"
    },
    "tags": []
   },
   "outputs": [],
   "source": [
    "# Group customer city by payment value\n",
    "revenue_per_city = df.groupby('customer_city')[['payment_value']].sum().sort_values(by='payment_value', ascending=False)\n",
    "revenue_per_city.reset_index(inplace=True)\n",
    "\n",
    "# plot Top 10 cities with highest revenue\n",
    "plt.figure(figsize=[15, 8])\n",
    "sns.barplot(x = revenue_per_city.customer_city[:10], y= revenue_per_city.payment_value[:10], palette= 'crest_r')\n",
    "plt.title('Top 10 Cities with highest Revenue', fontsize= 15)\n",
    "plt.xlabel('Customer City', fontsize= 12)\n",
    "plt.ylabel('Total Payments in Millions',fontsize= 12)\n",
    "sns.despine()"
   ]
  },
  {
   "cell_type": "markdown",
   "id": "b5dcd53c",
   "metadata": {
    "papermill": {
     "duration": 0.066837,
     "end_time": "2023-04-11T03:53:28.087647",
     "exception": false,
     "start_time": "2023-04-11T03:53:28.020810",
     "status": "completed"
    },
    "tags": []
   },
   "source": [
    "### What is the average review score for each product category ?"
   ]
  },
  {
   "cell_type": "code",
   "execution_count": null,
   "id": "c218c529",
   "metadata": {
    "execution": {
     "iopub.execute_input": "2023-04-11T03:53:28.221852Z",
     "iopub.status.busy": "2023-04-11T03:53:28.221507Z",
     "iopub.status.idle": "2023-04-11T03:53:28.464194Z",
     "shell.execute_reply": "2023-04-11T03:53:28.463465Z"
    },
    "papermill": {
     "duration": 0.31191,
     "end_time": "2023-04-11T03:53:28.466109",
     "exception": false,
     "start_time": "2023-04-11T03:53:28.154199",
     "status": "completed"
    },
    "tags": []
   },
   "outputs": [],
   "source": [
    "# Filter product category with 4.5 or above\n",
    "review_per_cat = df.groupby('product_category')[['review_score']].mean().sort_values(by='review_score', ascending=False)\n",
    "review_per_cat.reset_index(inplace=True)\n",
    "\n",
    "# Plot Product Category vs Review Score\n",
    "plt.figure(figsize=[15, 8])\n",
    "sns.barplot(x = review_per_cat.review_score, y= review_per_cat.product_category, palette= 'crest_r')\n",
    "plt.title('Average Review Score per Product Category', fontsize= 15)\n",
    "plt.xlabel('Review Score', fontsize=12)\n",
    "plt.ylabel('Prodcut Category', fontsize= 12)\n",
    "ax = plt.gca()\n",
    "ax.set_frame_on(False);"
   ]
  },
  {
   "cell_type": "markdown",
   "id": "195a61d7",
   "metadata": {
    "papermill": {
     "duration": 0.068116,
     "end_time": "2023-04-11T03:53:28.603143",
     "exception": false,
     "start_time": "2023-04-11T03:53:28.535027",
     "status": "completed"
    },
    "tags": []
   },
   "source": [
    "### Are customers more likely to make larger payments using certain payment methods ?"
   ]
  },
  {
   "cell_type": "code",
   "execution_count": null,
   "id": "591d9815",
   "metadata": {
    "execution": {
     "iopub.execute_input": "2023-04-11T03:53:28.739099Z",
     "iopub.status.busy": "2023-04-11T03:53:28.737962Z",
     "iopub.status.idle": "2023-04-11T03:53:28.958216Z",
     "shell.execute_reply": "2023-04-11T03:53:28.956975Z"
    },
    "papermill": {
     "duration": 0.290127,
     "end_time": "2023-04-11T03:53:28.960262",
     "exception": false,
     "start_time": "2023-04-11T03:53:28.670135",
     "status": "completed"
    },
    "tags": []
   },
   "outputs": [],
   "source": [
    "# Group each payment type by average payment value\n",
    "payment_methods = df.groupby('payment_type')[['payment_value']].sum().sort_values(by='payment_value', ascending=False)\n",
    "payment_methods.reset_index(inplace=True)\n",
    "\n",
    "# plot Average payments per payment method\n",
    "plt.figure(figsize=[15, 8])\n",
    "sns.barplot(x = payment_methods.payment_type, y= payment_methods.payment_value, palette= 'crest_r')\n",
    "plt.title('Total Revenue per payment method', fontsize= 15)\n",
    "plt.xlabel('Payment Type', fontsize= 12)\n",
    "plt.ylabel('Revenue per Payment type (Millions)', fontsize= 12)\n",
    "sns.despine()"
   ]
  },
  {
   "cell_type": "code",
   "execution_count": null,
   "id": "b67ec831",
   "metadata": {
    "execution": {
     "iopub.execute_input": "2023-04-11T03:53:29.096762Z",
     "iopub.status.busy": "2023-04-11T03:53:29.096184Z",
     "iopub.status.idle": "2023-04-11T03:53:29.310417Z",
     "shell.execute_reply": "2023-04-11T03:53:29.309327Z"
    },
    "papermill": {
     "duration": 0.284349,
     "end_time": "2023-04-11T03:53:29.312392",
     "exception": false,
     "start_time": "2023-04-11T03:53:29.028043",
     "status": "completed"
    },
    "tags": []
   },
   "outputs": [],
   "source": [
    "# Group each payment type by average payment value\n",
    "payment_methods = df.groupby('payment_type')[['payment_value']].mean().sort_values(by='payment_value', ascending=False)\n",
    "payment_methods.reset_index(inplace=True)\n",
    "\n",
    "# plot Average payments per payment method\n",
    "plt.figure(figsize=[15, 8])\n",
    "sns.barplot(x = payment_methods.payment_type, y= payment_methods.payment_value, palette= 'crest_r')\n",
    "plt.title('Average payment value per payment method', fontsize= 15)\n",
    "plt.xlabel('Payment Type', fontsize= 12)\n",
    "plt.ylabel('Average Payment Value', fontsize= 12)\n",
    "sns.despine()"
   ]
  },
  {
   "cell_type": "markdown",
   "id": "d144b455",
   "metadata": {
    "papermill": {
     "duration": 0.065817,
     "end_time": "2023-04-11T03:53:29.445078",
     "exception": false,
     "start_time": "2023-04-11T03:53:29.379261",
     "status": "completed"
    },
    "tags": []
   },
   "source": [
    "### What is the average freight value for each product category ?"
   ]
  },
  {
   "cell_type": "code",
   "execution_count": null,
   "id": "74c7a066",
   "metadata": {
    "execution": {
     "iopub.execute_input": "2023-04-11T03:53:29.580423Z",
     "iopub.status.busy": "2023-04-11T03:53:29.579836Z",
     "iopub.status.idle": "2023-04-11T03:53:29.823756Z",
     "shell.execute_reply": "2023-04-11T03:53:29.822760Z"
    },
    "papermill": {
     "duration": 0.314194,
     "end_time": "2023-04-11T03:53:29.826041",
     "exception": false,
     "start_time": "2023-04-11T03:53:29.511847",
     "status": "completed"
    },
    "tags": []
   },
   "outputs": [],
   "source": [
    "# Group product category by average freight value\n",
    "freight_per_cat = df.groupby('product_category')[['freight_value']].mean().sort_values(by='freight_value', ascending=False)\n",
    "freight_per_cat.reset_index(inplace=True)\n",
    "\n",
    "# plot average freight value per product category\n",
    "plt.figure(figsize=[15, 8])\n",
    "sns.barplot(x = freight_per_cat.freight_value, y=  freight_per_cat.product_category, palette= 'crest_r')\n",
    "plt.title('Average Freight Value per Product Category', fontsize= 15)\n",
    "plt.xlabel('Average Freight Value',fontsize= 12)\n",
    "plt.ylabel('Product Category', fontsize= 12)\n",
    "ax = plt.gca()\n",
    "ax.set_frame_on(False);"
   ]
  },
  {
   "cell_type": "markdown",
   "id": "74a4f364",
   "metadata": {
    "papermill": {
     "duration": 0.066503,
     "end_time": "2023-04-11T03:53:29.960240",
     "exception": false,
     "start_time": "2023-04-11T03:53:29.893737",
     "status": "completed"
    },
    "tags": []
   },
   "source": [
    "### What is the average shipping time for each product Category ?"
   ]
  },
  {
   "cell_type": "code",
   "execution_count": null,
   "id": "6a933c59",
   "metadata": {
    "execution": {
     "iopub.execute_input": "2023-04-11T03:53:30.098055Z",
     "iopub.status.busy": "2023-04-11T03:53:30.097726Z",
     "iopub.status.idle": "2023-04-11T03:53:30.356492Z",
     "shell.execute_reply": "2023-04-11T03:53:30.355461Z"
    },
    "papermill": {
     "duration": 0.330038,
     "end_time": "2023-04-11T03:53:30.358613",
     "exception": false,
     "start_time": "2023-04-11T03:53:30.028575",
     "status": "completed"
    },
    "tags": []
   },
   "outputs": [],
   "source": [
    "# Group product category by average arrival time\n",
    "ship_per_cat = df.groupby('product_category')[['arrival_days']].mean().sort_values(by='arrival_days', ascending=False)\n",
    "ship_per_cat.reset_index(inplace=True)\n",
    "\n",
    "# plot average freight value per product category\n",
    "plt.figure(figsize=[15, 8])\n",
    "sns.barplot(x = ship_per_cat.arrival_days, y=  ship_per_cat.product_category, palette= 'crest_r')\n",
    "plt.title('Average arrival Time per Product Category', fontsize= 15)\n",
    "plt.xlabel('Average arrival time (days)',fontsize= 12)\n",
    "plt.ylabel('Product Category', fontsize= 12)\n",
    "ax = plt.gca()\n",
    "ax.set_frame_on(False);"
   ]
  },
  {
   "cell_type": "markdown",
   "id": "05e9cb08",
   "metadata": {
    "papermill": {
     "duration": 0.066842,
     "end_time": "2023-04-11T03:53:30.492602",
     "exception": false,
     "start_time": "2023-04-11T03:53:30.425760",
     "status": "completed"
    },
    "tags": []
   },
   "source": [
    "### Are Transactions done with Vouchers lead to high review score ?"
   ]
  },
  {
   "cell_type": "code",
   "execution_count": null,
   "id": "d1386e6e",
   "metadata": {
    "execution": {
     "iopub.execute_input": "2023-04-11T03:53:30.628501Z",
     "iopub.status.busy": "2023-04-11T03:53:30.628177Z",
     "iopub.status.idle": "2023-04-11T03:53:30.836388Z",
     "shell.execute_reply": "2023-04-11T03:53:30.835461Z"
    },
    "papermill": {
     "duration": 0.278798,
     "end_time": "2023-04-11T03:53:30.838260",
     "exception": false,
     "start_time": "2023-04-11T03:53:30.559462",
     "status": "completed"
    },
    "tags": []
   },
   "outputs": [],
   "source": [
    "plt.figure(figsize=[15, 8])\n",
    "voucher_trans = df[df.payment_type == 'voucher']\n",
    "sns.countplot(x= voucher_trans.review_score)"
   ]
  },
  {
   "cell_type": "markdown",
   "id": "d2e2df48",
   "metadata": {
    "papermill": {
     "duration": 0.066782,
     "end_time": "2023-04-11T03:53:30.973696",
     "exception": false,
     "start_time": "2023-04-11T03:53:30.906914",
     "status": "completed"
    },
    "tags": []
   },
   "source": [
    "### How accurate are the estimated delivery dates provided to customers ?"
   ]
  },
  {
   "cell_type": "code",
   "execution_count": null,
   "id": "52808c37",
   "metadata": {
    "execution": {
     "iopub.execute_input": "2023-04-11T03:53:31.112520Z",
     "iopub.status.busy": "2023-04-11T03:53:31.111416Z",
     "iopub.status.idle": "2023-04-11T03:53:31.258635Z",
     "shell.execute_reply": "2023-04-11T03:53:31.257678Z"
    },
    "papermill": {
     "duration": 0.218501,
     "end_time": "2023-04-11T03:53:31.260806",
     "exception": false,
     "start_time": "2023-04-11T03:53:31.042305",
     "status": "completed"
    },
    "tags": []
   },
   "outputs": [],
   "source": [
    "plt.figure(figsize=[30,8])\n",
    "Values = df.arrival_status.value_counts().values\n",
    "Labels = df.arrival_status.value_counts().index\n",
    "plt.pie(Values, explode=(0.05, 0.05), labels= ['OnTime/Early', 'Late'], autopct='%1.1f%%', shadow=True, colors= ('#0000FF', '#C0C0C0'));"
   ]
  },
  {
   "cell_type": "markdown",
   "id": "0000d647",
   "metadata": {
    "papermill": {
     "duration": 0.069282,
     "end_time": "2023-04-11T03:53:31.412135",
     "exception": false,
     "start_time": "2023-04-11T03:53:31.342853",
     "status": "completed"
    },
    "tags": []
   },
   "source": [
    "### Distribution of products categories by location ?"
   ]
  },
  {
   "cell_type": "code",
   "execution_count": null,
   "id": "2068568a",
   "metadata": {
    "execution": {
     "iopub.execute_input": "2023-04-11T03:53:31.551073Z",
     "iopub.status.busy": "2023-04-11T03:53:31.550721Z",
     "iopub.status.idle": "2023-04-11T03:53:36.349729Z",
     "shell.execute_reply": "2023-04-11T03:53:36.348564Z"
    },
    "papermill": {
     "duration": 4.871243,
     "end_time": "2023-04-11T03:53:36.352184",
     "exception": false,
     "start_time": "2023-04-11T03:53:31.480941",
     "status": "completed"
    },
    "tags": []
   },
   "outputs": [],
   "source": [
    "plt.figure(figsize=[15, 8])\n",
    "sns.scatterplot(x = geolocation_df.geolocation_lng, y = geolocation_df.geolocation_lat, hue= df.product_category)\n",
    "plt.title('Distribution Of Categories by location', fontsize= 15)\n",
    "plt.xlabel('Longitude',fontsize= 12)\n",
    "plt.ylabel('Latitude', fontsize= 12)\n",
    "ax = plt.gca()\n",
    "ax.set_frame_on(False);sns.despine()"
   ]
  },
  {
   "cell_type": "code",
   "execution_count": null,
   "id": "ddc263cc",
   "metadata": {
    "execution": {
     "iopub.execute_input": "2023-04-11T03:53:36.499953Z",
     "iopub.status.busy": "2023-04-11T03:53:36.499605Z",
     "iopub.status.idle": "2023-04-11T03:53:36.810311Z",
     "shell.execute_reply": "2023-04-11T03:53:36.808815Z"
    },
    "papermill": {
     "duration": 0.387843,
     "end_time": "2023-04-11T03:53:36.812843",
     "exception": false,
     "start_time": "2023-04-11T03:53:36.425000",
     "status": "completed"
    },
    "tags": []
   },
   "outputs": [],
   "source": [
    "# Create copy of DataFrame\n",
    "df_2 = df.copy()\n",
    "\n",
    "# Save sample for EDA Deployment\n",
    "EDA_df = df_2.drop(['customer_id', 'customer_unique_id', 'customer_zip_code_prefix', 'order_id', 'review_id', 'order_item_id', 'product_id', 'seller_id', 'seller_zip_code_prefix', 'product_category_name'], axis= 1)\n",
    "EDA_sample = EDA_df.sample(frac= 1)[:10000]\n",
    "EDA_sample.to_csv('EDA.csv')"
   ]
  },
  {
   "cell_type": "markdown",
   "id": "04e9ca12",
   "metadata": {
    "papermill": {
     "duration": 0.075561,
     "end_time": "2023-04-11T03:53:36.961600",
     "exception": false,
     "start_time": "2023-04-11T03:53:36.886039",
     "status": "completed"
    },
    "tags": []
   },
   "source": [
    "# 5.0 Data Preprocessing"
   ]
  },
  {
   "cell_type": "markdown",
   "id": "e18bb3ce",
   "metadata": {
    "papermill": {
     "duration": 0.073335,
     "end_time": "2023-04-11T03:53:37.108768",
     "exception": false,
     "start_time": "2023-04-11T03:53:37.035433",
     "status": "completed"
    },
    "tags": []
   },
   "source": [
    "### 5.1 Drop Unneccessary Features"
   ]
  },
  {
   "cell_type": "code",
   "execution_count": null,
   "id": "c959e3af",
   "metadata": {
    "execution": {
     "iopub.execute_input": "2023-04-11T03:53:37.257126Z",
     "iopub.status.busy": "2023-04-11T03:53:37.256758Z",
     "iopub.status.idle": "2023-04-11T03:53:37.285585Z",
     "shell.execute_reply": "2023-04-11T03:53:37.284527Z"
    },
    "papermill": {
     "duration": 0.105411,
     "end_time": "2023-04-11T03:53:37.287520",
     "exception": false,
     "start_time": "2023-04-11T03:53:37.182109",
     "status": "completed"
    },
    "tags": []
   },
   "outputs": [],
   "source": [
    "# Drop all ids, zip codes, datetimes, review comment and title, product length\n",
    "\n",
    "df.drop(['customer_id', 'customer_unique_id', 'customer_zip_code_prefix', 'customer_city', 'customer_state', 'order_id', 'order_purchase_timestamp',\n",
    "        'order_approved_at', 'order_delivered_carrier_date', 'order_delivered_customer_date', 'order_estimated_delivery_date',\n",
    "        'review_id', 'review_comment_title', 'review_comment_message', 'review_creation_date', 'review_answer_timestamp', 'payment_sequential',\n",
    "        'order_item_id', 'product_id', 'seller_id', 'seller_zip_code_prefix', 'seller_city', 'seller_state', 'shipping_limit_date', 'product_category_name',\n",
    "        'product_category_name_english', 'product_category', 'product_weight_g', 'product_name_lenght',\n",
    "        'product_vol_cm3'], axis= 1, inplace= True)"
   ]
  },
  {
   "cell_type": "code",
   "execution_count": null,
   "id": "fbdfabb1",
   "metadata": {},
   "outputs": [],
   "source": [
    "df"
   ]
  },
  {
   "cell_type": "code",
   "execution_count": null,
   "id": "ff6465bf",
   "metadata": {},
   "outputs": [],
   "source": [
    "df.columns"
   ]
  },
  {
   "cell_type": "code",
   "execution_count": null,
   "id": "dbf1fef2",
   "metadata": {},
   "outputs": [],
   "source": [
    "# Calculate the frequency of each payment type in the actual DataFrame\n",
    "payment_type_frequency = df['payment_type'].value_counts()\n",
    "\n",
    "# Display the frequency of each payment type\n",
    "print(payment_type_frequency)"
   ]
  },
  {
   "cell_type": "code",
   "execution_count": null,
   "id": "380f9265",
   "metadata": {},
   "outputs": [],
   "source": [
    "# Show Correlation between Features\n",
    "\n",
    "# Select only numeric columns for correlation\n",
    "numeric_df = df.select_dtypes(include=['number'])\n",
    "\n",
    "# Show Correlation between Features\n",
    "plt.figure(figsize=[10, 6])\n",
    "sns.heatmap(numeric_df.corr(), annot=True, cmap='coolwarm')\n",
    "plt.show()\n"
   ]
  },
  {
   "cell_type": "code",
   "execution_count": null,
   "id": "39939812",
   "metadata": {
    "execution": {
     "iopub.execute_input": "2023-04-11T03:53:38.447095Z",
     "iopub.status.busy": "2023-04-11T03:53:38.446770Z",
     "iopub.status.idle": "2023-04-11T03:53:38.458867Z",
     "shell.execute_reply": "2023-04-11T03:53:38.457985Z"
    },
    "papermill": {
     "duration": 0.089884,
     "end_time": "2023-04-11T03:53:38.461186",
     "exception": false,
     "start_time": "2023-04-11T03:53:38.371302",
     "status": "completed"
    },
    "tags": []
   },
   "outputs": [],
   "source": [
    "# Remove features with high correlations\n",
    "df.drop(['arrival_days', 'shipping_days'], axis= 1, inplace= True)"
   ]
  },
  {
   "cell_type": "code",
   "execution_count": null,
   "id": "f0a6ff1d",
   "metadata": {
    "execution": {
     "iopub.execute_input": "2023-04-11T03:53:38.617805Z",
     "iopub.status.busy": "2023-04-11T03:53:38.617116Z",
     "iopub.status.idle": "2023-04-11T03:53:38.632790Z",
     "shell.execute_reply": "2023-04-11T03:53:38.631853Z"
    },
    "papermill": {
     "duration": 0.095713,
     "end_time": "2023-04-11T03:53:38.634625",
     "exception": false,
     "start_time": "2023-04-11T03:53:38.538912",
     "status": "completed"
    },
    "tags": []
   },
   "outputs": [],
   "source": [
    "df.head()"
   ]
  },
  {
   "cell_type": "markdown",
   "id": "41f5c32a",
   "metadata": {
    "papermill": {
     "duration": 0.124551,
     "end_time": "2023-04-11T03:53:38.835062",
     "exception": false,
     "start_time": "2023-04-11T03:53:38.710511",
     "status": "completed"
    },
    "tags": []
   },
   "source": [
    "#### Convert Review Score from Multiclass to Binary"
   ]
  },
  {
   "cell_type": "code",
   "execution_count": null,
   "id": "b5c6d17d",
   "metadata": {
    "execution": {
     "iopub.execute_input": "2023-04-11T03:53:38.987399Z",
     "iopub.status.busy": "2023-04-11T03:53:38.986574Z",
     "iopub.status.idle": "2023-04-11T03:53:38.995330Z",
     "shell.execute_reply": "2023-04-11T03:53:38.994329Z"
    },
    "papermill": {
     "duration": 0.086867,
     "end_time": "2023-04-11T03:53:38.997777",
     "exception": false,
     "start_time": "2023-04-11T03:53:38.910910",
     "status": "completed"
    },
    "tags": []
   },
   "outputs": [],
   "source": [
    "encoded_class = { 1 : 'Not Satisfied',\n",
    "                  2 : 'Not Satisfied', \n",
    "                  3 : 'Not Satisfied', \n",
    "                  4 : 'Satisfied', \n",
    "                  5 : 'Satisfied'}\n",
    "\n",
    "df['review_score'] = df['review_score'].map(encoded_class)"
   ]
  },
  {
   "cell_type": "markdown",
   "id": "1e5cb14b",
   "metadata": {
    "papermill": {
     "duration": 0.073358,
     "end_time": "2023-04-11T03:53:39.148425",
     "exception": false,
     "start_time": "2023-04-11T03:53:39.075067",
     "status": "completed"
    },
    "tags": []
   },
   "source": [
    "#### Split Data into Input Features & Target Variable"
   ]
  },
  {
   "cell_type": "code",
   "execution_count": null,
   "id": "9a5d0637",
   "metadata": {
    "execution": {
     "iopub.execute_input": "2023-04-11T03:53:39.302996Z",
     "iopub.status.busy": "2023-04-11T03:53:39.302607Z",
     "iopub.status.idle": "2023-04-11T03:53:39.321522Z",
     "shell.execute_reply": "2023-04-11T03:53:39.320755Z"
    },
    "papermill": {
     "duration": 0.097838,
     "end_time": "2023-04-11T03:53:39.323520",
     "exception": false,
     "start_time": "2023-04-11T03:53:39.225682",
     "status": "completed"
    },
    "tags": []
   },
   "outputs": [],
   "source": [
    "X = df.drop('review_score', axis=1)\n",
    "y = df['review_score']"
   ]
  },
  {
   "cell_type": "markdown",
   "id": "703e0678",
   "metadata": {
    "papermill": {
     "duration": 0.074336,
     "end_time": "2023-04-11T03:53:39.472714",
     "exception": false,
     "start_time": "2023-04-11T03:53:39.398378",
     "status": "completed"
    },
    "tags": []
   },
   "source": [
    "### 5.2 Handling Categorical Features"
   ]
  },
  {
   "cell_type": "markdown",
   "id": "9a3cbf6f",
   "metadata": {
    "papermill": {
     "duration": 0.074257,
     "end_time": "2023-04-11T03:53:39.621095",
     "exception": false,
     "start_time": "2023-04-11T03:53:39.546838",
     "status": "completed"
    },
    "tags": []
   },
   "source": [
    "#### Handling Ordinal Features ( Label Encoding)"
   ]
  },
  {
   "cell_type": "code",
   "execution_count": null,
   "id": "22a7f8e0",
   "metadata": {
    "execution": {
     "iopub.execute_input": "2023-04-11T03:53:39.769934Z",
     "iopub.status.busy": "2023-04-11T03:53:39.769353Z",
     "iopub.status.idle": "2023-04-11T03:53:39.800621Z",
     "shell.execute_reply": "2023-04-11T03:53:39.799869Z"
    },
    "papermill": {
     "duration": 0.107657,
     "end_time": "2023-04-11T03:53:39.802764",
     "exception": false,
     "start_time": "2023-04-11T03:53:39.695107",
     "status": "completed"
    },
    "tags": []
   },
   "outputs": [],
   "source": [
    "labels = {'Very Slow' : 1, \n",
    "          'Slow' : 2, \n",
    "          'Neutral' : 3, \n",
    "          'Fast' : 4, \n",
    "          'Very Fast' : 5}\n",
    "\n",
    "X.estimated_delivery_rate = X.estimated_delivery_rate.map(labels)\n",
    "X.shipping_delivery_rate = X.shipping_delivery_rate.map(labels)\n",
    "X.arrival_delivery_rate = X.arrival_delivery_rate.map(labels)"
   ]
  },
  {
   "cell_type": "markdown",
   "id": "c6f31af1",
   "metadata": {
    "papermill": {
     "duration": 0.073992,
     "end_time": "2023-04-11T03:53:39.951033",
     "exception": false,
     "start_time": "2023-04-11T03:53:39.877041",
     "status": "completed"
    },
    "tags": []
   },
   "source": [
    "#### Handling Nominal Features ( One Hot Encoding )"
   ]
  },
  {
   "cell_type": "code",
   "execution_count": null,
   "id": "03a126b4",
   "metadata": {
    "execution": {
     "iopub.execute_input": "2023-04-11T03:53:40.102306Z",
     "iopub.status.busy": "2023-04-11T03:53:40.101698Z",
     "iopub.status.idle": "2023-04-11T03:53:40.143040Z",
     "shell.execute_reply": "2023-04-11T03:53:40.142048Z"
    },
    "papermill": {
     "duration": 0.120045,
     "end_time": "2023-04-11T03:53:40.145410",
     "exception": false,
     "start_time": "2023-04-11T03:53:40.025365",
     "status": "completed"
    },
    "tags": []
   },
   "outputs": [],
   "source": [
    "X = pd.get_dummies(X, drop_first=True)"
   ]
  },
  {
   "cell_type": "markdown",
   "id": "e148ee34",
   "metadata": {
    "papermill": {
     "duration": 0.072972,
     "end_time": "2023-04-11T03:53:40.290961",
     "exception": false,
     "start_time": "2023-04-11T03:53:40.217989",
     "status": "completed"
    },
    "tags": []
   },
   "source": [
    "#### Split Data into Train & Test"
   ]
  },
  {
   "cell_type": "code",
   "execution_count": null,
   "id": "ec99dc04",
   "metadata": {
    "execution": {
     "iopub.execute_input": "2023-04-11T03:53:40.443801Z",
     "iopub.status.busy": "2023-04-11T03:53:40.443184Z",
     "iopub.status.idle": "2023-04-11T03:53:40.865363Z",
     "shell.execute_reply": "2023-04-11T03:53:40.864170Z"
    },
    "papermill": {
     "duration": 0.503712,
     "end_time": "2023-04-11T03:53:40.867689",
     "exception": false,
     "start_time": "2023-04-11T03:53:40.363977",
     "status": "completed"
    },
    "tags": []
   },
   "outputs": [],
   "source": [
    "from sklearn.model_selection import train_test_split\n",
    "x_train, x_test, y_train, y_test = train_test_split(X, y, test_size=0.2, random_state= 42, stratify= y)"
   ]
  },
  {
   "cell_type": "markdown",
   "id": "1db2c224",
   "metadata": {
    "papermill": {
     "duration": 0.075094,
     "end_time": "2023-04-11T03:53:41.020457",
     "exception": false,
     "start_time": "2023-04-11T03:53:40.945363",
     "status": "completed"
    },
    "tags": []
   },
   "source": [
    "### 5.3 Feature Selection"
   ]
  },
  {
   "cell_type": "code",
   "execution_count": null,
   "id": "95a83dd2",
   "metadata": {
    "execution": {
     "iopub.execute_input": "2023-04-11T03:53:41.178040Z",
     "iopub.status.busy": "2023-04-11T03:53:41.177094Z",
     "iopub.status.idle": "2023-04-11T03:53:47.177520Z",
     "shell.execute_reply": "2023-04-11T03:53:47.175974Z"
    },
    "papermill": {
     "duration": 6.082755,
     "end_time": "2023-04-11T03:53:47.179993",
     "exception": false,
     "start_time": "2023-04-11T03:53:41.097238",
     "status": "completed"
    },
    "tags": []
   },
   "outputs": [],
   "source": [
    "from sklearn.feature_selection import mutual_info_classif, SelectKBest\n",
    "fs = SelectKBest(mutual_info_classif, k= 'all')\n",
    "fs.fit(x_train, y_train)\n",
    "x_train_fs = fs.transform(x_train)\n",
    "x_test_fs = fs.transform(x_test)"
   ]
  },
  {
   "cell_type": "markdown",
   "id": "c4f5d714",
   "metadata": {
    "papermill": {
     "duration": 0.074292,
     "end_time": "2023-04-11T03:53:47.330943",
     "exception": false,
     "start_time": "2023-04-11T03:53:47.256651",
     "status": "completed"
    },
    "tags": []
   },
   "source": [
    "##### Plotting Featres as per importance"
   ]
  },
  {
   "cell_type": "code",
   "execution_count": null,
   "id": "90ced4e0",
   "metadata": {
    "execution": {
     "iopub.execute_input": "2023-04-11T03:53:47.481381Z",
     "iopub.status.busy": "2023-04-11T03:53:47.481067Z",
     "iopub.status.idle": "2023-04-11T03:53:47.777736Z",
     "shell.execute_reply": "2023-04-11T03:53:47.776739Z"
    },
    "papermill": {
     "duration": 0.375103,
     "end_time": "2023-04-11T03:53:47.780138",
     "exception": false,
     "start_time": "2023-04-11T03:53:47.405035",
     "status": "completed"
    },
    "tags": []
   },
   "outputs": [],
   "source": [
    "# Get the indices sorted by most important to least important\n",
    "plt.figure(figsize=[15, 8])\n",
    "indices = np.argsort(fs.scores_)[::-1]\n",
    "\n",
    "# To get your top 10 feature names\n",
    "features = []\n",
    "for i in range(15):\n",
    "    features.append(fs.feature_names_in_[indices[i]])\n",
    "\n",
    "# Now plot\n",
    "sns.barplot(x = fs.scores_[indices[range(15)]], y = features)"
   ]
  },
  {
   "cell_type": "markdown",
   "id": "8060c157",
   "metadata": {
    "papermill": {
     "duration": 0.075253,
     "end_time": "2023-04-11T03:53:47.931777",
     "exception": false,
     "start_time": "2023-04-11T03:53:47.856524",
     "status": "completed"
    },
    "tags": []
   },
   "source": [
    "#### Select best 9 Features"
   ]
  },
  {
   "cell_type": "code",
   "execution_count": null,
   "id": "85e7c4c2",
   "metadata": {
    "execution": {
     "iopub.execute_input": "2023-04-11T03:53:48.086073Z",
     "iopub.status.busy": "2023-04-11T03:53:48.085735Z",
     "iopub.status.idle": "2023-04-11T03:53:53.914003Z",
     "shell.execute_reply": "2023-04-11T03:53:53.912947Z"
    },
    "papermill": {
     "duration": 5.908275,
     "end_time": "2023-04-11T03:53:53.916322",
     "exception": false,
     "start_time": "2023-04-11T03:53:48.008047",
     "status": "completed"
    },
    "tags": []
   },
   "outputs": [],
   "source": [
    "from sklearn.feature_selection import mutual_info_classif, SelectKBest\n",
    "fs = SelectKBest(mutual_info_classif, k= 9)\n",
    "fs.fit(x_train, y_train)\n",
    "x_train_fs = fs.transform(x_train)\n",
    "x_test_fs = fs.transform(x_test)"
   ]
  },
  {
   "cell_type": "code",
   "execution_count": null,
   "id": "497bce34",
   "metadata": {
    "execution": {
     "iopub.execute_input": "2023-04-11T03:53:54.068152Z",
     "iopub.status.busy": "2023-04-11T03:53:54.067570Z",
     "iopub.status.idle": "2023-04-11T03:53:54.072073Z",
     "shell.execute_reply": "2023-04-11T03:53:54.071298Z"
    },
    "papermill": {
     "duration": 0.08194,
     "end_time": "2023-04-11T03:53:54.073692",
     "exception": false,
     "start_time": "2023-04-11T03:53:53.991752",
     "status": "completed"
    },
    "tags": []
   },
   "outputs": [],
   "source": [
    "x_train_fs = pd.DataFrame(x_train_fs, columns= fs.get_feature_names_out())\n",
    "x_test_fs = pd.DataFrame(x_test_fs, columns= fs.get_feature_names_out())"
   ]
  },
  {
   "cell_type": "markdown",
   "id": "f397bd2d",
   "metadata": {
    "papermill": {
     "duration": 0.076084,
     "end_time": "2023-04-11T03:53:54.226947",
     "exception": false,
     "start_time": "2023-04-11T03:53:54.150863",
     "status": "completed"
    },
    "tags": []
   },
   "source": [
    "### 5.4 Feature Scaling"
   ]
  },
  {
   "cell_type": "code",
   "execution_count": null,
   "id": "4494f596",
   "metadata": {
    "execution": {
     "iopub.execute_input": "2023-04-11T03:53:54.377810Z",
     "iopub.status.busy": "2023-04-11T03:53:54.377225Z",
     "iopub.status.idle": "2023-04-11T03:53:54.388397Z",
     "shell.execute_reply": "2023-04-11T03:53:54.387763Z"
    },
    "papermill": {
     "duration": 0.08931,
     "end_time": "2023-04-11T03:53:54.390132",
     "exception": false,
     "start_time": "2023-04-11T03:53:54.300822",
     "status": "completed"
    },
    "tags": []
   },
   "outputs": [],
   "source": [
    "from sklearn.preprocessing import StandardScaler\n",
    "sc = StandardScaler(with_mean= False)\n",
    "x_train_scaled = sc.fit_transform(x_train_fs)\n",
    "x_test_scaled = sc.transform(x_test_fs)"
   ]
  },
  {
   "cell_type": "markdown",
   "id": "632d6d0a",
   "metadata": {
    "papermill": {
     "duration": 0.076577,
     "end_time": "2023-04-11T03:53:54.542122",
     "exception": false,
     "start_time": "2023-04-11T03:53:54.465545",
     "status": "completed"
    },
    "tags": []
   },
   "source": [
    "##### Convert Array to Dataframe"
   ]
  },
  {
   "cell_type": "code",
   "execution_count": null,
   "id": "c02dd31b",
   "metadata": {
    "execution": {
     "iopub.execute_input": "2023-04-11T03:53:54.696942Z",
     "iopub.status.busy": "2023-04-11T03:53:54.696402Z",
     "iopub.status.idle": "2023-04-11T03:53:54.700654Z",
     "shell.execute_reply": "2023-04-11T03:53:54.700015Z"
    },
    "papermill": {
     "duration": 0.08262,
     "end_time": "2023-04-11T03:53:54.702244",
     "exception": false,
     "start_time": "2023-04-11T03:53:54.619624",
     "status": "completed"
    },
    "tags": []
   },
   "outputs": [],
   "source": [
    "x_train_scaled = pd.DataFrame(x_train_scaled, columns= sc.get_feature_names_out())\n",
    "x_test_scaled = pd.DataFrame(x_test_scaled, columns= sc.get_feature_names_out())"
   ]
  },
  {
   "cell_type": "markdown",
   "id": "d375491f",
   "metadata": {
    "papermill": {
     "duration": 0.075902,
     "end_time": "2023-04-11T03:53:54.854995",
     "exception": false,
     "start_time": "2023-04-11T03:53:54.779093",
     "status": "completed"
    },
    "tags": []
   },
   "source": [
    "### 5.5 Handling Imbalance"
   ]
  },
  {
   "cell_type": "markdown",
   "id": "0088b626",
   "metadata": {
    "papermill": {
     "duration": 0.076257,
     "end_time": "2023-04-11T03:53:55.006647",
     "exception": false,
     "start_time": "2023-04-11T03:53:54.930390",
     "status": "completed"
    },
    "tags": []
   },
   "source": [
    "##### Check imbalance percentage"
   ]
  },
  {
   "cell_type": "code",
   "execution_count": null,
   "id": "c76dd72c",
   "metadata": {
    "execution": {
     "iopub.execute_input": "2023-04-11T03:53:55.160500Z",
     "iopub.status.busy": "2023-04-11T03:53:55.159931Z",
     "iopub.status.idle": "2023-04-11T03:53:55.169919Z",
     "shell.execute_reply": "2023-04-11T03:53:55.169220Z"
    },
    "papermill": {
     "duration": 0.088448,
     "end_time": "2023-04-11T03:53:55.171567",
     "exception": false,
     "start_time": "2023-04-11T03:53:55.083119",
     "status": "completed"
    },
    "tags": []
   },
   "outputs": [],
   "source": [
    "round((y_train.value_counts() / y_train.shape[0]) * 100, 2)"
   ]
  },
  {
   "cell_type": "markdown",
   "id": "46b6731e",
   "metadata": {
    "papermill": {
     "duration": 0.074084,
     "end_time": "2023-04-11T03:53:55.322581",
     "exception": false,
     "start_time": "2023-04-11T03:53:55.248497",
     "status": "completed"
    },
    "tags": []
   },
   "source": [
    "##### Use SMOTE for handling imbalance"
   ]
  },
  {
   "cell_type": "code",
   "execution_count": null,
   "id": "0463a2d4",
   "metadata": {
    "execution": {
     "iopub.execute_input": "2023-04-11T03:53:55.473571Z",
     "iopub.status.busy": "2023-04-11T03:53:55.473025Z",
     "iopub.status.idle": "2023-04-11T03:53:56.431034Z",
     "shell.execute_reply": "2023-04-11T03:53:56.430147Z"
    },
    "papermill": {
     "duration": 1.036085,
     "end_time": "2023-04-11T03:53:56.433337",
     "exception": false,
     "start_time": "2023-04-11T03:53:55.397252",
     "status": "completed"
    },
    "tags": []
   },
   "outputs": [],
   "source": [
    "from imblearn.over_sampling import SMOTE\n",
    "smote = SMOTE(random_state= 42)\n",
    "x_train_resampled, y_train_resampled = smote.fit_resample(x_train_scaled, y_train)"
   ]
  },
  {
   "cell_type": "markdown",
   "id": "828ebcda",
   "metadata": {
    "papermill": {
     "duration": 0.074234,
     "end_time": "2023-04-11T03:53:56.582446",
     "exception": false,
     "start_time": "2023-04-11T03:53:56.508212",
     "status": "completed"
    },
    "tags": []
   },
   "source": [
    "# 6.0 Modeling"
   ]
  },
  {
   "cell_type": "markdown",
   "id": "d307660f",
   "metadata": {
    "papermill": {
     "duration": 0.074327,
     "end_time": "2023-04-11T03:53:56.731473",
     "exception": false,
     "start_time": "2023-04-11T03:53:56.657146",
     "status": "completed"
    },
    "tags": []
   },
   "source": [
    "### 6.1 Apply ML Models"
   ]
  },
  {
   "cell_type": "markdown",
   "id": "07f19f89",
   "metadata": {
    "papermill": {
     "duration": 0.117531,
     "end_time": "2023-04-11T03:53:56.926543",
     "exception": false,
     "start_time": "2023-04-11T03:53:56.809012",
     "status": "completed"
    },
    "tags": []
   },
   "source": [
    "### Logistic Regression"
   ]
  },
  {
   "cell_type": "code",
   "execution_count": null,
   "id": "9ad909dd",
   "metadata": {},
   "outputs": [],
   "source": [
    "from sklearn.linear_model import LogisticRegression\n",
    "from sklearn.metrics import classification_report, confusion_matrix, ConfusionMatrixDisplay\n",
    "\n",
    "lr = LogisticRegression()\n",
    "lr.fit(x_train_resampled, y_train_resampled)\n",
    "\n",
    "print('Evaluation on Training \\n', classification_report(y_train_resampled, lr.predict(x_train_resampled)))\n",
    "print('Evaluation on Testing \\n', classification_report(y_test, lr.predict(x_test_scaled)))\n",
    "\n",
    "ConfusionMatrixDisplay.from_estimator(lr, x_train_resampled, y_train_resampled)\n",
    "ConfusionMatrixDisplay.from_estimator(lr, x_test_scaled, y_test)"
   ]
  },
  {
   "cell_type": "markdown",
   "id": "6fd96ba0",
   "metadata": {
    "papermill": {
     "duration": 0.075987,
     "end_time": "2023-04-11T03:54:03.743090",
     "exception": false,
     "start_time": "2023-04-11T03:54:03.667103",
     "status": "completed"
    },
    "tags": []
   },
   "source": [
    "### KNN Classifier"
   ]
  },
  {
   "cell_type": "code",
   "execution_count": null,
   "id": "7ada93b0",
   "metadata": {},
   "outputs": [],
   "source": [
    "from sklearn.neighbors import KNeighborsClassifier\n",
    "\n",
    "knn = KNeighborsClassifier()\n",
    "knn.fit(x_train_resampled, y_train_resampled)\n",
    "\n",
    "print('Evaluation on Training \\n', classification_report(y_train_resampled, knn.predict(x_train_resampled)))\n",
    "print('Evaluation on Testing \\n', classification_report(y_test, knn.predict(x_test_scaled)))"
   ]
  },
  {
   "cell_type": "code",
   "execution_count": null,
   "id": "47ca6a73",
   "metadata": {},
   "outputs": [],
   "source": [
    "from sklearn.metrics import ConfusionMatrixDisplay\n",
    "\n",
    "# For the training set\n",
    "ConfusionMatrixDisplay.from_estimator(knn, x_train_resampled, y_train_resampled)\n",
    "ConfusionMatrixDisplay.from_predictions(y_train_resampled, knn.predict(x_train_resampled))\n",
    "\n",
    "# For the testing set\n",
    "ConfusionMatrixDisplay.from_estimator(knn, x_test_scaled, y_test)\n",
    "ConfusionMatrixDisplay.from_predictions(y_test, knn.predict(x_test_scaled))\n"
   ]
  },
  {
   "cell_type": "markdown",
   "id": "dc6356c8",
   "metadata": {
    "papermill": {
     "duration": 0.078925,
     "end_time": "2023-04-11T03:54:35.186617",
     "exception": false,
     "start_time": "2023-04-11T03:54:35.107692",
     "status": "completed"
    },
    "tags": []
   },
   "source": [
    "### Decision Tree"
   ]
  },
  {
   "cell_type": "code",
   "execution_count": null,
   "id": "32f60958",
   "metadata": {},
   "outputs": [],
   "source": [
    "from sklearn.tree import DecisionTreeClassifier\n",
    "from sklearn.metrics import classification_report\n",
    "from sklearn.metrics import ConfusionMatrixDisplay\n",
    "\n",
    "# Assuming x_train_resampled, y_train_resampled, x_test_scaled, y_test are already defined\n",
    "\n",
    "dt = DecisionTreeClassifier()\n",
    "dt.fit(x_train_resampled, y_train_resampled)\n",
    "\n",
    "print('Evaluation on Training \\n', classification_report(y_train_resampled, dt.predict(x_train_resampled)))\n",
    "print('Evaluation on Testing \\n', classification_report(y_test, dt.predict(x_test_scaled)))\n",
    "\n",
    "# Plotting the confusion matrix for the training set\n",
    "ConfusionMatrixDisplay.from_estimator(dt, x_train_resampled, y_train_resampled)\n",
    "# Plotting the confusion matrix for the testing set\n",
    "ConfusionMatrixDisplay.from_estimator(dt, x_test_scaled, y_test)"
   ]
  },
  {
   "cell_type": "markdown",
   "id": "d26b6d85",
   "metadata": {
    "papermill": {
     "duration": 0.079729,
     "end_time": "2023-04-11T03:54:42.834106",
     "exception": false,
     "start_time": "2023-04-11T03:54:42.754377",
     "status": "completed"
    },
    "tags": []
   },
   "source": [
    "### Random Forest"
   ]
  },
  {
   "cell_type": "code",
   "execution_count": null,
   "id": "60e04050",
   "metadata": {},
   "outputs": [],
   "source": [
    "from sklearn.metrics import classification_report, ConfusionMatrixDisplay\n",
    "from sklearn.ensemble import RandomForestClassifier\n",
    "\n",
    "# Assuming x_train_resampled, y_train_resampled, x_test_scaled, and y_test are already defined\n",
    "\n",
    "rf = RandomForestClassifier()\n",
    "rf.fit(x_train_resampled, y_train_resampled)\n",
    "\n",
    "print('Evaluation on Training \\n', classification_report(y_train_resampled, rf.predict(x_train_resampled)))\n",
    "print('Evaluation on Testing \\n', classification_report(y_test, rf.predict(x_test_scaled)))\n",
    "\n",
    "# Plotting the confusion matrix for the training set\n",
    "ConfusionMatrixDisplay.from_estimator(rf, x_train_resampled, y_train_resampled, display_labels=['Not Satisfied', 'Satisfied'])\n",
    "\n",
    "# Plotting the confusion matrix for the testing set\n",
    "ConfusionMatrixDisplay.from_estimator(rf, x_test_scaled, y_test, display_labels=['Not Satisfied', 'Satisfied'])\n",
    "\n"
   ]
  },
  {
   "cell_type": "markdown",
   "id": "4f9a07ea",
   "metadata": {
    "papermill": {
     "duration": 0.080889,
     "end_time": "2023-04-11T03:55:32.726896",
     "exception": false,
     "start_time": "2023-04-11T03:55:32.646007",
     "status": "completed"
    },
    "tags": []
   },
   "source": [
    "### Ada Boost"
   ]
  },
  {
   "cell_type": "code",
   "execution_count": null,
   "id": "9bf12dcb",
   "metadata": {},
   "outputs": [],
   "source": [
    "from sklearn.ensemble import AdaBoostClassifier\n",
    "from sklearn.metrics import classification_report, ConfusionMatrixDisplay\n",
    "\n",
    "# Assuming x_train_resampled, y_train_resampled, x_test_scaled, and y_test are already defined\n",
    "\n",
    "ad = AdaBoostClassifier(algorithm='SAMME')\n",
    "ad.fit(x_train_resampled, y_train_resampled)\n",
    "\n",
    "print('Evaluation on Training \\n', classification_report(y_train_resampled, ad.predict(x_train_resampled)))\n",
    "print('Evaluation on Testing \\n', classification_report(y_test, ad.predict(x_test_scaled)))\n",
    "\n",
    "# Plotting the confusion matrix for the training set\n",
    "ConfusionMatrixDisplay.from_estimator(ad, x_train_resampled, y_train_resampled, display_labels=['Not Satisfied', 'Satisfied'])\n",
    "\n",
    "# Plotting the confusion matrix for the testing set\n",
    "ConfusionMatrixDisplay.from_estimator(ad, x_test_scaled, y_test, display_labels=['Not Satisfied', 'Satisfied'])\n"
   ]
  },
  {
   "cell_type": "markdown",
   "id": "3e7b68fe",
   "metadata": {
    "papermill": {
     "duration": 0.082626,
     "end_time": "2023-04-11T03:55:52.110355",
     "exception": false,
     "start_time": "2023-04-11T03:55:52.027729",
     "status": "completed"
    },
    "tags": []
   },
   "source": [
    "### XGboost"
   ]
  },
  {
   "cell_type": "code",
   "execution_count": null,
   "id": "9896cadc",
   "metadata": {},
   "outputs": [],
   "source": [
    "from xgboost import XGBClassifier\n",
    "from sklearn.preprocessing import LabelEncoder\n",
    "from sklearn.metrics import classification_report, ConfusionMatrixDisplay\n",
    "\n",
    "# Assuming x_train_resampled, y_train_resampled, x_test_scaled, and y_test are defined\n",
    "\n",
    "le = LabelEncoder()\n",
    "y_train_xg = le.fit_transform(y_train_resampled)\n",
    "y_test_xg = le.fit_transform(y_test)\n",
    "\n",
    "xg = XGBClassifier()\n",
    "xg.fit(x_train_resampled, y_train_xg)\n",
    "\n",
    "print('Evaluation on Training \\n', classification_report(y_train_xg, xg.predict(x_train_resampled)))\n",
    "print('Evaluation on Testing \\n', classification_report(y_test_xg, xg.predict(x_test_scaled)))\n",
    "\n",
    "# Plotting the confusion matrix for the training set\n",
    "ConfusionMatrixDisplay.from_estimator(xg, x_train_resampled, y_train_xg, display_labels=le.classes_)\n",
    "\n",
    "# Plotting the confusion matrix for the testing set\n",
    "ConfusionMatrixDisplay.from_estimator(xg, x_test_scaled, y_test_xg, display_labels=le.classes_)\n"
   ]
  },
  {
   "cell_type": "markdown",
   "id": "955e7789",
   "metadata": {
    "papermill": {
     "duration": 0.083095,
     "end_time": "2023-04-11T03:55:59.857093",
     "exception": false,
     "start_time": "2023-04-11T03:55:59.773998",
     "status": "completed"
    },
    "tags": []
   },
   "source": [
    "### Naive Bayes"
   ]
  },
  {
   "cell_type": "code",
   "execution_count": null,
   "id": "82053ecd",
   "metadata": {},
   "outputs": [],
   "source": [
    "from sklearn.naive_bayes import GaussianNB\n",
    "from sklearn.metrics import classification_report, ConfusionMatrixDisplay\n",
    "\n",
    "nb = GaussianNB()\n",
    "nb.fit(x_train_resampled, y_train_resampled)\n",
    "\n",
    "print('Evaluation on Training \\n', classification_report(y_train_resampled, nb.predict(x_train_resampled)))\n",
    "print('Evaluation on Testing \\n', classification_report(y_test, nb.predict(x_test_scaled)))\n",
    "\n",
    "# Plotting the confusion matrix for the training set\n",
    "ConfusionMatrixDisplay.from_estimator(nb, x_train_resampled, y_train_resampled, display_labels=np.unique(y_train_resampled))\n",
    "\n",
    "# Plotting the confusion matrix for the testing set\n",
    "ConfusionMatrixDisplay.from_estimator(nb, x_test_scaled, y_test, display_labels=np.unique(y_test))\n"
   ]
  },
  {
   "cell_type": "markdown",
   "id": "db5cb1b0",
   "metadata": {
    "papermill": {
     "duration": 0.082732,
     "end_time": "2023-04-11T03:56:05.812577",
     "exception": false,
     "start_time": "2023-04-11T03:56:05.729845",
     "status": "completed"
    },
    "tags": []
   },
   "source": [
    "### LightGBM"
   ]
  },
  {
   "cell_type": "code",
   "execution_count": null,
   "id": "9c763640",
   "metadata": {},
   "outputs": [],
   "source": [
    "import lightgbm as lgb\n",
    "from sklearn.metrics import classification_report, ConfusionMatrixDisplay\n",
    "import numpy as np\n",
    "\n",
    "lg = lgb.LGBMClassifier()\n",
    "lg.fit(x_train_resampled, y_train_resampled)\n",
    "\n",
    "print('Evaluation on Training \\n', classification_report(y_train_resampled, lg.predict(x_train_resampled)))\n",
    "print('Evaluation on Testing \\n', classification_report(y_test, lg.predict(x_test_scaled)))\n",
    "\n",
    "# Plotting the confusion matrix for the training set\n",
    "ConfusionMatrixDisplay.from_estimator(lg, x_train_resampled, y_train_resampled, display_labels=np.unique(y_train_resampled))\n",
    "\n",
    "# Plotting the confusion matrix for the testing set\n",
    "ConfusionMatrixDisplay.from_estimator(lg, x_test_scaled, y_test, display_labels=np.unique(y_test))\n"
   ]
  },
  {
   "cell_type": "code",
   "execution_count": null,
   "id": "cac74589",
   "metadata": {
    "execution": {
     "iopub.execute_input": "2023-04-11T03:56:15.073017Z",
     "iopub.status.busy": "2023-04-11T03:56:15.072586Z",
     "iopub.status.idle": "2023-04-11T03:56:24.826849Z",
     "shell.execute_reply": "2023-04-11T03:56:24.825903Z"
    },
    "papermill": {
     "duration": 9.844208,
     "end_time": "2023-04-11T03:56:24.829457",
     "exception": false,
     "start_time": "2023-04-11T03:56:14.985249",
     "status": "completed"
    },
    "tags": []
   },
   "outputs": [],
   "source": [
    "! pip install catboost"
   ]
  },
  {
   "cell_type": "markdown",
   "id": "add02da6",
   "metadata": {
    "papermill": {
     "duration": 0.085569,
     "end_time": "2023-04-11T03:56:25.001659",
     "exception": false,
     "start_time": "2023-04-11T03:56:24.916090",
     "status": "completed"
    },
    "tags": []
   },
   "source": [
    "### CatBoost"
   ]
  },
  {
   "cell_type": "code",
   "execution_count": null,
   "id": "d4d327bb",
   "metadata": {},
   "outputs": [],
   "source": [
    "import catboost as cb\n",
    "from sklearn.metrics import classification_report, ConfusionMatrixDisplay\n",
    "import numpy as np\n",
    "\n",
    "# Initialize and fit the CatBoostClassifier\n",
    "cb_model = cb.CatBoostClassifier(verbose=0)  # Set verbose to 0 to reduce logging\n",
    "cb_model.fit(x_train_resampled, y_train_resampled)\n",
    "\n",
    "# Evaluation\n",
    "print('Evaluation on Training \\n', classification_report(y_train_resampled, cb_model.predict(x_train_resampled)))\n",
    "print('Evaluation on Testing \\n', classification_report(y_test, cb_model.predict(x_test_scaled)))\n",
    "\n",
    "# Plotting the confusion matrix for the training set\n",
    "ConfusionMatrixDisplay.from_estimator(cb_model, x_train_resampled, y_train_resampled, display_labels=np.unique(y_train_resampled))\n",
    "\n",
    "# Plotting the confusion matrix for the testing set\n",
    "ConfusionMatrixDisplay.from_estimator(cb_model, x_test_scaled, y_test, display_labels=np.unique(y_test))\n"
   ]
  },
  {
   "cell_type": "markdown",
   "id": "f4eb4cf6",
   "metadata": {
    "papermill": {
     "duration": 0.094179,
     "end_time": "2023-04-11T03:56:50.410478",
     "exception": false,
     "start_time": "2023-04-11T03:56:50.316299",
     "status": "completed"
    },
    "tags": []
   },
   "source": [
    "### 6.2 Hyperparameter Tuning"
   ]
  },
  {
   "cell_type": "markdown",
   "id": "997332be",
   "metadata": {
    "papermill": {
     "duration": 0.092613,
     "end_time": "2023-04-11T03:56:50.593763",
     "exception": false,
     "start_time": "2023-04-11T03:56:50.501150",
     "status": "completed"
    },
    "tags": []
   },
   "source": [
    "#### XGboost"
   ]
  },
  {
   "cell_type": "code",
   "execution_count": null,
   "id": "62810359",
   "metadata": {
    "_kg_hide-output": false,
    "execution": {
     "iopub.execute_input": "2023-04-11T03:56:50.780080Z",
     "iopub.status.busy": "2023-04-11T03:56:50.779728Z",
     "iopub.status.idle": "2023-04-11T03:56:50.784333Z",
     "shell.execute_reply": "2023-04-11T03:56:50.783195Z"
    },
    "papermill": {
     "duration": 0.101339,
     "end_time": "2023-04-11T03:56:50.786298",
     "exception": false,
     "start_time": "2023-04-11T03:56:50.684959",
     "status": "completed"
    },
    "tags": []
   },
   "outputs": [],
   "source": [
    "from sklearn.model_selection import GridSearchCV\n",
    "\n",
    "param_grid = {\n",
    "    'learning_rate': [0.1, 0.2],\n",
    "    'max_depth': [5, 7, 8],\n",
    "    'n_estimators': [100, 200] \n",
    "    }\n",
    "grid_search = GridSearchCV(xg, param_grid= param_grid, cv= 5, scoring= 'f1_macro')\n",
    "grid_search.fit(x_train_resampled, y_train_xg)"
   ]
  },
  {
   "cell_type": "code",
   "execution_count": null,
   "id": "c8915aaf",
   "metadata": {
    "execution": {
     "iopub.execute_input": "2023-04-11T03:56:50.972573Z",
     "iopub.status.busy": "2023-04-11T03:56:50.972069Z",
     "iopub.status.idle": "2023-04-11T03:57:26.643036Z",
     "shell.execute_reply": "2023-04-11T03:57:26.641017Z"
    },
    "papermill": {
     "duration": 35.864974,
     "end_time": "2023-04-11T03:57:26.744356",
     "exception": false,
     "start_time": "2023-04-11T03:56:50.879382",
     "status": "completed"
    },
    "tags": []
   },
   "outputs": [],
   "source": [
    "final_xg_model = XGBClassifier(learning_rate= 0.2, max_depth= 8, n_estimators= 200)\n",
    "final_xg_model.fit(x_train_resampled, y_train_xg)\n",
    "\n",
    "print('Evaluation on Training \\n', classification_report(y_train_xg, final_xg_model.predict(x_train_resampled)))\n",
    "print('Evaluation on Testing \\n', classification_report(y_test_xg, final_xg_model.predict(x_test_scaled)))"
   ]
  },
  {
   "cell_type": "code",
   "execution_count": null,
   "id": "b7a2112c",
   "metadata": {},
   "outputs": [],
   "source": [
    "import catboost as cb\n",
    "from sklearn.model_selection import GridSearchCV\n",
    "\n",
    "# Initialize a CatBoostClassifier instance\n",
    "cb_model = cb.CatBoostClassifier(verbose=0)  # Set verbose to 0 to minimize output during grid search\n",
    "\n",
    "param_grid = {\n",
    "    'learning_rate': [0.1, 0.2],\n",
    "    'depth': [5, 7, 8],\n",
    "    'iterations': [100, 200]\n",
    "}\n",
    "\n",
    "# Initialize GridSearchCV with the CatBoostClassifier instance\n",
    "grid_search = GridSearchCV(cb_model, param_grid=param_grid, cv=5, scoring='f1_macro')\n",
    "\n",
    "# Fit GridSearchCV\n",
    "grid_search.fit(x_train_resampled, y_train_resampled)\n",
    "\n",
    "# Print best parameters\n",
    "print(grid_search.best_params_)\n"
   ]
  },
  {
   "cell_type": "code",
   "execution_count": null,
   "id": "5808fe1e",
   "metadata": {
    "execution": {
     "iopub.execute_input": "2023-04-11T03:57:27.191417Z",
     "iopub.status.busy": "2023-04-11T03:57:27.191035Z",
     "iopub.status.idle": "2023-04-11T03:57:36.140557Z",
     "shell.execute_reply": "2023-04-11T03:57:36.139147Z"
    },
    "papermill": {
     "duration": 9.047414,
     "end_time": "2023-04-11T03:57:36.142563",
     "exception": false,
     "start_time": "2023-04-11T03:57:27.095149",
     "status": "completed"
    },
    "tags": []
   },
   "outputs": [],
   "source": [
    "import catboost as cb\n",
    "final_cb_model = cb.CatBoostClassifier(depth= 7, iterations= 200, learning_rate= 0.2)\n",
    "final_cb_model.fit(x_train_resampled,y_train_resampled)\n",
    "print('Evaluation on Training \\n', classification_report(y_train_resampled, final_cb_model.predict(x_train_resampled)))\n",
    "print('Evaluation on Training \\n', classification_report(y_test, final_cb_model.predict(x_test_scaled)))"
   ]
  },
  {
   "cell_type": "markdown",
   "id": "6a2da21f",
   "metadata": {
    "papermill": {
     "duration": 0.092593,
     "end_time": "2023-04-11T03:57:36.328487",
     "exception": false,
     "start_time": "2023-04-11T03:57:36.235894",
     "status": "completed"
    },
    "tags": []
   },
   "source": [
    "#### RandomForest"
   ]
  },
  {
   "cell_type": "code",
   "execution_count": null,
   "id": "44ff917c",
   "metadata": {
    "execution": {
     "iopub.execute_input": "2023-04-11T03:57:36.518405Z",
     "iopub.status.busy": "2023-04-11T03:57:36.518026Z",
     "iopub.status.idle": "2023-04-11T03:57:36.521914Z",
     "shell.execute_reply": "2023-04-11T03:57:36.521014Z"
    },
    "papermill": {
     "duration": 0.102338,
     "end_time": "2023-04-11T03:57:36.523667",
     "exception": false,
     "start_time": "2023-04-11T03:57:36.421329",
     "status": "completed"
    },
    "tags": []
   },
   "outputs": [],
   "source": [
    "param_grid = {\n",
    "    'max_depth': [8, 9, 10],\n",
    "    'n_estimators': [100, 200]\n",
    "    }\n",
    "grid_search = GridSearchCV(rf, param_grid= param_grid, cv= 5, scoring= 'f1_macro')\n",
    "grid_search.fit(x_train_resampled, y_train_resampled)\n",
    "grid_search.best_params_"
   ]
  },
  {
   "cell_type": "code",
   "execution_count": null,
   "id": "7e2b0b9a",
   "metadata": {
    "execution": {
     "iopub.execute_input": "2023-04-11T03:57:36.709282Z",
     "iopub.status.busy": "2023-04-11T03:57:36.708884Z",
     "iopub.status.idle": "2023-04-11T03:58:21.253209Z",
     "shell.execute_reply": "2023-04-11T03:58:21.251551Z"
    },
    "papermill": {
     "duration": 44.640139,
     "end_time": "2023-04-11T03:58:21.255792",
     "exception": false,
     "start_time": "2023-04-11T03:57:36.615653",
     "status": "completed"
    },
    "tags": []
   },
   "outputs": [],
   "source": [
    "final_rf_model = RandomForestClassifier(n_estimators= 200, max_depth= 10)\n",
    "final_rf_model.fit(x_train_resampled,y_train_resampled)\n",
    "print('Evaluation on Training \\n', classification_report(y_train_resampled, final_rf_model.predict(x_train_resampled)))\n",
    "print('Evaluation on Training \\n', classification_report(y_test, final_rf_model.predict(x_test_scaled)))"
   ]
  },
  {
   "cell_type": "markdown",
   "id": "647b71cb",
   "metadata": {
    "papermill": {
     "duration": 0.092486,
     "end_time": "2023-04-11T03:58:21.443011",
     "exception": false,
     "start_time": "2023-04-11T03:58:21.350525",
     "status": "completed"
    },
    "tags": []
   },
   "source": [
    "#### Select XGboost for pipeline as it provides highest performance on testing"
   ]
  },
  {
   "cell_type": "markdown",
   "id": "2cee12f1",
   "metadata": {
    "papermill": {
     "duration": 0.094335,
     "end_time": "2023-04-11T03:58:21.631871",
     "exception": false,
     "start_time": "2023-04-11T03:58:21.537536",
     "status": "completed"
    },
    "tags": []
   },
   "source": [
    "# 7.0 Pipeline"
   ]
  },
  {
   "cell_type": "code",
   "execution_count": null,
   "id": "5f8f2851",
   "metadata": {
    "execution": {
     "iopub.execute_input": "2023-04-11T03:58:21.823960Z",
     "iopub.status.busy": "2023-04-11T03:58:21.823602Z",
     "iopub.status.idle": "2023-04-11T03:58:21.843667Z",
     "shell.execute_reply": "2023-04-11T03:58:21.842749Z"
    },
    "papermill": {
     "duration": 0.119655,
     "end_time": "2023-04-11T03:58:21.845527",
     "exception": false,
     "start_time": "2023-04-11T03:58:21.725872",
     "status": "completed"
    },
    "tags": []
   },
   "outputs": [],
   "source": [
    "df_pipeline = df.copy()\n",
    "df_pipeline.head()"
   ]
  },
  {
   "cell_type": "markdown",
   "id": "cc9d1314",
   "metadata": {
    "papermill": {
     "duration": 0.092782,
     "end_time": "2023-04-11T03:58:22.031578",
     "exception": false,
     "start_time": "2023-04-11T03:58:21.938796",
     "status": "completed"
    },
    "tags": []
   },
   "source": [
    "#### Encoding Review score to 0 and 1"
   ]
  },
  {
   "cell_type": "code",
   "execution_count": null,
   "id": "c8fc374d",
   "metadata": {
    "execution": {
     "iopub.execute_input": "2023-04-11T03:58:22.224304Z",
     "iopub.status.busy": "2023-04-11T03:58:22.223664Z",
     "iopub.status.idle": "2023-04-11T03:58:22.236109Z",
     "shell.execute_reply": "2023-04-11T03:58:22.235405Z"
    },
    "papermill": {
     "duration": 0.111681,
     "end_time": "2023-04-11T03:58:22.238214",
     "exception": false,
     "start_time": "2023-04-11T03:58:22.126533",
     "status": "completed"
    },
    "tags": []
   },
   "outputs": [],
   "source": [
    "encoded_class = { 'Not Satisfied' : 0,\n",
    "                  'Satisfied' : 1,\n",
    "                }\n",
    "\n",
    "df_pipeline['review_score'] = df_pipeline['review_score'].map(encoded_class)"
   ]
  },
  {
   "cell_type": "markdown",
   "id": "a9759ab4",
   "metadata": {
    "papermill": {
     "duration": 0.092344,
     "end_time": "2023-04-11T03:58:22.423109",
     "exception": false,
     "start_time": "2023-04-11T03:58:22.330765",
     "status": "completed"
    },
    "tags": []
   },
   "source": [
    "### Split Input Features and Targe Variable"
   ]
  },
  {
   "cell_type": "code",
   "execution_count": null,
   "id": "98368505",
   "metadata": {
    "execution": {
     "iopub.execute_input": "2023-04-11T03:58:22.611084Z",
     "iopub.status.busy": "2023-04-11T03:58:22.610479Z",
     "iopub.status.idle": "2023-04-11T03:58:22.623986Z",
     "shell.execute_reply": "2023-04-11T03:58:22.623253Z"
    },
    "papermill": {
     "duration": 0.109635,
     "end_time": "2023-04-11T03:58:22.626096",
     "exception": false,
     "start_time": "2023-04-11T03:58:22.516461",
     "status": "completed"
    },
    "tags": []
   },
   "outputs": [],
   "source": [
    "X = df_pipeline.drop('review_score', axis=1)\n",
    "y = df_pipeline['review_score']"
   ]
  },
  {
   "cell_type": "markdown",
   "id": "d0a9e228",
   "metadata": {
    "papermill": {
     "duration": 0.095157,
     "end_time": "2023-04-11T03:58:22.813996",
     "exception": false,
     "start_time": "2023-04-11T03:58:22.718839",
     "status": "completed"
    },
    "tags": []
   },
   "source": [
    "### Split into Train & Test"
   ]
  },
  {
   "cell_type": "code",
   "execution_count": null,
   "id": "070f210b",
   "metadata": {
    "execution": {
     "iopub.execute_input": "2023-04-11T03:58:23.004823Z",
     "iopub.status.busy": "2023-04-11T03:58:23.004218Z",
     "iopub.status.idle": "2023-04-11T03:58:23.068999Z",
     "shell.execute_reply": "2023-04-11T03:58:23.068273Z"
    },
    "papermill": {
     "duration": 0.163456,
     "end_time": "2023-04-11T03:58:23.071099",
     "exception": false,
     "start_time": "2023-04-11T03:58:22.907643",
     "status": "completed"
    },
    "tags": []
   },
   "outputs": [],
   "source": [
    "x_train, x_test, y_train, y_test = train_test_split(X, y, test_size= 0.2, random_state= 42, stratify= y)"
   ]
  },
  {
   "cell_type": "markdown",
   "id": "8a8096f3",
   "metadata": {
    "papermill": {
     "duration": 0.093828,
     "end_time": "2023-04-11T03:58:23.260243",
     "exception": false,
     "start_time": "2023-04-11T03:58:23.166415",
     "status": "completed"
    },
    "tags": []
   },
   "source": [
    "### Prepare Numerical Features"
   ]
  },
  {
   "cell_type": "code",
   "execution_count": null,
   "id": "f72f766c",
   "metadata": {
    "execution": {
     "iopub.execute_input": "2023-04-11T03:58:23.446245Z",
     "iopub.status.busy": "2023-04-11T03:58:23.445735Z",
     "iopub.status.idle": "2023-04-11T03:58:23.454052Z",
     "shell.execute_reply": "2023-04-11T03:58:23.453348Z"
    },
    "papermill": {
     "duration": 0.103065,
     "end_time": "2023-04-11T03:58:23.455896",
     "exception": false,
     "start_time": "2023-04-11T03:58:23.352831",
     "status": "completed"
    },
    "tags": []
   },
   "outputs": [],
   "source": [
    "numeric_columns = x_train.select_dtypes(exclude = 'object').columns\n",
    "numeric_columns"
   ]
  },
  {
   "cell_type": "code",
   "execution_count": null,
   "id": "9210f62e",
   "metadata": {
    "execution": {
     "iopub.execute_input": "2023-04-11T03:58:23.647498Z",
     "iopub.status.busy": "2023-04-11T03:58:23.646905Z",
     "iopub.status.idle": "2023-04-11T03:58:23.664241Z",
     "shell.execute_reply": "2023-04-11T03:58:23.663191Z"
    },
    "papermill": {
     "duration": 0.115416,
     "end_time": "2023-04-11T03:58:23.666433",
     "exception": false,
     "start_time": "2023-04-11T03:58:23.551017",
     "status": "completed"
    },
    "tags": []
   },
   "outputs": [],
   "source": [
    "from sklearn.pipeline import Pipeline\n",
    "from sklearn.impute import SimpleImputer\n",
    "from sklearn.preprocessing import StandardScaler, OneHotEncoder\n",
    "\n",
    "numerical_pipeline = Pipeline(steps=[('Handle Missing Values', SimpleImputer(strategy= 'median')), \n",
    "                                    ('Feature Scaling', StandardScaler(with_mean=False))])"
   ]
  },
  {
   "cell_type": "markdown",
   "id": "b433363e",
   "metadata": {
    "papermill": {
     "duration": 0.093668,
     "end_time": "2023-04-11T03:58:23.855278",
     "exception": false,
     "start_time": "2023-04-11T03:58:23.761610",
     "status": "completed"
    },
    "tags": []
   },
   "source": [
    "### Prepare Categorical Features"
   ]
  },
  {
   "cell_type": "code",
   "execution_count": null,
   "id": "628483ed",
   "metadata": {
    "execution": {
     "iopub.execute_input": "2023-04-11T03:58:24.095895Z",
     "iopub.status.busy": "2023-04-11T03:58:24.095208Z",
     "iopub.status.idle": "2023-04-11T03:58:24.108968Z",
     "shell.execute_reply": "2023-04-11T03:58:24.108022Z"
    },
    "papermill": {
     "duration": 0.161746,
     "end_time": "2023-04-11T03:58:24.110899",
     "exception": false,
     "start_time": "2023-04-11T03:58:23.949153",
     "status": "completed"
    },
    "tags": []
   },
   "outputs": [],
   "source": [
    "cat_columns = x_train.select_dtypes(include = 'object').columns\n",
    "cat_columns"
   ]
  },
  {
   "cell_type": "code",
   "execution_count": null,
   "id": "a5cdfd78",
   "metadata": {
    "execution": {
     "iopub.execute_input": "2023-04-11T03:58:24.307445Z",
     "iopub.status.busy": "2023-04-11T03:58:24.306796Z",
     "iopub.status.idle": "2023-04-11T03:58:24.311280Z",
     "shell.execute_reply": "2023-04-11T03:58:24.310638Z"
    },
    "papermill": {
     "duration": 0.104621,
     "end_time": "2023-04-11T03:58:24.313004",
     "exception": false,
     "start_time": "2023-04-11T03:58:24.208383",
     "status": "completed"
    },
    "tags": []
   },
   "outputs": [],
   "source": [
    "cat_pipeline = Pipeline(steps=[('Handle Missing Values', SimpleImputer(strategy= 'most_frequent')),\n",
    "                                ('OneHot Encoding', OneHotEncoder(drop= 'first')),\n",
    "                                ('Feature Scaling', StandardScaler(with_mean= False))])"
   ]
  },
  {
   "cell_type": "code",
   "execution_count": null,
   "id": "dfb2fb09",
   "metadata": {
    "execution": {
     "iopub.execute_input": "2023-04-11T03:58:24.500410Z",
     "iopub.status.busy": "2023-04-11T03:58:24.499770Z",
     "iopub.status.idle": "2023-04-11T03:58:24.532424Z",
     "shell.execute_reply": "2023-04-11T03:58:24.531449Z"
    },
    "papermill": {
     "duration": 0.128194,
     "end_time": "2023-04-11T03:58:24.534143",
     "exception": false,
     "start_time": "2023-04-11T03:58:24.405949",
     "status": "completed"
    },
    "tags": []
   },
   "outputs": [],
   "source": [
    "from sklearn.compose import ColumnTransformer\n",
    "\n",
    "preprocessing = ColumnTransformer(transformers=[('Numerical Columns', numerical_pipeline, numeric_columns),\n",
    "                                                ('Cat Columns', cat_pipeline, cat_columns)], remainder= 'passthrough')\n",
    "preprocessing"
   ]
  },
  {
   "cell_type": "code",
   "execution_count": null,
   "id": "b1194baf",
   "metadata": {
    "execution": {
     "iopub.execute_input": "2023-04-11T03:58:24.722293Z",
     "iopub.status.busy": "2023-04-11T03:58:24.721922Z",
     "iopub.status.idle": "2023-04-11T03:58:24.767896Z",
     "shell.execute_reply": "2023-04-11T03:58:24.766794Z"
    },
    "papermill": {
     "duration": 0.142375,
     "end_time": "2023-04-11T03:58:24.769666",
     "exception": false,
     "start_time": "2023-04-11T03:58:24.627291",
     "status": "completed"
    },
    "tags": []
   },
   "outputs": [],
   "source": [
    "from imblearn.pipeline import Pipeline\n",
    "from imblearn.over_sampling import SMOTE\n",
    "\n",
    "final_pipeline = Pipeline(steps=[('Preprocessing', preprocessing), ('Smote', SMOTE()), \n",
    "                                ('Model', XGBClassifier(learning_rate= 0.2, max_depth= 8, n_estimators= 200))])\n",
    "final_pipeline"
   ]
  },
  {
   "cell_type": "code",
   "execution_count": null,
   "id": "1fdb8a39",
   "metadata": {
    "execution": {
     "iopub.execute_input": "2023-04-11T03:58:24.955975Z",
     "iopub.status.busy": "2023-04-11T03:58:24.955584Z",
     "iopub.status.idle": "2023-04-11T03:59:38.467984Z",
     "shell.execute_reply": "2023-04-11T03:59:38.467064Z"
    },
    "papermill": {
     "duration": 73.706452,
     "end_time": "2023-04-11T03:59:38.567947",
     "exception": false,
     "start_time": "2023-04-11T03:58:24.861495",
     "status": "completed"
    },
    "tags": []
   },
   "outputs": [],
   "source": [
    "final_pipeline.fit(x_train, y_train)"
   ]
  },
  {
   "cell_type": "code",
   "execution_count": null,
   "id": "1500a019",
   "metadata": {
    "execution": {
     "iopub.execute_input": "2023-04-11T03:59:38.759332Z",
     "iopub.status.busy": "2023-04-11T03:59:38.758955Z",
     "iopub.status.idle": "2023-04-11T03:59:38.781581Z",
     "shell.execute_reply": "2023-04-11T03:59:38.780785Z"
    },
    "papermill": {
     "duration": 0.121391,
     "end_time": "2023-04-11T03:59:38.783464",
     "exception": false,
     "start_time": "2023-04-11T03:59:38.662073",
     "status": "completed"
    },
    "tags": []
   },
   "outputs": [],
   "source": [
    "import joblib\n",
    "joblib.dump(final_pipeline, 'Brazilian Ecommerce Classification.bkl')"
   ]
  },
  {
   "cell_type": "markdown",
   "id": "3afa6e03",
   "metadata": {
    "papermill": {
     "duration": 0.093953,
     "end_time": "2023-04-11T03:59:38.972295",
     "exception": false,
     "start_time": "2023-04-11T03:59:38.878342",
     "status": "completed"
    },
    "tags": []
   },
   "source": [
    "# 8.0 NLP For Customer Satisfaction"
   ]
  },
  {
   "cell_type": "code",
   "execution_count": null,
   "id": "265c4950",
   "metadata": {
    "execution": {
     "iopub.execute_input": "2023-04-11T03:59:39.164308Z",
     "iopub.status.busy": "2023-04-11T03:59:39.163658Z",
     "iopub.status.idle": "2023-04-11T03:59:39.175222Z",
     "shell.execute_reply": "2023-04-11T03:59:39.174164Z"
    },
    "papermill": {
     "duration": 0.110163,
     "end_time": "2023-04-11T03:59:39.177097",
     "exception": false,
     "start_time": "2023-04-11T03:59:39.066934",
     "status": "completed"
    },
    "tags": []
   },
   "outputs": [],
   "source": [
    "reviews_df.head()"
   ]
  },
  {
   "cell_type": "code",
   "execution_count": null,
   "id": "0890707b",
   "metadata": {
    "execution": {
     "iopub.execute_input": "2023-04-11T03:59:39.369341Z",
     "iopub.status.busy": "2023-04-11T03:59:39.368807Z",
     "iopub.status.idle": "2023-04-11T03:59:39.386216Z",
     "shell.execute_reply": "2023-04-11T03:59:39.385417Z"
    },
    "papermill": {
     "duration": 0.11572,
     "end_time": "2023-04-11T03:59:39.388082",
     "exception": false,
     "start_time": "2023-04-11T03:59:39.272362",
     "status": "completed"
    },
    "tags": []
   },
   "outputs": [],
   "source": [
    "# Remove 'review_comment_title' because of high missing values perentage and remove other features for unneccessity\n",
    "reviews_df = reviews_df[['review_comment_message', 'review_score']]\n",
    "\n",
    "reviews_df.info()"
   ]
  },
  {
   "cell_type": "code",
   "execution_count": null,
   "id": "a5e0a318",
   "metadata": {
    "execution": {
     "iopub.execute_input": "2023-04-11T03:59:39.578012Z",
     "iopub.status.busy": "2023-04-11T03:59:39.577352Z",
     "iopub.status.idle": "2023-04-11T03:59:39.593524Z",
     "shell.execute_reply": "2023-04-11T03:59:39.592731Z"
    },
    "papermill": {
     "duration": 0.113754,
     "end_time": "2023-04-11T03:59:39.595667",
     "exception": false,
     "start_time": "2023-04-11T03:59:39.481913",
     "status": "completed"
    },
    "tags": []
   },
   "outputs": [],
   "source": [
    "# Drop missing values\n",
    "reviews_df.dropna(inplace= True)\n",
    "\n",
    "# Rename columns for ease\n",
    "reviews_df.rename(columns = {'review_comment_message' : 'comment', 'review_score' : 'score'}, inplace= True)\n",
    "\n",
    "# Reset index\n",
    "reviews_df.reset_index(inplace= True, drop= True)"
   ]
  },
  {
   "cell_type": "code",
   "execution_count": null,
   "id": "461cbb79",
   "metadata": {
    "execution": {
     "iopub.execute_input": "2023-04-11T03:59:39.788045Z",
     "iopub.status.busy": "2023-04-11T03:59:39.787373Z",
     "iopub.status.idle": "2023-04-11T03:59:39.793674Z",
     "shell.execute_reply": "2023-04-11T03:59:39.792966Z"
    },
    "papermill": {
     "duration": 0.106624,
     "end_time": "2023-04-11T03:59:39.795946",
     "exception": false,
     "start_time": "2023-04-11T03:59:39.689322",
     "status": "completed"
    },
    "tags": []
   },
   "outputs": [],
   "source": [
    "# Encode scores to be Satisfied or Not Satisfied\n",
    "encoded_class = { 1 : 'Not Satisfied',\n",
    "                  2 : 'Not Satisfied', \n",
    "                  3 : 'Not Satisfied', \n",
    "                  4 : 'Satisfied', \n",
    "                  5 : 'Satisfied'}\n",
    "\n",
    "reviews_df['score'] = reviews_df['score'].map(encoded_class)"
   ]
  },
  {
   "cell_type": "markdown",
   "id": "0a3454d4",
   "metadata": {
    "papermill": {
     "duration": 0.095851,
     "end_time": "2023-04-11T03:59:39.987169",
     "exception": false,
     "start_time": "2023-04-11T03:59:39.891318",
     "status": "completed"
    },
    "tags": []
   },
   "source": [
    "#### Text Cleaning & Processing"
   ]
  },
  {
   "cell_type": "code",
   "execution_count": null,
   "id": "1f1b1de8",
   "metadata": {},
   "outputs": [],
   "source": [
    "import ssl\n",
    "import nltk\n",
    "\n",
    "# Attempt to disable SSL certificate verification (use with caution)\n",
    "try:\n",
    "    _create_unverified_https_context = ssl._create_unverified_context\n",
    "except AttributeError:\n",
    "    pass\n",
    "else:\n",
    "    ssl._create_default_https_context = _create_unverified_https_context\n",
    "\n",
    "nltk.download('stopwords')\n"
   ]
  },
  {
   "cell_type": "code",
   "execution_count": null,
   "id": "25a297ac",
   "metadata": {
    "execution": {
     "iopub.execute_input": "2023-04-11T03:59:40.181434Z",
     "iopub.status.busy": "2023-04-11T03:59:40.180909Z",
     "iopub.status.idle": "2023-04-11T04:01:01.109757Z",
     "shell.execute_reply": "2023-04-11T04:01:01.108245Z"
    },
    "papermill": {
     "duration": 81.133303,
     "end_time": "2023-04-11T04:01:01.218225",
     "exception": false,
     "start_time": "2023-04-11T03:59:40.084922",
     "status": "completed"
    },
    "tags": []
   },
   "outputs": [],
   "source": [
    "import re\n",
    "import nltk\n",
    "from nltk.corpus import stopwords\n",
    "from nltk.stem.porter import PorterStemmer\n",
    "\n",
    "import nltk\n",
    "nltk.download('stopwords')\n",
    "import pandas as pd\n",
    "\n",
    "stemmer = PorterStemmer()\n",
    "corpus = []\n",
    "\n",
    "for i in range(reviews_df.shape[0]):\n",
    "    # Remove any special characters or number\n",
    "    comment = re.sub('[^a-zA-Z]', ' ', reviews_df.comment[i])\n",
    "    # Lower text\n",
    "    comment = comment.lower()\n",
    "    # Remove any spaces before or after text\n",
    "    comment = comment.strip()\n",
    "    # Split text for stemming\n",
    "    comment = comment.split()\n",
    "    # Stemming words in Portugues\n",
    "    comment = [stemmer.stem(word) for word in comment if word not in set(stopwords.words('portuguese'))]\n",
    "    # Merge stemmed words to be sentences\n",
    "    comment = ' '.join(comment)\n",
    "    \n",
    "    corpus.append(comment)\n",
    "    \n",
    "corpus"
   ]
  },
  {
   "cell_type": "code",
   "execution_count": null,
   "id": "7aa373a5",
   "metadata": {
    "execution": {
     "iopub.execute_input": "2023-04-11T04:01:01.433056Z",
     "iopub.status.busy": "2023-04-11T04:01:01.432627Z",
     "iopub.status.idle": "2023-04-11T04:01:02.155789Z",
     "shell.execute_reply": "2023-04-11T04:01:02.154453Z"
    },
    "papermill": {
     "duration": 0.833284,
     "end_time": "2023-04-11T04:01:02.158779",
     "exception": false,
     "start_time": "2023-04-11T04:01:01.325495",
     "status": "completed"
    },
    "tags": []
   },
   "outputs": [],
   "source": [
    "from sklearn.feature_extraction.text import TfidfVectorizer\n",
    "\n",
    "# Use TFIDF Vectorizer to convert text into numbers\n",
    "tf = TfidfVectorizer()\n",
    "df_new = tf.fit_transform(corpus).toarray()"
   ]
  },
  {
   "cell_type": "code",
   "execution_count": null,
   "id": "55ae3c4b",
   "metadata": {
    "execution": {
     "iopub.execute_input": "2023-04-11T04:01:02.381490Z",
     "iopub.status.busy": "2023-04-11T04:01:02.381066Z",
     "iopub.status.idle": "2023-04-11T04:01:02.477031Z",
     "shell.execute_reply": "2023-04-11T04:01:02.474975Z"
    },
    "papermill": {
     "duration": 0.213397,
     "end_time": "2023-04-11T04:01:02.480026",
     "exception": false,
     "start_time": "2023-04-11T04:01:02.266629",
     "status": "completed"
    },
    "tags": []
   },
   "outputs": [],
   "source": [
    "df_new = pd.DataFrame(df_new, columns= tf.get_feature_names_out())\n",
    "df_new"
   ]
  },
  {
   "cell_type": "markdown",
   "id": "9d1c32d6",
   "metadata": {
    "papermill": {
     "duration": 0.111197,
     "end_time": "2023-04-11T04:01:02.704965",
     "exception": false,
     "start_time": "2023-04-11T04:01:02.593768",
     "status": "completed"
    },
    "tags": []
   },
   "source": [
    "#### Split into Input Features & Target Variable"
   ]
  },
  {
   "cell_type": "code",
   "execution_count": null,
   "id": "de659558",
   "metadata": {
    "execution": {
     "iopub.execute_input": "2023-04-11T04:01:02.934883Z",
     "iopub.status.busy": "2023-04-11T04:01:02.934443Z",
     "iopub.status.idle": "2023-04-11T04:01:02.942480Z",
     "shell.execute_reply": "2023-04-11T04:01:02.940901Z"
    },
    "papermill": {
     "duration": 0.123937,
     "end_time": "2023-04-11T04:01:02.945515",
     "exception": false,
     "start_time": "2023-04-11T04:01:02.821578",
     "status": "completed"
    },
    "tags": []
   },
   "outputs": [],
   "source": [
    "X = df_new\n",
    "y = reviews_df['score']"
   ]
  },
  {
   "cell_type": "markdown",
   "id": "3a55f65e",
   "metadata": {
    "papermill": {
     "duration": 0.109991,
     "end_time": "2023-04-11T04:01:03.162398",
     "exception": false,
     "start_time": "2023-04-11T04:01:03.052407",
     "status": "completed"
    },
    "tags": []
   },
   "source": [
    "#### Split data into Train & Test"
   ]
  },
  {
   "cell_type": "code",
   "execution_count": null,
   "id": "31a9bc3d",
   "metadata": {
    "execution": {
     "iopub.execute_input": "2023-04-11T04:01:03.437166Z",
     "iopub.status.busy": "2023-04-11T04:01:03.436758Z",
     "iopub.status.idle": "2023-04-11T04:01:04.595411Z",
     "shell.execute_reply": "2023-04-11T04:01:04.594199Z"
    },
    "papermill": {
     "duration": 1.329855,
     "end_time": "2023-04-11T04:01:04.598176",
     "exception": false,
     "start_time": "2023-04-11T04:01:03.268321",
     "status": "completed"
    },
    "tags": []
   },
   "outputs": [],
   "source": [
    "from sklearn.model_selection import train_test_split\n",
    "x_train, x_test, y_train, y_test = train_test_split(X, y, test_size= 0.2, random_state= 42, stratify= y)"
   ]
  },
  {
   "cell_type": "code",
   "execution_count": null,
   "id": "f417989d",
   "metadata": {},
   "outputs": [],
   "source": [
    "from sklearn.naive_bayes import MultinomialNB\n",
    "from sklearn.metrics import confusion_matrix, classification_report\n",
    "import seaborn as sns\n",
    "import matplotlib.pyplot as plt\n",
    "\n",
    "# Create a MultinomialNB classifier\n",
    "nb = MultinomialNB()\n",
    "nb.fit(x_train, y_train)  # Train the classifier\n",
    "y_pred = nb.predict(x_test)  # Make predictions\n",
    "\n",
    "# Generate the confusion matrix\n",
    "cm = confusion_matrix(y_test, y_pred)\n",
    "\n",
    "# Plot the confusion matrix\n",
    "sns.heatmap(cm, annot=True, fmt='d', cmap='Blues')\n",
    "plt.ylabel('Actual')\n",
    "plt.xlabel('Predicted')\n",
    "plt.title('Confusion Matrix')\n",
    "plt.show()\n",
    "\n",
    "# Print classification report\n",
    "print(classification_report(y_test, y_pred))\n"
   ]
  },
  {
   "cell_type": "markdown",
   "id": "3c8d0f47",
   "metadata": {
    "papermill": {
     "duration": 0.108399,
     "end_time": "2023-04-11T04:01:12.291441",
     "exception": false,
     "start_time": "2023-04-11T04:01:12.183042",
     "status": "completed"
    },
    "tags": []
   },
   "source": [
    "##### Now we have a reliable model with better results for classifying customers based on reviews, Next we should investigate further reasons for non-satisfaction."
   ]
  },
  {
   "cell_type": "markdown",
   "id": "ff69680f",
   "metadata": {
    "papermill": {
     "duration": 0.103493,
     "end_time": "2023-04-11T04:01:12.500487",
     "exception": false,
     "start_time": "2023-04-11T04:01:12.396994",
     "status": "completed"
    },
    "tags": []
   },
   "source": [
    "#### Check Reasons for Non-Satisfaction"
   ]
  },
  {
   "cell_type": "code",
   "execution_count": null,
   "id": "09a20393",
   "metadata": {
    "execution": {
     "iopub.execute_input": "2023-04-11T04:01:12.714361Z",
     "iopub.status.busy": "2023-04-11T04:01:12.714007Z",
     "iopub.status.idle": "2023-04-11T04:01:12.724404Z",
     "shell.execute_reply": "2023-04-11T04:01:12.723626Z"
    },
    "papermill": {
     "duration": 0.122953,
     "end_time": "2023-04-11T04:01:12.726984",
     "exception": false,
     "start_time": "2023-04-11T04:01:12.604031",
     "status": "completed"
    },
    "tags": []
   },
   "outputs": [],
   "source": [
    "# Create a separate DataFrame to check reasons of non satisfaction \n",
    "non_satisfied = reviews_df[reviews_df.score == 'Not Satisfied']\n",
    "\n",
    "# Reset index\n",
    "non_satisfied.reset_index(inplace= True, drop= True)"
   ]
  },
  {
   "cell_type": "markdown",
   "id": "8cc70313",
   "metadata": {
    "papermill": {
     "duration": 0.104017,
     "end_time": "2023-04-11T04:01:12.936887",
     "exception": false,
     "start_time": "2023-04-11T04:01:12.832870",
     "status": "completed"
    },
    "tags": []
   },
   "source": [
    "#### Text Cleaning & Processing"
   ]
  },
  {
   "cell_type": "code",
   "execution_count": null,
   "id": "f0aa8cba",
   "metadata": {
    "execution": {
     "iopub.execute_input": "2023-04-11T04:01:13.148181Z",
     "iopub.status.busy": "2023-04-11T04:01:13.147414Z",
     "iopub.status.idle": "2023-04-11T04:01:53.950541Z",
     "shell.execute_reply": "2023-04-11T04:01:53.949314Z"
    },
    "papermill": {
     "duration": 41.017961,
     "end_time": "2023-04-11T04:01:54.059997",
     "exception": false,
     "start_time": "2023-04-11T04:01:13.042036",
     "status": "completed"
    },
    "tags": []
   },
   "outputs": [],
   "source": [
    "stemmer = PorterStemmer()\n",
    "corpus = []\n",
    "\n",
    "for i in range(non_satisfied.shape[0]):\n",
    "    comment = re.sub('[^a-zA-Z]', ' ', non_satisfied.comment[i])\n",
    "    comment = comment.lower()\n",
    "    comment = comment.strip()\n",
    "    comment = comment.split()\n",
    "    comment = [stemmer.stem(word) for word in comment if word not in set(stopwords.words('portuguese'))]\n",
    "    comment = ' '.join(comment)\n",
    "    \n",
    "    corpus.append(comment)\n",
    "    \n",
    "corpus"
   ]
  },
  {
   "cell_type": "markdown",
   "id": "0e36e161",
   "metadata": {
    "papermill": {
     "duration": 0.099992,
     "end_time": "2023-04-11T04:01:54.262093",
     "exception": false,
     "start_time": "2023-04-11T04:01:54.162101",
     "status": "completed"
    },
    "tags": []
   },
   "source": [
    "#### Translate sample of non-satisfied comments for comprehension"
   ]
  },
  {
   "cell_type": "code",
   "execution_count": null,
   "id": "9817e066",
   "metadata": {},
   "outputs": [],
   "source": [
    "# First install deep_translator library\n",
    "#! python3 -m pip install deep_translator"
   ]
  },
  {
   "cell_type": "code",
   "execution_count": null,
   "id": "aaf0b1e4",
   "metadata": {
    "execution": {
     "iopub.execute_input": "2023-04-11T04:02:04.285930Z",
     "iopub.status.busy": "2023-04-11T04:02:04.285488Z",
     "iopub.status.idle": "2023-04-11T04:09:03.966027Z",
     "shell.execute_reply": "2023-04-11T04:09:03.964651Z"
    },
    "papermill": {
     "duration": 419.8966,
     "end_time": "2023-04-11T04:09:04.073050",
     "exception": false,
     "start_time": "2023-04-11T04:02:04.176450",
     "status": "completed"
    },
    "tags": []
   },
   "outputs": [],
   "source": [
    "from deep_translator import GoogleTranslator\n",
    "import random\n",
    "\n",
    "non_satisfied_trans = []\n",
    "random.seed(42)\n",
    "\n",
    "for sentence in random.sample(corpus, 1000):\n",
    "    non_satisfied_trans.append(GoogleTranslator(source='portuguese', target='english').translate(sentence))\n",
    "    \n",
    "non_satisfied_trans"
   ]
  },
  {
   "cell_type": "code",
   "execution_count": null,
   "id": "7207666c",
   "metadata": {
    "execution": {
     "iopub.execute_input": "2023-04-11T04:09:04.277639Z",
     "iopub.status.busy": "2023-04-11T04:09:04.276470Z",
     "iopub.status.idle": "2023-04-11T04:09:06.173304Z",
     "shell.execute_reply": "2023-04-11T04:09:06.171785Z"
    },
    "papermill": {
     "duration": 2.001814,
     "end_time": "2023-04-11T04:09:06.175431",
     "exception": false,
     "start_time": "2023-04-11T04:09:04.173617",
     "status": "completed"
    },
    "tags": []
   },
   "outputs": [],
   "source": [
    "# Apply stemming to the translated text\n",
    "non_satisfied_final = []\n",
    "\n",
    "for sent in non_satisfied_trans:\n",
    "\n",
    "    for word in sent.split():\n",
    "\n",
    "        if word not in set(stopwords.words('english')):\n",
    "\n",
    "            non_satisfied_final.append(stemmer.stem(word))\n",
    "\n",
    "non_satisfied_final"
   ]
  },
  {
   "cell_type": "code",
   "execution_count": null,
   "id": "42151429",
   "metadata": {
    "execution": {
     "iopub.execute_input": "2023-04-11T04:09:06.382188Z",
     "iopub.status.busy": "2023-04-11T04:09:06.381876Z",
     "iopub.status.idle": "2023-04-11T04:09:07.855292Z",
     "shell.execute_reply": "2023-04-11T04:09:07.853945Z"
    },
    "papermill": {
     "duration": 1.579413,
     "end_time": "2023-04-11T04:09:07.858065",
     "exception": false,
     "start_time": "2023-04-11T04:09:06.278652",
     "status": "completed"
    },
    "tags": []
   },
   "outputs": [],
   "source": [
    "# Visualize most common words for non-satsifaction\n",
    "from wordcloud import WordCloud\n",
    "\n",
    "non_satisfied_final = ' '.join(non_satisfied_final)\n",
    "non_satisfied_freq = WordCloud(width=1000, height=800, background_color='white').generate(non_satisfied_final)\n",
    "\n",
    "plt.figure(figsize=(15, 10))\n",
    "plt.imshow(non_satisfied_freq)\n",
    "plt.axis(\"off\")"
   ]
  },
  {
   "cell_type": "code",
   "execution_count": null,
   "id": "8cb25555",
   "metadata": {
    "execution": {
     "iopub.execute_input": "2023-04-11T04:09:08.078645Z",
     "iopub.status.busy": "2023-04-11T04:09:08.078312Z",
     "iopub.status.idle": "2023-04-11T04:09:08.142129Z",
     "shell.execute_reply": "2023-04-11T04:09:08.141076Z"
    },
    "papermill": {
     "duration": 0.177193,
     "end_time": "2023-04-11T04:09:08.144378",
     "exception": false,
     "start_time": "2023-04-11T04:09:07.967185",
     "status": "completed"
    },
    "tags": []
   },
   "outputs": [],
   "source": [
    "# Sort the word frequencies in descending order\n",
    "non_satisfied_freq = non_satisfied_freq.process_text(non_satisfied_final)\n",
    "sorted_word_frequencies = sorted(non_satisfied_freq.items(), key= lambda x : x[1], reverse=True)"
   ]
  },
  {
   "cell_type": "code",
   "execution_count": null,
   "id": "3d3575dd",
   "metadata": {
    "execution": {
     "iopub.execute_input": "2023-04-11T04:09:08.364799Z",
     "iopub.status.busy": "2023-04-11T04:09:08.364072Z",
     "iopub.status.idle": "2023-04-11T04:09:08.781410Z",
     "shell.execute_reply": "2023-04-11T04:09:08.780615Z"
    },
    "papermill": {
     "duration": 0.530665,
     "end_time": "2023-04-11T04:09:08.783912",
     "exception": false,
     "start_time": "2023-04-11T04:09:08.253247",
     "status": "completed"
    },
    "tags": []
   },
   "outputs": [],
   "source": [
    "# Plot Words vs Frequency\n",
    "plt.figure(figsize= [20, 10])\n",
    "sns.barplot(x = pd.DataFrame(sorted_word_frequencies)[1:20][0], y= pd.DataFrame(sorted_word_frequencies)[1:20][1], palette= 'crest_r')\n",
    "plt.title('Top 20 Words and their Frequinces', fontsize= 15)\n",
    "plt.xlabel('Words', fontsize= 12)\n",
    "plt.ylabel('Frequency', fontsize= 12)\n",
    "sns.despine()"
   ]
  },
  {
   "cell_type": "markdown",
   "id": "faf7ed9c",
   "metadata": {
    "papermill": {
     "duration": 0.106936,
     "end_time": "2023-04-11T04:09:08.999771",
     "exception": false,
     "start_time": "2023-04-11T04:09:08.892835",
     "status": "completed"
    },
    "tags": []
   },
   "source": [
    "#### From the study of non-satisfied customers reviews, we can see that majority of words mentioned are related to shipping issues."
   ]
  },
  {
   "cell_type": "markdown",
   "id": "b27682ba",
   "metadata": {
    "papermill": {
     "duration": 0.107674,
     "end_time": "2023-04-11T04:09:09.215837",
     "exception": false,
     "start_time": "2023-04-11T04:09:09.108163",
     "status": "completed"
    },
    "tags": []
   },
   "source": [
    "# 9.0 Customer Segmentation"
   ]
  },
  {
   "cell_type": "markdown",
   "id": "47a3feaa",
   "metadata": {
    "papermill": {
     "duration": 0.109594,
     "end_time": "2023-04-11T04:09:09.433242",
     "exception": false,
     "start_time": "2023-04-11T04:09:09.323648",
     "status": "completed"
    },
    "tags": []
   },
   "source": [
    "### 9.1 Customer Segmentation by RFM Analysis"
   ]
  },
  {
   "cell_type": "code",
   "execution_count": null,
   "id": "6fa81a9f",
   "metadata": {
    "execution": {
     "iopub.execute_input": "2023-04-11T04:09:09.653441Z",
     "iopub.status.busy": "2023-04-11T04:09:09.652972Z",
     "iopub.status.idle": "2023-04-11T04:09:09.679918Z",
     "shell.execute_reply": "2023-04-11T04:09:09.678927Z"
    },
    "papermill": {
     "duration": 0.141309,
     "end_time": "2023-04-11T04:09:09.681931",
     "exception": false,
     "start_time": "2023-04-11T04:09:09.540622",
     "status": "completed"
    },
    "tags": []
   },
   "outputs": [],
   "source": [
    "df_2.head()"
   ]
  },
  {
   "cell_type": "code",
   "execution_count": null,
   "id": "15bfe963",
   "metadata": {
    "execution": {
     "iopub.execute_input": "2023-04-11T04:09:09.963421Z",
     "iopub.status.busy": "2023-04-11T04:09:09.963040Z",
     "iopub.status.idle": "2023-04-11T04:09:10.257798Z",
     "shell.execute_reply": "2023-04-11T04:09:10.256275Z"
    },
    "papermill": {
     "duration": 0.465796,
     "end_time": "2023-04-11T04:09:10.260327",
     "exception": false,
     "start_time": "2023-04-11T04:09:09.794531",
     "status": "completed"
    },
    "tags": []
   },
   "outputs": [],
   "source": [
    "# Get last transaction date to help calculate Recency\n",
    "max_trans_date = max(df_2.order_purchase_timestamp).date()\n",
    "max_trans_date"
   ]
  },
  {
   "cell_type": "markdown",
   "id": "100bf831",
   "metadata": {
    "papermill": {
     "duration": 0.108092,
     "end_time": "2023-04-11T04:09:10.477718",
     "exception": false,
     "start_time": "2023-04-11T04:09:10.369626",
     "status": "completed"
    },
    "tags": []
   },
   "source": [
    "#### Create Recency, Frequancy and Monetary Features"
   ]
  },
  {
   "cell_type": "code",
   "execution_count": null,
   "id": "914b2fac",
   "metadata": {
    "execution": {
     "iopub.execute_input": "2023-04-11T04:09:10.697195Z",
     "iopub.status.busy": "2023-04-11T04:09:10.696874Z",
     "iopub.status.idle": "2023-04-11T04:09:24.151096Z",
     "shell.execute_reply": "2023-04-11T04:09:24.149618Z"
    },
    "papermill": {
     "duration": 13.565183,
     "end_time": "2023-04-11T04:09:24.153035",
     "exception": false,
     "start_time": "2023-04-11T04:09:10.587852",
     "status": "completed"
    },
    "tags": []
   },
   "outputs": [],
   "source": [
    "from datetime import datetime\n",
    "\n",
    "rfm_table = df_2.groupby('customer_unique_id').agg({'order_purchase_timestamp': lambda x:(datetime.strptime(str(max_trans_date),'%Y-%m-%d') - x.max()).days,\n",
    "                                                                'product_id': lambda x:len(x),\n",
    "                                                             'payment_value': lambda x:sum(x)})\n",
    "rfm_table"
   ]
  },
  {
   "cell_type": "code",
   "execution_count": null,
   "id": "06cede4f",
   "metadata": {
    "execution": {
     "iopub.execute_input": "2023-04-11T04:09:24.369153Z",
     "iopub.status.busy": "2023-04-11T04:09:24.368829Z",
     "iopub.status.idle": "2023-04-11T04:09:24.381087Z",
     "shell.execute_reply": "2023-04-11T04:09:24.380104Z"
    },
    "papermill": {
     "duration": 0.122924,
     "end_time": "2023-04-11T04:09:24.382988",
     "exception": false,
     "start_time": "2023-04-11T04:09:24.260064",
     "status": "completed"
    },
    "tags": []
   },
   "outputs": [],
   "source": [
    "# Rename columns\n",
    "rfm_table.rename(columns={'order_purchase_timestamp':'Recency','product_id':'Frequancy','payment_value':'Monetary'}, inplace=True)\n",
    "rfm_table"
   ]
  },
  {
   "cell_type": "markdown",
   "id": "41584eb8",
   "metadata": {
    "papermill": {
     "duration": 0.108336,
     "end_time": "2023-04-11T04:09:24.598976",
     "exception": false,
     "start_time": "2023-04-11T04:09:24.490640",
     "status": "completed"
    },
    "tags": []
   },
   "source": [
    "#### Create Recency, Frequancy and Monetary scores"
   ]
  },
  {
   "cell_type": "code",
   "execution_count": null,
   "id": "051e275c",
   "metadata": {
    "execution": {
     "iopub.execute_input": "2023-04-11T04:09:24.818962Z",
     "iopub.status.busy": "2023-04-11T04:09:24.818558Z",
     "iopub.status.idle": "2023-04-11T04:09:24.865320Z",
     "shell.execute_reply": "2023-04-11T04:09:24.864377Z"
    },
    "papermill": {
     "duration": 0.160149,
     "end_time": "2023-04-11T04:09:24.867407",
     "exception": false,
     "start_time": "2023-04-11T04:09:24.707258",
     "status": "completed"
    },
    "tags": []
   },
   "outputs": [],
   "source": [
    "rfm_table['r_score'] = pd.qcut(rfm_table['Recency'], 4, ['4','3','2','1'])\n",
    "rfm_table['f_score'] = pd.qcut(rfm_table['Frequancy'].rank(method= 'first'), 4, ['1','2','3','4'])\n",
    "rfm_table['m_score'] = pd.qcut(rfm_table['Monetary'], 4, ['1','2','3','4'])\n",
    "rfm_table"
   ]
  },
  {
   "cell_type": "code",
   "execution_count": null,
   "id": "9d8e2ea8",
   "metadata": {
    "execution": {
     "iopub.execute_input": "2023-04-11T04:09:25.085759Z",
     "iopub.status.busy": "2023-04-11T04:09:25.085140Z",
     "iopub.status.idle": "2023-04-11T04:09:25.681093Z",
     "shell.execute_reply": "2023-04-11T04:09:25.679909Z"
    },
    "papermill": {
     "duration": 0.709503,
     "end_time": "2023-04-11T04:09:25.683093",
     "exception": false,
     "start_time": "2023-04-11T04:09:24.973590",
     "status": "completed"
    },
    "tags": []
   },
   "outputs": [],
   "source": [
    "plt.figure(figsize= [10, 6])\n",
    "sns.scatterplot(x= 'Recency',y= 'Monetary', data=rfm_table)\n",
    "plt.title('Recency vs Monetary', fontsize= 15)\n",
    "sns.despine()"
   ]
  },
  {
   "cell_type": "code",
   "execution_count": null,
   "id": "44b012b7",
   "metadata": {
    "execution": {
     "iopub.execute_input": "2023-04-11T04:09:25.900158Z",
     "iopub.status.busy": "2023-04-11T04:09:25.899838Z",
     "iopub.status.idle": "2023-04-11T04:09:26.453248Z",
     "shell.execute_reply": "2023-04-11T04:09:26.452043Z"
    },
    "papermill": {
     "duration": 0.665275,
     "end_time": "2023-04-11T04:09:26.455803",
     "exception": false,
     "start_time": "2023-04-11T04:09:25.790528",
     "status": "completed"
    },
    "tags": []
   },
   "outputs": [],
   "source": [
    "plt.figure(figsize= [10, 6])\n",
    "sns.scatterplot(x='Frequancy', y='Monetary', data=rfm_table)\n",
    "plt.title('Frequancy vs Monetary', fontsize= 15)\n",
    "sns.despine()"
   ]
  },
  {
   "cell_type": "markdown",
   "id": "c439dc15",
   "metadata": {
    "papermill": {
     "duration": 0.109197,
     "end_time": "2023-04-11T04:09:26.677659",
     "exception": false,
     "start_time": "2023-04-11T04:09:26.568462",
     "status": "completed"
    },
    "tags": []
   },
   "source": [
    "#### Calculate RFM Score"
   ]
  },
  {
   "cell_type": "code",
   "execution_count": null,
   "id": "a7419c6a",
   "metadata": {
    "execution": {
     "iopub.execute_input": "2023-04-11T04:09:26.901812Z",
     "iopub.status.busy": "2023-04-11T04:09:26.901185Z",
     "iopub.status.idle": "2023-04-11T04:09:26.918766Z",
     "shell.execute_reply": "2023-04-11T04:09:26.918092Z"
    },
    "papermill": {
     "duration": 0.130949,
     "end_time": "2023-04-11T04:09:26.920464",
     "exception": false,
     "start_time": "2023-04-11T04:09:26.789515",
     "status": "completed"
    },
    "tags": []
   },
   "outputs": [],
   "source": [
    "rfm_table['rfm_score'] = 100 * rfm_table['r_score'].astype(int) + 10 * rfm_table['f_score'].astype(int)+ rfm_table['m_score'].astype(int)\n",
    "rfm_table"
   ]
  },
  {
   "cell_type": "markdown",
   "id": "915e0c51",
   "metadata": {
    "papermill": {
     "duration": 0.11164,
     "end_time": "2023-04-11T04:09:27.143786",
     "exception": false,
     "start_time": "2023-04-11T04:09:27.032146",
     "status": "completed"
    },
    "tags": []
   },
   "source": [
    "#### Cluster customers based on RFM Score"
   ]
  },
  {
   "cell_type": "code",
   "execution_count": null,
   "id": "8f6ec17a",
   "metadata": {
    "execution": {
     "iopub.execute_input": "2023-04-11T04:09:27.365938Z",
     "iopub.status.busy": "2023-04-11T04:09:27.365284Z",
     "iopub.status.idle": "2023-04-11T04:09:27.416324Z",
     "shell.execute_reply": "2023-04-11T04:09:27.415602Z"
    },
    "papermill": {
     "duration": 0.164417,
     "end_time": "2023-04-11T04:09:27.418078",
     "exception": false,
     "start_time": "2023-04-11T04:09:27.253661",
     "status": "completed"
    },
    "tags": []
   },
   "outputs": [],
   "source": [
    "def customer_segmenation(rfm_score):\n",
    "  \n",
    "  if rfm_score == 444:\n",
    "    return 'VIP'\n",
    "  \n",
    "  elif  rfm_score >= 433 and rfm_score < 444:\n",
    "    return 'Very Loyal'\n",
    "  \n",
    "  elif   rfm_score >=421 and rfm_score< 433:\n",
    "    return 'Potential Loyalist'\n",
    "  \n",
    "  elif rfm_score>=344 and rfm_score < 421:\n",
    "    return 'New customers'\n",
    "  \n",
    "  elif rfm_score>=323 and rfm_score<344:\n",
    "    return 'Potential customer'\n",
    "  \n",
    "  elif rfm_score>=224 and rfm_score<311:\n",
    "    return 'High risk to churn' \n",
    "  \n",
    "  else:\n",
    "    return 'Lost customers'       \n",
    "  \n",
    "rfm_table['customer_segmentation'] = rfm_table['rfm_score'].apply(customer_segmenation)\n",
    "\n",
    "rfm_table"
   ]
  },
  {
   "cell_type": "code",
   "execution_count": null,
   "id": "9f3666a4",
   "metadata": {
    "execution": {
     "iopub.execute_input": "2023-04-11T04:09:27.641504Z",
     "iopub.status.busy": "2023-04-11T04:09:27.640911Z",
     "iopub.status.idle": "2023-04-11T04:09:27.905744Z",
     "shell.execute_reply": "2023-04-11T04:09:27.904118Z"
    },
    "papermill": {
     "duration": 0.381219,
     "end_time": "2023-04-11T04:09:27.908576",
     "exception": false,
     "start_time": "2023-04-11T04:09:27.527357",
     "status": "completed"
    },
    "tags": []
   },
   "outputs": [],
   "source": [
    "# Plot frquency of each segment\n",
    "plt.figure(figsize=[10,6])\n",
    "sns.barplot(x = rfm_table.customer_segmentation.value_counts().values, y= rfm_table.customer_segmentation.value_counts().index, palette= 'crest_r')\n",
    "sns.despine()"
   ]
  },
  {
   "cell_type": "markdown",
   "id": "e246bfcf",
   "metadata": {
    "papermill": {
     "duration": 0.111824,
     "end_time": "2023-04-11T04:09:28.130662",
     "exception": false,
     "start_time": "2023-04-11T04:09:28.018838",
     "status": "completed"
    },
    "tags": []
   },
   "source": [
    "### Check Outliers"
   ]
  },
  {
   "cell_type": "code",
   "execution_count": null,
   "id": "29b52337",
   "metadata": {
    "execution": {
     "iopub.execute_input": "2023-04-11T04:09:28.354159Z",
     "iopub.status.busy": "2023-04-11T04:09:28.353803Z",
     "iopub.status.idle": "2023-04-11T04:09:28.382597Z",
     "shell.execute_reply": "2023-04-11T04:09:28.381275Z"
    },
    "papermill": {
     "duration": 0.144553,
     "end_time": "2023-04-11T04:09:28.385206",
     "exception": false,
     "start_time": "2023-04-11T04:09:28.240653",
     "status": "completed"
    },
    "tags": []
   },
   "outputs": [],
   "source": [
    "rfm_table.describe()"
   ]
  },
  {
   "cell_type": "markdown",
   "id": "da880ea2",
   "metadata": {
    "papermill": {
     "duration": 0.11251,
     "end_time": "2023-04-11T04:09:28.608113",
     "exception": false,
     "start_time": "2023-04-11T04:09:28.495603",
     "status": "completed"
    },
    "tags": []
   },
   "source": [
    "#### Recency"
   ]
  },
  {
   "cell_type": "code",
   "execution_count": null,
   "id": "a0f2ab8f",
   "metadata": {
    "execution": {
     "iopub.execute_input": "2023-04-11T04:09:28.835752Z",
     "iopub.status.busy": "2023-04-11T04:09:28.835371Z",
     "iopub.status.idle": "2023-04-11T04:09:29.403125Z",
     "shell.execute_reply": "2023-04-11T04:09:29.402101Z"
    },
    "papermill": {
     "duration": 0.686943,
     "end_time": "2023-04-11T04:09:29.405513",
     "exception": false,
     "start_time": "2023-04-11T04:09:28.718570",
     "status": "completed"
    },
    "tags": []
   },
   "outputs": [],
   "source": [
    "sns.boxplot(x= rfm_table.Recency)\n",
    "sns.stripplot(x = rfm_table.Recency, color= 'black')"
   ]
  },
  {
   "cell_type": "markdown",
   "id": "3f8a3b56",
   "metadata": {
    "papermill": {
     "duration": 0.111805,
     "end_time": "2023-04-11T04:09:29.627688",
     "exception": false,
     "start_time": "2023-04-11T04:09:29.515883",
     "status": "completed"
    },
    "tags": []
   },
   "source": [
    "#### Frequancy"
   ]
  },
  {
   "cell_type": "code",
   "execution_count": null,
   "id": "d2790fde",
   "metadata": {
    "execution": {
     "iopub.execute_input": "2023-04-11T04:09:29.856671Z",
     "iopub.status.busy": "2023-04-11T04:09:29.856342Z",
     "iopub.status.idle": "2023-04-11T04:09:30.457189Z",
     "shell.execute_reply": "2023-04-11T04:09:30.456077Z"
    },
    "papermill": {
     "duration": 0.718207,
     "end_time": "2023-04-11T04:09:30.459300",
     "exception": false,
     "start_time": "2023-04-11T04:09:29.741093",
     "status": "completed"
    },
    "tags": []
   },
   "outputs": [],
   "source": [
    "sns.boxplot(x= rfm_table.Frequancy)\n",
    "sns.stripplot(x = rfm_table.Frequancy, color= 'black')"
   ]
  },
  {
   "cell_type": "markdown",
   "id": "02f44647",
   "metadata": {
    "papermill": {
     "duration": 0.115454,
     "end_time": "2023-04-11T04:09:30.695913",
     "exception": false,
     "start_time": "2023-04-11T04:09:30.580459",
     "status": "completed"
    },
    "tags": []
   },
   "source": [
    "#### Monetary"
   ]
  },
  {
   "cell_type": "code",
   "execution_count": null,
   "id": "0116d2af",
   "metadata": {
    "execution": {
     "iopub.execute_input": "2023-04-11T04:09:30.918839Z",
     "iopub.status.busy": "2023-04-11T04:09:30.918492Z",
     "iopub.status.idle": "2023-04-11T04:09:31.498208Z",
     "shell.execute_reply": "2023-04-11T04:09:31.497011Z"
    },
    "papermill": {
     "duration": 0.694304,
     "end_time": "2023-04-11T04:09:31.500205",
     "exception": false,
     "start_time": "2023-04-11T04:09:30.805901",
     "status": "completed"
    },
    "tags": []
   },
   "outputs": [],
   "source": [
    "sns.boxplot(x= rfm_table.Monetary)\n",
    "sns.stripplot(x = rfm_table.Monetary, color= 'black')"
   ]
  },
  {
   "cell_type": "markdown",
   "id": "7dd9b299",
   "metadata": {
    "papermill": {
     "duration": 0.114897,
     "end_time": "2023-04-11T04:09:31.724912",
     "exception": false,
     "start_time": "2023-04-11T04:09:31.610015",
     "status": "completed"
    },
    "tags": []
   },
   "source": [
    "#### Remove Extreme 5% of Outliers"
   ]
  },
  {
   "cell_type": "code",
   "execution_count": null,
   "id": "67506ad0",
   "metadata": {
    "execution": {
     "iopub.execute_input": "2023-04-11T04:09:31.950236Z",
     "iopub.status.busy": "2023-04-11T04:09:31.949060Z",
     "iopub.status.idle": "2023-04-11T04:09:31.961731Z",
     "shell.execute_reply": "2023-04-11T04:09:31.960239Z"
    },
    "papermill": {
     "duration": 0.128637,
     "end_time": "2023-04-11T04:09:31.963677",
     "exception": false,
     "start_time": "2023-04-11T04:09:31.835040",
     "status": "completed"
    },
    "tags": []
   },
   "outputs": [],
   "source": [
    "print('Recency 5% Outliers Limits:', np.percentile(rfm_table.Recency, 5), np.percentile(rfm_table.Recency, 95))\n",
    "print('Frequancy 5% Outliers Limits:', np.percentile(rfm_table.Frequancy, 5), np.percentile(rfm_table.Frequancy, 95))\n",
    "print('Monetary 5% Outliers Limits:', np.percentile(rfm_table.Monetary, 5), np.percentile(rfm_table.Monetary, 95))"
   ]
  },
  {
   "cell_type": "markdown",
   "id": "4955e9f5",
   "metadata": {
    "papermill": {
     "duration": 0.110921,
     "end_time": "2023-04-11T04:09:32.185854",
     "exception": false,
     "start_time": "2023-04-11T04:09:32.074933",
     "status": "completed"
    },
    "tags": []
   },
   "source": [
    "#### Remove Outliers for Recency & Monetary (Extreme 5%)"
   ]
  },
  {
   "cell_type": "code",
   "execution_count": null,
   "id": "051c13f5",
   "metadata": {
    "execution": {
     "iopub.execute_input": "2023-04-11T04:09:32.408634Z",
     "iopub.status.busy": "2023-04-11T04:09:32.408228Z",
     "iopub.status.idle": "2023-04-11T04:09:32.442562Z",
     "shell.execute_reply": "2023-04-11T04:09:32.441526Z"
    },
    "papermill": {
     "duration": 0.149508,
     "end_time": "2023-04-11T04:09:32.445322",
     "exception": false,
     "start_time": "2023-04-11T04:09:32.295814",
     "status": "completed"
    },
    "tags": []
   },
   "outputs": [],
   "source": [
    "for i in [0, 2]:\n",
    "\n",
    "    outlier_indices = []\n",
    "    col = rfm_table.columns[i]\n",
    "    percentile_5 = np.percentile(rfm_table[col], 5)\n",
    "    percentile_95 = np.percentile(rfm_table[col], 95)\n",
    "    outlier_indices.append(rfm_table[(rfm_table[col] < percentile_5) | (rfm_table[col] > percentile_95)].index)\n",
    "\n",
    "rfm_table.drop(outlier_indices[0][:], inplace= True)\n",
    "rfm_table.reset_index(inplace= True, drop= True)"
   ]
  },
  {
   "cell_type": "code",
   "execution_count": null,
   "id": "3fdeda91",
   "metadata": {
    "execution": {
     "iopub.execute_input": "2023-04-11T04:09:32.722536Z",
     "iopub.status.busy": "2023-04-11T04:09:32.722151Z",
     "iopub.status.idle": "2023-04-11T04:09:41.598318Z",
     "shell.execute_reply": "2023-04-11T04:09:41.597270Z"
    },
    "papermill": {
     "duration": 9.04346,
     "end_time": "2023-04-11T04:09:41.600783",
     "exception": false,
     "start_time": "2023-04-11T04:09:32.557323",
     "status": "completed"
    },
    "tags": []
   },
   "outputs": [],
   "source": [
    "#pip install squarify"
   ]
  },
  {
   "cell_type": "markdown",
   "id": "ab48b751",
   "metadata": {
    "papermill": {
     "duration": 0.112368,
     "end_time": "2023-04-11T04:09:41.825635",
     "exception": false,
     "start_time": "2023-04-11T04:09:41.713267",
     "status": "completed"
    },
    "tags": []
   },
   "source": [
    "#### Customer Segmentation Grid"
   ]
  },
  {
   "cell_type": "code",
   "execution_count": null,
   "id": "dd4f2d9d",
   "metadata": {
    "execution": {
     "iopub.execute_input": "2023-04-11T04:09:42.049891Z",
     "iopub.status.busy": "2023-04-11T04:09:42.049053Z",
     "iopub.status.idle": "2023-04-11T04:09:42.375487Z",
     "shell.execute_reply": "2023-04-11T04:09:42.374733Z"
    },
    "papermill": {
     "duration": 0.441548,
     "end_time": "2023-04-11T04:09:42.377322",
     "exception": false,
     "start_time": "2023-04-11T04:09:41.935774",
     "status": "completed"
    },
    "tags": []
   },
   "outputs": [],
   "source": [
    "import squarify\n",
    "\n",
    "plt.figure(figsize=[15,8])\n",
    "plt.rc('font', size=15)\n",
    "\n",
    "Sizes = rfm_table.groupby('customer_segmentation')[['Monetary']].count()\n",
    "squarify.plot(sizes= Sizes.values, label= Sizes.index, color=[\"red\", \"orange\", \"blue\", \"yellow\", \"fuchsia\", \"green\", \"royalblue\"], alpha=.55)\n",
    "plt.suptitle(\"Customer Segmentation Grid\", fontsize=25);"
   ]
  },
  {
   "cell_type": "markdown",
   "id": "6c36ec77",
   "metadata": {
    "papermill": {
     "duration": 0.114466,
     "end_time": "2023-04-11T04:09:42.605405",
     "exception": false,
     "start_time": "2023-04-11T04:09:42.490939",
     "status": "completed"
    },
    "tags": []
   },
   "source": [
    "#### Recency & Monetary Plot"
   ]
  },
  {
   "cell_type": "code",
   "execution_count": null,
   "id": "c8aed4aa",
   "metadata": {
    "execution": {
     "iopub.execute_input": "2023-04-11T04:09:42.833372Z",
     "iopub.status.busy": "2023-04-11T04:09:42.832583Z",
     "iopub.status.idle": "2023-04-11T04:09:48.352764Z",
     "shell.execute_reply": "2023-04-11T04:09:48.351696Z"
    },
    "papermill": {
     "duration": 5.642208,
     "end_time": "2023-04-11T04:09:48.360268",
     "exception": false,
     "start_time": "2023-04-11T04:09:42.718060",
     "status": "completed"
    },
    "tags": []
   },
   "outputs": [],
   "source": [
    "plt.figure(figsize= [15, 8])\n",
    "colors = ['purple', 'green', 'red', 'blue', 'orange', 'royalblue', 'yellow']\n",
    "sns.scatterplot(x= rfm_table.Recency, y= rfm_table.Monetary, hue= rfm_table.customer_segmentation, palette= colors)\n",
    "plt.legend(prop={'size':10})\n",
    "sns.despine()"
   ]
  },
  {
   "cell_type": "markdown",
   "id": "8ebcce88",
   "metadata": {
    "papermill": {
     "duration": 0.125462,
     "end_time": "2023-04-11T04:09:48.610417",
     "exception": false,
     "start_time": "2023-04-11T04:09:48.484955",
     "status": "completed"
    },
    "tags": []
   },
   "source": [
    "### Check Skeweness"
   ]
  },
  {
   "cell_type": "code",
   "execution_count": null,
   "id": "d4c7d921",
   "metadata": {
    "execution": {
     "iopub.execute_input": "2023-04-11T04:09:48.868473Z",
     "iopub.status.busy": "2023-04-11T04:09:48.867471Z",
     "iopub.status.idle": "2023-04-11T04:09:49.491733Z",
     "shell.execute_reply": "2023-04-11T04:09:49.490919Z"
    },
    "papermill": {
     "duration": 0.758689,
     "end_time": "2023-04-11T04:09:49.494387",
     "exception": false,
     "start_time": "2023-04-11T04:09:48.735698",
     "status": "completed"
    },
    "tags": []
   },
   "outputs": [],
   "source": [
    "# Recency\n",
    "sns.distplot(x= rfm_table.Recency)"
   ]
  },
  {
   "cell_type": "code",
   "execution_count": null,
   "id": "d4930ee1",
   "metadata": {
    "execution": {
     "iopub.execute_input": "2023-04-11T04:09:49.750401Z",
     "iopub.status.busy": "2023-04-11T04:09:49.749736Z",
     "iopub.status.idle": "2023-04-11T04:09:50.538548Z",
     "shell.execute_reply": "2023-04-11T04:09:50.537598Z"
    },
    "papermill": {
     "duration": 0.921121,
     "end_time": "2023-04-11T04:09:50.540743",
     "exception": false,
     "start_time": "2023-04-11T04:09:49.619622",
     "status": "completed"
    },
    "tags": []
   },
   "outputs": [],
   "source": [
    "# Frequancy\n",
    "sns.distplot(x= rfm_table.Frequancy)"
   ]
  },
  {
   "cell_type": "code",
   "execution_count": null,
   "id": "749d0d89",
   "metadata": {
    "execution": {
     "iopub.execute_input": "2023-04-11T04:09:50.798500Z",
     "iopub.status.busy": "2023-04-11T04:09:50.797348Z",
     "iopub.status.idle": "2023-04-11T04:09:51.682035Z",
     "shell.execute_reply": "2023-04-11T04:09:51.681328Z"
    },
    "papermill": {
     "duration": 1.016933,
     "end_time": "2023-04-11T04:09:51.683787",
     "exception": false,
     "start_time": "2023-04-11T04:09:50.666854",
     "status": "completed"
    },
    "tags": []
   },
   "outputs": [],
   "source": [
    "# Monetary\n",
    "sns.distplot(x= rfm_table.Monetary)"
   ]
  },
  {
   "cell_type": "markdown",
   "id": "9dd5316a",
   "metadata": {
    "papermill": {
     "duration": 0.127961,
     "end_time": "2023-04-11T04:09:51.940147",
     "exception": false,
     "start_time": "2023-04-11T04:09:51.812186",
     "status": "completed"
    },
    "tags": []
   },
   "source": [
    "#### Apply Log function to handle skeweness for Frequancy & Monetary"
   ]
  },
  {
   "cell_type": "code",
   "execution_count": null,
   "id": "f754d215",
   "metadata": {
    "execution": {
     "iopub.execute_input": "2023-04-11T04:09:52.196797Z",
     "iopub.status.busy": "2023-04-11T04:09:52.195618Z",
     "iopub.status.idle": "2023-04-11T04:09:52.203930Z",
     "shell.execute_reply": "2023-04-11T04:09:52.203163Z"
    },
    "papermill": {
     "duration": 0.138737,
     "end_time": "2023-04-11T04:09:52.206019",
     "exception": false,
     "start_time": "2023-04-11T04:09:52.067282",
     "status": "completed"
    },
    "tags": []
   },
   "outputs": [],
   "source": [
    "for i in ['Frequancy', 'Monetary']:\n",
    "    rfm_table[i] = np.log10(rfm_table[i])"
   ]
  },
  {
   "cell_type": "code",
   "execution_count": null,
   "id": "da80f7da",
   "metadata": {
    "execution": {
     "iopub.execute_input": "2023-04-11T04:09:52.463961Z",
     "iopub.status.busy": "2023-04-11T04:09:52.463300Z",
     "iopub.status.idle": "2023-04-11T04:09:53.244385Z",
     "shell.execute_reply": "2023-04-11T04:09:53.243315Z"
    },
    "papermill": {
     "duration": 0.911341,
     "end_time": "2023-04-11T04:09:53.246748",
     "exception": false,
     "start_time": "2023-04-11T04:09:52.335407",
     "status": "completed"
    },
    "tags": []
   },
   "outputs": [],
   "source": [
    "# Frequancy\n",
    "sns.distplot(x= rfm_table.Frequancy)"
   ]
  },
  {
   "cell_type": "code",
   "execution_count": null,
   "id": "c1298064",
   "metadata": {
    "execution": {
     "iopub.execute_input": "2023-04-11T04:09:53.503984Z",
     "iopub.status.busy": "2023-04-11T04:09:53.503290Z",
     "iopub.status.idle": "2023-04-11T04:09:54.178285Z",
     "shell.execute_reply": "2023-04-11T04:09:54.177254Z"
    },
    "papermill": {
     "duration": 0.807025,
     "end_time": "2023-04-11T04:09:54.181257",
     "exception": false,
     "start_time": "2023-04-11T04:09:53.374232",
     "status": "completed"
    },
    "tags": []
   },
   "outputs": [],
   "source": [
    "# Monetary\n",
    "sns.distplot(x= rfm_table.Monetary)"
   ]
  },
  {
   "cell_type": "markdown",
   "id": "2312f1ae",
   "metadata": {
    "papermill": {
     "duration": 0.124103,
     "end_time": "2023-04-11T04:09:54.435605",
     "exception": false,
     "start_time": "2023-04-11T04:09:54.311502",
     "status": "completed"
    },
    "tags": []
   },
   "source": [
    "### 9.2 Clustering with K-means"
   ]
  },
  {
   "cell_type": "code",
   "execution_count": null,
   "id": "1c04e386",
   "metadata": {
    "execution": {
     "iopub.execute_input": "2023-04-11T04:09:54.692497Z",
     "iopub.status.busy": "2023-04-11T04:09:54.692171Z",
     "iopub.status.idle": "2023-04-11T04:09:54.709025Z",
     "shell.execute_reply": "2023-04-11T04:09:54.707991Z"
    },
    "papermill": {
     "duration": 0.147805,
     "end_time": "2023-04-11T04:09:54.710877",
     "exception": false,
     "start_time": "2023-04-11T04:09:54.563072",
     "status": "completed"
    },
    "tags": []
   },
   "outputs": [],
   "source": [
    "df_cluster = df_2[['freight_value', 'price', 'payment_value', 'payment_installments', 'payment_sequential']]\n",
    "df_cluster"
   ]
  },
  {
   "cell_type": "markdown",
   "id": "ebc27c4b",
   "metadata": {
    "papermill": {
     "duration": 0.176468,
     "end_time": "2023-04-11T04:09:55.017943",
     "exception": false,
     "start_time": "2023-04-11T04:09:54.841475",
     "status": "completed"
    },
    "tags": []
   },
   "source": [
    "### Take sample from data (10k)"
   ]
  },
  {
   "cell_type": "code",
   "execution_count": null,
   "id": "83923af3",
   "metadata": {
    "execution": {
     "iopub.execute_input": "2023-04-11T04:09:55.281563Z",
     "iopub.status.busy": "2023-04-11T04:09:55.281184Z",
     "iopub.status.idle": "2023-04-11T04:09:55.292363Z",
     "shell.execute_reply": "2023-04-11T04:09:55.291380Z"
    },
    "papermill": {
     "duration": 0.14508,
     "end_time": "2023-04-11T04:09:55.294423",
     "exception": false,
     "start_time": "2023-04-11T04:09:55.149343",
     "status": "completed"
    },
    "tags": []
   },
   "outputs": [],
   "source": [
    "df_sample = df_cluster.sample(frac= 1, random_state= 42)[:10000]"
   ]
  },
  {
   "cell_type": "markdown",
   "id": "8799bc06",
   "metadata": {
    "papermill": {
     "duration": 0.127208,
     "end_time": "2023-04-11T04:09:55.547515",
     "exception": false,
     "start_time": "2023-04-11T04:09:55.420307",
     "status": "completed"
    },
    "tags": []
   },
   "source": [
    "#### Save sample as CSV for deployment"
   ]
  },
  {
   "cell_type": "code",
   "execution_count": null,
   "id": "9a1a7b3f",
   "metadata": {
    "execution": {
     "iopub.execute_input": "2023-04-11T04:09:55.803809Z",
     "iopub.status.busy": "2023-04-11T04:09:55.803415Z",
     "iopub.status.idle": "2023-04-11T04:09:55.834172Z",
     "shell.execute_reply": "2023-04-11T04:09:55.833054Z"
    },
    "papermill": {
     "duration": 0.161506,
     "end_time": "2023-04-11T04:09:55.836526",
     "exception": false,
     "start_time": "2023-04-11T04:09:55.675020",
     "status": "completed"
    },
    "tags": []
   },
   "outputs": [],
   "source": [
    "df_sample.to_csv('Clustering Sample.csv')"
   ]
  },
  {
   "cell_type": "code",
   "execution_count": null,
   "id": "77cc511c",
   "metadata": {
    "execution": {
     "iopub.execute_input": "2023-04-11T04:09:56.090992Z",
     "iopub.status.busy": "2023-04-11T04:09:56.090556Z",
     "iopub.status.idle": "2023-04-11T04:09:56.114532Z",
     "shell.execute_reply": "2023-04-11T04:09:56.113518Z"
    },
    "papermill": {
     "duration": 0.155489,
     "end_time": "2023-04-11T04:09:56.116750",
     "exception": false,
     "start_time": "2023-04-11T04:09:55.961261",
     "status": "completed"
    },
    "tags": []
   },
   "outputs": [],
   "source": [
    "df_sample.describe()"
   ]
  },
  {
   "cell_type": "markdown",
   "id": "34bf2d33",
   "metadata": {
    "papermill": {
     "duration": 0.126801,
     "end_time": "2023-04-11T04:09:56.370367",
     "exception": false,
     "start_time": "2023-04-11T04:09:56.243566",
     "status": "completed"
    },
    "tags": []
   },
   "source": [
    "#### Drop freight values with zeros"
   ]
  },
  {
   "cell_type": "code",
   "execution_count": null,
   "id": "2afa2fb5",
   "metadata": {
    "execution": {
     "iopub.execute_input": "2023-04-11T04:09:56.623856Z",
     "iopub.status.busy": "2023-04-11T04:09:56.623481Z",
     "iopub.status.idle": "2023-04-11T04:09:56.629124Z",
     "shell.execute_reply": "2023-04-11T04:09:56.628469Z"
    },
    "papermill": {
     "duration": 0.135291,
     "end_time": "2023-04-11T04:09:56.630760",
     "exception": false,
     "start_time": "2023-04-11T04:09:56.495469",
     "status": "completed"
    },
    "tags": []
   },
   "outputs": [],
   "source": [
    "df_sample.drop(df_sample[df_sample.freight_value == 0].index, inplace= True)\n",
    "df_sample.reset_index(inplace= True, drop= True)"
   ]
  },
  {
   "cell_type": "markdown",
   "id": "d6908466",
   "metadata": {
    "papermill": {
     "duration": 0.132287,
     "end_time": "2023-04-11T04:09:56.890250",
     "exception": false,
     "start_time": "2023-04-11T04:09:56.757963",
     "status": "completed"
    },
    "tags": []
   },
   "source": [
    "#### Take copy for Pipeline"
   ]
  },
  {
   "cell_type": "code",
   "execution_count": null,
   "id": "91e7ad50",
   "metadata": {
    "execution": {
     "iopub.execute_input": "2023-04-11T04:09:57.143349Z",
     "iopub.status.busy": "2023-04-11T04:09:57.142894Z",
     "iopub.status.idle": "2023-04-11T04:09:57.147135Z",
     "shell.execute_reply": "2023-04-11T04:09:57.146506Z"
    },
    "papermill": {
     "duration": 0.134145,
     "end_time": "2023-04-11T04:09:57.148609",
     "exception": false,
     "start_time": "2023-04-11T04:09:57.014464",
     "status": "completed"
    },
    "tags": []
   },
   "outputs": [],
   "source": [
    "cluster_pipeline = df_sample.copy()"
   ]
  },
  {
   "cell_type": "code",
   "execution_count": null,
   "id": "91bd5faf",
   "metadata": {
    "execution": {
     "iopub.execute_input": "2023-04-11T04:09:57.406912Z",
     "iopub.status.busy": "2023-04-11T04:09:57.406440Z",
     "iopub.status.idle": "2023-04-11T04:09:57.413936Z",
     "shell.execute_reply": "2023-04-11T04:09:57.412782Z"
    },
    "papermill": {
     "duration": 0.137471,
     "end_time": "2023-04-11T04:09:57.415519",
     "exception": false,
     "start_time": "2023-04-11T04:09:57.278048",
     "status": "completed"
    },
    "tags": []
   },
   "outputs": [],
   "source": [
    "for i in ['freight_value', 'price', 'payment_value', 'payment_installments', 'payment_sequential']:\n",
    "    df_sample[i] = np.log10(df_sample[i])"
   ]
  },
  {
   "cell_type": "markdown",
   "id": "80d5d5a2",
   "metadata": {
    "papermill": {
     "duration": 0.125485,
     "end_time": "2023-04-11T04:09:57.666435",
     "exception": false,
     "start_time": "2023-04-11T04:09:57.540950",
     "status": "completed"
    },
    "tags": []
   },
   "source": [
    "### Feature Scaling"
   ]
  },
  {
   "cell_type": "code",
   "execution_count": null,
   "id": "737a44e9",
   "metadata": {},
   "outputs": [],
   "source": [
    "from sklearn.impute import SimpleImputer\n",
    "\n",
    "# Assuming df_sample is your DataFrame\n",
    "\n",
    "# Replace inf/-inf with NaN\n",
    "df_sample.replace([np.inf, -np.inf], np.nan, inplace=True)\n",
    "\n",
    "# Use SimpleImputer from scikit-learn for imputation\n",
    "# This example uses the mean strategy but you can choose 'median', 'most_frequent', or 'constant'\n",
    "imputer = SimpleImputer(missing_values=np.nan, strategy='mean')\n",
    "\n",
    "# Apply the imputer to your DataFrame\n",
    "df_sample_imputed = pd.DataFrame(imputer.fit_transform(df_sample), columns=df_sample.columns)"
   ]
  },
  {
   "cell_type": "code",
   "execution_count": null,
   "id": "91c35847",
   "metadata": {},
   "outputs": [],
   "source": [
    "# Drop rows where freight_value is 0 and reset index\n",
    "df_sample.drop(df_sample[df_sample.freight_value == 0].index, inplace=True)\n",
    "df_sample.reset_index(drop=True, inplace=True)\n",
    "\n",
    "# Apply log transformation to selected columns\n",
    "for i in ['freight_value', 'price', 'payment_value', 'payment_installments', 'payment_sequential']:\n",
    "    df_sample[i] = np.log10(df_sample[i] + 1)  # Adding 1 to avoid log(0)\n",
    "\n",
    "# Replace inf/-inf with NaN (if any left after log transformation)\n",
    "df_sample.replace([np.inf, -np.inf], np.nan, inplace=True)\n",
    "\n",
    "# Impute missing values with mean\n",
    "imputer = SimpleImputer(missing_values=np.nan, strategy='mean')\n",
    "df_sample_imputed = pd.DataFrame(imputer.fit_transform(df_sample), columns=df_sample.columns)"
   ]
  },
  {
   "cell_type": "code",
   "execution_count": null,
   "id": "ec1387f2",
   "metadata": {},
   "outputs": [],
   "source": [
    "from sklearn.preprocessing import StandardScaler\n",
    "\n",
    "sc = StandardScaler(with_mean=False)\n",
    "data_scaled = sc.fit_transform(df_sample_imputed)"
   ]
  },
  {
   "cell_type": "markdown",
   "id": "a2aa6761",
   "metadata": {
    "papermill": {
     "duration": 0.128128,
     "end_time": "2023-04-11T04:09:58.180594",
     "exception": false,
     "start_time": "2023-04-11T04:09:58.052466",
     "status": "completed"
    },
    "tags": []
   },
   "source": [
    "#### Detecting number of clusters uning Elbow Method"
   ]
  },
  {
   "cell_type": "code",
   "execution_count": null,
   "id": "46d0d6c2",
   "metadata": {
    "execution": {
     "iopub.execute_input": "2023-04-11T04:09:58.439051Z",
     "iopub.status.busy": "2023-04-11T04:09:58.438320Z",
     "iopub.status.idle": "2023-04-11T04:10:16.444653Z",
     "shell.execute_reply": "2023-04-11T04:10:16.443335Z"
    },
    "papermill": {
     "duration": 18.136998,
     "end_time": "2023-04-11T04:10:16.446852",
     "exception": false,
     "start_time": "2023-04-11T04:09:58.309854",
     "status": "completed"
    },
    "tags": []
   },
   "outputs": [],
   "source": [
    "from sklearn.cluster import KMeans\n",
    "from sklearn.metrics import silhouette_score\n",
    "wcss = []\n",
    "scores = []\n",
    "\n",
    "for i in range(2,10):\n",
    "  kmean = KMeans(n_clusters=i)\n",
    "  y_pred_kmean = kmean.fit_predict(data_scaled)\n",
    "  wcss.append(kmean.inertia_)\n",
    "  scores.append(silhouette_score(data_scaled,y_pred_kmean))\n",
    "\n",
    "plt.plot(range(2,10),wcss)\n",
    "plt.title('number of cluster vs WCSS')\n",
    "plt.xlabel('number of cluster')\n",
    "plt.ylabel('WCSS')"
   ]
  },
  {
   "cell_type": "markdown",
   "id": "dd87d2d4",
   "metadata": {
    "papermill": {
     "duration": 0.133224,
     "end_time": "2023-04-11T04:10:16.712244",
     "exception": false,
     "start_time": "2023-04-11T04:10:16.579020",
     "status": "completed"
    },
    "tags": []
   },
   "source": [
    "#### Detecting number of clusters using Silhouete Score"
   ]
  },
  {
   "cell_type": "code",
   "execution_count": null,
   "id": "f0824390",
   "metadata": {
    "execution": {
     "iopub.execute_input": "2023-04-11T04:10:16.978642Z",
     "iopub.status.busy": "2023-04-11T04:10:16.978252Z",
     "iopub.status.idle": "2023-04-11T04:10:17.215338Z",
     "shell.execute_reply": "2023-04-11T04:10:17.214175Z"
    },
    "papermill": {
     "duration": 0.371774,
     "end_time": "2023-04-11T04:10:17.217327",
     "exception": false,
     "start_time": "2023-04-11T04:10:16.845553",
     "status": "completed"
    },
    "tags": []
   },
   "outputs": [],
   "source": [
    "plt.plot(range(2,10),scores)\n",
    "plt.title('number of cluster vs silhouette_score')\n",
    "plt.xlabel('number of cluster')\n",
    "plt.ylabel('silhouette_score')"
   ]
  },
  {
   "cell_type": "markdown",
   "id": "8995e45d",
   "metadata": {
    "papermill": {
     "duration": 0.131249,
     "end_time": "2023-04-11T04:10:17.479885",
     "exception": false,
     "start_time": "2023-04-11T04:10:17.348636",
     "status": "completed"
    },
    "tags": []
   },
   "source": [
    "#### Select number of clusters k= 3"
   ]
  },
  {
   "cell_type": "code",
   "execution_count": null,
   "id": "7fed1fc3",
   "metadata": {
    "execution": {
     "iopub.execute_input": "2023-04-11T04:10:17.744502Z",
     "iopub.status.busy": "2023-04-11T04:10:17.744045Z",
     "iopub.status.idle": "2023-04-11T04:10:18.532017Z",
     "shell.execute_reply": "2023-04-11T04:10:18.529664Z"
    },
    "papermill": {
     "duration": 0.924393,
     "end_time": "2023-04-11T04:10:18.535896",
     "exception": false,
     "start_time": "2023-04-11T04:10:17.611503",
     "status": "completed"
    },
    "tags": []
   },
   "outputs": [],
   "source": [
    "from sklearn.cluster import KMeans\n",
    "\n",
    "kmean = KMeans(n_clusters= 3)\n",
    "y_pred_kmean = kmean.fit_predict(data_scaled)"
   ]
  },
  {
   "cell_type": "code",
   "execution_count": null,
   "id": "f990b133",
   "metadata": {
    "execution": {
     "iopub.execute_input": "2023-04-11T04:10:18.859252Z",
     "iopub.status.busy": "2023-04-11T04:10:18.858871Z",
     "iopub.status.idle": "2023-04-11T04:10:18.865427Z",
     "shell.execute_reply": "2023-04-11T04:10:18.864750Z"
    },
    "papermill": {
     "duration": 0.144935,
     "end_time": "2023-04-11T04:10:18.867100",
     "exception": false,
     "start_time": "2023-04-11T04:10:18.722165",
     "status": "completed"
    },
    "tags": []
   },
   "outputs": [],
   "source": [
    "# Count of each cluster\n",
    "len(kmean.labels_[kmean.labels_ == 0]), len(kmean.labels_[kmean.labels_ == 1]), len(kmean.labels_[kmean.labels_ == 2])"
   ]
  },
  {
   "cell_type": "code",
   "execution_count": null,
   "id": "7b86b486",
   "metadata": {},
   "outputs": [],
   "source": [
    "# Ensure original_cluster_sample matches the data used to generate y_pred_kmean\n",
    "original_cluster_sample = df_cluster.sample(frac=1, random_state=42)\n",
    "\n",
    "# Generate y_pred_kmean for the subset if not done already\n",
    "# Assuming `kmean` is your KMeans model and original_cluster_sample is prepared\n",
    "y_pred_kmean = kmean.predict(original_cluster_sample)\n",
    "\n",
    "# Now, assign the cluster labels\n",
    "original_cluster_sample['cluster_label'] = y_pred_kmean"
   ]
  },
  {
   "cell_type": "code",
   "execution_count": null,
   "id": "4a4a0f8c",
   "metadata": {
    "execution": {
     "iopub.execute_input": "2023-04-11T04:10:19.135174Z",
     "iopub.status.busy": "2023-04-11T04:10:19.134769Z",
     "iopub.status.idle": "2023-04-11T04:10:19.155199Z",
     "shell.execute_reply": "2023-04-11T04:10:19.153525Z"
    },
    "papermill": {
     "duration": 0.158435,
     "end_time": "2023-04-11T04:10:19.157362",
     "exception": false,
     "start_time": "2023-04-11T04:10:18.998927",
     "status": "completed"
    },
    "tags": []
   },
   "outputs": [],
   "source": [
    "original_cluster_sample.head()"
   ]
  },
  {
   "cell_type": "code",
   "execution_count": null,
   "id": "87606998",
   "metadata": {
    "execution": {
     "iopub.execute_input": "2023-04-11T04:10:19.420584Z",
     "iopub.status.busy": "2023-04-11T04:10:19.420135Z",
     "iopub.status.idle": "2023-04-11T04:10:19.470549Z",
     "shell.execute_reply": "2023-04-11T04:10:19.469563Z"
    },
    "papermill": {
     "duration": 0.183536,
     "end_time": "2023-04-11T04:10:19.473120",
     "exception": false,
     "start_time": "2023-04-11T04:10:19.289584",
     "status": "completed"
    },
    "tags": []
   },
   "outputs": [],
   "source": [
    "original_cluster_sample.groupby('cluster_label').describe().T"
   ]
  },
  {
   "cell_type": "code",
   "execution_count": null,
   "id": "99e143ca",
   "metadata": {
    "execution": {
     "iopub.execute_input": "2023-04-11T04:10:19.736509Z",
     "iopub.status.busy": "2023-04-11T04:10:19.736132Z",
     "iopub.status.idle": "2023-04-11T04:10:37.685244Z",
     "shell.execute_reply": "2023-04-11T04:10:37.683954Z"
    },
    "papermill": {
     "duration": 18.08597,
     "end_time": "2023-04-11T04:10:37.689060",
     "exception": false,
     "start_time": "2023-04-11T04:10:19.603090",
     "status": "completed"
    },
    "tags": []
   },
   "outputs": [],
   "source": [
    "sns.pairplot(data= original_cluster_sample, hue= 'cluster_label', palette= ['blue', 'orange', 'red'])"
   ]
  },
  {
   "cell_type": "markdown",
   "id": "608b2cb2",
   "metadata": {
    "papermill": {
     "duration": 0.135804,
     "end_time": "2023-04-11T04:10:37.966730",
     "exception": false,
     "start_time": "2023-04-11T04:10:37.830926",
     "status": "completed"
    },
    "tags": []
   },
   "source": [
    "#### As we can see from statistics table and pairplot that clusters have high percentage of overlaping, sow RFM would be better in this case to cluster customers."
   ]
  },
  {
   "cell_type": "markdown",
   "id": "c97a755c",
   "metadata": {
    "papermill": {
     "duration": 0.1395,
     "end_time": "2023-04-11T04:10:38.244694",
     "exception": false,
     "start_time": "2023-04-11T04:10:38.105194",
     "status": "completed"
    },
    "tags": []
   },
   "source": [
    "#### Show Kmeans Clusters"
   ]
  },
  {
   "cell_type": "code",
   "execution_count": null,
   "id": "851b26fe",
   "metadata": {},
   "outputs": [],
   "source": [
    "y_pred_kmean = kmean.fit_predict(data_scaled)"
   ]
  },
  {
   "cell_type": "code",
   "execution_count": null,
   "id": "0c9b27cc",
   "metadata": {},
   "outputs": [],
   "source": [
    "plt.figure(figsize=[10, 6])\n",
    "plt.scatter(data_scaled[y_pred_kmean == 0, 0], data_scaled[y_pred_kmean == 0, 1], c='red', label='Cluster 1')\n",
    "plt.scatter(data_scaled[y_pred_kmean == 1, 0], data_scaled[y_pred_kmean == 1, 1], c='green', label='Cluster 2')\n",
    "plt.scatter(data_scaled[y_pred_kmean == 2, 0], data_scaled[y_pred_kmean == 2, 1], c='blue', label='Cluster 3')\n",
    "plt.scatter(kmean.cluster_centers_[:, 0], kmean.cluster_centers_[:, 1], c='yellow', s=100, label='Centroids')\n",
    "plt.title('Customers KMeans Clusters')\n",
    "plt.legend()\n",
    "plt.show()\n"
   ]
  },
  {
   "cell_type": "markdown",
   "id": "fb886886",
   "metadata": {
    "papermill": {
     "duration": 0.141248,
     "end_time": "2023-04-11T04:10:39.293031",
     "exception": false,
     "start_time": "2023-04-11T04:10:39.151783",
     "status": "completed"
    },
    "tags": []
   },
   "source": [
    "#### Show Clusters using PCA"
   ]
  },
  {
   "cell_type": "code",
   "execution_count": null,
   "id": "9ab007e5",
   "metadata": {
    "execution": {
     "iopub.execute_input": "2023-04-11T04:10:39.572956Z",
     "iopub.status.busy": "2023-04-11T04:10:39.572556Z",
     "iopub.status.idle": "2023-04-11T04:10:39.629762Z",
     "shell.execute_reply": "2023-04-11T04:10:39.628586Z"
    },
    "papermill": {
     "duration": 0.198427,
     "end_time": "2023-04-11T04:10:39.631680",
     "exception": false,
     "start_time": "2023-04-11T04:10:39.433253",
     "status": "completed"
    },
    "tags": []
   },
   "outputs": [],
   "source": [
    "from sklearn.decomposition import PCA\n",
    "pca = PCA(n_components= 2)\n",
    "x_pca = pca.fit_transform(data_scaled)\n",
    "pca.explained_variance_ratio_"
   ]
  },
  {
   "cell_type": "code",
   "execution_count": null,
   "id": "7ae36755",
   "metadata": {
    "execution": {
     "iopub.execute_input": "2023-04-11T04:10:39.917007Z",
     "iopub.status.busy": "2023-04-11T04:10:39.916648Z",
     "iopub.status.idle": "2023-04-11T04:10:56.198523Z",
     "shell.execute_reply": "2023-04-11T04:10:56.197441Z"
    },
    "papermill": {
     "duration": 16.426198,
     "end_time": "2023-04-11T04:10:56.201542",
     "exception": false,
     "start_time": "2023-04-11T04:10:39.775344",
     "status": "completed"
    },
    "tags": []
   },
   "outputs": [],
   "source": [
    "wcss = []\n",
    "scores = []\n",
    "for i in range(2,10):\n",
    "  kmean = KMeans(n_clusters=i)\n",
    "  y_pred = kmean.fit_predict(x_pca)\n",
    "  wcss.append(kmean.inertia_)\n",
    "  scores.append(silhouette_score(x_pca,y_pred))\n",
    "plt.plot(range(2,10),wcss)\n",
    "plt.title('Elbow method')\n",
    "plt.xlabel('number of clusters')\n",
    "plt.ylabel('WCSS')  "
   ]
  },
  {
   "cell_type": "code",
   "execution_count": null,
   "id": "3bb97728",
   "metadata": {
    "execution": {
     "iopub.execute_input": "2023-04-11T04:10:56.507225Z",
     "iopub.status.busy": "2023-04-11T04:10:56.506435Z",
     "iopub.status.idle": "2023-04-11T04:10:56.753028Z",
     "shell.execute_reply": "2023-04-11T04:10:56.752269Z"
    },
    "papermill": {
     "duration": 0.401149,
     "end_time": "2023-04-11T04:10:56.754995",
     "exception": false,
     "start_time": "2023-04-11T04:10:56.353846",
     "status": "completed"
    },
    "tags": []
   },
   "outputs": [],
   "source": [
    "plt.plot(range(2,10),scores)\n",
    "plt.title('silhouette_score')\n",
    "plt.xlabel('number of clusters')\n",
    "plt.ylabel('silhouette_score')"
   ]
  },
  {
   "cell_type": "code",
   "execution_count": null,
   "id": "eb4d85da",
   "metadata": {
    "execution": {
     "iopub.execute_input": "2023-04-11T04:10:57.046548Z",
     "iopub.status.busy": "2023-04-11T04:10:57.045939Z",
     "iopub.status.idle": "2023-04-11T04:10:57.526082Z",
     "shell.execute_reply": "2023-04-11T04:10:57.524161Z"
    },
    "papermill": {
     "duration": 0.627028,
     "end_time": "2023-04-11T04:10:57.528811",
     "exception": false,
     "start_time": "2023-04-11T04:10:56.901783",
     "status": "completed"
    },
    "tags": []
   },
   "outputs": [],
   "source": [
    "kmean = KMeans(n_clusters=3)\n",
    "y_pred_pca = kmean.fit_predict(x_pca)"
   ]
  },
  {
   "cell_type": "code",
   "execution_count": null,
   "id": "1efe7c1a",
   "metadata": {
    "execution": {
     "iopub.execute_input": "2023-04-11T04:10:57.824569Z",
     "iopub.status.busy": "2023-04-11T04:10:57.824210Z",
     "iopub.status.idle": "2023-04-11T04:10:58.282422Z",
     "shell.execute_reply": "2023-04-11T04:10:58.280886Z"
    },
    "papermill": {
     "duration": 0.603739,
     "end_time": "2023-04-11T04:10:58.284841",
     "exception": false,
     "start_time": "2023-04-11T04:10:57.681102",
     "status": "completed"
    },
    "tags": []
   },
   "outputs": [],
   "source": [
    "plt.figure(figsize=[10, 6])\n",
    "plt.scatter(x_pca[y_pred_pca==0,0],x_pca[y_pred_pca==0,1],c = 'red',label = 'cluster1')\n",
    "plt.scatter(x_pca[y_pred_pca==1,0],x_pca[y_pred_pca==1,1],c = 'green',label = 'cluster2')\n",
    "plt.scatter(x_pca[y_pred_pca==2,0],x_pca[y_pred_pca==2,1],c = 'blue',label = 'cluster3')\n",
    "plt.scatter(kmean.cluster_centers_[:,0],kmean.cluster_centers_[:,1],c='yellow',s=100,label='Centroids')\n",
    "plt.title('Customers Clusters with PCA')\n",
    "plt.legend()\n",
    "sns.despine()"
   ]
  },
  {
   "cell_type": "markdown",
   "id": "1b4e04e0",
   "metadata": {
    "papermill": {
     "duration": 0.159085,
     "end_time": "2023-04-11T04:10:58.646282",
     "exception": false,
     "start_time": "2023-04-11T04:10:58.487197",
     "status": "completed"
    },
    "tags": []
   },
   "source": [
    "## 9.3 Pipeline"
   ]
  },
  {
   "cell_type": "markdown",
   "id": "eff5660c",
   "metadata": {
    "papermill": {
     "duration": 0.144613,
     "end_time": "2023-04-11T04:10:58.933792",
     "exception": false,
     "start_time": "2023-04-11T04:10:58.789179",
     "status": "completed"
    },
    "tags": []
   },
   "source": [
    "#### Prepare Features"
   ]
  },
  {
   "cell_type": "code",
   "execution_count": null,
   "id": "c2f1ebd4",
   "metadata": {
    "execution": {
     "iopub.execute_input": "2023-04-11T04:10:59.222105Z",
     "iopub.status.busy": "2023-04-11T04:10:59.221786Z",
     "iopub.status.idle": "2023-04-11T04:10:59.228011Z",
     "shell.execute_reply": "2023-04-11T04:10:59.226736Z"
    },
    "papermill": {
     "duration": 0.153215,
     "end_time": "2023-04-11T04:10:59.230597",
     "exception": false,
     "start_time": "2023-04-11T04:10:59.077382",
     "status": "completed"
    },
    "tags": []
   },
   "outputs": [],
   "source": [
    "from sklearn.pipeline import Pipeline\n",
    "from sklearn.impute import SimpleImputer\n",
    "from sklearn.preprocessing import StandardScaler\n",
    "from sklearn.preprocessing import FunctionTransformer\n",
    "\n",
    "numerical_pipeline_cluster = Pipeline(steps=[('Feature Scaling', StandardScaler(with_mean=False))])"
   ]
  },
  {
   "cell_type": "code",
   "execution_count": null,
   "id": "cbc1b708",
   "metadata": {
    "execution": {
     "iopub.execute_input": "2023-04-11T04:10:59.511333Z",
     "iopub.status.busy": "2023-04-11T04:10:59.511000Z",
     "iopub.status.idle": "2023-04-11T04:10:59.525465Z",
     "shell.execute_reply": "2023-04-11T04:10:59.523711Z"
    },
    "papermill": {
     "duration": 0.157273,
     "end_time": "2023-04-11T04:10:59.527755",
     "exception": false,
     "start_time": "2023-04-11T04:10:59.370482",
     "status": "completed"
    },
    "tags": []
   },
   "outputs": [],
   "source": [
    "from sklearn.compose import ColumnTransformer\n",
    "\n",
    "preprocessing_cluster = ColumnTransformer(transformers= [('Numerical Columns', numerical_pipeline_cluster, cluster_pipeline.columns)], \n",
    "                                          remainder= 'passthrough')\n",
    "preprocessing_cluster"
   ]
  },
  {
   "cell_type": "code",
   "execution_count": null,
   "id": "98459b0c",
   "metadata": {
    "execution": {
     "iopub.execute_input": "2023-04-11T04:10:59.818256Z",
     "iopub.status.busy": "2023-04-11T04:10:59.817855Z",
     "iopub.status.idle": "2023-04-11T04:10:59.836033Z",
     "shell.execute_reply": "2023-04-11T04:10:59.835075Z"
    },
    "papermill": {
     "duration": 0.165212,
     "end_time": "2023-04-11T04:10:59.838080",
     "exception": false,
     "start_time": "2023-04-11T04:10:59.672868",
     "status": "completed"
    },
    "tags": []
   },
   "outputs": [],
   "source": [
    "final_pipeline_cluster = Pipeline(steps=[('Preprocessing', preprocessing_cluster), ('Log Transformer', FunctionTransformer(np.log10)),\n",
    "                                ('Model', KMeans(n_clusters= 3))])\n",
    "final_pipeline_cluster"
   ]
  },
  {
   "cell_type": "code",
   "execution_count": null,
   "id": "d42649f6",
   "metadata": {
    "execution": {
     "iopub.execute_input": "2023-04-11T04:11:00.124156Z",
     "iopub.status.busy": "2023-04-11T04:11:00.123834Z",
     "iopub.status.idle": "2023-04-11T04:11:00.794905Z",
     "shell.execute_reply": "2023-04-11T04:11:00.793554Z"
    },
    "papermill": {
     "duration": 0.815902,
     "end_time": "2023-04-11T04:11:00.798129",
     "exception": false,
     "start_time": "2023-04-11T04:10:59.982227",
     "status": "completed"
    },
    "tags": []
   },
   "outputs": [],
   "source": [
    "# Fit pipeline to Dataframe\n",
    "#final_pipeline_cluster.fit(cluster_pipeline)"
   ]
  },
  {
   "cell_type": "code",
   "execution_count": null,
   "id": "90efcec1",
   "metadata": {
    "execution": {
     "iopub.execute_input": "2023-04-11T04:11:01.089369Z",
     "iopub.status.busy": "2023-04-11T04:11:01.089030Z",
     "iopub.status.idle": "2023-04-11T04:11:01.105976Z",
     "shell.execute_reply": "2023-04-11T04:11:01.105218Z"
    },
    "papermill": {
     "duration": 0.161393,
     "end_time": "2023-04-11T04:11:01.107961",
     "exception": false,
     "start_time": "2023-04-11T04:11:00.946568",
     "status": "completed"
    },
    "tags": []
   },
   "outputs": [],
   "source": [
    "# Save model as bkl file\n",
    "import joblib\n",
    "joblib.dump(final_pipeline_cluster, 'Brazilian Ecommerce Clustering.bkl')"
   ]
  },
  {
   "cell_type": "code",
   "execution_count": null,
   "id": "f355d818",
   "metadata": {
    "execution": {
     "iopub.execute_input": "2023-04-11T04:11:01.393516Z",
     "iopub.status.busy": "2023-04-11T04:11:01.392979Z",
     "iopub.status.idle": "2023-04-11T04:11:01.409005Z",
     "shell.execute_reply": "2023-04-11T04:11:01.407908Z"
    },
    "papermill": {
     "duration": 0.161691,
     "end_time": "2023-04-11T04:11:01.411919",
     "exception": false,
     "start_time": "2023-04-11T04:11:01.250228",
     "status": "completed"
    },
    "tags": []
   },
   "outputs": [],
   "source": [
    "final_pipeline_cluster"
   ]
  },
  {
   "cell_type": "markdown",
   "id": "aa5ba865",
   "metadata": {
    "papermill": {
     "duration": 0.150419,
     "end_time": "2023-04-11T04:11:01.712208",
     "exception": false,
     "start_time": "2023-04-11T04:11:01.561789",
     "status": "completed"
    },
    "tags": []
   },
   "source": [
    "# 10.0 Model Deployment"
   ]
  },
  {
   "cell_type": "code",
   "execution_count": null,
   "id": "d4655ef7",
   "metadata": {
    "execution": {
     "iopub.execute_input": "2023-04-11T04:11:02.009599Z",
     "iopub.status.busy": "2023-04-11T04:11:02.009229Z",
     "iopub.status.idle": "2023-04-11T04:11:02.024419Z",
     "shell.execute_reply": "2023-04-11T04:11:02.023743Z"
    },
    "papermill": {
     "duration": 0.166475,
     "end_time": "2023-04-11T04:11:02.026783",
     "exception": false,
     "start_time": "2023-04-11T04:11:01.860308",
     "status": "completed"
    },
    "tags": []
   },
   "outputs": [],
   "source": [
    "model_classification = joblib.load('Brazilian Ecommerce Classification.bkl')\n",
    "model_clustering = joblib.load('Brazilian Ecommerce Clustering.bkl')"
   ]
  },
  {
   "cell_type": "markdown",
   "id": "75e7781d",
   "metadata": {
    "papermill": {
     "duration": 0.141893,
     "end_time": "2023-04-11T04:11:02.311087",
     "exception": false,
     "start_time": "2023-04-11T04:11:02.169194",
     "status": "completed"
    },
    "tags": []
   },
   "source": [
    "#### Test Classification Model"
   ]
  },
  {
   "cell_type": "code",
   "execution_count": null,
   "id": "1c12c552",
   "metadata": {
    "execution": {
     "iopub.execute_input": "2023-04-11T04:11:02.600080Z",
     "iopub.status.busy": "2023-04-11T04:11:02.599414Z",
     "iopub.status.idle": "2023-04-11T04:11:02.615589Z",
     "shell.execute_reply": "2023-04-11T04:11:02.614972Z"
    },
    "papermill": {
     "duration": 0.162197,
     "end_time": "2023-04-11T04:11:02.617432",
     "exception": false,
     "start_time": "2023-04-11T04:11:02.455235",
     "status": "completed"
    },
    "tags": []
   },
   "outputs": [],
   "source": [
    "model_classification.predict(pd.DataFrame({'freight_value' :[30], 'product_description_lenght' :[1000], 'product_photos_qty' :[4], 'payment_type' :['credit_card'], 'payment_installments' :[6], 'payment_value' :[1000], 'estimated_days' :[7], 'arrival_days' :[6], 'arrival_status' :['OnTime/Early'], 'seller_to_carrier_status' :['OnTime/Early'], 'estimated_delivery_rate' :['Very Fast'], 'arrival_delivery_rate' :['Very Fast'], 'shipping_delivery_rate' :['Very Fast']}))"
   ]
  },
  {
   "cell_type": "markdown",
   "id": "093fdc46",
   "metadata": {
    "papermill": {
     "duration": 0.141308,
     "end_time": "2023-04-11T04:11:02.902417",
     "exception": false,
     "start_time": "2023-04-11T04:11:02.761109",
     "status": "completed"
    },
    "tags": []
   },
   "source": [
    "#### Test Clustering Model"
   ]
  },
  {
   "cell_type": "code",
   "execution_count": null,
   "id": "d608eff9",
   "metadata": {
    "execution": {
     "iopub.execute_input": "2023-04-11T04:11:03.256159Z",
     "iopub.status.busy": "2023-04-11T04:11:03.254536Z",
     "iopub.status.idle": "2023-04-11T04:11:03.354123Z",
     "shell.execute_reply": "2023-04-11T04:11:03.353302Z"
    },
    "papermill": {
     "duration": 0.247592,
     "end_time": "2023-04-11T04:11:03.356673",
     "exception": false,
     "start_time": "2023-04-11T04:11:03.109081",
     "status": "completed"
    },
    "tags": []
   },
   "outputs": [],
   "source": [
    "model_clustering.predict(pd.DataFrame({'freight_value' :[10], 'price' :[90], 'payment_value' :[100], 'payment_installments' :[10], 'payment_sequential' :[3]}))"
   ]
  },
  {
   "cell_type": "code",
   "execution_count": null,
   "id": "de3602b2",
   "metadata": {
    "execution": {
     "iopub.execute_input": "2023-04-11T04:11:03.642647Z",
     "iopub.status.busy": "2023-04-11T04:11:03.642288Z",
     "iopub.status.idle": "2023-04-11T04:11:26.390994Z",
     "shell.execute_reply": "2023-04-11T04:11:26.389605Z"
    },
    "papermill": {
     "duration": 22.893387,
     "end_time": "2023-04-11T04:11:26.393955",
     "exception": false,
     "start_time": "2023-04-11T04:11:03.500568",
     "status": "completed"
    },
    "tags": []
   },
   "outputs": [],
   "source": [
    "# Install neccessary libraries for deployment\n",
    "\n",
    "! pip install ydata_profiling\n",
    "! pip install streamlit_pandas_profiling"
   ]
  },
  {
   "cell_type": "markdown",
   "id": "b3253d24",
   "metadata": {
    "papermill": {
     "duration": 0.146409,
     "end_time": "2023-04-11T04:11:26.692357",
     "exception": false,
     "start_time": "2023-04-11T04:11:26.545948",
     "status": "completed"
    },
    "tags": []
   },
   "source": [
    "### Deployment with Streamlit"
   ]
  },
  {
   "cell_type": "code",
   "execution_count": null,
   "id": "6e79b16d",
   "metadata": {
    "execution": {
     "iopub.execute_input": "2023-04-11T04:11:26.990312Z",
     "iopub.status.busy": "2023-04-11T04:11:26.989936Z",
     "iopub.status.idle": "2023-04-11T04:11:27.004032Z",
     "shell.execute_reply": "2023-04-11T04:11:27.002568Z"
    },
    "papermill": {
     "duration": 0.167665,
     "end_time": "2023-04-11T04:11:27.006590",
     "exception": false,
     "start_time": "2023-04-11T04:11:26.838925",
     "status": "completed"
    },
    "tags": []
   },
   "outputs": [],
   "source": [
    "%%writefile Brazilian_Ecommerce_Project.py\n",
    "\n",
    "import numpy as np\n",
    "import pandas as pd\n",
    "import seaborn as sns\n",
    "import matplotlib.pyplot as plt\n",
    "import joblib\n",
    "import streamlit as st\n",
    "from sklearn.preprocessing import  StandardScaler\n",
    "from sklearn.cluster import KMeans\n",
    "from sklearn.cluster import AgglomerativeClustering\n",
    "from sklearn.decomposition import PCA\n",
    "from ydata_profiling import ProfileReport\n",
    "from streamlit_pandas_profiling import st_profile_report\n",
    "\n",
    "# Load Classification and Clustering Pipeline models\n",
    "model_classification = joblib.load('Brazilian Ecommerce Classification.bkl')\n",
    "model_clustering = joblib.load('Brazilian Ecommerce Clustering.bkl')\n",
    "\n",
    "# Create Sidebar to navigate between EDA, Classification and Clustering\n",
    "sidebar = st.sidebar\n",
    "mode = sidebar.radio('Mode', ['EDA', 'Classification', 'Clustering'])\n",
    "st.markdown(\"<h1 style='text-align: center; color: #ff0000;'></h1>\", unsafe_allow_html=True)\n",
    "\n",
    "if mode == \"EDA\":\n",
    "\n",
    "    def main():\n",
    "\n",
    "        # Header of Customer Satisfaction Prediction\n",
    "        html_temp=\"\"\"\n",
    "                    <div style=\"background-color:#F5F5F5\">\n",
    "                    <h1 style=\"color:#31333F;text-align:center;\"> Customer Satisfaction Prediction </h1>\n",
    "                    </div>\n",
    "                \"\"\"\n",
    "        # Create sidebar to upload CSV files\n",
    "        with st.sidebar.header('Upload your CSV data'):\n",
    "            uploaded_file = st.sidebar.file_uploader('Upload your input csv file')\n",
    "\n",
    "        if uploaded_file is not None:\n",
    "            # Read file and Put headers\n",
    "            EDA_sample = pd.read_csv(uploaded_file, index_col= 0)\n",
    "            pr = ProfileReport(EDA_sample, explorative=True)\n",
    "            st.header('**Input DataFrame**')\n",
    "            st.write(EDA_sample)\n",
    "            st.write('---')\n",
    "            st.header('**Pandas Profiling Report**')\n",
    "            st_profile_report(pr)\n",
    "        \n",
    "        else:\n",
    "            st.info('Awaiting for CSV file to be uploaded.')\n",
    "\n",
    "    if __name__ == '__main__':\n",
    "        main()\n",
    "\n",
    "if mode == \"Classification\":\n",
    "\n",
    "    # Define function to predict classification based on assigned features\n",
    "    def predict_satisfaction(freight_value, product_description_lenght, product_photos_qty, payment_type, payment_installments, payment_value, \n",
    "    estimated_days, arrival_days, arrival_status, seller_to_carrier_status, estimated_delivery_rate, arrival_delivery_rate, shipping_delivery_rate):\n",
    "\n",
    "        prediction_classification = model_classification.predict(pd.DataFrame({'freight_value' :[freight_value], 'product_description_lenght' :[product_description_lenght], 'product_photos_qty' :[product_photos_qty], 'payment_type' :[payment_type], 'payment_installments' :[payment_installments], 'payment_value' :[payment_value], 'estimated_days' :[estimated_days], 'arrival_days' :[arrival_days], 'arrival_status' :[arrival_status], 'seller_to_carrier_status' :[seller_to_carrier_status], 'estimated_delivery_rate' :[estimated_delivery_rate], 'arrival_delivery_rate' :[arrival_delivery_rate], 'shipping_delivery_rate' :[shipping_delivery_rate]}))\n",
    "        return prediction_classification\n",
    "\n",
    "    def main():\n",
    "\n",
    "        # Header of Customer Satisfaction Prediction\n",
    "        html_temp=\"\"\"\n",
    "                    <div style=\"background-color:#F5F5F5\">\n",
    "                    <h1 style=\"color:#31333F;text-align:center;\"> Customer Satisfaction Prediction </h1>\n",
    "                    </div>\n",
    "                \"\"\"\n",
    "        st.markdown(html_temp,unsafe_allow_html=True)\n",
    "        \n",
    "        # Assign all features with desired data input method\n",
    "        sidebar.title('Numerical Features')\n",
    "        product_description_lenght = sidebar.slider('product_description_lenght', 4,3990,100)\n",
    "        product_photos_qty = sidebar.slider('product_photos_qty', 1,20,1)\n",
    "        payment_installments = sidebar.slider('payment_installments', 1,24,1)\n",
    "        estimated_days = sidebar.slider('estimated_days', 3,60,1)\n",
    "        arrival_days = sidebar.slider('arrival_days', 0,60,1)\n",
    "        payment_type = st.selectbox('payment_type', ['credit_card', 'boleto', 'voucher', 'debit_card'])\n",
    "        arrival_status = st.selectbox('arrival_status', ['OnTime/Early', 'Late'])\n",
    "        seller_to_carrier_status = st.selectbox('seller_to_carrier_status', ['OnTime/Early', 'Late'])\n",
    "        estimated_delivery_rate = st.selectbox('estimated_delivery_rate', ['Very Slow', 'Slow', 'Neutral', 'Fast', 'Very Fast'])\n",
    "        arrival_delivery_rate = st.selectbox('arrival_delivery_rate', ['Very Slow', 'Slow', 'Neutral', 'Fast', 'Very Fast'])\n",
    "        shipping_delivery_rate = st.selectbox('shipping_delivery_rate Date', ['Very Slow', 'Slow', 'Neutral', 'Fast', 'Very Fast'])\n",
    "        payment_value = st.text_input('payment_value', '')\n",
    "        freight_value = st.text_input('freight_value', '')\n",
    "        result = ''\n",
    "\n",
    "        # Predict Customer Satsifaction\n",
    "        if st.button('Predict_Satisfaction'):\n",
    "            result = predict_satisfaction(freight_value, product_description_lenght, product_photos_qty, payment_type, payment_installments, payment_value, \n",
    "                                        estimated_days, arrival_days, arrival_status, seller_to_carrier_status, estimated_delivery_rate, arrival_delivery_rate, shipping_delivery_rate)\n",
    "                                        \n",
    "        if result == 0:\n",
    "            result = 'Not Satisfied'\n",
    "            st.success(f'The Customer is {result}')\n",
    "        else:\n",
    "            result = 'Satisfied'\n",
    "            st.success(f'The Customer is {result}')\n",
    "\n",
    "    if __name__ == '__main__':\n",
    "        main()\n",
    "\n",
    "if mode == \"Clustering\":\n",
    "\n",
    "    def predict_clustering(freight_value, price, payment_value, payment_installments, payment_sequential):\n",
    "\n",
    "        prediction_clustering = model_clustering.predict(pd.DataFrame({'freight_value' :[freight_value], 'price' :[price], 'payment_installments' :[payment_installments], 'payment_value' :[payment_value], 'payment_sequential' :[payment_sequential]}))\n",
    "        return prediction_clustering\n",
    "\n",
    "    def main():\n",
    "\n",
    "        # Header of Customer Segmentation\n",
    "        html_temp=\"\"\"\n",
    "                <div style=\"background-color:#F5F5F5\">\n",
    "                <h1 style=\"color:#31333F;text-align:center;\"> Customer Segmentation </h1>\n",
    "                </div>\n",
    "            \"\"\"\n",
    "        st.markdown(html_temp,unsafe_allow_html=True)\n",
    "\n",
    "        # Assign all features with desired data input method\n",
    "        payment_installments = st.slider('payment_installments', 1,24,1)\n",
    "        payment_sequential = st.slider('payment_sequential', 1,24,1)\n",
    "        freight_value = st.text_input('freight_value', '')\n",
    "        price = st.text_input('price', '')\n",
    "        payment_value = st.text_input('payment_value', '')\n",
    "        result_cluster = ''\n",
    "\n",
    "        # Predict Cluster of the customer\n",
    "        if st.button('Predict_Cluster'):\n",
    "            result_cluster = predict_clustering(freight_value, price, payment_value, payment_installments, payment_sequential)\n",
    "                                        \n",
    "        st.success(f'Customer Cluster is {result_cluster}')\n",
    "        \n",
    "        # Upload CSV file\n",
    "        with st.sidebar.header('Upload your CSV data'):\n",
    "            uploaded_file = st.sidebar.file_uploader('Upload your input csv file')\n",
    "\n",
    "        if uploaded_file is not None:\n",
    "\n",
    "            # Read dataset\n",
    "            sample = pd.read_csv(uploaded_file, index_col= 0)\n",
    "            \n",
    "            # Define sidebar for clustering algorithm\n",
    "            selected_algorithm = sidebar.selectbox('Select Clustering Algorithm', ['K-Means', 'Agglomerative'])\n",
    "\n",
    "            # Define sidebar for number of clusters\n",
    "            selected_clusters = sidebar.slider('Select number of clusters', 2, 10, 1)\n",
    "\n",
    "            # Define sidebar for PCA\n",
    "            use_pca = sidebar.radio('Use PCA', ['No', 'Yes'])\n",
    "\n",
    "            # Drop freight values with zeros\n",
    "            sample.drop(sample[sample.freight_value == 0].index, inplace= True)\n",
    "            # Reset Index \n",
    "            sample.reset_index(inplace= True, drop= True)\n",
    "            # Handle Skeweness in sample data\n",
    "            for i in ['freight_value', 'price', 'payment_value', 'payment_installments', 'payment_sequential']:\n",
    "                sample[i] = np.log10(sample[i])\n",
    "\n",
    "            # Apply standard scaler\n",
    "            sc = StandardScaler(with_mean= False)\n",
    "            data_scaled = sc.fit_transform(sample)\n",
    "\n",
    "            # Select number of clusters\n",
    "            if selected_algorithm == 'Agglomerative':\n",
    "                hc = AgglomerativeClustering(n_clusters= selected_clusters)\n",
    "                y_pred_hc = hc.fit_predict(data_scaled)\n",
    "\n",
    "            else:\n",
    "                kmean = KMeans(n_clusters= selected_clusters)\n",
    "                y_pred_kmean = kmean.fit_predict(data_scaled)\n",
    "\n",
    "            # Apply PCA\n",
    "            pca = PCA(n_components= 2)\n",
    "            data_pca = pca.fit_transform(data_scaled)\n",
    "\n",
    "            # Select number of clusters for PCA\n",
    "            kmean_pca = KMeans(n_clusters= selected_clusters)\n",
    "            y_pred_pca = kmean_pca.fit_predict(data_pca)\n",
    "\n",
    "            def plot_cluster(data, y_pred, num_clusters):\n",
    "\n",
    "                # Plot Clusters\n",
    "                fig, ax = plt.subplots()\n",
    "                Colors= ['red', 'green', 'blue', 'purple', 'orange', 'royalblue', 'brown', 'grey', 'chocolate', 'fuchsia']\n",
    "                for i in range(num_clusters):\n",
    "                    ax.scatter(data[y_pred==i,0], data[y_pred==i,1], c= Colors[i], label= 'Cluster ' + str(i+1))\n",
    "\n",
    "                ax.set_title('Customers Clusters')\n",
    "                ax.legend(loc='upper left', prop={'size':5})\n",
    "                ax.axis('off')\n",
    "                st.pyplot(fig)\n",
    "\n",
    "            # Option to select and plot PCA for clustering\n",
    "            if use_pca == 'No' and selected_algorithm == 'K-Means':\n",
    "                plot_cluster(data_scaled, y_pred_kmean, selected_clusters)\n",
    "\n",
    "            elif use_pca == 'No' and selected_algorithm == 'Agglomerative':\n",
    "                plot_cluster(data_scaled, y_pred_hc, selected_clusters)           \n",
    "\n",
    "            else:\n",
    "                plot_cluster(data_pca, y_pred_pca, selected_clusters)    \n",
    "        \n",
    "        else:\n",
    "            st.info('Awaiting for CSV file to be uploaded.')\n",
    "\n",
    "    if __name__ == '__main__':\n",
    "        main()"
   ]
  },
  {
   "cell_type": "code",
   "execution_count": null,
   "id": "a51316a8",
   "metadata": {
    "execution": {
     "iopub.execute_input": "2023-04-11T04:11:27.302856Z",
     "iopub.status.busy": "2023-04-11T04:11:27.302425Z",
     "iopub.status.idle": "2023-04-11T04:11:27.307186Z",
     "shell.execute_reply": "2023-04-11T04:11:27.305982Z"
    },
    "papermill": {
     "duration": 0.155824,
     "end_time": "2023-04-11T04:11:27.309124",
     "exception": false,
     "start_time": "2023-04-11T04:11:27.153300",
     "status": "completed"
    },
    "tags": []
   },
   "outputs": [],
   "source": [
    "#! streamlit run Brazilian_Ecommerce_Project.py"
   ]
  },
  {
   "cell_type": "markdown",
   "id": "1b5aa8f3",
   "metadata": {
    "papermill": {
     "duration": 0.160478,
     "end_time": "2023-04-11T04:11:27.629504",
     "exception": false,
     "start_time": "2023-04-11T04:11:27.469026",
     "status": "completed"
    },
    "tags": []
   },
   "source": [
    "# 11.0 Wrap up & Conclusion"
   ]
  },
  {
   "cell_type": "markdown",
   "id": "aa29d631",
   "metadata": {
    "papermill": {
     "duration": 0.147839,
     "end_time": "2023-04-11T04:11:27.930197",
     "exception": false,
     "start_time": "2023-04-11T04:11:27.782358",
     "status": "completed"
    },
    "tags": []
   },
   "source": [
    "#### 1- Apply Feature Engineering for some datetime features which are very important in the analysis.\n",
    "#### 2- Make EDA to gain useful insights like how accurate are estimated delivery dates provided by the website (93.8% Early/OnTime, 6.2% Late).\n",
    "#### 3- Apply Feature Selection to check best features, where we found that shipping features were important.\n",
    "#### 4- Apply different ML models to predict customer satisfaction either Satisfied or Non-Satisfied, however the results didn't show good performance on testing specially for minor class Non-Satisfied (67% on testing for Macro avg F1-score).\n",
    "#### 5- To investigate further why results are not good on testing, we used NLP on customers reviews with Naive bayes model to predict satisfaction but this time based on reviews written by customers.\n",
    "#### 6- The NLP model have shown much better results than previous models (87% on testing).\n",
    "#### 7- To understand why results are low on traditional models and high with NLP, we investigated further the Non Satisfied customers reviews and found that more than 90% of words in reviews are related to shipping issues.\n",
    "#### 8- The conflict we have now is that accuracy of estimated delivery dates by the website only mentions 6.2% of lateness, however non-satisfied customers reviews (which represents 23% of data) tell us that shipping lateness is the main reason for non-satisfaction.\n",
    "#### 9- From this conflict we conclude that the accuracy of estimated delivery dates by the website is misleading because it's only from website perspective or carrier perspective not the customer, for ex maybe the customer didn't receive the order but on the system it shows that it was delivered, or maybe it was delivered late but on the system doesn't show it was delivered late and that's because the customer has no contribution to the system except for written reviews.\n",
    "#### 10- As a conclusion if we need to predict customer satisfactio based on transaction features we should handle the previous issue first, or the model will always provide bad results to predict satisfaction because of the overlaping between satisfied and non-satisfied which is caused due to the issue mentioned.\n",
    "#### 11- After that we make customer segmentation using RFM analysis and K-Means, however RFM analysis provides better segmentation as K-Means has high level of overlaping between segments.\n",
    "#### 12- Finally we deploy Streamlit web App for EDA, Classification and Clustering providing the option to upload sample data and investigate it by the App."
   ]
  }
 ],
 "metadata": {
  "kernelspec": {
   "display_name": "Python 3",
   "language": "python",
   "name": "python3"
  },
  "language_info": {
   "codemirror_mode": {
    "name": "ipython",
    "version": 3
   },
   "file_extension": ".py",
   "mimetype": "text/x-python",
   "name": "python",
   "nbconvert_exporter": "python",
   "pygments_lexer": "ipython3",
   "version": "3.10.0"
  },
  "papermill": {
   "default_parameters": {},
   "duration": 1120.207693,
   "end_time": "2023-04-11T04:11:29.507431",
   "environment_variables": {},
   "exception": null,
   "input_path": "__notebook__.ipynb",
   "output_path": "__notebook__.ipynb",
   "parameters": {},
   "start_time": "2023-04-11T03:52:49.299738",
   "version": "2.4.0"
  }
 },
 "nbformat": 4,
 "nbformat_minor": 5
}
