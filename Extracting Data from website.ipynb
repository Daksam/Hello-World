{
 "cells": [
  {
   "cell_type": "markdown",
   "id": "3d9bc44f",
   "metadata": {},
   "source": [
    "## filtering to extraction"
   ]
  },
  {
   "cell_type": "code",
   "execution_count": null,
   "id": "b7b5087b",
   "metadata": {},
   "outputs": [],
   "source": [
    "from bs4 import BeautifulSoup\n",
    "from urllib.request import urlopen"
   ]
  },
  {
   "cell_type": "code",
   "execution_count": null,
   "id": "c239b243",
   "metadata": {},
   "outputs": [],
   "source": [
    "url = \"https://quotes.toscrape.com/\""
   ]
  },
  {
   "cell_type": "code",
   "execution_count": null,
   "id": "87a14aaf",
   "metadata": {},
   "outputs": [],
   "source": [
    "html = urlopen(url)"
   ]
  },
  {
   "cell_type": "code",
   "execution_count": null,
   "id": "8479fe5e",
   "metadata": {},
   "outputs": [],
   "source": [
    "soup = BeautifulSoup(html, \"html.parser\")"
   ]
  },
  {
   "cell_type": "code",
   "execution_count": null,
   "id": "bdebebdc",
   "metadata": {},
   "outputs": [],
   "source": [
    "soup"
   ]
  },
  {
   "cell_type": "code",
   "execution_count": null,
   "id": "a626ca85",
   "metadata": {},
   "outputs": [],
   "source": [
    "type(soup)"
   ]
  },
  {
   "cell_type": "code",
   "execution_count": null,
   "id": "d8d70e7a",
   "metadata": {},
   "outputs": [],
   "source": [
    "all_links = soup.findAll('div',{'class':'quote'})"
   ]
  },
  {
   "cell_type": "code",
   "execution_count": null,
   "id": "34415cf2",
   "metadata": {},
   "outputs": [],
   "source": [
    "stri = str(all_links)"
   ]
  },
  {
   "cell_type": "code",
   "execution_count": null,
   "id": "99b9c0b4",
   "metadata": {},
   "outputs": [],
   "source": [
    "text_web = BeautifulSoup(stri,\"html.parser\").get_text()"
   ]
  },
  {
   "cell_type": "code",
   "execution_count": null,
   "id": "5755e247",
   "metadata": {},
   "outputs": [],
   "source": [
    "print(text_web)"
   ]
  }
 ],
 "metadata": {
  "kernelspec": {
   "display_name": "Python 3 (ipykernel)",
   "language": "python",
   "name": "python3"
  },
  "language_info": {
   "codemirror_mode": {
    "name": "ipython",
    "version": 3
   },
   "file_extension": ".py",
   "mimetype": "text/x-python",
   "name": "python",
   "nbconvert_exporter": "python",
   "pygments_lexer": "ipython3",
   "version": "3.9.7"
  }
 },
 "nbformat": 4,
 "nbformat_minor": 5
}
