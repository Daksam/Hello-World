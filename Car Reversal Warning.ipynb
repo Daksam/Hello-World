{
 "cells": [
  {
   "cell_type": "markdown",
   "id": "e4ac0c14",
   "metadata": {},
   "source": [
    "## Designing a Car reverse warning"
   ]
  },
  {
   "cell_type": "code",
   "execution_count": 2,
   "id": "b5489693",
   "metadata": {},
   "outputs": [
    {
     "name": "stdout",
     "output_type": "stream",
     "text": [
      "My BMW is reversing, please beware!!\n"
     ]
    }
   ],
   "source": [
    "#declaring the class and function\n",
    "class Cars:\n",
    "    def __init__(self, brand, number_of_doors, fuel_type):\n",
    "        self.brand = brand\n",
    "        self.number_of_doors = number_of_doors\n",
    "        self.fuel_type = fuel_type\n",
    "\n",
    "#the reverse warning        \n",
    "    def Reverse(self):\n",
    "        print(\"My \" + self.brand + \" is reversing, please beware!!\")\n",
    "\n",
    "#giving values to the keys\n",
    "car1 = Cars(\"BMW\", 4, \"diesel\")\n",
    "car1.Reverse()"
   ]
  },
  {
   "cell_type": "code",
   "execution_count": null,
   "id": "9154732b",
   "metadata": {},
   "outputs": [],
   "source": []
  }
 ],
 "metadata": {
  "kernelspec": {
   "display_name": "Python 3 (ipykernel)",
   "language": "python",
   "name": "python3"
  },
  "language_info": {
   "codemirror_mode": {
    "name": "ipython",
    "version": 3
   },
   "file_extension": ".py",
   "mimetype": "text/x-python",
   "name": "python",
   "nbconvert_exporter": "python",
   "pygments_lexer": "ipython3",
   "version": "3.9.7"
  }
 },
 "nbformat": 4,
 "nbformat_minor": 5
}
