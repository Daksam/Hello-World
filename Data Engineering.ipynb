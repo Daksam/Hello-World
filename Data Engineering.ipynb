{
 "cells": [
  {
   "cell_type": "markdown",
   "id": "dd9387bf",
   "metadata": {},
   "source": [
    "# Data Engineering Graduate Training\n",
    "## Intro to Python"
   ]
  },
  {
   "cell_type": "markdown",
   "id": "3e302fa8",
   "metadata": {},
   "source": [
    "## Arithmetics\n",
    "    addition\n",
    "    subtraction\n",
    "    multiplication\n",
    "    division\n",
    "    exponents\n",
    "    modules\n",
    "    floor division"
   ]
  },
  {
   "cell_type": "code",
   "execution_count": 1,
   "id": "c29a4af2",
   "metadata": {},
   "outputs": [
    {
     "data": {
      "text/plain": [
       "57"
      ]
     },
     "execution_count": 1,
     "metadata": {},
     "output_type": "execute_result"
    }
   ],
   "source": [
    "#addition\n",
    "23 + 34"
   ]
  },
  {
   "cell_type": "code",
   "execution_count": 2,
   "id": "bae015a9",
   "metadata": {},
   "outputs": [
    {
     "data": {
      "text/plain": [
       "25"
      ]
     },
     "execution_count": 2,
     "metadata": {},
     "output_type": "execute_result"
    }
   ],
   "source": [
    "#subtraction\n",
    "45-20"
   ]
  },
  {
   "cell_type": "code",
   "execution_count": 3,
   "id": "31b7ba0e",
   "metadata": {},
   "outputs": [
    {
     "data": {
      "text/plain": [
       "8"
      ]
     },
     "execution_count": 3,
     "metadata": {},
     "output_type": "execute_result"
    }
   ],
   "source": [
    "#multiplication\n",
    "2*4"
   ]
  },
  {
   "cell_type": "code",
   "execution_count": 4,
   "id": "0ed44df7",
   "metadata": {},
   "outputs": [
    {
     "data": {
      "text/plain": [
       "2.0"
      ]
     },
     "execution_count": 4,
     "metadata": {},
     "output_type": "execute_result"
    }
   ],
   "source": [
    "#division\n",
    "8/4"
   ]
  },
  {
   "cell_type": "code",
   "execution_count": 5,
   "id": "a2660c97",
   "metadata": {},
   "outputs": [
    {
     "data": {
      "text/plain": [
       "8"
      ]
     },
     "execution_count": 5,
     "metadata": {},
     "output_type": "execute_result"
    }
   ],
   "source": [
    "#exponent\n",
    "2**3"
   ]
  },
  {
   "cell_type": "code",
   "execution_count": 6,
   "id": "003a7a1f",
   "metadata": {},
   "outputs": [
    {
     "data": {
      "text/plain": [
       "1"
      ]
     },
     "execution_count": 6,
     "metadata": {},
     "output_type": "execute_result"
    }
   ],
   "source": [
    "#modulos\n",
    "7%2"
   ]
  },
  {
   "cell_type": "code",
   "execution_count": 7,
   "id": "170fcc4e",
   "metadata": {},
   "outputs": [
    {
     "data": {
      "text/plain": [
       "2.3333333333333335"
      ]
     },
     "execution_count": 7,
     "metadata": {},
     "output_type": "execute_result"
    }
   ],
   "source": [
    "7/3"
   ]
  },
  {
   "cell_type": "code",
   "execution_count": 8,
   "id": "c869ca5e",
   "metadata": {},
   "outputs": [
    {
     "data": {
      "text/plain": [
       "2"
      ]
     },
     "execution_count": 8,
     "metadata": {},
     "output_type": "execute_result"
    }
   ],
   "source": [
    "7//3"
   ]
  },
  {
   "cell_type": "code",
   "execution_count": 9,
   "id": "f5b1be56",
   "metadata": {},
   "outputs": [
    {
     "data": {
      "text/plain": [
       "4"
      ]
     },
     "execution_count": 9,
     "metadata": {},
     "output_type": "execute_result"
    }
   ],
   "source": [
    "\n",
    "#Foor division\n",
    "8//2"
   ]
  },
  {
   "cell_type": "markdown",
   "id": "fe0092c6",
   "metadata": {},
   "source": [
    "## PEMDAS\n",
    "Parenthese\n",
    "Exponential\n",
    "Multiplication\n",
    "Divisin\n",
    "Addition\n",
    "Subtraction"
   ]
  },
  {
   "cell_type": "code",
   "execution_count": 10,
   "id": "3fd4e193",
   "metadata": {},
   "outputs": [
    {
     "data": {
      "text/plain": [
       "9.666666666666666"
      ]
     },
     "execution_count": 10,
     "metadata": {},
     "output_type": "execute_result"
    }
   ],
   "source": [
    "2*4+5/3"
   ]
  },
  {
   "cell_type": "code",
   "execution_count": 11,
   "id": "2339086e",
   "metadata": {},
   "outputs": [
    {
     "data": {
      "text/plain": [
       "6.0"
      ]
     },
     "execution_count": 11,
     "metadata": {},
     "output_type": "execute_result"
    }
   ],
   "source": [
    "2*(4+5)/3"
   ]
  },
  {
   "cell_type": "markdown",
   "id": "e12689c1",
   "metadata": {},
   "source": [
    "## Conditional Operations\n",
    "    equal\n",
    "    greater than or equal\n",
    "    less than or equal"
   ]
  },
  {
   "cell_type": "code",
   "execution_count": 12,
   "id": "d55cbc82",
   "metadata": {},
   "outputs": [
    {
     "data": {
      "text/plain": [
       "False"
      ]
     },
     "execution_count": 12,
     "metadata": {},
     "output_type": "execute_result"
    }
   ],
   "source": [
    "23==2"
   ]
  },
  {
   "cell_type": "code",
   "execution_count": 13,
   "id": "8847885b",
   "metadata": {},
   "outputs": [
    {
     "data": {
      "text/plain": [
       "True"
      ]
     },
     "execution_count": 13,
     "metadata": {},
     "output_type": "execute_result"
    }
   ],
   "source": [
    "22==22"
   ]
  },
  {
   "cell_type": "code",
   "execution_count": 14,
   "id": "ce25d00c",
   "metadata": {},
   "outputs": [
    {
     "data": {
      "text/plain": [
       "True"
      ]
     },
     "execution_count": 14,
     "metadata": {},
     "output_type": "execute_result"
    }
   ],
   "source": [
    "12!=2"
   ]
  },
  {
   "cell_type": "code",
   "execution_count": 15,
   "id": "3ac64f9d",
   "metadata": {},
   "outputs": [
    {
     "data": {
      "text/plain": [
       "True"
      ]
     },
     "execution_count": 15,
     "metadata": {},
     "output_type": "execute_result"
    }
   ],
   "source": [
    "12>4"
   ]
  },
  {
   "cell_type": "code",
   "execution_count": 16,
   "id": "dbd4dd34",
   "metadata": {},
   "outputs": [
    {
     "data": {
      "text/plain": [
       "False"
      ]
     },
     "execution_count": 16,
     "metadata": {},
     "output_type": "execute_result"
    }
   ],
   "source": [
    "12<6"
   ]
  },
  {
   "cell_type": "code",
   "execution_count": 17,
   "id": "c006de01",
   "metadata": {},
   "outputs": [
    {
     "data": {
      "text/plain": [
       "True"
      ]
     },
     "execution_count": 17,
     "metadata": {},
     "output_type": "execute_result"
    }
   ],
   "source": [
    "34>=23"
   ]
  },
  {
   "cell_type": "markdown",
   "id": "e2304348",
   "metadata": {},
   "source": [
    "## Logical Conditions\n",
    "    and \n",
    "    or\n",
    "    not\n",
    "    True\n",
    "    False"
   ]
  },
  {
   "cell_type": "code",
   "execution_count": 18,
   "id": "9fce1756",
   "metadata": {},
   "outputs": [
    {
     "data": {
      "text/plain": [
       "True"
      ]
     },
     "execution_count": 18,
     "metadata": {},
     "output_type": "execute_result"
    }
   ],
   "source": [
    "(2>1) and (23<89)"
   ]
  },
  {
   "cell_type": "code",
   "execution_count": 19,
   "id": "4e28d57a",
   "metadata": {},
   "outputs": [
    {
     "data": {
      "text/plain": [
       "False"
      ]
     },
     "execution_count": 19,
     "metadata": {},
     "output_type": "execute_result"
    }
   ],
   "source": [
    "(23==22) & (23<89)"
   ]
  },
  {
   "cell_type": "code",
   "execution_count": 20,
   "id": "dfa26e46",
   "metadata": {},
   "outputs": [
    {
     "data": {
      "text/plain": [
       "True"
      ]
     },
     "execution_count": 20,
     "metadata": {},
     "output_type": "execute_result"
    }
   ],
   "source": [
    "(23==22) or (23<89)"
   ]
  },
  {
   "cell_type": "markdown",
   "id": "b32f4733",
   "metadata": {},
   "source": [
    "## Variables"
   ]
  },
  {
   "cell_type": "code",
   "execution_count": 21,
   "id": "3dfebf08",
   "metadata": {},
   "outputs": [
    {
     "data": {
      "text/plain": [
       "'Sam'"
      ]
     },
     "execution_count": 21,
     "metadata": {},
     "output_type": "execute_result"
    }
   ],
   "source": [
    "name = 'Sam'\n",
    "name"
   ]
  },
  {
   "cell_type": "code",
   "execution_count": 22,
   "id": "d28c770c",
   "metadata": {},
   "outputs": [
    {
     "name": "stdout",
     "output_type": "stream",
     "text": [
      "Sam\n"
     ]
    }
   ],
   "source": [
    "print(name)"
   ]
  },
  {
   "cell_type": "code",
   "execution_count": 23,
   "id": "71e3c293",
   "metadata": {},
   "outputs": [
    {
     "data": {
      "text/plain": [
       "32"
      ]
     },
     "execution_count": 23,
     "metadata": {},
     "output_type": "execute_result"
    }
   ],
   "source": [
    "age=32\n",
    "age"
   ]
  },
  {
   "cell_type": "code",
   "execution_count": 24,
   "id": "c77d90b6",
   "metadata": {},
   "outputs": [
    {
     "name": "stdout",
     "output_type": "stream",
     "text": [
      "Sam is 32 years old.\n"
     ]
    }
   ],
   "source": [
    "print(name, \"is\", age, 'years old.')"
   ]
  },
  {
   "cell_type": "markdown",
   "id": "d091dfed",
   "metadata": {},
   "source": [
    "## Data Types\n",
    "    int\n",
    "    float\n",
    "    strings\n",
    "    boolian\n",
    "    list\n",
    "    tuples\n",
    "    dictionary"
   ]
  },
  {
   "cell_type": "code",
   "execution_count": 25,
   "id": "816d88d3",
   "metadata": {},
   "outputs": [
    {
     "data": {
      "text/plain": [
       "244"
      ]
     },
     "execution_count": 25,
     "metadata": {},
     "output_type": "execute_result"
    }
   ],
   "source": [
    "244"
   ]
  },
  {
   "cell_type": "code",
   "execution_count": 26,
   "id": "0ce17ea5",
   "metadata": {},
   "outputs": [
    {
     "data": {
      "text/plain": [
       "32"
      ]
     },
     "execution_count": 26,
     "metadata": {},
     "output_type": "execute_result"
    }
   ],
   "source": [
    "age"
   ]
  },
  {
   "cell_type": "code",
   "execution_count": 27,
   "id": "4c2110c9",
   "metadata": {},
   "outputs": [
    {
     "data": {
      "text/plain": [
       "int"
      ]
     },
     "execution_count": 27,
     "metadata": {},
     "output_type": "execute_result"
    }
   ],
   "source": [
    "type(244)"
   ]
  },
  {
   "cell_type": "code",
   "execution_count": 28,
   "id": "5ee966a8",
   "metadata": {},
   "outputs": [
    {
     "data": {
      "text/plain": [
       "int"
      ]
     },
     "execution_count": 28,
     "metadata": {},
     "output_type": "execute_result"
    }
   ],
   "source": [
    "type(age)"
   ]
  },
  {
   "cell_type": "code",
   "execution_count": 29,
   "id": "bfea0982",
   "metadata": {},
   "outputs": [
    {
     "data": {
      "text/plain": [
       "str"
      ]
     },
     "execution_count": 29,
     "metadata": {},
     "output_type": "execute_result"
    }
   ],
   "source": [
    "type(name)"
   ]
  },
  {
   "cell_type": "code",
   "execution_count": 30,
   "id": "b8e1d48d",
   "metadata": {},
   "outputs": [
    {
     "data": {
      "text/plain": [
       "22.445"
      ]
     },
     "execution_count": 30,
     "metadata": {},
     "output_type": "execute_result"
    }
   ],
   "source": [
    "22.445"
   ]
  },
  {
   "cell_type": "code",
   "execution_count": 31,
   "id": "e6c3d4c7",
   "metadata": {},
   "outputs": [
    {
     "data": {
      "text/plain": [
       "float"
      ]
     },
     "execution_count": 31,
     "metadata": {},
     "output_type": "execute_result"
    }
   ],
   "source": [
    "type(22.445)"
   ]
  },
  {
   "cell_type": "code",
   "execution_count": 32,
   "id": "e4053f89",
   "metadata": {},
   "outputs": [
    {
     "data": {
      "text/plain": [
       "bool"
      ]
     },
     "execution_count": 32,
     "metadata": {},
     "output_type": "execute_result"
    }
   ],
   "source": [
    "type(True)\n",
    "type(False)"
   ]
  },
  {
   "cell_type": "code",
   "execution_count": 33,
   "id": "5763e063",
   "metadata": {},
   "outputs": [],
   "source": [
    "info='location'"
   ]
  },
  {
   "cell_type": "code",
   "execution_count": 34,
   "id": "2a2ac6b2",
   "metadata": {},
   "outputs": [
    {
     "data": {
      "text/plain": [
       "'location'"
      ]
     },
     "execution_count": 34,
     "metadata": {},
     "output_type": "execute_result"
    }
   ],
   "source": [
    "info"
   ]
  },
  {
   "cell_type": "code",
   "execution_count": 35,
   "id": "99b3b281",
   "metadata": {},
   "outputs": [
    {
     "data": {
      "text/plain": [
       "str"
      ]
     },
     "execution_count": 35,
     "metadata": {},
     "output_type": "execute_result"
    }
   ],
   "source": [
    "type(info)"
   ]
  },
  {
   "cell_type": "code",
   "execution_count": 36,
   "id": "e70243cb",
   "metadata": {},
   "outputs": [
    {
     "data": {
      "text/plain": [
       "'o'"
      ]
     },
     "execution_count": 36,
     "metadata": {},
     "output_type": "execute_result"
    }
   ],
   "source": [
    "info[1]"
   ]
  },
  {
   "cell_type": "code",
   "execution_count": 37,
   "id": "9c62afc2",
   "metadata": {},
   "outputs": [
    {
     "data": {
      "text/plain": [
       "'on'"
      ]
     },
     "execution_count": 37,
     "metadata": {},
     "output_type": "execute_result"
    }
   ],
   "source": [
    "info[6:]"
   ]
  },
  {
   "cell_type": "code",
   "execution_count": 38,
   "id": "24a8cff0",
   "metadata": {},
   "outputs": [
    {
     "data": {
      "text/plain": [
       "'i'"
      ]
     },
     "execution_count": 38,
     "metadata": {},
     "output_type": "execute_result"
    }
   ],
   "source": [
    "info[-3]"
   ]
  },
  {
   "cell_type": "code",
   "execution_count": 39,
   "id": "f4c5e082",
   "metadata": {},
   "outputs": [
    {
     "data": {
      "text/plain": [
       "'location'"
      ]
     },
     "execution_count": 39,
     "metadata": {},
     "output_type": "execute_result"
    }
   ],
   "source": [
    "info[:]"
   ]
  },
  {
   "cell_type": "code",
   "execution_count": 40,
   "id": "5d524332",
   "metadata": {},
   "outputs": [
    {
     "data": {
      "text/plain": [
       "'loc'"
      ]
     },
     "execution_count": 40,
     "metadata": {},
     "output_type": "execute_result"
    }
   ],
   "source": [
    "info[:3]"
   ]
  },
  {
   "cell_type": "code",
   "execution_count": 41,
   "id": "ef915e1b",
   "metadata": {},
   "outputs": [
    {
     "data": {
      "text/plain": [
       "'oca'"
      ]
     },
     "execution_count": 41,
     "metadata": {},
     "output_type": "execute_result"
    }
   ],
   "source": [
    "info[1:4]"
   ]
  },
  {
   "cell_type": "code",
   "execution_count": 42,
   "id": "80d74f3f",
   "metadata": {},
   "outputs": [
    {
     "data": {
      "text/plain": [
       "'oai'"
      ]
     },
     "execution_count": 42,
     "metadata": {},
     "output_type": "execute_result"
    }
   ],
   "source": [
    "# steps of 2\n",
    "info[1:6:2]"
   ]
  },
  {
   "cell_type": "markdown",
   "id": "8ffd04da",
   "metadata": {},
   "source": [
    "### Methods"
   ]
  },
  {
   "cell_type": "code",
   "execution_count": 43,
   "id": "8632ab79",
   "metadata": {},
   "outputs": [
    {
     "data": {
      "text/plain": [
       "False"
      ]
     },
     "execution_count": 43,
     "metadata": {},
     "output_type": "execute_result"
    }
   ],
   "source": [
    "info.isspace()"
   ]
  },
  {
   "cell_type": "code",
   "execution_count": 44,
   "id": "5e38489c",
   "metadata": {},
   "outputs": [
    {
     "data": {
      "text/plain": [
       "'LOCATION'"
      ]
     },
     "execution_count": 44,
     "metadata": {},
     "output_type": "execute_result"
    }
   ],
   "source": [
    "info.upper()"
   ]
  },
  {
   "cell_type": "code",
   "execution_count": 45,
   "id": "46ef5e30",
   "metadata": {},
   "outputs": [],
   "source": [
    "name='Samuel,Dassi'"
   ]
  },
  {
   "cell_type": "code",
   "execution_count": 46,
   "id": "dd8faf15",
   "metadata": {},
   "outputs": [
    {
     "data": {
      "text/plain": [
       "'Samuel Dassi'"
      ]
     },
     "execution_count": 46,
     "metadata": {},
     "output_type": "execute_result"
    }
   ],
   "source": [
    "name.replace(',', ' ')"
   ]
  },
  {
   "cell_type": "code",
   "execution_count": 47,
   "id": "6b3dfe6d",
   "metadata": {},
   "outputs": [
    {
     "data": {
      "text/plain": [
       "'Samuel'"
      ]
     },
     "execution_count": 47,
     "metadata": {},
     "output_type": "execute_result"
    }
   ],
   "source": [
    "name.split(',')[0]"
   ]
  },
  {
   "cell_type": "markdown",
   "id": "45d11a0a",
   "metadata": {},
   "source": [
    "### List"
   ]
  },
  {
   "cell_type": "code",
   "execution_count": 48,
   "id": "40967650",
   "metadata": {},
   "outputs": [],
   "source": [
    "students = ['Edi', 'Theo', 'Wonder', 'Etiam', 3, 23.5]"
   ]
  },
  {
   "cell_type": "code",
   "execution_count": 49,
   "id": "fb355d20",
   "metadata": {},
   "outputs": [
    {
     "data": {
      "text/plain": [
       "list"
      ]
     },
     "execution_count": 49,
     "metadata": {},
     "output_type": "execute_result"
    }
   ],
   "source": [
    "type(students)"
   ]
  },
  {
   "cell_type": "code",
   "execution_count": 50,
   "id": "70a90062",
   "metadata": {},
   "outputs": [
    {
     "data": {
      "text/plain": [
       "['Edi', 'Wonder', 3]"
      ]
     },
     "execution_count": 50,
     "metadata": {},
     "output_type": "execute_result"
    }
   ],
   "source": [
    "students[::2]"
   ]
  },
  {
   "cell_type": "code",
   "execution_count": 51,
   "id": "b55f3e4d",
   "metadata": {},
   "outputs": [],
   "source": [
    "students.append('Sam')"
   ]
  },
  {
   "cell_type": "code",
   "execution_count": 52,
   "id": "068ec758",
   "metadata": {},
   "outputs": [
    {
     "data": {
      "text/plain": [
       "['Edi', 'Theo', 'Wonder', 'Etiam', 3, 23.5, 'Sam']"
      ]
     },
     "execution_count": 52,
     "metadata": {},
     "output_type": "execute_result"
    }
   ],
   "source": [
    "students"
   ]
  },
  {
   "cell_type": "code",
   "execution_count": 53,
   "id": "e0b41682",
   "metadata": {},
   "outputs": [],
   "source": [
    "students.insert(4,'Elorm')"
   ]
  },
  {
   "cell_type": "code",
   "execution_count": 54,
   "id": "5aece679",
   "metadata": {},
   "outputs": [
    {
     "data": {
      "text/plain": [
       "['Edi', 'Theo', 'Wonder', 'Etiam', 'Elorm', 3, 23.5, 'Sam']"
      ]
     },
     "execution_count": 54,
     "metadata": {},
     "output_type": "execute_result"
    }
   ],
   "source": [
    "students"
   ]
  },
  {
   "cell_type": "code",
   "execution_count": 55,
   "id": "3ac1a9d0",
   "metadata": {},
   "outputs": [
    {
     "data": {
      "text/plain": [
       "23.5"
      ]
     },
     "execution_count": 55,
     "metadata": {},
     "output_type": "execute_result"
    }
   ],
   "source": [
    "students.pop(-2)"
   ]
  },
  {
   "cell_type": "code",
   "execution_count": 56,
   "id": "4112ccc0",
   "metadata": {},
   "outputs": [
    {
     "data": {
      "text/plain": [
       "['Edi', 'Theo', 'Wonder', 'Etiam', 'Elorm', 3, 'Sam']"
      ]
     },
     "execution_count": 56,
     "metadata": {},
     "output_type": "execute_result"
    }
   ],
   "source": [
    "students"
   ]
  },
  {
   "cell_type": "code",
   "execution_count": 57,
   "id": "c11f393a",
   "metadata": {},
   "outputs": [],
   "source": [
    "?students.remove"
   ]
  },
  {
   "cell_type": "code",
   "execution_count": 58,
   "id": "fde7ccb1",
   "metadata": {},
   "outputs": [],
   "source": [
    "students[2]=\"Wonders\""
   ]
  },
  {
   "cell_type": "code",
   "execution_count": 59,
   "id": "f2fee46d",
   "metadata": {},
   "outputs": [
    {
     "data": {
      "text/plain": [
       "['Edi', 'Theo', 'Wonders', 'Etiam', 'Elorm', 3, 'Sam']"
      ]
     },
     "execution_count": 59,
     "metadata": {},
     "output_type": "execute_result"
    }
   ],
   "source": [
    "students"
   ]
  },
  {
   "cell_type": "code",
   "execution_count": 60,
   "id": "98c0f232",
   "metadata": {},
   "outputs": [],
   "source": [
    "students[0]=\"Edi\""
   ]
  },
  {
   "cell_type": "code",
   "execution_count": 61,
   "id": "8ac55b79",
   "metadata": {},
   "outputs": [
    {
     "data": {
      "text/plain": [
       "['Edi', 'Theo', 'Wonders', 'Etiam', 'Elorm', 3, 'Sam']"
      ]
     },
     "execution_count": 61,
     "metadata": {},
     "output_type": "execute_result"
    }
   ],
   "source": [
    "students"
   ]
  },
  {
   "cell_type": "markdown",
   "id": "7a5762e3",
   "metadata": {},
   "source": [
    "### Tuples\n",
    "cannot be changed."
   ]
  },
  {
   "cell_type": "code",
   "execution_count": 62,
   "id": "f2e9a3cf",
   "metadata": {},
   "outputs": [],
   "source": [
    "class_names= ('Wonders', 'Theo', 'Wonders', 'Etiam', 'Elorm', 3, 'Sam')"
   ]
  },
  {
   "cell_type": "code",
   "execution_count": 63,
   "id": "e1fe0b08",
   "metadata": {},
   "outputs": [
    {
     "data": {
      "text/plain": [
       "1"
      ]
     },
     "execution_count": 63,
     "metadata": {},
     "output_type": "execute_result"
    }
   ],
   "source": [
    "class_names.index('Theo')"
   ]
  },
  {
   "cell_type": "markdown",
   "id": "204d413f",
   "metadata": {},
   "source": [
    "### Dictionary\n",
    "key value pairs"
   ]
  },
  {
   "cell_type": "code",
   "execution_count": 64,
   "id": "f175599e",
   "metadata": {},
   "outputs": [],
   "source": [
    "class_dict = {'name': 'Sam',\n",
    "             'age':32,\n",
    "             'location':'Akpatoeme'\n",
    "             }"
   ]
  },
  {
   "cell_type": "code",
   "execution_count": 65,
   "id": "67c6a6a6",
   "metadata": {},
   "outputs": [
    {
     "data": {
      "text/plain": [
       "{'name': 'Sam', 'age': 32, 'location': 'Akpatoeme'}"
      ]
     },
     "execution_count": 65,
     "metadata": {},
     "output_type": "execute_result"
    }
   ],
   "source": [
    "class_dict"
   ]
  },
  {
   "cell_type": "code",
   "execution_count": 66,
   "id": "175681d2",
   "metadata": {},
   "outputs": [
    {
     "data": {
      "text/plain": [
       "dict_keys(['name', 'age', 'location'])"
      ]
     },
     "execution_count": 66,
     "metadata": {},
     "output_type": "execute_result"
    }
   ],
   "source": [
    "class_dict.keys()"
   ]
  },
  {
   "cell_type": "code",
   "execution_count": 67,
   "id": "0a6d3229",
   "metadata": {},
   "outputs": [],
   "source": [
    "class_dict.update({'school':'UCC'})"
   ]
  },
  {
   "cell_type": "code",
   "execution_count": 68,
   "id": "6c382fb2",
   "metadata": {},
   "outputs": [
    {
     "data": {
      "text/plain": [
       "{'name': 'Sam', 'age': 32, 'location': 'Akpatoeme', 'school': 'UCC'}"
      ]
     },
     "execution_count": 68,
     "metadata": {},
     "output_type": "execute_result"
    }
   ],
   "source": [
    "class_dict"
   ]
  },
  {
   "cell_type": "markdown",
   "id": "054cafb3",
   "metadata": {},
   "source": [
    "### Conditionals\n",
    "    if\n",
    "    else\n",
    "    else if\n",
    "    "
   ]
  },
  {
   "cell_type": "code",
   "execution_count": 69,
   "id": "11c281bd",
   "metadata": {},
   "outputs": [],
   "source": [
    "new_names = ['Wonders', 'Theo', 'Wonders', 'Etiam', 'Elorm', 3, 'Sam']"
   ]
  },
  {
   "cell_type": "code",
   "execution_count": 70,
   "id": "4677c0a8",
   "metadata": {},
   "outputs": [
    {
     "name": "stdout",
     "output_type": "stream",
     "text": [
      "What is your name? Sam\n"
     ]
    },
    {
     "data": {
      "text/plain": [
       "'Sam'"
      ]
     },
     "execution_count": 70,
     "metadata": {},
     "output_type": "execute_result"
    }
   ],
   "source": [
    "input('What is your name? ')"
   ]
  },
  {
   "cell_type": "code",
   "execution_count": 71,
   "id": "a026fe10",
   "metadata": {},
   "outputs": [
    {
     "name": "stdout",
     "output_type": "stream",
     "text": [
      "What is your name? Edinam\n"
     ]
    }
   ],
   "source": [
    "name = input('What is your name? ')\n"
   ]
  },
  {
   "cell_type": "code",
   "execution_count": 73,
   "id": "574f9851",
   "metadata": {},
   "outputs": [
    {
     "ename": "SyntaxError",
     "evalue": "EOL while scanning string literal (Temp/ipykernel_1300/4132680817.py, line 3)",
     "output_type": "error",
     "traceback": [
      "\u001b[1;36m  File \u001b[1;32m\"C:\\Users\\DELL\\AppData\\Local\\Temp/ipykernel_1300/4132680817.py\"\u001b[1;36m, line \u001b[1;32m3\u001b[0m\n\u001b[1;33m    print(\"It's actually true')\u001b[0m\n\u001b[1;37m                               ^\u001b[0m\n\u001b[1;31mSyntaxError\u001b[0m\u001b[1;31m:\u001b[0m EOL while scanning string literal\n"
     ]
    }
   ],
   "source": [
    "if 2>66:\n",
    "    # what needs to be done if true\n",
    "    print(\"It's actually true')"
   ]
  },
  {
   "cell_type": "code",
   "execution_count": 78,
   "id": "845b6ca0",
   "metadata": {},
   "outputs": [
    {
     "name": "stdout",
     "output_type": "stream",
     "text": [
      "What is your name? Sam\n",
      "This trainee is in our class\n"
     ]
    }
   ],
   "source": [
    "name = input('What is your name? ')\n",
    "if name in new_names:\n",
    "    print(\"This trainee is in our class\")\n",
    "else:\n",
    "    print(\"Unfortunately you are not one of our trainees\")"
   ]
  },
  {
   "cell_type": "code",
   "execution_count": 79,
   "id": "a75dbd19",
   "metadata": {},
   "outputs": [
    {
     "name": "stdout",
     "output_type": "stream",
     "text": [
      "What is your name? edi\n",
      "Unfortunately you are not one of our trainees\n"
     ]
    }
   ],
   "source": [
    "name = input('What is your name? ')\n",
    "if name in new_names:\n",
    "    print(\"This trainee is in our class\")\n",
    "else:\n",
    "    print(\"Unfortunately you are not one of our trainees\")"
   ]
  },
  {
   "cell_type": "code",
   "execution_count": 81,
   "id": "673c65b1",
   "metadata": {},
   "outputs": [
    {
     "name": "stdout",
     "output_type": "stream",
     "text": [
      "Please which day were you born Saturday\n",
      "You are called Kwame.\n"
     ]
    }
   ],
   "source": [
    "day = input('Please which day were you born ')\n",
    "if day == \"Moday\":\n",
    "    print(\"You are called Kwadzo.\")\n",
    "elif day == \"Tuesday\":\n",
    "    print(\"You are called Kwabla.\")\n",
    "elif day == \"Saturday\":\n",
    "    print(\"You are called Kwame.\")\n",
    "else:\n",
    "     print(\"I don't know your names please.\")\n",
    "    "
   ]
  },
  {
   "cell_type": "markdown",
   "id": "32c31a07",
   "metadata": {},
   "source": [
    "### Loops\n",
    "    for\n",
    "    while: works until condition is false"
   ]
  },
  {
   "cell_type": "code",
   "execution_count": 82,
   "id": "46061fa9",
   "metadata": {},
   "outputs": [
    {
     "name": "stdout",
     "output_type": "stream",
     "text": [
      "0\n",
      "1\n",
      "2\n",
      "3\n",
      "4\n"
     ]
    }
   ],
   "source": [
    "for i in range(5):\n",
    "    print(i)"
   ]
  },
  {
   "cell_type": "code",
   "execution_count": 87,
   "id": "5284ddd2",
   "metadata": {},
   "outputs": [
    {
     "name": "stdout",
     "output_type": "stream",
     "text": [
      "Wonders is a trainee\n",
      "Theo is a trainee\n",
      "Wonders is a trainee\n",
      "Etiam is a trainee\n",
      "Elorm is a trainee\n",
      "3 is a trainee\n",
      "Sam is a trainee\n"
     ]
    }
   ],
   "source": [
    "for name in new_names:\n",
    "    print(name, \"is a trainee\")"
   ]
  },
  {
   "cell_type": "code",
   "execution_count": 89,
   "id": "4cb1e138",
   "metadata": {},
   "outputs": [
    {
     "name": "stdout",
     "output_type": "stream",
     "text": [
      "Working on 1\n",
      "Working on 2\n",
      "Working on 3\n",
      "Working on 4\n",
      "Working on 5\n"
     ]
    }
   ],
   "source": [
    "n = 1\n",
    "while n<6:\n",
    "    print(\"Working on\", n)\n",
    "    n=n+1"
   ]
  },
  {
   "cell_type": "code",
   "execution_count": 93,
   "id": "901321f5",
   "metadata": {},
   "outputs": [
    {
     "name": "stdout",
     "output_type": "stream",
     "text": [
      "Please input your password edi\n",
      "Hey check your password. Input a correct password\n",
      "Please input your password sde\n",
      "Hey check your password. Input a correct password\n",
      "Please input your password ww\n",
      "Hey check your password. Input a correct password\n"
     ]
    }
   ],
   "source": [
    "password = \"edisam\"\n",
    "n=1\n",
    "while n<4:\n",
    "    passs = input(\"Please input your password \")\n",
    "    if passs == password:\n",
    "        print(\"Hurray you are in\")\n",
    "        break\n",
    "    else:\n",
    "        print(\"Hey check your password. Input a correct password\")\n",
    "    n=n+1"
   ]
  },
  {
   "cell_type": "markdown",
   "id": "0b795c76",
   "metadata": {},
   "source": [
    "## Functions\n",
    "    reusable codes"
   ]
  },
  {
   "cell_type": "code",
   "execution_count": 103,
   "id": "70552834",
   "metadata": {},
   "outputs": [],
   "source": [
    "def area_of_circle(r):\n",
    "    '''This function takes a given radius and returns the Area of a circle with that radius\n",
    "    '''\n",
    "    pi=22/7\n",
    "    Area = pi*r**2\n",
    "    return Area\n"
   ]
  },
  {
   "cell_type": "code",
   "execution_count": 104,
   "id": "f969d699",
   "metadata": {},
   "outputs": [
    {
     "data": {
      "text/plain": [
       "78.57142857142857"
      ]
     },
     "execution_count": 104,
     "metadata": {},
     "output_type": "execute_result"
    }
   ],
   "source": [
    "area_of_circle(5)"
   ]
  },
  {
   "cell_type": "code",
   "execution_count": 105,
   "id": "bd372ea3",
   "metadata": {},
   "outputs": [],
   "source": [
    "?area_of_circle"
   ]
  },
  {
   "cell_type": "code",
   "execution_count": 106,
   "id": "4799e5a1",
   "metadata": {},
   "outputs": [
    {
     "data": {
      "text/plain": [
       "28.285714285714285"
      ]
     },
     "execution_count": 106,
     "metadata": {},
     "output_type": "execute_result"
    }
   ],
   "source": [
    "area_of_circle(3)"
   ]
  },
  {
   "cell_type": "code",
   "execution_count": 107,
   "id": "23b2310a",
   "metadata": {},
   "outputs": [],
   "source": [
    "def area_triangle(base, height):\n",
    "    area = 0.5*base*height\n",
    "    return area"
   ]
  },
  {
   "cell_type": "code",
   "execution_count": 108,
   "id": "9a0efd29",
   "metadata": {},
   "outputs": [
    {
     "data": {
      "text/plain": [
       "4.0"
      ]
     },
     "execution_count": 108,
     "metadata": {},
     "output_type": "execute_result"
    }
   ],
   "source": [
    "area_triangle(2,4)"
   ]
  },
  {
   "cell_type": "code",
   "execution_count": 110,
   "id": "f30a63e1",
   "metadata": {},
   "outputs": [],
   "source": [
    "def area_of_circle(r=3):\n",
    "    '''This function takes a given radius and returns the Area of a circle with that radius. Default radius is 3\n",
    "    '''\n",
    "    pi=22/7\n",
    "    Area = pi*r**2\n",
    "    return Area"
   ]
  },
  {
   "cell_type": "code",
   "execution_count": 112,
   "id": "a99586ef",
   "metadata": {},
   "outputs": [
    {
     "data": {
      "text/plain": [
       "28.285714285714285"
      ]
     },
     "execution_count": 112,
     "metadata": {},
     "output_type": "execute_result"
    }
   ],
   "source": [
    "area_of_circle()"
   ]
  },
  {
   "cell_type": "markdown",
   "id": "87fac9b2",
   "metadata": {},
   "source": [
    "## Pandas"
   ]
  },
  {
   "cell_type": "code",
   "execution_count": 113,
   "id": "a5a5f686",
   "metadata": {},
   "outputs": [],
   "source": [
    "import pandas as pd"
   ]
  },
  {
   "cell_type": "code",
   "execution_count": 120,
   "id": "175d88d9",
   "metadata": {},
   "outputs": [],
   "source": [
    "df = pd.read_csv(\"https://raw.githubusercontent.com/Theophilusakugre/Tertiary-GTL/master/fires.csv\", index_col=0)"
   ]
  },
  {
   "cell_type": "code",
   "execution_count": 121,
   "id": "a6d31b52",
   "metadata": {},
   "outputs": [
    {
     "data": {
      "text/html": [
       "<div>\n",
       "<style scoped>\n",
       "    .dataframe tbody tr th:only-of-type {\n",
       "        vertical-align: middle;\n",
       "    }\n",
       "\n",
       "    .dataframe tbody tr th {\n",
       "        vertical-align: top;\n",
       "    }\n",
       "\n",
       "    .dataframe thead th {\n",
       "        text-align: right;\n",
       "    }\n",
       "</style>\n",
       "<table border=\"1\" class=\"dataframe\">\n",
       "  <thead>\n",
       "    <tr style=\"text-align: right;\">\n",
       "      <th></th>\n",
       "      <th>ano</th>\n",
       "      <th>mes</th>\n",
       "      <th>estado</th>\n",
       "      <th>numero</th>\n",
       "      <th>encontro</th>\n",
       "    </tr>\n",
       "  </thead>\n",
       "  <tbody>\n",
       "    <tr>\n",
       "      <th>0</th>\n",
       "      <td>1998</td>\n",
       "      <td>Janeiro</td>\n",
       "      <td>Acre</td>\n",
       "      <td>0 Fires</td>\n",
       "      <td>1/1/1998</td>\n",
       "    </tr>\n",
       "    <tr>\n",
       "      <th>1</th>\n",
       "      <td>1999</td>\n",
       "      <td>Janeiro</td>\n",
       "      <td>Acre</td>\n",
       "      <td>0 Fires</td>\n",
       "      <td>1/1/1999</td>\n",
       "    </tr>\n",
       "    <tr>\n",
       "      <th>2</th>\n",
       "      <td>2000</td>\n",
       "      <td>Janeiro</td>\n",
       "      <td>Acre</td>\n",
       "      <td>0 Fires</td>\n",
       "      <td>1/1/2000</td>\n",
       "    </tr>\n",
       "    <tr>\n",
       "      <th>3</th>\n",
       "      <td>2001</td>\n",
       "      <td>Janeiro</td>\n",
       "      <td>Acre</td>\n",
       "      <td>0 Fires</td>\n",
       "      <td>1/1/2001</td>\n",
       "    </tr>\n",
       "    <tr>\n",
       "      <th>4</th>\n",
       "      <td>2002</td>\n",
       "      <td>Janeiro</td>\n",
       "      <td>Acre</td>\n",
       "      <td>0 Fires</td>\n",
       "      <td>1/1/2002</td>\n",
       "    </tr>\n",
       "  </tbody>\n",
       "</table>\n",
       "</div>"
      ],
      "text/plain": [
       "    ano      mes estado   numero  encontro\n",
       "0  1998  Janeiro   Acre  0 Fires  1/1/1998\n",
       "1  1999  Janeiro   Acre  0 Fires  1/1/1999\n",
       "2  2000  Janeiro   Acre  0 Fires  1/1/2000\n",
       "3  2001  Janeiro   Acre  0 Fires  1/1/2001\n",
       "4  2002  Janeiro   Acre  0 Fires  1/1/2002"
      ]
     },
     "execution_count": 121,
     "metadata": {},
     "output_type": "execute_result"
    }
   ],
   "source": [
    "df.head()"
   ]
  },
  {
   "cell_type": "code",
   "execution_count": 122,
   "id": "c067653f",
   "metadata": {},
   "outputs": [
    {
     "name": "stdout",
     "output_type": "stream",
     "text": [
      "<class 'pandas.core.frame.DataFrame'>\n",
      "Int64Index: 6454 entries, 0 to 6453\n",
      "Data columns (total 5 columns):\n",
      " #   Column    Non-Null Count  Dtype \n",
      "---  ------    --------------  ----- \n",
      " 0   ano       6454 non-null   int64 \n",
      " 1   mes       6454 non-null   object\n",
      " 2   estado    6454 non-null   object\n",
      " 3   numero    6322 non-null   object\n",
      " 4   encontro  6454 non-null   object\n",
      "dtypes: int64(1), object(4)\n",
      "memory usage: 302.5+ KB\n"
     ]
    }
   ],
   "source": [
    "df.info()"
   ]
  },
  {
   "cell_type": "code",
   "execution_count": 125,
   "id": "f63c55ff",
   "metadata": {},
   "outputs": [
    {
     "data": {
      "text/html": [
       "<div>\n",
       "<style scoped>\n",
       "    .dataframe tbody tr th:only-of-type {\n",
       "        vertical-align: middle;\n",
       "    }\n",
       "\n",
       "    .dataframe tbody tr th {\n",
       "        vertical-align: top;\n",
       "    }\n",
       "\n",
       "    .dataframe thead th {\n",
       "        text-align: right;\n",
       "    }\n",
       "</style>\n",
       "<table border=\"1\" class=\"dataframe\">\n",
       "  <thead>\n",
       "    <tr style=\"text-align: right;\">\n",
       "      <th></th>\n",
       "      <th>ano</th>\n",
       "      <th>mes</th>\n",
       "      <th>estado</th>\n",
       "      <th>numero</th>\n",
       "      <th>encontro</th>\n",
       "    </tr>\n",
       "  </thead>\n",
       "  <tbody>\n",
       "    <tr>\n",
       "      <th>0</th>\n",
       "      <td>1998</td>\n",
       "      <td>Janeiro</td>\n",
       "      <td>Acre</td>\n",
       "      <td>0 Fires</td>\n",
       "      <td>1/1/1998</td>\n",
       "    </tr>\n",
       "    <tr>\n",
       "      <th>1</th>\n",
       "      <td>1999</td>\n",
       "      <td>Janeiro</td>\n",
       "      <td>Acre</td>\n",
       "      <td>0 Fires</td>\n",
       "      <td>1/1/1999</td>\n",
       "    </tr>\n",
       "    <tr>\n",
       "      <th>2</th>\n",
       "      <td>2000</td>\n",
       "      <td>Janeiro</td>\n",
       "      <td>Acre</td>\n",
       "      <td>0 Fires</td>\n",
       "      <td>1/1/2000</td>\n",
       "    </tr>\n",
       "    <tr>\n",
       "      <th>3</th>\n",
       "      <td>2001</td>\n",
       "      <td>Janeiro</td>\n",
       "      <td>Acre</td>\n",
       "      <td>0 Fires</td>\n",
       "      <td>1/1/2001</td>\n",
       "    </tr>\n",
       "    <tr>\n",
       "      <th>4</th>\n",
       "      <td>2002</td>\n",
       "      <td>Janeiro</td>\n",
       "      <td>Acre</td>\n",
       "      <td>0 Fires</td>\n",
       "      <td>1/1/2002</td>\n",
       "    </tr>\n",
       "  </tbody>\n",
       "</table>\n",
       "</div>"
      ],
      "text/plain": [
       "    ano      mes estado   numero  encontro\n",
       "0  1998  Janeiro   Acre  0 Fires  1/1/1998\n",
       "1  1999  Janeiro   Acre  0 Fires  1/1/1999\n",
       "2  2000  Janeiro   Acre  0 Fires  1/1/2000\n",
       "3  2001  Janeiro   Acre  0 Fires  1/1/2001\n",
       "4  2002  Janeiro   Acre  0 Fires  1/1/2002"
      ]
     },
     "execution_count": 125,
     "metadata": {},
     "output_type": "execute_result"
    }
   ],
   "source": [
    "df.head(5)"
   ]
  },
  {
   "cell_type": "code",
   "execution_count": 126,
   "id": "b4d487da",
   "metadata": {},
   "outputs": [
    {
     "data": {
      "text/html": [
       "<div>\n",
       "<style scoped>\n",
       "    .dataframe tbody tr th:only-of-type {\n",
       "        vertical-align: middle;\n",
       "    }\n",
       "\n",
       "    .dataframe tbody tr th {\n",
       "        vertical-align: top;\n",
       "    }\n",
       "\n",
       "    .dataframe thead th {\n",
       "        text-align: right;\n",
       "    }\n",
       "</style>\n",
       "<table border=\"1\" class=\"dataframe\">\n",
       "  <thead>\n",
       "    <tr style=\"text-align: right;\">\n",
       "      <th></th>\n",
       "      <th>ano</th>\n",
       "    </tr>\n",
       "  </thead>\n",
       "  <tbody>\n",
       "    <tr>\n",
       "      <th>count</th>\n",
       "      <td>6454.000000</td>\n",
       "    </tr>\n",
       "    <tr>\n",
       "      <th>mean</th>\n",
       "      <td>2007.461729</td>\n",
       "    </tr>\n",
       "    <tr>\n",
       "      <th>std</th>\n",
       "      <td>5.746654</td>\n",
       "    </tr>\n",
       "    <tr>\n",
       "      <th>min</th>\n",
       "      <td>1998.000000</td>\n",
       "    </tr>\n",
       "    <tr>\n",
       "      <th>25%</th>\n",
       "      <td>2002.000000</td>\n",
       "    </tr>\n",
       "    <tr>\n",
       "      <th>50%</th>\n",
       "      <td>2007.000000</td>\n",
       "    </tr>\n",
       "    <tr>\n",
       "      <th>75%</th>\n",
       "      <td>2012.000000</td>\n",
       "    </tr>\n",
       "    <tr>\n",
       "      <th>max</th>\n",
       "      <td>2017.000000</td>\n",
       "    </tr>\n",
       "  </tbody>\n",
       "</table>\n",
       "</div>"
      ],
      "text/plain": [
       "               ano\n",
       "count  6454.000000\n",
       "mean   2007.461729\n",
       "std       5.746654\n",
       "min    1998.000000\n",
       "25%    2002.000000\n",
       "50%    2007.000000\n",
       "75%    2012.000000\n",
       "max    2017.000000"
      ]
     },
     "execution_count": 126,
     "metadata": {},
     "output_type": "execute_result"
    }
   ],
   "source": [
    "df.describe()"
   ]
  },
  {
   "cell_type": "code",
   "execution_count": 127,
   "id": "eb733deb",
   "metadata": {},
   "outputs": [
    {
     "data": {
      "text/plain": [
       "(6454, 5)"
      ]
     },
     "execution_count": 127,
     "metadata": {},
     "output_type": "execute_result"
    }
   ],
   "source": [
    "df.shape"
   ]
  },
  {
   "cell_type": "code",
   "execution_count": 128,
   "id": "92b7626d",
   "metadata": {},
   "outputs": [
    {
     "data": {
      "text/html": [
       "<div>\n",
       "<style scoped>\n",
       "    .dataframe tbody tr th:only-of-type {\n",
       "        vertical-align: middle;\n",
       "    }\n",
       "\n",
       "    .dataframe tbody tr th {\n",
       "        vertical-align: top;\n",
       "    }\n",
       "\n",
       "    .dataframe thead th {\n",
       "        text-align: right;\n",
       "    }\n",
       "</style>\n",
       "<table border=\"1\" class=\"dataframe\">\n",
       "  <thead>\n",
       "    <tr style=\"text-align: right;\">\n",
       "      <th></th>\n",
       "      <th>mes</th>\n",
       "      <th>estado</th>\n",
       "      <th>numero</th>\n",
       "      <th>encontro</th>\n",
       "    </tr>\n",
       "  </thead>\n",
       "  <tbody>\n",
       "    <tr>\n",
       "      <th>0</th>\n",
       "      <td>Janeiro</td>\n",
       "      <td>Acre</td>\n",
       "      <td>0 Fires</td>\n",
       "      <td>1/1/1998</td>\n",
       "    </tr>\n",
       "    <tr>\n",
       "      <th>1</th>\n",
       "      <td>Janeiro</td>\n",
       "      <td>Acre</td>\n",
       "      <td>0 Fires</td>\n",
       "      <td>1/1/1999</td>\n",
       "    </tr>\n",
       "    <tr>\n",
       "      <th>2</th>\n",
       "      <td>Janeiro</td>\n",
       "      <td>Acre</td>\n",
       "      <td>0 Fires</td>\n",
       "      <td>1/1/2000</td>\n",
       "    </tr>\n",
       "    <tr>\n",
       "      <th>3</th>\n",
       "      <td>Janeiro</td>\n",
       "      <td>Acre</td>\n",
       "      <td>0 Fires</td>\n",
       "      <td>1/1/2001</td>\n",
       "    </tr>\n",
       "    <tr>\n",
       "      <th>4</th>\n",
       "      <td>Janeiro</td>\n",
       "      <td>Acre</td>\n",
       "      <td>0 Fires</td>\n",
       "      <td>1/1/2002</td>\n",
       "    </tr>\n",
       "    <tr>\n",
       "      <th>...</th>\n",
       "      <td>...</td>\n",
       "      <td>...</td>\n",
       "      <td>...</td>\n",
       "      <td>...</td>\n",
       "    </tr>\n",
       "    <tr>\n",
       "      <th>6449</th>\n",
       "      <td>Dezembro</td>\n",
       "      <td>Tocantins</td>\n",
       "      <td>128</td>\n",
       "      <td>1/1/2012</td>\n",
       "    </tr>\n",
       "    <tr>\n",
       "      <th>6450</th>\n",
       "      <td>Dezembro</td>\n",
       "      <td>Tocantins</td>\n",
       "      <td>85</td>\n",
       "      <td>1/1/2013</td>\n",
       "    </tr>\n",
       "    <tr>\n",
       "      <th>6451</th>\n",
       "      <td>Dezembro</td>\n",
       "      <td>Tocantins</td>\n",
       "      <td>223</td>\n",
       "      <td>1/1/2014</td>\n",
       "    </tr>\n",
       "    <tr>\n",
       "      <th>6452</th>\n",
       "      <td>Dezembro</td>\n",
       "      <td>Tocantins</td>\n",
       "      <td>373</td>\n",
       "      <td>1/1/2015</td>\n",
       "    </tr>\n",
       "    <tr>\n",
       "      <th>6453</th>\n",
       "      <td>Dezembro</td>\n",
       "      <td>Tocantins</td>\n",
       "      <td>119</td>\n",
       "      <td>1/1/2016</td>\n",
       "    </tr>\n",
       "  </tbody>\n",
       "</table>\n",
       "<p>6454 rows × 4 columns</p>\n",
       "</div>"
      ],
      "text/plain": [
       "           mes     estado   numero  encontro\n",
       "0      Janeiro       Acre  0 Fires  1/1/1998\n",
       "1      Janeiro       Acre  0 Fires  1/1/1999\n",
       "2      Janeiro       Acre  0 Fires  1/1/2000\n",
       "3      Janeiro       Acre  0 Fires  1/1/2001\n",
       "4      Janeiro       Acre  0 Fires  1/1/2002\n",
       "...        ...        ...      ...       ...\n",
       "6449  Dezembro  Tocantins      128  1/1/2012\n",
       "6450  Dezembro  Tocantins       85  1/1/2013\n",
       "6451  Dezembro  Tocantins      223  1/1/2014\n",
       "6452  Dezembro  Tocantins      373  1/1/2015\n",
       "6453  Dezembro  Tocantins      119  1/1/2016\n",
       "\n",
       "[6454 rows x 4 columns]"
      ]
     },
     "execution_count": 128,
     "metadata": {},
     "output_type": "execute_result"
    }
   ],
   "source": [
    "df.select_dtypes(\"object\")"
   ]
  },
  {
   "cell_type": "code",
   "execution_count": 129,
   "id": "131cba0d",
   "metadata": {},
   "outputs": [
    {
     "data": {
      "text/html": [
       "<div>\n",
       "<style scoped>\n",
       "    .dataframe tbody tr th:only-of-type {\n",
       "        vertical-align: middle;\n",
       "    }\n",
       "\n",
       "    .dataframe tbody tr th {\n",
       "        vertical-align: top;\n",
       "    }\n",
       "\n",
       "    .dataframe thead th {\n",
       "        text-align: right;\n",
       "    }\n",
       "</style>\n",
       "<table border=\"1\" class=\"dataframe\">\n",
       "  <thead>\n",
       "    <tr style=\"text-align: right;\">\n",
       "      <th></th>\n",
       "      <th>ano</th>\n",
       "    </tr>\n",
       "  </thead>\n",
       "  <tbody>\n",
       "    <tr>\n",
       "      <th>0</th>\n",
       "      <td>1998</td>\n",
       "    </tr>\n",
       "    <tr>\n",
       "      <th>1</th>\n",
       "      <td>1999</td>\n",
       "    </tr>\n",
       "    <tr>\n",
       "      <th>2</th>\n",
       "      <td>2000</td>\n",
       "    </tr>\n",
       "    <tr>\n",
       "      <th>3</th>\n",
       "      <td>2001</td>\n",
       "    </tr>\n",
       "    <tr>\n",
       "      <th>4</th>\n",
       "      <td>2002</td>\n",
       "    </tr>\n",
       "    <tr>\n",
       "      <th>...</th>\n",
       "      <td>...</td>\n",
       "    </tr>\n",
       "    <tr>\n",
       "      <th>6449</th>\n",
       "      <td>2012</td>\n",
       "    </tr>\n",
       "    <tr>\n",
       "      <th>6450</th>\n",
       "      <td>2013</td>\n",
       "    </tr>\n",
       "    <tr>\n",
       "      <th>6451</th>\n",
       "      <td>2014</td>\n",
       "    </tr>\n",
       "    <tr>\n",
       "      <th>6452</th>\n",
       "      <td>2015</td>\n",
       "    </tr>\n",
       "    <tr>\n",
       "      <th>6453</th>\n",
       "      <td>2016</td>\n",
       "    </tr>\n",
       "  </tbody>\n",
       "</table>\n",
       "<p>6454 rows × 1 columns</p>\n",
       "</div>"
      ],
      "text/plain": [
       "       ano\n",
       "0     1998\n",
       "1     1999\n",
       "2     2000\n",
       "3     2001\n",
       "4     2002\n",
       "...    ...\n",
       "6449  2012\n",
       "6450  2013\n",
       "6451  2014\n",
       "6452  2015\n",
       "6453  2016\n",
       "\n",
       "[6454 rows x 1 columns]"
      ]
     },
     "execution_count": 129,
     "metadata": {},
     "output_type": "execute_result"
    }
   ],
   "source": [
    "df.select_dtypes(\"number\")"
   ]
  },
  {
   "cell_type": "code",
   "execution_count": null,
   "id": "323cae1d",
   "metadata": {},
   "outputs": [],
   "source": []
  }
 ],
 "metadata": {
  "kernelspec": {
   "display_name": "Python 3 (ipykernel)",
   "language": "python",
   "name": "python3"
  },
  "language_info": {
   "codemirror_mode": {
    "name": "ipython",
    "version": 3
   },
   "file_extension": ".py",
   "mimetype": "text/x-python",
   "name": "python",
   "nbconvert_exporter": "python",
   "pygments_lexer": "ipython3",
   "version": "3.9.7"
  }
 },
 "nbformat": 4,
 "nbformat_minor": 5
}
